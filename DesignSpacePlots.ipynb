{
 "cells": [
  {
   "cell_type": "code",
   "execution_count": 4,
   "metadata": {},
   "outputs": [],
   "source": [
    "import numpy as np\n",
    "import plotly.express as px\n",
    "import pandas as pd\n",
    "from plotly.subplots import make_subplots\n",
    "import plotly.graph_objects as go\n",
    "import plotly.colors as pc"
   ]
  },
  {
   "cell_type": "code",
   "execution_count": 5,
   "metadata": {},
   "outputs": [
    {
     "name": "stdout",
     "output_type": "stream",
     "text": [
      "    GradTime   InitalOM  FinalOM  Temp  IsoHoldTime  InjVol  FlowRate  Column  \\\n",
      "0   4.230000  58.100000       95    30     2.770000       2       1.5       1   \n",
      "1   1.850000  33.250000       95    30     3.950000       2       1.5       1   \n",
      "2   8.840000  51.390000       95    30     5.210000       2       1.5       1   \n",
      "3   6.950000  43.250000       95    30     0.260000       2       1.5       1   \n",
      "4   6.000000   5.460000       95    30     8.550000       2       1.5       1   \n",
      "..       ...        ...      ...   ...          ...     ...       ...     ...   \n",
      "35  3.007964  26.391299       95    30     6.072808       2       1.5       1   \n",
      "36  9.997736  24.320932       95    30     4.276795       2       1.5       1   \n",
      "37  8.012689  30.505314       95    30     1.528858       2       1.5       1   \n",
      "38  1.072589  59.948950       95    30     9.994786       2       1.5       1   \n",
      "39  6.033985  28.567615       95    30     5.304640       2       1.5       1   \n",
      "\n",
      "    OMPhase  Ph   RsCrit2  Maximisepeaknumber  Minimisemethodtime  \\\n",
      "0         2   1  1.348408                   6            3.366000   \n",
      "1         2   1  2.259866                   7            6.536469   \n",
      "2         2   1  1.520854                   6            5.632192   \n",
      "3         2   1  0.837735                   7            4.498780   \n",
      "4         2   1  6.845455                   6           14.296683   \n",
      "..      ...  ..       ...                 ...                 ...   \n",
      "35        2   1  1.886490                   7            9.473357   \n",
      "36        2   1  1.611810                   7           11.182359   \n",
      "37        2   1  2.187310                   7            7.156029   \n",
      "38        2   1  1.283733                   6            2.951469   \n",
      "39        2   1  2.079540                   7           10.165924   \n",
      "\n",
      "    CombinedFunction1  WeightRespcmtmdHPLC018  expNumb  repeatNumb  \n",
      "0            0.353039                0.198753      1.0           1  \n",
      "1            0.170732                0.029711      2.0           1  \n",
      "2            0.337474                0.183187      3.0           1  \n",
      "3            0.374789                0.194789      4.0           1  \n",
      "4           -0.421831                0.150699      5.0           1  \n",
      "..                ...                     ...      ...         ...  \n",
      "35           0.240091                0.060087     36.0           3  \n",
      "36           0.289062                0.109057     37.0           3  \n",
      "37           0.184434                0.032527     38.0           3  \n",
      "38           0.360857                0.206570     39.0           3  \n",
      "39           0.214282                0.046209      NaN           3  \n",
      "\n",
      "[120 rows x 17 columns]\n"
     ]
    }
   ],
   "source": [
    "#Import all data\n",
    "variables = pd.read_excel(r\"Optimisation1.xlsx\")\n",
    "\n",
    "variables1 = pd.read_excel(r\"Optimisation1.xlsx\")\n",
    "variables2 = pd.read_excel(r\"Optimisation2.xlsx\")\n",
    "variables3 = pd.read_excel(r\"Optimisation3.xlsx\")\n",
    "\n",
    "variables4 = pd.read_excel(r\"Optimisation4.xlsx\")\n",
    "variables5 = pd.read_excel(r\"Optimisation5.xlsx\")\n",
    "variables6 = pd.read_excel(r\"Optimisation6.xlsx\")\n",
    "\n",
    "variables7 = pd.read_excel(r\"Optimisation7.xlsx\")\n",
    "variables8 = pd.read_excel(r\"Optimisation8.xlsx\")\n",
    "variables9 = pd.read_excel(r\"Optimisation9.xlsx\")\n",
    "\n",
    "chrome1 = pd.read_excel(r\"Optimisation4Exp17.xlsx\")\n",
    "chrome2 = pd.read_excel(r\"Optimisation7Exp21.xlsx\")\n",
    "\n",
    "variables1['expNumb'] = pd.Series([x for x in range(1,len(variables1.index))])\n",
    "variables2['expNumb'] = pd.Series([x for x in range(1,len(variables2.index))])\n",
    "variables3['expNumb'] = pd.Series([x for x in range(1,len(variables3.index))])\n",
    "variables4['expNumb'] = pd.Series([x for x in range(1,len(variables4.index))])\n",
    "variables5['expNumb'] = pd.Series([x for x in range(1,len(variables5.index))])\n",
    "variables6['expNumb'] = pd.Series([x for x in range(1,len(variables6.index))])\n",
    "variables7['expNumb'] = pd.Series([x for x in range(1,len(variables7.index))])\n",
    "variables8['expNumb'] = pd.Series([x for x in range(1,len(variables8.index))])\n",
    "variables9['expNumb'] = pd.Series([x for x in range(1,len(variables9.index))])\n",
    "\n",
    "variables1['repeatNumb'] = pd.Series([1 for x in range(len(variables1.index))])\n",
    "variables2['repeatNumb'] = pd.Series([2 for x in range(len(variables2.index))])\n",
    "variables3['repeatNumb'] = pd.Series([3 for x in range(len(variables3.index))])\n",
    "variables4['repeatNumb'] = pd.Series([1 for x in range(len(variables4.index))])\n",
    "variables5['repeatNumb'] = pd.Series([2 for x in range(len(variables5.index))])\n",
    "variables6['repeatNumb'] = pd.Series([3 for x in range(len(variables6.index))])\n",
    "variables7['repeatNumb'] = pd.Series([1 for x in range(len(variables7.index))])\n",
    "variables8['repeatNumb'] = pd.Series([2 for x in range(len(variables8.index))])\n",
    "variables9['repeatNumb'] = pd.Series([3 for x in range(len(variables9.index))])\n",
    "\n",
    "allVars = [variables1.iloc[0:40,:], variables2.iloc[0:40,:], variables3.iloc[0:40,:]]\n",
    "allVars = pd.concat(allVars)\n",
    "\n",
    "allVars2 = [variables4.iloc[0:50,:], variables5.iloc[0:50,:], variables6.iloc[0:50,:]]\n",
    "allVars2 = pd.concat(allVars2)\n",
    "\n",
    "allVars3 = [variables7.iloc[0:50,:], variables8.iloc[0:50,:], variables9.iloc[0:50,:]]\n",
    "allVars3 = pd.concat(allVars3)\n",
    "\n",
    "allVars[\"Maximisepeaknumber\"] = -allVars[\"Maximisepeaknumber\"]\n",
    "allVars[\"RsCrit2\"] = -(allVars[\"RsCrit2\"]-2)\n",
    "\n",
    "#First points to reach optimal criteria set\n",
    "#optPoints = allVars.iloc[[11, 58, 88], [0,1,4,14]]\n",
    "\n",
    "#Most optimal points overall\n",
    "optPoints = allVars.iloc[[32, 63, 107], [0,1,4,14]]\n",
    "\n",
    "print(allVars)\n"
   ]
  },
  {
   "cell_type": "code",
   "execution_count": 13,
   "metadata": {},
   "outputs": [
    {
     "name": "stderr",
     "output_type": "stream",
     "text": [
      "C:\\Users\\Thoma\\AppData\\Local\\Temp\\ipykernel_7416\\1244977064.py:20: SettingWithCopyWarning:\n",
      "\n",
      "\n",
      "A value is trying to be set on a copy of a slice from a DataFrame.\n",
      "Try using .loc[row_indexer,col_indexer] = value instead\n",
      "\n",
      "See the caveats in the documentation: https://pandas.pydata.org/pandas-docs/stable/user_guide/indexing.html#returning-a-view-versus-a-copy\n",
      "\n",
      "C:\\Users\\Thoma\\AppData\\Local\\Temp\\ipykernel_7416\\1244977064.py:20: FutureWarning:\n",
      "\n",
      "In a future version, `df.iloc[:, i] = newvals` will attempt to set the values inplace instead of always setting a new array. To retain the old behavior, use either `df[df.columns[i]] = newvals` or, if columns are non-unique, `df.isetitem(i, newvals)`\n",
      "\n"
     ]
    },
    {
     "data": {
      "application/vnd.plotly.v1+json": {
       "config": {
        "plotlyServerURL": "https://plot.ly"
       },
       "data": [
        {
         "line": {
          "color": "grey",
          "dash": "solid",
          "width": 1
         },
         "marker": {
          "size": 8
         },
         "mode": "lines",
         "type": "scatter3d",
         "x": [
          4.23,
          4.23,
          null,
          1.85,
          1.85,
          null,
          8.84,
          8.84,
          null,
          6.95,
          6.95,
          null,
          6,
          6,
          null,
          2.57,
          2.57,
          null,
          8.21,
          8.21,
          null,
          9.99900735171652,
          9.99900735171652,
          null,
          1.00007043564434,
          1.00007043564434,
          null,
          9.99999569960673,
          9.99999569960673,
          null,
          1.30154659149663,
          1.30154659149663,
          null,
          1.00708034683112,
          1.00708034683112,
          null,
          1.00006486950198,
          1.00006486950198,
          null,
          1.00000861711602,
          1.00000861711602,
          null,
          2.61647783116388,
          2.61647783116388,
          null,
          4.16471378889476,
          4.16471378889476,
          null,
          1.63965684361506,
          1.63965684361506,
          null,
          2.70454009682167,
          2.70454009682167,
          null,
          1.59667429162234,
          1.59667429162234,
          null,
          9.99158491415166,
          9.99158491415166,
          null,
          6.3663599879788,
          6.3663599879788,
          null,
          3.65084928775292,
          3.65084928775292,
          null,
          5.26571354293429,
          5.26571354293429,
          null,
          2.31863376037304,
          2.31863376037304,
          null,
          5.48399786323982,
          5.48399786323982,
          null,
          5.08914757611774,
          5.08914757611774,
          null,
          1.0004373532208,
          1.0004373532208,
          null,
          1.00013915275124,
          1.00013915275124,
          null,
          1.00000318936809,
          1.00000318936809,
          null,
          9.99995561656848,
          9.99995561656848,
          null,
          1.00000009099881,
          1.00000009099881,
          null,
          9.95700943650363,
          9.95700943650363,
          null,
          1.01169982953848,
          1.01169982953848,
          null,
          1.00095331974783,
          1.00095331974783,
          null,
          1.00001035521688,
          1.00001035521688,
          null,
          1.00560416886131,
          1.00560416886131,
          null,
          9.99910508248024,
          9.99910508248024,
          null,
          1.0057706757339,
          1.0057706757339,
          null,
          9.37435499560043,
          9.37435499560043,
          null,
          1.18075869051721,
          1.18075869051721,
          null
         ],
         "y": [
          58.1,
          58.1,
          null,
          33.25,
          33.25,
          null,
          51.39,
          51.39,
          null,
          43.25,
          43.25,
          null,
          5.46,
          5.46,
          null,
          21.06,
          21.06,
          null,
          16.19,
          16.19,
          null,
          31.5947965791925,
          31.5947965791925,
          null,
          34.4960751149849,
          34.4960751149849,
          null,
          33.3389673309661,
          33.3389673309661,
          null,
          11.0319775355662,
          11.0319775355662,
          null,
          32.8329685807901,
          32.8329685807901,
          null,
          36.6148042286192,
          36.6148042286192,
          null,
          32.267315711512,
          32.267315711512,
          null,
          33.7419119317571,
          33.7419119317571,
          null,
          33.7311670702774,
          33.7311670702774,
          null,
          34.6683938123586,
          34.6683938123586,
          null,
          29.7900999904475,
          29.7900999904475,
          null,
          29.5522225708438,
          29.5522225708438,
          null,
          24.5600788188925,
          24.5600788188925,
          null,
          59.9975445598341,
          59.9975445598341,
          null,
          31.409782342886,
          31.409782342886,
          null,
          31.600447703004,
          31.600447703004,
          null,
          45.4876394999785,
          45.4876394999785,
          null,
          21.3815634422674,
          21.3815634422674,
          null,
          33.2948619034881,
          33.2948619034881,
          null,
          29.1517006096404,
          29.1517006096404,
          null,
          39.0795815715979,
          39.0795815715979,
          null,
          25.7628657848579,
          25.7628657848579,
          null,
          28.8374550801167,
          28.8374550801167,
          null,
          29.282365435596,
          29.282365435596,
          null,
          5.0004573402227,
          5.0004573402227,
          null,
          31.082853415425,
          31.082853415425,
          null,
          16.1718008486873,
          16.1718008486873,
          null,
          25.1916431728561,
          25.1916431728561,
          null,
          35.376965737689,
          35.376965737689,
          null,
          29.8216052181215,
          29.8216052181215,
          null,
          32.5378018158003,
          32.5378018158003,
          null,
          59.9946360354994,
          59.9946360354994,
          null,
          31.1819411244558,
          31.1819411244558,
          null
         ],
         "z": [
          2.77,
          -1,
          null,
          3.95,
          -1,
          null,
          5.21,
          -1,
          null,
          0.26,
          -1,
          null,
          8.55,
          -1,
          null,
          9.94,
          -1,
          null,
          6.9,
          -1,
          null,
          9.99901435986353,
          -1,
          null,
          9.73676836770705,
          -1,
          null,
          1.5532755426737,
          -1,
          null,
          0.19607911662668,
          -1,
          null,
          2.2369200793753,
          -1,
          null,
          8.49366060024299,
          -1,
          null,
          5.25892825636429e-06,
          -1,
          null,
          8.83955183900883,
          -1,
          null,
          8.50917560078177,
          -1,
          null,
          2.76359090727327,
          -1,
          null,
          4.24952007611447,
          -1,
          null,
          6.5368169929596,
          -1,
          null,
          4.37053826534161,
          -1,
          null,
          9.99934692807528,
          -1,
          null,
          3.04598549988322,
          -1,
          null,
          5.57745584925602,
          -1,
          null,
          9.99997152723324,
          -1,
          null,
          4.21155179665049e-10,
          -1,
          null,
          2.80460740620144,
          -1,
          null,
          2.18107827298716,
          -1,
          null,
          4.0596163103897,
          -1,
          null,
          2.13896836555538,
          -1,
          null,
          1.62261532406235,
          -1,
          null,
          8.12006332049123,
          -1,
          null,
          4.66963514354113,
          -1,
          null,
          1.83749825156116,
          -1,
          null,
          3.43111086588347,
          -1,
          null,
          6.85536976762358,
          -1,
          null,
          1.81852371055856,
          -1,
          null,
          7.36223891598466,
          -1,
          null,
          6.9332803334572,
          -1,
          null,
          0.0334887626997116,
          -1,
          null,
          2.25405206851499,
          -1,
          null
         ]
        },
        {
         "marker": {
          "color": "black",
          "size": 9,
          "symbol": "diamond"
         },
         "mode": "markers",
         "type": "scatter3d",
         "x": [
          4.23,
          1.85,
          8.84,
          6.95,
          6,
          2.57,
          8.21,
          9.99900735171652,
          1.00007043564434,
          9.99999569960673,
          1.30154659149663,
          1.00708034683112,
          1.00006486950198,
          1.00000861711602,
          2.61647783116388,
          4.16471378889476,
          1.63965684361506,
          2.70454009682167,
          1.59667429162234,
          9.99158491415166,
          6.3663599879788,
          3.65084928775292,
          5.26571354293429,
          2.31863376037304,
          5.48399786323982,
          5.08914757611774,
          1.0004373532208,
          1.00013915275124,
          1.00000318936809,
          9.99995561656848,
          1.00000009099881,
          9.95700943650363,
          1.01169982953848,
          1.00095331974783,
          1.00001035521688,
          1.00560416886131,
          9.99910508248024,
          1.0057706757339,
          9.37435499560043,
          1.18075869051721
         ],
         "y": [
          58.1,
          33.25,
          51.39,
          43.25,
          5.46,
          21.06,
          16.19,
          31.5947965791925,
          34.4960751149849,
          33.3389673309661,
          11.0319775355662,
          32.8329685807901,
          36.6148042286192,
          32.267315711512,
          33.7419119317571,
          33.7311670702774,
          34.6683938123586,
          29.7900999904475,
          29.5522225708438,
          24.5600788188925,
          59.9975445598341,
          31.409782342886,
          31.600447703004,
          45.4876394999785,
          21.3815634422674,
          33.2948619034881,
          29.1517006096404,
          39.0795815715979,
          25.7628657848579,
          28.8374550801167,
          29.282365435596,
          5.0004573402227,
          31.082853415425,
          16.1718008486873,
          25.1916431728561,
          35.376965737689,
          29.8216052181215,
          32.5378018158003,
          59.9946360354994,
          31.1819411244558
         ],
         "z": [
          2.77,
          3.95,
          5.21,
          0.26,
          8.55,
          9.94,
          6.9,
          9.99901435986353,
          9.73676836770705,
          1.5532755426737,
          0.19607911662668,
          2.2369200793753,
          8.49366060024299,
          5.25892825636429e-06,
          8.83955183900883,
          8.50917560078177,
          2.76359090727327,
          4.24952007611447,
          6.5368169929596,
          4.37053826534161,
          9.99934692807528,
          3.04598549988322,
          5.57745584925602,
          9.99997152723324,
          4.21155179665049e-10,
          2.80460740620144,
          2.18107827298716,
          4.0596163103897,
          2.13896836555538,
          1.62261532406235,
          8.12006332049123,
          4.66963514354113,
          1.83749825156116,
          3.43111086588347,
          6.85536976762358,
          1.81852371055856,
          7.36223891598466,
          6.9332803334572,
          0.0334887626997116,
          2.25405206851499
         ]
        },
        {
         "hovertemplate": "repeatNumb=1<br>Gradient time / minutes=%{x}<br>Initial organic modifier (%)=%{y}<br>Isocratic hold time / minutes=%{z}<br>Responce=%{marker.color}<extra></extra>",
         "legendgroup": "1",
         "marker": {
          "color": [
           0.198753056294462,
           0.0297112240382024,
           0.183187125849361,
           0.194788703580062,
           0.15069920824144,
           0.187269491879729,
           0.147209835384513,
           0.0719271419527526,
           0.0591783202045399,
           0.0346258933435684,
           0.20839750619938,
           0.0195062382998919,
           0.0996498008704363,
           0.124882739945584,
           0.0534347341209576,
           0.0552114824719666,
           0.0281826366765622,
           0.0337025500515033,
           0.0408692261683106,
           0.0949906025523089,
           0.20734229194048,
           0.0304645390966569,
           0.04507863807554,
           0.244301245802868,
           0.115309490158692,
           0.0319999321792676,
           0.0193848722750773,
           0.133669759972462,
           0.0461749132909692,
           0.0371498019938611,
           0.0461996910338807,
           0.143969370439072,
           0.0178069820625926,
           0.111170654518195,
           0.0813770345745421,
           0.0394523166138185,
           0.0619740641156477,
           0.0406465347152681,
           0.208124288004447,
           0.0201766721677431
          ],
          "coloraxis": "coloraxis",
          "size": 7,
          "symbol": "diamond"
         },
         "mode": "markers",
         "name": "1",
         "scene": "scene",
         "showlegend": true,
         "type": "scatter3d",
         "x": [
          4.23,
          1.85,
          8.84,
          6.95,
          6,
          2.57,
          8.21,
          9.99900735171652,
          1.00007043564434,
          9.99999569960673,
          1.30154659149663,
          1.00708034683112,
          1.00006486950198,
          1.00000861711602,
          2.61647783116388,
          4.16471378889476,
          1.63965684361506,
          2.70454009682167,
          1.59667429162234,
          9.99158491415166,
          6.3663599879788,
          3.65084928775292,
          5.26571354293429,
          2.31863376037304,
          5.48399786323982,
          5.08914757611774,
          1.0004373532208,
          1.00013915275124,
          1.00000318936809,
          9.99995561656848,
          1.00000009099881,
          9.95700943650363,
          1.01169982953848,
          1.00095331974783,
          1.00001035521688,
          1.00560416886131,
          9.99910508248024,
          1.0057706757339,
          9.37435499560043,
          1.18075869051721
         ],
         "y": [
          58.1,
          33.25,
          51.39,
          43.25,
          5.46,
          21.06,
          16.19,
          31.5947965791925,
          34.4960751149849,
          33.3389673309661,
          11.0319775355662,
          32.8329685807901,
          36.6148042286192,
          32.267315711512,
          33.7419119317571,
          33.7311670702774,
          34.6683938123586,
          29.7900999904475,
          29.5522225708438,
          24.5600788188925,
          59.9975445598341,
          31.409782342886,
          31.600447703004,
          45.4876394999785,
          21.3815634422674,
          33.2948619034881,
          29.1517006096404,
          39.0795815715979,
          25.7628657848579,
          28.8374550801167,
          29.282365435596,
          5.0004573402227,
          31.082853415425,
          16.1718008486873,
          25.1916431728561,
          35.376965737689,
          29.8216052181215,
          32.5378018158003,
          59.9946360354994,
          31.1819411244558
         ],
         "z": [
          2.77,
          3.95,
          5.21,
          0.26,
          8.55,
          9.94,
          6.9,
          9.99901435986353,
          9.73676836770705,
          1.5532755426737,
          0.19607911662668,
          2.2369200793753,
          8.49366060024299,
          5.25892825636429e-06,
          8.83955183900883,
          8.50917560078177,
          2.76359090727327,
          4.24952007611447,
          6.5368169929596,
          4.37053826534161,
          9.99934692807528,
          3.04598549988322,
          5.57745584925602,
          9.99997152723324,
          4.21155179665049e-10,
          2.80460740620144,
          2.18107827298716,
          4.0596163103897,
          2.13896836555538,
          1.62261532406235,
          8.12006332049123,
          4.66963514354113,
          1.83749825156116,
          3.43111086588347,
          6.85536976762358,
          1.81852371055856,
          7.36223891598466,
          6.9332803334572,
          0.0334887626997116,
          2.25405206851499
         ]
        }
       ],
       "layout": {
        "autosize": false,
        "coloraxis": {
         "cmax": 0.255,
         "cmin": 0.015,
         "colorbar": {
          "dtick": 0.05,
          "thickness": 20,
          "tickfont": {
           "size": 20
          },
          "tickmode": "array",
          "ticks": "outside",
          "ticktext": [
           "0.02 (Best)",
           "0.05",
           "0.10",
           "0.15",
           "0.20",
           "0.25 (Worst)"
          ],
          "tickvals": [
           0.02,
           0.05,
           0.1,
           0.15,
           0.2,
           0.25
          ],
          "tickwidth": 2,
          "title": {
           "font": {
            "size": 20
           },
           "text": "R"
          }
         },
         "colorscale": [
          [
           0,
           "rgb(181, 222, 43)"
          ],
          [
           0.125,
           "rgb(110, 206, 88)"
          ],
          [
           0.25,
           "rgb(53, 183, 121)"
          ],
          [
           0.375,
           "rgb(31, 158, 137)"
          ],
          [
           0.5,
           "rgb(38, 130, 142)"
          ],
          [
           0.625,
           "rgb(49, 104, 142)"
          ],
          [
           0.75,
           "rgb(62, 73, 137)"
          ],
          [
           0.875,
           "rgb(72, 40, 120)"
          ],
          [
           1,
           "rgb(68, 1, 84)"
          ]
         ],
         "showscale": false
        },
        "height": 800,
        "legend": {
         "title": {
          "text": "repeatNumb"
         },
         "tracegroupgap": 0
        },
        "margin": {
         "t": 60
        },
        "scene": {
         "aspectmode": "cube",
         "camera": {
          "eye": {
           "x": -1.8673042307711347,
           "y": -1.7813407618263895,
           "z": 0.3
          }
         },
         "domain": {
          "x": [
           0,
           1
          ],
          "y": [
           0,
           1
          ]
         },
         "xaxis": {
          "tick0": 0,
          "tickfont": {
           "color": "black",
           "size": 14
          },
          "ticks": "outside",
          "tickwidth": 4,
          "title": {
           "font": {
            "size": 15
           },
           "text": "Gradient time / minutes"
          }
         },
         "yaxis": {
          "tick0": 0,
          "tickfont": {
           "color": "black",
           "size": 14
          },
          "ticks": "outside",
          "tickwidth": 4,
          "title": {
           "font": {
            "size": 15
           },
           "text": "Initial organic modifier (%)"
          }
         },
         "zaxis": {
          "tick0": 0,
          "tickfont": {
           "color": "black",
           "size": 14
          },
          "ticks": "outside",
          "tickwidth": 4,
          "title": {
           "font": {
            "size": 15
           },
           "text": "Isocratic hold time / minutes"
          }
         }
        },
        "showlegend": false,
        "template": {
         "data": {
          "bar": [
           {
            "error_x": {
             "color": "#2a3f5f"
            },
            "error_y": {
             "color": "#2a3f5f"
            },
            "marker": {
             "line": {
              "color": "white",
              "width": 0.5
             },
             "pattern": {
              "fillmode": "overlay",
              "size": 10,
              "solidity": 0.2
             }
            },
            "type": "bar"
           }
          ],
          "barpolar": [
           {
            "marker": {
             "line": {
              "color": "white",
              "width": 0.5
             },
             "pattern": {
              "fillmode": "overlay",
              "size": 10,
              "solidity": 0.2
             }
            },
            "type": "barpolar"
           }
          ],
          "carpet": [
           {
            "aaxis": {
             "endlinecolor": "#2a3f5f",
             "gridcolor": "#C8D4E3",
             "linecolor": "#C8D4E3",
             "minorgridcolor": "#C8D4E3",
             "startlinecolor": "#2a3f5f"
            },
            "baxis": {
             "endlinecolor": "#2a3f5f",
             "gridcolor": "#C8D4E3",
             "linecolor": "#C8D4E3",
             "minorgridcolor": "#C8D4E3",
             "startlinecolor": "#2a3f5f"
            },
            "type": "carpet"
           }
          ],
          "choropleth": [
           {
            "colorbar": {
             "outlinewidth": 0,
             "ticks": ""
            },
            "type": "choropleth"
           }
          ],
          "contour": [
           {
            "colorbar": {
             "outlinewidth": 0,
             "ticks": ""
            },
            "colorscale": [
             [
              0,
              "#0d0887"
             ],
             [
              0.1111111111111111,
              "#46039f"
             ],
             [
              0.2222222222222222,
              "#7201a8"
             ],
             [
              0.3333333333333333,
              "#9c179e"
             ],
             [
              0.4444444444444444,
              "#bd3786"
             ],
             [
              0.5555555555555556,
              "#d8576b"
             ],
             [
              0.6666666666666666,
              "#ed7953"
             ],
             [
              0.7777777777777778,
              "#fb9f3a"
             ],
             [
              0.8888888888888888,
              "#fdca26"
             ],
             [
              1,
              "#f0f921"
             ]
            ],
            "type": "contour"
           }
          ],
          "contourcarpet": [
           {
            "colorbar": {
             "outlinewidth": 0,
             "ticks": ""
            },
            "type": "contourcarpet"
           }
          ],
          "heatmap": [
           {
            "colorbar": {
             "outlinewidth": 0,
             "ticks": ""
            },
            "colorscale": [
             [
              0,
              "#0d0887"
             ],
             [
              0.1111111111111111,
              "#46039f"
             ],
             [
              0.2222222222222222,
              "#7201a8"
             ],
             [
              0.3333333333333333,
              "#9c179e"
             ],
             [
              0.4444444444444444,
              "#bd3786"
             ],
             [
              0.5555555555555556,
              "#d8576b"
             ],
             [
              0.6666666666666666,
              "#ed7953"
             ],
             [
              0.7777777777777778,
              "#fb9f3a"
             ],
             [
              0.8888888888888888,
              "#fdca26"
             ],
             [
              1,
              "#f0f921"
             ]
            ],
            "type": "heatmap"
           }
          ],
          "heatmapgl": [
           {
            "colorbar": {
             "outlinewidth": 0,
             "ticks": ""
            },
            "colorscale": [
             [
              0,
              "#0d0887"
             ],
             [
              0.1111111111111111,
              "#46039f"
             ],
             [
              0.2222222222222222,
              "#7201a8"
             ],
             [
              0.3333333333333333,
              "#9c179e"
             ],
             [
              0.4444444444444444,
              "#bd3786"
             ],
             [
              0.5555555555555556,
              "#d8576b"
             ],
             [
              0.6666666666666666,
              "#ed7953"
             ],
             [
              0.7777777777777778,
              "#fb9f3a"
             ],
             [
              0.8888888888888888,
              "#fdca26"
             ],
             [
              1,
              "#f0f921"
             ]
            ],
            "type": "heatmapgl"
           }
          ],
          "histogram": [
           {
            "marker": {
             "pattern": {
              "fillmode": "overlay",
              "size": 10,
              "solidity": 0.2
             }
            },
            "type": "histogram"
           }
          ],
          "histogram2d": [
           {
            "colorbar": {
             "outlinewidth": 0,
             "ticks": ""
            },
            "colorscale": [
             [
              0,
              "#0d0887"
             ],
             [
              0.1111111111111111,
              "#46039f"
             ],
             [
              0.2222222222222222,
              "#7201a8"
             ],
             [
              0.3333333333333333,
              "#9c179e"
             ],
             [
              0.4444444444444444,
              "#bd3786"
             ],
             [
              0.5555555555555556,
              "#d8576b"
             ],
             [
              0.6666666666666666,
              "#ed7953"
             ],
             [
              0.7777777777777778,
              "#fb9f3a"
             ],
             [
              0.8888888888888888,
              "#fdca26"
             ],
             [
              1,
              "#f0f921"
             ]
            ],
            "type": "histogram2d"
           }
          ],
          "histogram2dcontour": [
           {
            "colorbar": {
             "outlinewidth": 0,
             "ticks": ""
            },
            "colorscale": [
             [
              0,
              "#0d0887"
             ],
             [
              0.1111111111111111,
              "#46039f"
             ],
             [
              0.2222222222222222,
              "#7201a8"
             ],
             [
              0.3333333333333333,
              "#9c179e"
             ],
             [
              0.4444444444444444,
              "#bd3786"
             ],
             [
              0.5555555555555556,
              "#d8576b"
             ],
             [
              0.6666666666666666,
              "#ed7953"
             ],
             [
              0.7777777777777778,
              "#fb9f3a"
             ],
             [
              0.8888888888888888,
              "#fdca26"
             ],
             [
              1,
              "#f0f921"
             ]
            ],
            "type": "histogram2dcontour"
           }
          ],
          "mesh3d": [
           {
            "colorbar": {
             "outlinewidth": 0,
             "ticks": ""
            },
            "type": "mesh3d"
           }
          ],
          "parcoords": [
           {
            "line": {
             "colorbar": {
              "outlinewidth": 0,
              "ticks": ""
             }
            },
            "type": "parcoords"
           }
          ],
          "pie": [
           {
            "automargin": true,
            "type": "pie"
           }
          ],
          "scatter": [
           {
            "fillpattern": {
             "fillmode": "overlay",
             "size": 10,
             "solidity": 0.2
            },
            "type": "scatter"
           }
          ],
          "scatter3d": [
           {
            "line": {
             "colorbar": {
              "outlinewidth": 0,
              "ticks": ""
             }
            },
            "marker": {
             "colorbar": {
              "outlinewidth": 0,
              "ticks": ""
             }
            },
            "type": "scatter3d"
           }
          ],
          "scattercarpet": [
           {
            "marker": {
             "colorbar": {
              "outlinewidth": 0,
              "ticks": ""
             }
            },
            "type": "scattercarpet"
           }
          ],
          "scattergeo": [
           {
            "marker": {
             "colorbar": {
              "outlinewidth": 0,
              "ticks": ""
             }
            },
            "type": "scattergeo"
           }
          ],
          "scattergl": [
           {
            "marker": {
             "colorbar": {
              "outlinewidth": 0,
              "ticks": ""
             }
            },
            "type": "scattergl"
           }
          ],
          "scattermapbox": [
           {
            "marker": {
             "colorbar": {
              "outlinewidth": 0,
              "ticks": ""
             }
            },
            "type": "scattermapbox"
           }
          ],
          "scatterpolar": [
           {
            "marker": {
             "colorbar": {
              "outlinewidth": 0,
              "ticks": ""
             }
            },
            "type": "scatterpolar"
           }
          ],
          "scatterpolargl": [
           {
            "marker": {
             "colorbar": {
              "outlinewidth": 0,
              "ticks": ""
             }
            },
            "type": "scatterpolargl"
           }
          ],
          "scatterternary": [
           {
            "marker": {
             "colorbar": {
              "outlinewidth": 0,
              "ticks": ""
             }
            },
            "type": "scatterternary"
           }
          ],
          "surface": [
           {
            "colorbar": {
             "outlinewidth": 0,
             "ticks": ""
            },
            "colorscale": [
             [
              0,
              "#0d0887"
             ],
             [
              0.1111111111111111,
              "#46039f"
             ],
             [
              0.2222222222222222,
              "#7201a8"
             ],
             [
              0.3333333333333333,
              "#9c179e"
             ],
             [
              0.4444444444444444,
              "#bd3786"
             ],
             [
              0.5555555555555556,
              "#d8576b"
             ],
             [
              0.6666666666666666,
              "#ed7953"
             ],
             [
              0.7777777777777778,
              "#fb9f3a"
             ],
             [
              0.8888888888888888,
              "#fdca26"
             ],
             [
              1,
              "#f0f921"
             ]
            ],
            "type": "surface"
           }
          ],
          "table": [
           {
            "cells": {
             "fill": {
              "color": "#EBF0F8"
             },
             "line": {
              "color": "white"
             }
            },
            "header": {
             "fill": {
              "color": "#C8D4E3"
             },
             "line": {
              "color": "white"
             }
            },
            "type": "table"
           }
          ]
         },
         "layout": {
          "annotationdefaults": {
           "arrowcolor": "#2a3f5f",
           "arrowhead": 0,
           "arrowwidth": 1
          },
          "autotypenumbers": "strict",
          "coloraxis": {
           "colorbar": {
            "outlinewidth": 0,
            "ticks": ""
           }
          },
          "colorscale": {
           "diverging": [
            [
             0,
             "#8e0152"
            ],
            [
             0.1,
             "#c51b7d"
            ],
            [
             0.2,
             "#de77ae"
            ],
            [
             0.3,
             "#f1b6da"
            ],
            [
             0.4,
             "#fde0ef"
            ],
            [
             0.5,
             "#f7f7f7"
            ],
            [
             0.6,
             "#e6f5d0"
            ],
            [
             0.7,
             "#b8e186"
            ],
            [
             0.8,
             "#7fbc41"
            ],
            [
             0.9,
             "#4d9221"
            ],
            [
             1,
             "#276419"
            ]
           ],
           "sequential": [
            [
             0,
             "#0d0887"
            ],
            [
             0.1111111111111111,
             "#46039f"
            ],
            [
             0.2222222222222222,
             "#7201a8"
            ],
            [
             0.3333333333333333,
             "#9c179e"
            ],
            [
             0.4444444444444444,
             "#bd3786"
            ],
            [
             0.5555555555555556,
             "#d8576b"
            ],
            [
             0.6666666666666666,
             "#ed7953"
            ],
            [
             0.7777777777777778,
             "#fb9f3a"
            ],
            [
             0.8888888888888888,
             "#fdca26"
            ],
            [
             1,
             "#f0f921"
            ]
           ],
           "sequentialminus": [
            [
             0,
             "#0d0887"
            ],
            [
             0.1111111111111111,
             "#46039f"
            ],
            [
             0.2222222222222222,
             "#7201a8"
            ],
            [
             0.3333333333333333,
             "#9c179e"
            ],
            [
             0.4444444444444444,
             "#bd3786"
            ],
            [
             0.5555555555555556,
             "#d8576b"
            ],
            [
             0.6666666666666666,
             "#ed7953"
            ],
            [
             0.7777777777777778,
             "#fb9f3a"
            ],
            [
             0.8888888888888888,
             "#fdca26"
            ],
            [
             1,
             "#f0f921"
            ]
           ]
          },
          "colorway": [
           "#636efa",
           "#EF553B",
           "#00cc96",
           "#ab63fa",
           "#FFA15A",
           "#19d3f3",
           "#FF6692",
           "#B6E880",
           "#FF97FF",
           "#FECB52"
          ],
          "font": {
           "color": "#2a3f5f"
          },
          "geo": {
           "bgcolor": "white",
           "lakecolor": "white",
           "landcolor": "white",
           "showlakes": true,
           "showland": true,
           "subunitcolor": "#C8D4E3"
          },
          "hoverlabel": {
           "align": "left"
          },
          "hovermode": "closest",
          "mapbox": {
           "style": "light"
          },
          "paper_bgcolor": "white",
          "plot_bgcolor": "white",
          "polar": {
           "angularaxis": {
            "gridcolor": "#EBF0F8",
            "linecolor": "#EBF0F8",
            "ticks": ""
           },
           "bgcolor": "white",
           "radialaxis": {
            "gridcolor": "#EBF0F8",
            "linecolor": "#EBF0F8",
            "ticks": ""
           }
          },
          "scene": {
           "xaxis": {
            "backgroundcolor": "white",
            "gridcolor": "#DFE8F3",
            "gridwidth": 2,
            "linecolor": "#EBF0F8",
            "showbackground": true,
            "ticks": "",
            "zerolinecolor": "#EBF0F8"
           },
           "yaxis": {
            "backgroundcolor": "white",
            "gridcolor": "#DFE8F3",
            "gridwidth": 2,
            "linecolor": "#EBF0F8",
            "showbackground": true,
            "ticks": "",
            "zerolinecolor": "#EBF0F8"
           },
           "zaxis": {
            "backgroundcolor": "white",
            "gridcolor": "#DFE8F3",
            "gridwidth": 2,
            "linecolor": "#EBF0F8",
            "showbackground": true,
            "ticks": "",
            "zerolinecolor": "#EBF0F8"
           }
          },
          "shapedefaults": {
           "line": {
            "color": "#2a3f5f"
           }
          },
          "ternary": {
           "aaxis": {
            "gridcolor": "#DFE8F3",
            "linecolor": "#A2B1C6",
            "ticks": ""
           },
           "baxis": {
            "gridcolor": "#DFE8F3",
            "linecolor": "#A2B1C6",
            "ticks": ""
           },
           "bgcolor": "white",
           "caxis": {
            "gridcolor": "#DFE8F3",
            "linecolor": "#A2B1C6",
            "ticks": ""
           }
          },
          "title": {
           "x": 0.05
          },
          "xaxis": {
           "automargin": true,
           "gridcolor": "#EBF0F8",
           "linecolor": "#EBF0F8",
           "ticks": "",
           "title": {
            "standoff": 15
           },
           "zerolinecolor": "#EBF0F8",
           "zerolinewidth": 2
          },
          "yaxis": {
           "automargin": true,
           "gridcolor": "#EBF0F8",
           "linecolor": "#EBF0F8",
           "ticks": "",
           "title": {
            "standoff": 15
           },
           "zerolinecolor": "#EBF0F8",
           "zerolinewidth": 2
          }
         }
        },
        "width": 1000
       }
      },
      "text/html": [
       "<div>                            <div id=\"227b57e5-b0bd-406f-9052-09f44792b802\" class=\"plotly-graph-div\" style=\"height:800px; width:1000px;\"></div>            <script type=\"text/javascript\">                require([\"plotly\"], function(Plotly) {                    window.PLOTLYENV=window.PLOTLYENV || {};                                    if (document.getElementById(\"227b57e5-b0bd-406f-9052-09f44792b802\")) {                    Plotly.newPlot(                        \"227b57e5-b0bd-406f-9052-09f44792b802\",                        [{\"line\":{\"color\":\"grey\",\"dash\":\"solid\",\"width\":1},\"mode\":\"lines\",\"x\":[4.23,4.23,null,1.85,1.85,null,8.84,8.84,null,6.95,6.95,null,6.0,6.0,null,2.57,2.57,null,8.21,8.21,null,9.99900735171652,9.99900735171652,null,1.00007043564434,1.00007043564434,null,9.99999569960673,9.99999569960673,null,1.30154659149663,1.30154659149663,null,1.00708034683112,1.00708034683112,null,1.00006486950198,1.00006486950198,null,1.00000861711602,1.00000861711602,null,2.61647783116388,2.61647783116388,null,4.16471378889476,4.16471378889476,null,1.63965684361506,1.63965684361506,null,2.70454009682167,2.70454009682167,null,1.59667429162234,1.59667429162234,null,9.99158491415166,9.99158491415166,null,6.3663599879788,6.3663599879788,null,3.65084928775292,3.65084928775292,null,5.26571354293429,5.26571354293429,null,2.31863376037304,2.31863376037304,null,5.48399786323982,5.48399786323982,null,5.08914757611774,5.08914757611774,null,1.0004373532208,1.0004373532208,null,1.00013915275124,1.00013915275124,null,1.00000318936809,1.00000318936809,null,9.99995561656848,9.99995561656848,null,1.00000009099881,1.00000009099881,null,9.95700943650363,9.95700943650363,null,1.01169982953848,1.01169982953848,null,1.00095331974783,1.00095331974783,null,1.00001035521688,1.00001035521688,null,1.00560416886131,1.00560416886131,null,9.99910508248024,9.99910508248024,null,1.0057706757339,1.0057706757339,null,9.37435499560043,9.37435499560043,null,1.18075869051721,1.18075869051721,null],\"y\":[58.1,58.1,null,33.25,33.25,null,51.39,51.39,null,43.25,43.25,null,5.46,5.46,null,21.06,21.06,null,16.19,16.19,null,31.5947965791925,31.5947965791925,null,34.4960751149849,34.4960751149849,null,33.3389673309661,33.3389673309661,null,11.0319775355662,11.0319775355662,null,32.8329685807901,32.8329685807901,null,36.6148042286192,36.6148042286192,null,32.267315711512,32.267315711512,null,33.7419119317571,33.7419119317571,null,33.7311670702774,33.7311670702774,null,34.6683938123586,34.6683938123586,null,29.7900999904475,29.7900999904475,null,29.5522225708438,29.5522225708438,null,24.5600788188925,24.5600788188925,null,59.9975445598341,59.9975445598341,null,31.409782342886,31.409782342886,null,31.600447703004,31.600447703004,null,45.4876394999785,45.4876394999785,null,21.3815634422674,21.3815634422674,null,33.2948619034881,33.2948619034881,null,29.1517006096404,29.1517006096404,null,39.0795815715979,39.0795815715979,null,25.7628657848579,25.7628657848579,null,28.8374550801167,28.8374550801167,null,29.282365435596,29.282365435596,null,5.0004573402227,5.0004573402227,null,31.082853415425,31.082853415425,null,16.1718008486873,16.1718008486873,null,25.1916431728561,25.1916431728561,null,35.376965737689,35.376965737689,null,29.8216052181215,29.8216052181215,null,32.5378018158003,32.5378018158003,null,59.9946360354994,59.9946360354994,null,31.1819411244558,31.1819411244558,null],\"z\":[2.77,-1,null,3.95,-1,null,5.21,-1,null,0.26,-1,null,8.55,-1,null,9.94,-1,null,6.9,-1,null,9.99901435986353,-1,null,9.73676836770705,-1,null,1.5532755426737,-1,null,0.19607911662668,-1,null,2.2369200793753,-1,null,8.49366060024299,-1,null,5.25892825636429e-06,-1,null,8.83955183900883,-1,null,8.50917560078177,-1,null,2.76359090727327,-1,null,4.24952007611447,-1,null,6.5368169929596,-1,null,4.37053826534161,-1,null,9.99934692807528,-1,null,3.04598549988322,-1,null,5.57745584925602,-1,null,9.99997152723324,-1,null,4.21155179665049e-10,-1,null,2.80460740620144,-1,null,2.18107827298716,-1,null,4.0596163103897,-1,null,2.13896836555538,-1,null,1.62261532406235,-1,null,8.12006332049123,-1,null,4.66963514354113,-1,null,1.83749825156116,-1,null,3.43111086588347,-1,null,6.85536976762358,-1,null,1.81852371055856,-1,null,7.36223891598466,-1,null,6.9332803334572,-1,null,0.0334887626997116,-1,null,2.25405206851499,-1,null],\"type\":\"scatter3d\",\"marker\":{\"size\":8}},{\"marker\":{\"color\":\"black\",\"size\":9,\"symbol\":\"diamond\"},\"mode\":\"markers\",\"x\":[4.23,1.85,8.84,6.95,6.0,2.57,8.21,9.99900735171652,1.00007043564434,9.99999569960673,1.30154659149663,1.00708034683112,1.00006486950198,1.00000861711602,2.61647783116388,4.16471378889476,1.63965684361506,2.70454009682167,1.59667429162234,9.99158491415166,6.3663599879788,3.65084928775292,5.26571354293429,2.31863376037304,5.48399786323982,5.08914757611774,1.0004373532208,1.00013915275124,1.00000318936809,9.99995561656848,1.00000009099881,9.95700943650363,1.01169982953848,1.00095331974783,1.00001035521688,1.00560416886131,9.99910508248024,1.0057706757339,9.37435499560043,1.18075869051721],\"y\":[58.1,33.25,51.39,43.25,5.46,21.06,16.19,31.5947965791925,34.4960751149849,33.3389673309661,11.0319775355662,32.8329685807901,36.6148042286192,32.267315711512,33.7419119317571,33.7311670702774,34.6683938123586,29.7900999904475,29.5522225708438,24.5600788188925,59.9975445598341,31.409782342886,31.600447703004,45.4876394999785,21.3815634422674,33.2948619034881,29.1517006096404,39.0795815715979,25.7628657848579,28.8374550801167,29.282365435596,5.0004573402227,31.082853415425,16.1718008486873,25.1916431728561,35.376965737689,29.8216052181215,32.5378018158003,59.9946360354994,31.1819411244558],\"z\":[2.77,3.95,5.21,0.26,8.55,9.94,6.9,9.99901435986353,9.73676836770705,1.5532755426737,0.19607911662668,2.2369200793753,8.49366060024299,5.25892825636429e-06,8.83955183900883,8.50917560078177,2.76359090727327,4.24952007611447,6.5368169929596,4.37053826534161,9.99934692807528,3.04598549988322,5.57745584925602,9.99997152723324,4.21155179665049e-10,2.80460740620144,2.18107827298716,4.0596163103897,2.13896836555538,1.62261532406235,8.12006332049123,4.66963514354113,1.83749825156116,3.43111086588347,6.85536976762358,1.81852371055856,7.36223891598466,6.9332803334572,0.0334887626997116,2.25405206851499],\"type\":\"scatter3d\"},{\"hovertemplate\":\"repeatNumb=1<br>Gradient time / minutes=%{x}<br>Initial organic modifier (%)=%{y}<br>Isocratic hold time / minutes=%{z}<br>Responce=%{marker.color}<extra></extra>\",\"legendgroup\":\"1\",\"marker\":{\"color\":[0.198753056294462,0.0297112240382024,0.183187125849361,0.194788703580062,0.15069920824144,0.187269491879729,0.147209835384513,0.0719271419527526,0.0591783202045399,0.0346258933435684,0.20839750619938,0.0195062382998919,0.0996498008704363,0.124882739945584,0.0534347341209576,0.0552114824719666,0.0281826366765622,0.0337025500515033,0.0408692261683106,0.0949906025523089,0.20734229194048,0.0304645390966569,0.04507863807554,0.244301245802868,0.115309490158692,0.0319999321792676,0.0193848722750773,0.133669759972462,0.0461749132909692,0.0371498019938611,0.0461996910338807,0.143969370439072,0.0178069820625926,0.111170654518195,0.0813770345745421,0.0394523166138185,0.0619740641156477,0.0406465347152681,0.208124288004447,0.0201766721677431],\"coloraxis\":\"coloraxis\",\"symbol\":\"diamond\",\"size\":7},\"mode\":\"markers\",\"name\":\"1\",\"scene\":\"scene\",\"showlegend\":true,\"x\":[4.23,1.85,8.84,6.95,6.0,2.57,8.21,9.99900735171652,1.00007043564434,9.99999569960673,1.30154659149663,1.00708034683112,1.00006486950198,1.00000861711602,2.61647783116388,4.16471378889476,1.63965684361506,2.70454009682167,1.59667429162234,9.99158491415166,6.3663599879788,3.65084928775292,5.26571354293429,2.31863376037304,5.48399786323982,5.08914757611774,1.0004373532208,1.00013915275124,1.00000318936809,9.99995561656848,1.00000009099881,9.95700943650363,1.01169982953848,1.00095331974783,1.00001035521688,1.00560416886131,9.99910508248024,1.0057706757339,9.37435499560043,1.18075869051721],\"y\":[58.1,33.25,51.39,43.25,5.46,21.06,16.19,31.5947965791925,34.4960751149849,33.3389673309661,11.0319775355662,32.8329685807901,36.6148042286192,32.267315711512,33.7419119317571,33.7311670702774,34.6683938123586,29.7900999904475,29.5522225708438,24.5600788188925,59.9975445598341,31.409782342886,31.600447703004,45.4876394999785,21.3815634422674,33.2948619034881,29.1517006096404,39.0795815715979,25.7628657848579,28.8374550801167,29.282365435596,5.0004573402227,31.082853415425,16.1718008486873,25.1916431728561,35.376965737689,29.8216052181215,32.5378018158003,59.9946360354994,31.1819411244558],\"z\":[2.77,3.95,5.21,0.26,8.55,9.94,6.9,9.99901435986353,9.73676836770705,1.5532755426737,0.19607911662668,2.2369200793753,8.49366060024299,5.25892825636429e-06,8.83955183900883,8.50917560078177,2.76359090727327,4.24952007611447,6.5368169929596,4.37053826534161,9.99934692807528,3.04598549988322,5.57745584925602,9.99997152723324,4.21155179665049e-10,2.80460740620144,2.18107827298716,4.0596163103897,2.13896836555538,1.62261532406235,8.12006332049123,4.66963514354113,1.83749825156116,3.43111086588347,6.85536976762358,1.81852371055856,7.36223891598466,6.9332803334572,0.0334887626997116,2.25405206851499],\"type\":\"scatter3d\"}],                        {\"template\":{\"data\":{\"barpolar\":[{\"marker\":{\"line\":{\"color\":\"white\",\"width\":0.5},\"pattern\":{\"fillmode\":\"overlay\",\"size\":10,\"solidity\":0.2}},\"type\":\"barpolar\"}],\"bar\":[{\"error_x\":{\"color\":\"#2a3f5f\"},\"error_y\":{\"color\":\"#2a3f5f\"},\"marker\":{\"line\":{\"color\":\"white\",\"width\":0.5},\"pattern\":{\"fillmode\":\"overlay\",\"size\":10,\"solidity\":0.2}},\"type\":\"bar\"}],\"carpet\":[{\"aaxis\":{\"endlinecolor\":\"#2a3f5f\",\"gridcolor\":\"#C8D4E3\",\"linecolor\":\"#C8D4E3\",\"minorgridcolor\":\"#C8D4E3\",\"startlinecolor\":\"#2a3f5f\"},\"baxis\":{\"endlinecolor\":\"#2a3f5f\",\"gridcolor\":\"#C8D4E3\",\"linecolor\":\"#C8D4E3\",\"minorgridcolor\":\"#C8D4E3\",\"startlinecolor\":\"#2a3f5f\"},\"type\":\"carpet\"}],\"choropleth\":[{\"colorbar\":{\"outlinewidth\":0,\"ticks\":\"\"},\"type\":\"choropleth\"}],\"contourcarpet\":[{\"colorbar\":{\"outlinewidth\":0,\"ticks\":\"\"},\"type\":\"contourcarpet\"}],\"contour\":[{\"colorbar\":{\"outlinewidth\":0,\"ticks\":\"\"},\"colorscale\":[[0.0,\"#0d0887\"],[0.1111111111111111,\"#46039f\"],[0.2222222222222222,\"#7201a8\"],[0.3333333333333333,\"#9c179e\"],[0.4444444444444444,\"#bd3786\"],[0.5555555555555556,\"#d8576b\"],[0.6666666666666666,\"#ed7953\"],[0.7777777777777778,\"#fb9f3a\"],[0.8888888888888888,\"#fdca26\"],[1.0,\"#f0f921\"]],\"type\":\"contour\"}],\"heatmapgl\":[{\"colorbar\":{\"outlinewidth\":0,\"ticks\":\"\"},\"colorscale\":[[0.0,\"#0d0887\"],[0.1111111111111111,\"#46039f\"],[0.2222222222222222,\"#7201a8\"],[0.3333333333333333,\"#9c179e\"],[0.4444444444444444,\"#bd3786\"],[0.5555555555555556,\"#d8576b\"],[0.6666666666666666,\"#ed7953\"],[0.7777777777777778,\"#fb9f3a\"],[0.8888888888888888,\"#fdca26\"],[1.0,\"#f0f921\"]],\"type\":\"heatmapgl\"}],\"heatmap\":[{\"colorbar\":{\"outlinewidth\":0,\"ticks\":\"\"},\"colorscale\":[[0.0,\"#0d0887\"],[0.1111111111111111,\"#46039f\"],[0.2222222222222222,\"#7201a8\"],[0.3333333333333333,\"#9c179e\"],[0.4444444444444444,\"#bd3786\"],[0.5555555555555556,\"#d8576b\"],[0.6666666666666666,\"#ed7953\"],[0.7777777777777778,\"#fb9f3a\"],[0.8888888888888888,\"#fdca26\"],[1.0,\"#f0f921\"]],\"type\":\"heatmap\"}],\"histogram2dcontour\":[{\"colorbar\":{\"outlinewidth\":0,\"ticks\":\"\"},\"colorscale\":[[0.0,\"#0d0887\"],[0.1111111111111111,\"#46039f\"],[0.2222222222222222,\"#7201a8\"],[0.3333333333333333,\"#9c179e\"],[0.4444444444444444,\"#bd3786\"],[0.5555555555555556,\"#d8576b\"],[0.6666666666666666,\"#ed7953\"],[0.7777777777777778,\"#fb9f3a\"],[0.8888888888888888,\"#fdca26\"],[1.0,\"#f0f921\"]],\"type\":\"histogram2dcontour\"}],\"histogram2d\":[{\"colorbar\":{\"outlinewidth\":0,\"ticks\":\"\"},\"colorscale\":[[0.0,\"#0d0887\"],[0.1111111111111111,\"#46039f\"],[0.2222222222222222,\"#7201a8\"],[0.3333333333333333,\"#9c179e\"],[0.4444444444444444,\"#bd3786\"],[0.5555555555555556,\"#d8576b\"],[0.6666666666666666,\"#ed7953\"],[0.7777777777777778,\"#fb9f3a\"],[0.8888888888888888,\"#fdca26\"],[1.0,\"#f0f921\"]],\"type\":\"histogram2d\"}],\"histogram\":[{\"marker\":{\"pattern\":{\"fillmode\":\"overlay\",\"size\":10,\"solidity\":0.2}},\"type\":\"histogram\"}],\"mesh3d\":[{\"colorbar\":{\"outlinewidth\":0,\"ticks\":\"\"},\"type\":\"mesh3d\"}],\"parcoords\":[{\"line\":{\"colorbar\":{\"outlinewidth\":0,\"ticks\":\"\"}},\"type\":\"parcoords\"}],\"pie\":[{\"automargin\":true,\"type\":\"pie\"}],\"scatter3d\":[{\"line\":{\"colorbar\":{\"outlinewidth\":0,\"ticks\":\"\"}},\"marker\":{\"colorbar\":{\"outlinewidth\":0,\"ticks\":\"\"}},\"type\":\"scatter3d\"}],\"scattercarpet\":[{\"marker\":{\"colorbar\":{\"outlinewidth\":0,\"ticks\":\"\"}},\"type\":\"scattercarpet\"}],\"scattergeo\":[{\"marker\":{\"colorbar\":{\"outlinewidth\":0,\"ticks\":\"\"}},\"type\":\"scattergeo\"}],\"scattergl\":[{\"marker\":{\"colorbar\":{\"outlinewidth\":0,\"ticks\":\"\"}},\"type\":\"scattergl\"}],\"scattermapbox\":[{\"marker\":{\"colorbar\":{\"outlinewidth\":0,\"ticks\":\"\"}},\"type\":\"scattermapbox\"}],\"scatterpolargl\":[{\"marker\":{\"colorbar\":{\"outlinewidth\":0,\"ticks\":\"\"}},\"type\":\"scatterpolargl\"}],\"scatterpolar\":[{\"marker\":{\"colorbar\":{\"outlinewidth\":0,\"ticks\":\"\"}},\"type\":\"scatterpolar\"}],\"scatter\":[{\"fillpattern\":{\"fillmode\":\"overlay\",\"size\":10,\"solidity\":0.2},\"type\":\"scatter\"}],\"scatterternary\":[{\"marker\":{\"colorbar\":{\"outlinewidth\":0,\"ticks\":\"\"}},\"type\":\"scatterternary\"}],\"surface\":[{\"colorbar\":{\"outlinewidth\":0,\"ticks\":\"\"},\"colorscale\":[[0.0,\"#0d0887\"],[0.1111111111111111,\"#46039f\"],[0.2222222222222222,\"#7201a8\"],[0.3333333333333333,\"#9c179e\"],[0.4444444444444444,\"#bd3786\"],[0.5555555555555556,\"#d8576b\"],[0.6666666666666666,\"#ed7953\"],[0.7777777777777778,\"#fb9f3a\"],[0.8888888888888888,\"#fdca26\"],[1.0,\"#f0f921\"]],\"type\":\"surface\"}],\"table\":[{\"cells\":{\"fill\":{\"color\":\"#EBF0F8\"},\"line\":{\"color\":\"white\"}},\"header\":{\"fill\":{\"color\":\"#C8D4E3\"},\"line\":{\"color\":\"white\"}},\"type\":\"table\"}]},\"layout\":{\"annotationdefaults\":{\"arrowcolor\":\"#2a3f5f\",\"arrowhead\":0,\"arrowwidth\":1},\"autotypenumbers\":\"strict\",\"coloraxis\":{\"colorbar\":{\"outlinewidth\":0,\"ticks\":\"\"}},\"colorscale\":{\"diverging\":[[0,\"#8e0152\"],[0.1,\"#c51b7d\"],[0.2,\"#de77ae\"],[0.3,\"#f1b6da\"],[0.4,\"#fde0ef\"],[0.5,\"#f7f7f7\"],[0.6,\"#e6f5d0\"],[0.7,\"#b8e186\"],[0.8,\"#7fbc41\"],[0.9,\"#4d9221\"],[1,\"#276419\"]],\"sequential\":[[0.0,\"#0d0887\"],[0.1111111111111111,\"#46039f\"],[0.2222222222222222,\"#7201a8\"],[0.3333333333333333,\"#9c179e\"],[0.4444444444444444,\"#bd3786\"],[0.5555555555555556,\"#d8576b\"],[0.6666666666666666,\"#ed7953\"],[0.7777777777777778,\"#fb9f3a\"],[0.8888888888888888,\"#fdca26\"],[1.0,\"#f0f921\"]],\"sequentialminus\":[[0.0,\"#0d0887\"],[0.1111111111111111,\"#46039f\"],[0.2222222222222222,\"#7201a8\"],[0.3333333333333333,\"#9c179e\"],[0.4444444444444444,\"#bd3786\"],[0.5555555555555556,\"#d8576b\"],[0.6666666666666666,\"#ed7953\"],[0.7777777777777778,\"#fb9f3a\"],[0.8888888888888888,\"#fdca26\"],[1.0,\"#f0f921\"]]},\"colorway\":[\"#636efa\",\"#EF553B\",\"#00cc96\",\"#ab63fa\",\"#FFA15A\",\"#19d3f3\",\"#FF6692\",\"#B6E880\",\"#FF97FF\",\"#FECB52\"],\"font\":{\"color\":\"#2a3f5f\"},\"geo\":{\"bgcolor\":\"white\",\"lakecolor\":\"white\",\"landcolor\":\"white\",\"showlakes\":true,\"showland\":true,\"subunitcolor\":\"#C8D4E3\"},\"hoverlabel\":{\"align\":\"left\"},\"hovermode\":\"closest\",\"mapbox\":{\"style\":\"light\"},\"paper_bgcolor\":\"white\",\"plot_bgcolor\":\"white\",\"polar\":{\"angularaxis\":{\"gridcolor\":\"#EBF0F8\",\"linecolor\":\"#EBF0F8\",\"ticks\":\"\"},\"bgcolor\":\"white\",\"radialaxis\":{\"gridcolor\":\"#EBF0F8\",\"linecolor\":\"#EBF0F8\",\"ticks\":\"\"}},\"scene\":{\"xaxis\":{\"backgroundcolor\":\"white\",\"gridcolor\":\"#DFE8F3\",\"gridwidth\":2,\"linecolor\":\"#EBF0F8\",\"showbackground\":true,\"ticks\":\"\",\"zerolinecolor\":\"#EBF0F8\"},\"yaxis\":{\"backgroundcolor\":\"white\",\"gridcolor\":\"#DFE8F3\",\"gridwidth\":2,\"linecolor\":\"#EBF0F8\",\"showbackground\":true,\"ticks\":\"\",\"zerolinecolor\":\"#EBF0F8\"},\"zaxis\":{\"backgroundcolor\":\"white\",\"gridcolor\":\"#DFE8F3\",\"gridwidth\":2,\"linecolor\":\"#EBF0F8\",\"showbackground\":true,\"ticks\":\"\",\"zerolinecolor\":\"#EBF0F8\"}},\"shapedefaults\":{\"line\":{\"color\":\"#2a3f5f\"}},\"ternary\":{\"aaxis\":{\"gridcolor\":\"#DFE8F3\",\"linecolor\":\"#A2B1C6\",\"ticks\":\"\"},\"baxis\":{\"gridcolor\":\"#DFE8F3\",\"linecolor\":\"#A2B1C6\",\"ticks\":\"\"},\"bgcolor\":\"white\",\"caxis\":{\"gridcolor\":\"#DFE8F3\",\"linecolor\":\"#A2B1C6\",\"ticks\":\"\"}},\"title\":{\"x\":0.05},\"xaxis\":{\"automargin\":true,\"gridcolor\":\"#EBF0F8\",\"linecolor\":\"#EBF0F8\",\"ticks\":\"\",\"title\":{\"standoff\":15},\"zerolinecolor\":\"#EBF0F8\",\"zerolinewidth\":2},\"yaxis\":{\"automargin\":true,\"gridcolor\":\"#EBF0F8\",\"linecolor\":\"#EBF0F8\",\"ticks\":\"\",\"title\":{\"standoff\":15},\"zerolinecolor\":\"#EBF0F8\",\"zerolinewidth\":2}}},\"scene\":{\"domain\":{\"x\":[0.0,1.0],\"y\":[0.0,1.0]},\"xaxis\":{\"title\":{\"text\":\"Gradient time / minutes\",\"font\":{\"size\":15}},\"tickfont\":{\"color\":\"black\",\"size\":14},\"ticks\":\"outside\",\"tick0\":0,\"tickwidth\":4},\"yaxis\":{\"title\":{\"text\":\"Initial organic modifier (%)\",\"font\":{\"size\":15}},\"tickfont\":{\"color\":\"black\",\"size\":14},\"ticks\":\"outside\",\"tick0\":0,\"tickwidth\":4},\"zaxis\":{\"title\":{\"text\":\"Isocratic hold time / minutes\",\"font\":{\"size\":15}},\"tickfont\":{\"color\":\"black\",\"size\":14},\"ticks\":\"outside\",\"tick0\":0,\"tickwidth\":4},\"camera\":{\"eye\":{\"x\":-1.8673042307711347,\"y\":-1.7813407618263895,\"z\":0.3}},\"aspectmode\":\"cube\"},\"coloraxis\":{\"colorbar\":{\"title\":{\"text\":\"R\",\"font\":{\"size\":20}},\"tickfont\":{\"size\":20},\"thickness\":20,\"dtick\":0.05,\"ticks\":\"outside\",\"tickwidth\":2,\"tickmode\":\"array\",\"tickvals\":[0.02,0.05,0.1,0.15,0.2,0.25],\"ticktext\":[\"0.02 (Best)\",\"0.05\",\"0.10\",\"0.15\",\"0.20\",\"0.25 (Worst)\"]},\"colorscale\":[[0.0,\"rgb(181, 222, 43)\"],[0.125,\"rgb(110, 206, 88)\"],[0.25,\"rgb(53, 183, 121)\"],[0.375,\"rgb(31, 158, 137)\"],[0.5,\"rgb(38, 130, 142)\"],[0.625,\"rgb(49, 104, 142)\"],[0.75,\"rgb(62, 73, 137)\"],[0.875,\"rgb(72, 40, 120)\"],[1.0,\"rgb(68, 1, 84)\"]],\"cmin\":0.015,\"cmax\":0.255,\"showscale\":false},\"legend\":{\"title\":{\"text\":\"repeatNumb\"},\"tracegroupgap\":0},\"margin\":{\"t\":60},\"showlegend\":false,\"autosize\":false,\"width\":1000,\"height\":800},                        {\"responsive\": true}                    ).then(function(){\n",
       "                            \n",
       "var gd = document.getElementById('227b57e5-b0bd-406f-9052-09f44792b802');\n",
       "var x = new MutationObserver(function (mutations, observer) {{\n",
       "        var display = window.getComputedStyle(gd).display;\n",
       "        if (!display || display === 'none') {{\n",
       "            console.log([gd, 'removed!']);\n",
       "            Plotly.purge(gd);\n",
       "            observer.disconnect();\n",
       "        }}\n",
       "}});\n",
       "\n",
       "// Listen for the removal of the full notebook cells\n",
       "var notebookContainer = gd.closest('#notebook-container');\n",
       "if (notebookContainer) {{\n",
       "    x.observe(notebookContainer, {childList: true});\n",
       "}}\n",
       "\n",
       "// Listen for the clearing of the current output cell\n",
       "var outputEl = gd.closest('.output');\n",
       "if (outputEl) {{\n",
       "    x.observe(outputEl, {childList: true});\n",
       "}}\n",
       "\n",
       "                        })                };                });            </script>        </div>"
      ]
     },
     "metadata": {},
     "output_type": "display_data"
    }
   ],
   "source": [
    "#Figure 4. Design space for Optimisation 1\n",
    "\n",
    "colorscale = ['rgb(68, 1, 84)', 'rgb(72, 40, 120)', 'rgb(62, 73, 137)', 'rgb(49, 104, 142)', 'rgb(38, 130, 142)', 'rgb(31, 158, 137)', 'rgb(53, 183, 121)', 'rgb(110, 206, 88)', 'rgb(181, 222, 43)']\n",
    "colorscale.reverse()\n",
    "colorscale = pc.make_colorscale(colorscale)\n",
    "\n",
    "def rotate_z(x, y, z, theta):\n",
    "    w = x+1j*y\n",
    "    return np.real(np.exp(1j*theta)*w), np.imag(np.exp(1j*theta)*w), z\n",
    "\n",
    "allVars11 = variables1.iloc[0:40,:]\n",
    "\n",
    "xe, ye, ze = rotate_z(2.1, 1.5, 0.3, -3)\n",
    "fig = px.scatter_3d(allVars11, x = \"GradTime\", y = \"InitalOM\", z = \"IsoHoldTime\", color = \"WeightRespcmtmdHPLC018\", symbol = \"repeatNumb\",color_continuous_scale=colorscale, labels={'GradTime':'Gradient time / minutes', 'InitalOM':'Initial organic modifier (%)',\n",
    "'IsoHoldTime':'Isocratic hold time / minutes', 'WeightRespcmtmdHPLC018':\"Responce\"})\n",
    "\n",
    "# Generate a pair of 3D points that corrispond to the line being drawn\n",
    "xyzList = allVars11.iloc[:,[0,1,4]]\n",
    "bottomList = allVars11.iloc[:,[0,1,4]]\n",
    "bottomList.loc[:,\"IsoHoldTime\"] = -1;\n",
    "\n",
    "x = pd.concat([xyzList.iloc[:,0],bottomList.iloc[:,0]], axis = 1)\n",
    "y = pd.concat([xyzList.iloc[:,1],bottomList.iloc[:,1]], axis = 1)\n",
    "z = pd.concat([xyzList.iloc[:,2],bottomList.iloc[:,2]], axis = 1)\n",
    "\n",
    "x_lines = list()\n",
    "y_lines = list()\n",
    "z_lines = list()\n",
    "\n",
    "#create the coordinate list for the lines\n",
    "for p in range(0, len(x)):\n",
    "    x_lines.append(x.iloc[p, 0])\n",
    "    x_lines.append(x.iloc[p, 1])\n",
    "    y_lines.append(y.iloc[p, 0])\n",
    "    y_lines.append(y.iloc[p, 1])\n",
    "    z_lines.append(z.iloc[p, 0])\n",
    "    z_lines.append(z.iloc[p, 1])\n",
    "    x_lines.append(None)\n",
    "    y_lines.append(None)\n",
    "    z_lines.append(None)\n",
    "    \n",
    "fig.add_trace(go.Scatter3d(\n",
    "                x=x_lines,\n",
    "                y=y_lines,\n",
    "                z=z_lines,\n",
    "                mode='lines',\n",
    "                line = dict( color = \"grey\", width= 1, dash = 'solid')\n",
    "                ))\n",
    "\n",
    "\n",
    "fig.add_trace(go.Scatter3d(\n",
    "                x = allVars11.iloc[0:40,0], \n",
    "                y = allVars11.iloc[0:40,1],\n",
    "                z = allVars11.iloc[0:40,4], \n",
    "                mode='markers',\n",
    "                marker_symbol=\"diamond\",\n",
    "                marker=dict(\n",
    "                    size=12,\n",
    "                    color=\"black\",                # set color to an array/list of desired value\n",
    "                    )\n",
    "                ))\n",
    "\n",
    "#Add the optimal point\n",
    "\n",
    "# fig.add_trace(\n",
    "#     go.Scatter3d(\n",
    "#     mode='markers',\n",
    "#         x=[optPoints.iloc[0,0]],\n",
    "#         y=[optPoints.iloc[0,1]],\n",
    "#         z=[optPoints.iloc[0,2]],\n",
    "#         marker=dict(\n",
    "#             color=\"red\",\n",
    "#             size=5,\n",
    "#             symbol = 'x'\n",
    "#         )\n",
    "# ))\n",
    "\n",
    "camera = dict(eye=dict(x=xe, y=ye, z=ze))\n",
    "fig.update_layout(scene=dict(camera=camera,aspectmode='cube'),showlegend=True)\n",
    "fig.update_traces(marker_size=8)\n",
    "fig.update_coloraxes(colorscale=colorscale,\n",
    "                    cmin = 0.015,\n",
    "                    cmax = 0.255,\n",
    "                    colorbar_title_text = \"R\",\n",
    "                    colorbar_thickness = 20,\n",
    "                    colorbar_dtick = 0.05,\n",
    "                    colorbar_ticks = 'outside',\n",
    "                    colorbar_tickwidth = 2,\n",
    "                    colorbar_tickmode = 'array',\n",
    "                    colorbar_tickvals = [0.02, 0.05, 0.10, 0.15, 0.20, 0.25],\n",
    "                    colorbar_ticktext = ['0.02 (Best)', '0.05', '0.10', '0.15', '0.20', '0.25 (Worst)'],\n",
    "                    colorbar_tickfont_size=20,\n",
    "                    colorbar_titlefont_size = 20)\n",
    "\n",
    "fontLayoutX = dict(\n",
    "                    tickfont=dict(\n",
    "                    color='black',\n",
    "                    size=14),ticks='outside',tick0=0, tickwidth=4, title = dict(font = dict(size=15)))\n",
    "\n",
    "fontLayoutY = dict(\n",
    "                    tickfont=dict(\n",
    "                    color='black',\n",
    "                    size=14),ticks='outside',tick0=0, tickwidth=4, title = dict(font = dict(size=15)))\n",
    "fontLayoutZ = dict(\n",
    "                    tickfont=dict(\n",
    "                    color='black',\n",
    "                    size=14),ticks='outside',tick0=0, tickwidth=4, title = dict(font = dict(size=15)))\n",
    "\n",
    "fig.update_layout(\n",
    "    scene1 = dict(\n",
    "                        xaxis = fontLayoutX,\n",
    "                        yaxis = fontLayoutY,\n",
    "                        zaxis = fontLayoutZ\n",
    "                     ))\n",
    "\n",
    "fig.data[0].marker.symbol = 'diamond'\n",
    "fig.data[0].marker.size = 7\n",
    "fig.data[2].marker.symbol = 'diamond'\n",
    "fig.data[2].marker.size = 9\n",
    "\n",
    "fig.update_layout(template='plotly_white',\n",
    "autosize=False,\n",
    "width=1000,\n",
    "height=800,\n",
    "showlegend=False\n",
    "                 )\n",
    "\n",
    "fig.update_coloraxes(showscale=False)\n",
    "\n",
    "fig['data'] = (fig['data'][1:] + fig['data'][:1])\n",
    "\n",
    "fig.show()\n",
    "\n",
    "import plotly.io as pio\n",
    "pio.write_image(fig, 'Optimisation1DesignSpace.jpg', scale=4, width=1000, height=800)"
   ]
  },
  {
   "cell_type": "code",
   "execution_count": 14,
   "metadata": {},
   "outputs": [
    {
     "name": "stderr",
     "output_type": "stream",
     "text": [
      "C:\\Users\\Thoma\\AppData\\Local\\Temp\\ipykernel_7416\\3228293330.py:20: SettingWithCopyWarning:\n",
      "\n",
      "\n",
      "A value is trying to be set on a copy of a slice from a DataFrame.\n",
      "Try using .loc[row_indexer,col_indexer] = value instead\n",
      "\n",
      "See the caveats in the documentation: https://pandas.pydata.org/pandas-docs/stable/user_guide/indexing.html#returning-a-view-versus-a-copy\n",
      "\n",
      "C:\\Users\\Thoma\\AppData\\Local\\Temp\\ipykernel_7416\\3228293330.py:20: FutureWarning:\n",
      "\n",
      "In a future version, `df.iloc[:, i] = newvals` will attempt to set the values inplace instead of always setting a new array. To retain the old behavior, use either `df[df.columns[i]] = newvals` or, if columns are non-unique, `df.isetitem(i, newvals)`\n",
      "\n"
     ]
    },
    {
     "data": {
      "application/vnd.plotly.v1+json": {
       "config": {
        "plotlyServerURL": "https://plot.ly"
       },
       "data": [
        {
         "line": {
          "color": "grey",
          "dash": "solid",
          "width": 1
         },
         "marker": {
          "size": 8
         },
         "mode": "lines",
         "type": "scatter3d",
         "x": [
          8.84,
          8.84,
          null,
          5.19,
          5.19,
          null,
          6.38,
          6.38,
          null,
          2.29,
          2.29,
          null,
          8.39,
          8.39,
          null,
          1.24,
          1.24,
          null,
          3.87,
          3.87,
          null,
          1.00000144534003,
          1.00000144534003,
          null,
          2.44058253333753,
          2.44058253333753,
          null,
          1.00007473162899,
          1.00007473162899,
          null,
          9.9941856187039,
          9.9941856187039,
          null,
          6.70628369102212,
          6.70628369102212,
          null,
          9.98839858123916,
          9.98839858123916,
          null,
          1.0000000793413,
          1.0000000793413,
          null,
          1.00000002743231,
          1.00000002743231,
          null,
          1.00891737857479,
          1.00891737857479,
          null,
          1.00000002682733,
          1.00000002682733,
          null,
          1.00005816368022,
          1.00005816368022,
          null,
          1.0000068075838,
          1.0000068075838,
          null,
          1.00027902424774,
          1.00027902424774,
          null,
          1.00075522529376,
          1.00075522529376,
          null,
          9.99705868715844,
          9.99705868715844,
          null,
          1.00000113539954,
          1.00000113539954,
          null,
          1.00288421356914,
          1.00288421356914,
          null,
          1.00014023053757,
          1.00014023053757,
          null,
          1.00000477196489,
          1.00000477196489,
          null,
          9.95748208159278,
          9.95748208159278,
          null,
          1.0030983297369,
          1.0030983297369,
          null,
          1.00034735534363,
          1.00034735534363,
          null,
          1.01644941386139,
          1.01644941386139,
          null,
          1.00060425281508,
          1.00060425281508,
          null,
          1.0001614689093,
          1.0001614689093,
          null,
          9.99790552842778,
          9.99790552842778,
          null,
          9.99999816265919,
          9.99999816265919,
          null,
          1.00276893558813,
          1.00276893558813,
          null,
          1.00388498532863,
          1.00388498532863,
          null,
          1.00394812498482,
          1.00394812498482,
          null,
          1.00403353807577,
          1.00403353807577,
          null,
          9.99999990797704,
          9.99999990797704,
          null,
          1.00000065989336,
          1.00000065989336,
          null
         ],
         "y": [
          16.18,
          16.18,
          null,
          38.16,
          38.16,
          null,
          22.25,
          22.25,
          null,
          50.35,
          50.35,
          null,
          53.73,
          53.73,
          null,
          34.5,
          34.5,
          null,
          9.31,
          9.31,
          null,
          33.1367638243265,
          33.1367638243265,
          null,
          31.7852535096316,
          31.7852535096316,
          null,
          22.9915418576239,
          22.9915418576239,
          null,
          27.8117715618339,
          27.8117715618339,
          null,
          5.00000000695389,
          5.00000000695389,
          null,
          33.9199987540937,
          33.9199987540937,
          null,
          37.4946572452851,
          37.4946572452851,
          null,
          28.6951810357363,
          28.6951810357363,
          null,
          30.7590344310304,
          30.7590344310304,
          null,
          27.252116056459,
          27.252116056459,
          null,
          59.9999973483543,
          59.9999973483543,
          null,
          29.3516683839881,
          29.3516683839881,
          null,
          28.4543603622743,
          28.4543603622743,
          null,
          31.5578202450052,
          31.5578202450052,
          null,
          30.0036722644187,
          30.0036722644187,
          null,
          31.5102068615967,
          31.5102068615967,
          null,
          34.0541461752503,
          34.0541461752503,
          null,
          35.453216674497,
          35.453216674497,
          null,
          32.5456493105175,
          32.5456493105175,
          null,
          33.8416971637913,
          33.8416971637913,
          null,
          25.4728458879422,
          25.4728458879422,
          null,
          34.0821875247992,
          34.0821875247992,
          null,
          37.9962321407161,
          37.9962321407161,
          null,
          22.8709355097555,
          22.8709355097555,
          null,
          15.532869735218,
          15.532869735218,
          null,
          5.00011732733128,
          5.00011732733128,
          null,
          33.7270184895462,
          33.7270184895462,
          null,
          10.8255437081002,
          10.8255437081002,
          null,
          27.2342488501773,
          27.2342488501773,
          null,
          45.5582052367007,
          45.5582052367007,
          null,
          30.6825659320078,
          30.6825659320078,
          null,
          28.1885201173275,
          28.1885201173275,
          null,
          35.3084732586678,
          35.3084732586678,
          null
         ],
         "z": [
          7.25,
          -1,
          null,
          4.68,
          -1,
          null,
          0.17,
          -1,
          null,
          9.19,
          -1,
          null,
          1.88,
          -1,
          null,
          6.98,
          -1,
          null,
          3.61,
          -1,
          null,
          7.44431197366752,
          -1,
          null,
          3.01207687183701e-06,
          -1,
          null,
          3.28459954380965,
          -1,
          null,
          9.91772702018178,
          -1,
          null,
          8.49931807397086,
          -1,
          null,
          9.55336298803107,
          -1,
          null,
          5.00566408295029,
          -1,
          null,
          5.02752789216697,
          -1,
          null,
          7.7738615591977,
          -1,
          null,
          9.43210886071256,
          -1,
          null,
          6.25842492892633,
          -1,
          null,
          2.79878191944589,
          -1,
          null,
          0.00017920392087815,
          -1,
          null,
          3.42564451844821,
          -1,
          null,
          3.7018664568847,
          -1,
          null,
          4.82373615470081,
          -1,
          null,
          1.24369596377374,
          -1,
          null,
          1.85730655088649e-05,
          -1,
          null,
          1.73241815045835,
          -1,
          null,
          2.06811592101409,
          -1,
          null,
          7.09346537147916,
          -1,
          null,
          3.13951426817342,
          -1,
          null,
          9.9991248781199,
          -1,
          null,
          9.99993950133253,
          -1,
          null,
          9.43393887103915e-07,
          -1,
          null,
          0.000188091760315378,
          -1,
          null,
          5.68671484936848,
          -1,
          null,
          9.99860967857608,
          -1,
          null,
          3.74412792202795,
          -1,
          null,
          2.65365673529235e-05,
          -1,
          null,
          9.99133889415994,
          -1,
          null,
          7.36895510564409,
          -1,
          null,
          2.16131272858361,
          -1,
          null
         ]
        },
        {
         "marker": {
          "color": "black",
          "size": 9,
          "symbol": "square"
         },
         "mode": "markers",
         "type": "scatter3d",
         "x": [
          8.84,
          5.19,
          6.38,
          2.29,
          8.39,
          1.24,
          3.87,
          1.00000144534003,
          2.44058253333753,
          1.00007473162899,
          9.9941856187039,
          6.70628369102212,
          9.98839858123916,
          1.0000000793413,
          1.00000002743231,
          1.00891737857479,
          1.00000002682733,
          1.00005816368022,
          1.0000068075838,
          1.00027902424774,
          1.00075522529376,
          9.99705868715844,
          1.00000113539954,
          1.00288421356914,
          1.00014023053757,
          1.00000477196489,
          9.95748208159278,
          1.0030983297369,
          1.00034735534363,
          1.01644941386139,
          1.00060425281508,
          1.0001614689093,
          9.99790552842778,
          9.99999816265919,
          1.00276893558813,
          1.00388498532863,
          1.00394812498482,
          1.00403353807577,
          9.99999990797704,
          1.00000065989336
         ],
         "y": [
          16.18,
          38.16,
          22.25,
          50.35,
          53.73,
          34.5,
          9.31,
          33.1367638243265,
          31.7852535096316,
          22.9915418576239,
          27.8117715618339,
          5.00000000695389,
          33.9199987540937,
          37.4946572452851,
          28.6951810357363,
          30.7590344310304,
          27.252116056459,
          59.9999973483543,
          29.3516683839881,
          28.4543603622743,
          31.5578202450052,
          30.0036722644187,
          31.5102068615967,
          34.0541461752503,
          35.453216674497,
          32.5456493105175,
          33.8416971637913,
          25.4728458879422,
          34.0821875247992,
          37.9962321407161,
          22.8709355097555,
          15.532869735218,
          5.00011732733128,
          33.7270184895462,
          10.8255437081002,
          27.2342488501773,
          45.5582052367007,
          30.6825659320078,
          28.1885201173275,
          35.3084732586678
         ],
         "z": [
          7.25,
          4.68,
          0.17,
          9.19,
          1.88,
          6.98,
          3.61,
          7.44431197366752,
          3.01207687183701e-06,
          3.28459954380965,
          9.91772702018178,
          8.49931807397086,
          9.55336298803107,
          5.00566408295029,
          5.02752789216697,
          7.7738615591977,
          9.43210886071256,
          6.25842492892633,
          2.79878191944589,
          0.00017920392087815,
          3.42564451844821,
          3.7018664568847,
          4.82373615470081,
          1.24369596377374,
          1.85730655088649e-05,
          1.73241815045835,
          2.06811592101409,
          7.09346537147916,
          3.13951426817342,
          9.9991248781199,
          9.99993950133253,
          9.43393887103915e-07,
          0.000188091760315378,
          5.68671484936848,
          9.99860967857608,
          3.74412792202795,
          2.65365673529235e-05,
          9.99133889415994,
          7.36895510564409,
          2.16131272858361
         ]
        },
        {
         "hovertemplate": "repeatNumb=2<br>Gradient time / minutes=%{x}<br>Initial organic modifier (%)=%{y}<br>Isocratic hold time / minutes=%{z}<br>Responce=%{marker.color}<extra></extra>",
         "legendgroup": "2",
         "marker": {
          "color": [
           0.150285904278216,
           0.124913941499996,
           0.120015448512691,
           0.169936578956167,
           0.176590471522325,
           0.0413656899588379,
           0.121543175671596,
           0.0428459553898348,
           0.0552010245804386,
           0.110212613181195,
           0.0743306475127298,
           0.15250604707058,
           0.0682927113067411,
           0.107908628889564,
           0.0322612962485763,
           0.0445287541978853,
           0.0533353472379594,
           0.209805656562028,
           0.0221617037673054,
           0.16759394466145,
           0.0248971421289254,
           0.0456792716023308,
           0.0311670092783512,
           0.0149666061026988,
           0.0694056771315826,
           0.0172073936806531,
           0.0364653080576265,
           0.069937944580978,
           0.0234633847408805,
           0.138646153927403,
           0.143754624116683,
           0.208069809322867,
           0.224188427554708,
           0.0520410661637737,
           0.212722734953351,
           0.0323583591597131,
           0.209851142355295,
           0.140259325628692,
           0.0628195670433904,
           0.0394581119904318
          ],
          "coloraxis": "coloraxis",
          "size": 7,
          "symbol": "square"
         },
         "mode": "markers",
         "name": "2",
         "scene": "scene",
         "showlegend": true,
         "type": "scatter3d",
         "x": [
          8.84,
          5.19,
          6.38,
          2.29,
          8.39,
          1.24,
          3.87,
          1.00000144534003,
          2.44058253333753,
          1.00007473162899,
          9.9941856187039,
          6.70628369102212,
          9.98839858123916,
          1.0000000793413,
          1.00000002743231,
          1.00891737857479,
          1.00000002682733,
          1.00005816368022,
          1.0000068075838,
          1.00027902424774,
          1.00075522529376,
          9.99705868715844,
          1.00000113539954,
          1.00288421356914,
          1.00014023053757,
          1.00000477196489,
          9.95748208159278,
          1.0030983297369,
          1.00034735534363,
          1.01644941386139,
          1.00060425281508,
          1.0001614689093,
          9.99790552842778,
          9.99999816265919,
          1.00276893558813,
          1.00388498532863,
          1.00394812498482,
          1.00403353807577,
          9.99999990797704,
          1.00000065989336
         ],
         "y": [
          16.18,
          38.16,
          22.25,
          50.35,
          53.73,
          34.5,
          9.31,
          33.1367638243265,
          31.7852535096316,
          22.9915418576239,
          27.8117715618339,
          5.00000000695389,
          33.9199987540937,
          37.4946572452851,
          28.6951810357363,
          30.7590344310304,
          27.252116056459,
          59.9999973483543,
          29.3516683839881,
          28.4543603622743,
          31.5578202450052,
          30.0036722644187,
          31.5102068615967,
          34.0541461752503,
          35.453216674497,
          32.5456493105175,
          33.8416971637913,
          25.4728458879422,
          34.0821875247992,
          37.9962321407161,
          22.8709355097555,
          15.532869735218,
          5.00011732733128,
          33.7270184895462,
          10.8255437081002,
          27.2342488501773,
          45.5582052367007,
          30.6825659320078,
          28.1885201173275,
          35.3084732586678
         ],
         "z": [
          7.25,
          4.68,
          0.17,
          9.19,
          1.88,
          6.98,
          3.61,
          7.44431197366752,
          3.01207687183701e-06,
          3.28459954380965,
          9.91772702018178,
          8.49931807397086,
          9.55336298803107,
          5.00566408295029,
          5.02752789216697,
          7.7738615591977,
          9.43210886071256,
          6.25842492892633,
          2.79878191944589,
          0.00017920392087815,
          3.42564451844821,
          3.7018664568847,
          4.82373615470081,
          1.24369596377374,
          1.85730655088649e-05,
          1.73241815045835,
          2.06811592101409,
          7.09346537147916,
          3.13951426817342,
          9.9991248781199,
          9.99993950133253,
          9.43393887103915e-07,
          0.000188091760315378,
          5.68671484936848,
          9.99860967857608,
          3.74412792202795,
          2.65365673529235e-05,
          9.99133889415994,
          7.36895510564409,
          2.16131272858361
         ]
        }
       ],
       "layout": {
        "autosize": false,
        "coloraxis": {
         "cmax": 0.255,
         "cmin": 0.015,
         "colorbar": {
          "dtick": 0.05,
          "thickness": 20,
          "tickfont": {
           "size": 20
          },
          "tickmode": "array",
          "ticks": "outside",
          "ticktext": [
           "0.02 (Best)",
           "0.05",
           "0.10",
           "0.15",
           "0.20",
           "0.25 (Worst)"
          ],
          "tickvals": [
           0.02,
           0.05,
           0.1,
           0.15,
           0.2,
           0.25
          ],
          "tickwidth": 2,
          "title": {
           "font": {
            "size": 20
           },
           "text": "R"
          }
         },
         "colorscale": [
          [
           0,
           "rgb(181, 222, 43)"
          ],
          [
           0.125,
           "rgb(110, 206, 88)"
          ],
          [
           0.25,
           "rgb(53, 183, 121)"
          ],
          [
           0.375,
           "rgb(31, 158, 137)"
          ],
          [
           0.5,
           "rgb(38, 130, 142)"
          ],
          [
           0.625,
           "rgb(49, 104, 142)"
          ],
          [
           0.75,
           "rgb(62, 73, 137)"
          ],
          [
           0.875,
           "rgb(72, 40, 120)"
          ],
          [
           1,
           "rgb(68, 1, 84)"
          ]
         ],
         "showscale": false
        },
        "height": 800,
        "legend": {
         "title": {
          "text": "repeatNumb"
         },
         "tracegroupgap": 0
        },
        "margin": {
         "t": 60
        },
        "scene": {
         "aspectmode": "cube",
         "camera": {
          "eye": {
           "x": -1.8673042307711347,
           "y": -1.7813407618263895,
           "z": 0.3
          }
         },
         "domain": {
          "x": [
           0,
           1
          ],
          "y": [
           0,
           1
          ]
         },
         "xaxis": {
          "tick0": 0,
          "tickfont": {
           "color": "black",
           "size": 14
          },
          "ticks": "outside",
          "tickwidth": 4,
          "title": {
           "font": {
            "size": 15
           },
           "text": "Gradient time / minutes"
          }
         },
         "yaxis": {
          "tick0": 0,
          "tickfont": {
           "color": "black",
           "size": 14
          },
          "ticks": "outside",
          "tickwidth": 4,
          "title": {
           "font": {
            "size": 15
           },
           "text": "Initial organic modifier (%)"
          }
         },
         "zaxis": {
          "tick0": 0,
          "tickfont": {
           "color": "black",
           "size": 14
          },
          "ticks": "outside",
          "tickwidth": 4,
          "title": {
           "font": {
            "size": 15
           },
           "text": "Isocratic hold time / minutes"
          }
         }
        },
        "showlegend": false,
        "template": {
         "data": {
          "bar": [
           {
            "error_x": {
             "color": "#2a3f5f"
            },
            "error_y": {
             "color": "#2a3f5f"
            },
            "marker": {
             "line": {
              "color": "white",
              "width": 0.5
             },
             "pattern": {
              "fillmode": "overlay",
              "size": 10,
              "solidity": 0.2
             }
            },
            "type": "bar"
           }
          ],
          "barpolar": [
           {
            "marker": {
             "line": {
              "color": "white",
              "width": 0.5
             },
             "pattern": {
              "fillmode": "overlay",
              "size": 10,
              "solidity": 0.2
             }
            },
            "type": "barpolar"
           }
          ],
          "carpet": [
           {
            "aaxis": {
             "endlinecolor": "#2a3f5f",
             "gridcolor": "#C8D4E3",
             "linecolor": "#C8D4E3",
             "minorgridcolor": "#C8D4E3",
             "startlinecolor": "#2a3f5f"
            },
            "baxis": {
             "endlinecolor": "#2a3f5f",
             "gridcolor": "#C8D4E3",
             "linecolor": "#C8D4E3",
             "minorgridcolor": "#C8D4E3",
             "startlinecolor": "#2a3f5f"
            },
            "type": "carpet"
           }
          ],
          "choropleth": [
           {
            "colorbar": {
             "outlinewidth": 0,
             "ticks": ""
            },
            "type": "choropleth"
           }
          ],
          "contour": [
           {
            "colorbar": {
             "outlinewidth": 0,
             "ticks": ""
            },
            "colorscale": [
             [
              0,
              "#0d0887"
             ],
             [
              0.1111111111111111,
              "#46039f"
             ],
             [
              0.2222222222222222,
              "#7201a8"
             ],
             [
              0.3333333333333333,
              "#9c179e"
             ],
             [
              0.4444444444444444,
              "#bd3786"
             ],
             [
              0.5555555555555556,
              "#d8576b"
             ],
             [
              0.6666666666666666,
              "#ed7953"
             ],
             [
              0.7777777777777778,
              "#fb9f3a"
             ],
             [
              0.8888888888888888,
              "#fdca26"
             ],
             [
              1,
              "#f0f921"
             ]
            ],
            "type": "contour"
           }
          ],
          "contourcarpet": [
           {
            "colorbar": {
             "outlinewidth": 0,
             "ticks": ""
            },
            "type": "contourcarpet"
           }
          ],
          "heatmap": [
           {
            "colorbar": {
             "outlinewidth": 0,
             "ticks": ""
            },
            "colorscale": [
             [
              0,
              "#0d0887"
             ],
             [
              0.1111111111111111,
              "#46039f"
             ],
             [
              0.2222222222222222,
              "#7201a8"
             ],
             [
              0.3333333333333333,
              "#9c179e"
             ],
             [
              0.4444444444444444,
              "#bd3786"
             ],
             [
              0.5555555555555556,
              "#d8576b"
             ],
             [
              0.6666666666666666,
              "#ed7953"
             ],
             [
              0.7777777777777778,
              "#fb9f3a"
             ],
             [
              0.8888888888888888,
              "#fdca26"
             ],
             [
              1,
              "#f0f921"
             ]
            ],
            "type": "heatmap"
           }
          ],
          "heatmapgl": [
           {
            "colorbar": {
             "outlinewidth": 0,
             "ticks": ""
            },
            "colorscale": [
             [
              0,
              "#0d0887"
             ],
             [
              0.1111111111111111,
              "#46039f"
             ],
             [
              0.2222222222222222,
              "#7201a8"
             ],
             [
              0.3333333333333333,
              "#9c179e"
             ],
             [
              0.4444444444444444,
              "#bd3786"
             ],
             [
              0.5555555555555556,
              "#d8576b"
             ],
             [
              0.6666666666666666,
              "#ed7953"
             ],
             [
              0.7777777777777778,
              "#fb9f3a"
             ],
             [
              0.8888888888888888,
              "#fdca26"
             ],
             [
              1,
              "#f0f921"
             ]
            ],
            "type": "heatmapgl"
           }
          ],
          "histogram": [
           {
            "marker": {
             "pattern": {
              "fillmode": "overlay",
              "size": 10,
              "solidity": 0.2
             }
            },
            "type": "histogram"
           }
          ],
          "histogram2d": [
           {
            "colorbar": {
             "outlinewidth": 0,
             "ticks": ""
            },
            "colorscale": [
             [
              0,
              "#0d0887"
             ],
             [
              0.1111111111111111,
              "#46039f"
             ],
             [
              0.2222222222222222,
              "#7201a8"
             ],
             [
              0.3333333333333333,
              "#9c179e"
             ],
             [
              0.4444444444444444,
              "#bd3786"
             ],
             [
              0.5555555555555556,
              "#d8576b"
             ],
             [
              0.6666666666666666,
              "#ed7953"
             ],
             [
              0.7777777777777778,
              "#fb9f3a"
             ],
             [
              0.8888888888888888,
              "#fdca26"
             ],
             [
              1,
              "#f0f921"
             ]
            ],
            "type": "histogram2d"
           }
          ],
          "histogram2dcontour": [
           {
            "colorbar": {
             "outlinewidth": 0,
             "ticks": ""
            },
            "colorscale": [
             [
              0,
              "#0d0887"
             ],
             [
              0.1111111111111111,
              "#46039f"
             ],
             [
              0.2222222222222222,
              "#7201a8"
             ],
             [
              0.3333333333333333,
              "#9c179e"
             ],
             [
              0.4444444444444444,
              "#bd3786"
             ],
             [
              0.5555555555555556,
              "#d8576b"
             ],
             [
              0.6666666666666666,
              "#ed7953"
             ],
             [
              0.7777777777777778,
              "#fb9f3a"
             ],
             [
              0.8888888888888888,
              "#fdca26"
             ],
             [
              1,
              "#f0f921"
             ]
            ],
            "type": "histogram2dcontour"
           }
          ],
          "mesh3d": [
           {
            "colorbar": {
             "outlinewidth": 0,
             "ticks": ""
            },
            "type": "mesh3d"
           }
          ],
          "parcoords": [
           {
            "line": {
             "colorbar": {
              "outlinewidth": 0,
              "ticks": ""
             }
            },
            "type": "parcoords"
           }
          ],
          "pie": [
           {
            "automargin": true,
            "type": "pie"
           }
          ],
          "scatter": [
           {
            "fillpattern": {
             "fillmode": "overlay",
             "size": 10,
             "solidity": 0.2
            },
            "type": "scatter"
           }
          ],
          "scatter3d": [
           {
            "line": {
             "colorbar": {
              "outlinewidth": 0,
              "ticks": ""
             }
            },
            "marker": {
             "colorbar": {
              "outlinewidth": 0,
              "ticks": ""
             }
            },
            "type": "scatter3d"
           }
          ],
          "scattercarpet": [
           {
            "marker": {
             "colorbar": {
              "outlinewidth": 0,
              "ticks": ""
             }
            },
            "type": "scattercarpet"
           }
          ],
          "scattergeo": [
           {
            "marker": {
             "colorbar": {
              "outlinewidth": 0,
              "ticks": ""
             }
            },
            "type": "scattergeo"
           }
          ],
          "scattergl": [
           {
            "marker": {
             "colorbar": {
              "outlinewidth": 0,
              "ticks": ""
             }
            },
            "type": "scattergl"
           }
          ],
          "scattermapbox": [
           {
            "marker": {
             "colorbar": {
              "outlinewidth": 0,
              "ticks": ""
             }
            },
            "type": "scattermapbox"
           }
          ],
          "scatterpolar": [
           {
            "marker": {
             "colorbar": {
              "outlinewidth": 0,
              "ticks": ""
             }
            },
            "type": "scatterpolar"
           }
          ],
          "scatterpolargl": [
           {
            "marker": {
             "colorbar": {
              "outlinewidth": 0,
              "ticks": ""
             }
            },
            "type": "scatterpolargl"
           }
          ],
          "scatterternary": [
           {
            "marker": {
             "colorbar": {
              "outlinewidth": 0,
              "ticks": ""
             }
            },
            "type": "scatterternary"
           }
          ],
          "surface": [
           {
            "colorbar": {
             "outlinewidth": 0,
             "ticks": ""
            },
            "colorscale": [
             [
              0,
              "#0d0887"
             ],
             [
              0.1111111111111111,
              "#46039f"
             ],
             [
              0.2222222222222222,
              "#7201a8"
             ],
             [
              0.3333333333333333,
              "#9c179e"
             ],
             [
              0.4444444444444444,
              "#bd3786"
             ],
             [
              0.5555555555555556,
              "#d8576b"
             ],
             [
              0.6666666666666666,
              "#ed7953"
             ],
             [
              0.7777777777777778,
              "#fb9f3a"
             ],
             [
              0.8888888888888888,
              "#fdca26"
             ],
             [
              1,
              "#f0f921"
             ]
            ],
            "type": "surface"
           }
          ],
          "table": [
           {
            "cells": {
             "fill": {
              "color": "#EBF0F8"
             },
             "line": {
              "color": "white"
             }
            },
            "header": {
             "fill": {
              "color": "#C8D4E3"
             },
             "line": {
              "color": "white"
             }
            },
            "type": "table"
           }
          ]
         },
         "layout": {
          "annotationdefaults": {
           "arrowcolor": "#2a3f5f",
           "arrowhead": 0,
           "arrowwidth": 1
          },
          "autotypenumbers": "strict",
          "coloraxis": {
           "colorbar": {
            "outlinewidth": 0,
            "ticks": ""
           }
          },
          "colorscale": {
           "diverging": [
            [
             0,
             "#8e0152"
            ],
            [
             0.1,
             "#c51b7d"
            ],
            [
             0.2,
             "#de77ae"
            ],
            [
             0.3,
             "#f1b6da"
            ],
            [
             0.4,
             "#fde0ef"
            ],
            [
             0.5,
             "#f7f7f7"
            ],
            [
             0.6,
             "#e6f5d0"
            ],
            [
             0.7,
             "#b8e186"
            ],
            [
             0.8,
             "#7fbc41"
            ],
            [
             0.9,
             "#4d9221"
            ],
            [
             1,
             "#276419"
            ]
           ],
           "sequential": [
            [
             0,
             "#0d0887"
            ],
            [
             0.1111111111111111,
             "#46039f"
            ],
            [
             0.2222222222222222,
             "#7201a8"
            ],
            [
             0.3333333333333333,
             "#9c179e"
            ],
            [
             0.4444444444444444,
             "#bd3786"
            ],
            [
             0.5555555555555556,
             "#d8576b"
            ],
            [
             0.6666666666666666,
             "#ed7953"
            ],
            [
             0.7777777777777778,
             "#fb9f3a"
            ],
            [
             0.8888888888888888,
             "#fdca26"
            ],
            [
             1,
             "#f0f921"
            ]
           ],
           "sequentialminus": [
            [
             0,
             "#0d0887"
            ],
            [
             0.1111111111111111,
             "#46039f"
            ],
            [
             0.2222222222222222,
             "#7201a8"
            ],
            [
             0.3333333333333333,
             "#9c179e"
            ],
            [
             0.4444444444444444,
             "#bd3786"
            ],
            [
             0.5555555555555556,
             "#d8576b"
            ],
            [
             0.6666666666666666,
             "#ed7953"
            ],
            [
             0.7777777777777778,
             "#fb9f3a"
            ],
            [
             0.8888888888888888,
             "#fdca26"
            ],
            [
             1,
             "#f0f921"
            ]
           ]
          },
          "colorway": [
           "#636efa",
           "#EF553B",
           "#00cc96",
           "#ab63fa",
           "#FFA15A",
           "#19d3f3",
           "#FF6692",
           "#B6E880",
           "#FF97FF",
           "#FECB52"
          ],
          "font": {
           "color": "#2a3f5f"
          },
          "geo": {
           "bgcolor": "white",
           "lakecolor": "white",
           "landcolor": "white",
           "showlakes": true,
           "showland": true,
           "subunitcolor": "#C8D4E3"
          },
          "hoverlabel": {
           "align": "left"
          },
          "hovermode": "closest",
          "mapbox": {
           "style": "light"
          },
          "paper_bgcolor": "white",
          "plot_bgcolor": "white",
          "polar": {
           "angularaxis": {
            "gridcolor": "#EBF0F8",
            "linecolor": "#EBF0F8",
            "ticks": ""
           },
           "bgcolor": "white",
           "radialaxis": {
            "gridcolor": "#EBF0F8",
            "linecolor": "#EBF0F8",
            "ticks": ""
           }
          },
          "scene": {
           "xaxis": {
            "backgroundcolor": "white",
            "gridcolor": "#DFE8F3",
            "gridwidth": 2,
            "linecolor": "#EBF0F8",
            "showbackground": true,
            "ticks": "",
            "zerolinecolor": "#EBF0F8"
           },
           "yaxis": {
            "backgroundcolor": "white",
            "gridcolor": "#DFE8F3",
            "gridwidth": 2,
            "linecolor": "#EBF0F8",
            "showbackground": true,
            "ticks": "",
            "zerolinecolor": "#EBF0F8"
           },
           "zaxis": {
            "backgroundcolor": "white",
            "gridcolor": "#DFE8F3",
            "gridwidth": 2,
            "linecolor": "#EBF0F8",
            "showbackground": true,
            "ticks": "",
            "zerolinecolor": "#EBF0F8"
           }
          },
          "shapedefaults": {
           "line": {
            "color": "#2a3f5f"
           }
          },
          "ternary": {
           "aaxis": {
            "gridcolor": "#DFE8F3",
            "linecolor": "#A2B1C6",
            "ticks": ""
           },
           "baxis": {
            "gridcolor": "#DFE8F3",
            "linecolor": "#A2B1C6",
            "ticks": ""
           },
           "bgcolor": "white",
           "caxis": {
            "gridcolor": "#DFE8F3",
            "linecolor": "#A2B1C6",
            "ticks": ""
           }
          },
          "title": {
           "x": 0.05
          },
          "xaxis": {
           "automargin": true,
           "gridcolor": "#EBF0F8",
           "linecolor": "#EBF0F8",
           "ticks": "",
           "title": {
            "standoff": 15
           },
           "zerolinecolor": "#EBF0F8",
           "zerolinewidth": 2
          },
          "yaxis": {
           "automargin": true,
           "gridcolor": "#EBF0F8",
           "linecolor": "#EBF0F8",
           "ticks": "",
           "title": {
            "standoff": 15
           },
           "zerolinecolor": "#EBF0F8",
           "zerolinewidth": 2
          }
         }
        },
        "width": 1000
       }
      },
      "text/html": [
       "<div>                            <div id=\"7be16175-eedc-4f1d-aba7-0fc9bc9410e2\" class=\"plotly-graph-div\" style=\"height:800px; width:1000px;\"></div>            <script type=\"text/javascript\">                require([\"plotly\"], function(Plotly) {                    window.PLOTLYENV=window.PLOTLYENV || {};                                    if (document.getElementById(\"7be16175-eedc-4f1d-aba7-0fc9bc9410e2\")) {                    Plotly.newPlot(                        \"7be16175-eedc-4f1d-aba7-0fc9bc9410e2\",                        [{\"line\":{\"color\":\"grey\",\"dash\":\"solid\",\"width\":1},\"mode\":\"lines\",\"x\":[8.84,8.84,null,5.19,5.19,null,6.38,6.38,null,2.29,2.29,null,8.39,8.39,null,1.24,1.24,null,3.87,3.87,null,1.00000144534003,1.00000144534003,null,2.44058253333753,2.44058253333753,null,1.00007473162899,1.00007473162899,null,9.9941856187039,9.9941856187039,null,6.70628369102212,6.70628369102212,null,9.98839858123916,9.98839858123916,null,1.0000000793413,1.0000000793413,null,1.00000002743231,1.00000002743231,null,1.00891737857479,1.00891737857479,null,1.00000002682733,1.00000002682733,null,1.00005816368022,1.00005816368022,null,1.0000068075838,1.0000068075838,null,1.00027902424774,1.00027902424774,null,1.00075522529376,1.00075522529376,null,9.99705868715844,9.99705868715844,null,1.00000113539954,1.00000113539954,null,1.00288421356914,1.00288421356914,null,1.00014023053757,1.00014023053757,null,1.00000477196489,1.00000477196489,null,9.95748208159278,9.95748208159278,null,1.0030983297369,1.0030983297369,null,1.00034735534363,1.00034735534363,null,1.01644941386139,1.01644941386139,null,1.00060425281508,1.00060425281508,null,1.0001614689093,1.0001614689093,null,9.99790552842778,9.99790552842778,null,9.99999816265919,9.99999816265919,null,1.00276893558813,1.00276893558813,null,1.00388498532863,1.00388498532863,null,1.00394812498482,1.00394812498482,null,1.00403353807577,1.00403353807577,null,9.99999990797704,9.99999990797704,null,1.00000065989336,1.00000065989336,null],\"y\":[16.18,16.18,null,38.16,38.16,null,22.25,22.25,null,50.35,50.35,null,53.73,53.73,null,34.5,34.5,null,9.31,9.31,null,33.1367638243265,33.1367638243265,null,31.7852535096316,31.7852535096316,null,22.9915418576239,22.9915418576239,null,27.8117715618339,27.8117715618339,null,5.00000000695389,5.00000000695389,null,33.9199987540937,33.9199987540937,null,37.4946572452851,37.4946572452851,null,28.6951810357363,28.6951810357363,null,30.7590344310304,30.7590344310304,null,27.252116056459,27.252116056459,null,59.9999973483543,59.9999973483543,null,29.3516683839881,29.3516683839881,null,28.4543603622743,28.4543603622743,null,31.5578202450052,31.5578202450052,null,30.0036722644187,30.0036722644187,null,31.5102068615967,31.5102068615967,null,34.0541461752503,34.0541461752503,null,35.453216674497,35.453216674497,null,32.5456493105175,32.5456493105175,null,33.8416971637913,33.8416971637913,null,25.4728458879422,25.4728458879422,null,34.0821875247992,34.0821875247992,null,37.9962321407161,37.9962321407161,null,22.8709355097555,22.8709355097555,null,15.532869735218,15.532869735218,null,5.00011732733128,5.00011732733128,null,33.7270184895462,33.7270184895462,null,10.8255437081002,10.8255437081002,null,27.2342488501773,27.2342488501773,null,45.5582052367007,45.5582052367007,null,30.6825659320078,30.6825659320078,null,28.1885201173275,28.1885201173275,null,35.3084732586678,35.3084732586678,null],\"z\":[7.25,-1,null,4.68,-1,null,0.17,-1,null,9.19,-1,null,1.88,-1,null,6.98,-1,null,3.61,-1,null,7.44431197366752,-1,null,3.01207687183701e-06,-1,null,3.28459954380965,-1,null,9.91772702018178,-1,null,8.49931807397086,-1,null,9.55336298803107,-1,null,5.00566408295029,-1,null,5.02752789216697,-1,null,7.7738615591977,-1,null,9.43210886071256,-1,null,6.25842492892633,-1,null,2.79878191944589,-1,null,0.00017920392087815,-1,null,3.42564451844821,-1,null,3.7018664568847,-1,null,4.82373615470081,-1,null,1.24369596377374,-1,null,1.85730655088649e-05,-1,null,1.73241815045835,-1,null,2.06811592101409,-1,null,7.09346537147916,-1,null,3.13951426817342,-1,null,9.9991248781199,-1,null,9.99993950133253,-1,null,9.43393887103915e-07,-1,null,0.000188091760315378,-1,null,5.68671484936848,-1,null,9.99860967857608,-1,null,3.74412792202795,-1,null,2.65365673529235e-05,-1,null,9.99133889415994,-1,null,7.36895510564409,-1,null,2.16131272858361,-1,null],\"type\":\"scatter3d\",\"marker\":{\"size\":8}},{\"marker\":{\"color\":\"black\",\"size\":9,\"symbol\":\"square\"},\"mode\":\"markers\",\"x\":[8.84,5.19,6.38,2.29,8.39,1.24,3.87,1.00000144534003,2.44058253333753,1.00007473162899,9.9941856187039,6.70628369102212,9.98839858123916,1.0000000793413,1.00000002743231,1.00891737857479,1.00000002682733,1.00005816368022,1.0000068075838,1.00027902424774,1.00075522529376,9.99705868715844,1.00000113539954,1.00288421356914,1.00014023053757,1.00000477196489,9.95748208159278,1.0030983297369,1.00034735534363,1.01644941386139,1.00060425281508,1.0001614689093,9.99790552842778,9.99999816265919,1.00276893558813,1.00388498532863,1.00394812498482,1.00403353807577,9.99999990797704,1.00000065989336],\"y\":[16.18,38.16,22.25,50.35,53.73,34.5,9.31,33.1367638243265,31.7852535096316,22.9915418576239,27.8117715618339,5.00000000695389,33.9199987540937,37.4946572452851,28.6951810357363,30.7590344310304,27.252116056459,59.9999973483543,29.3516683839881,28.4543603622743,31.5578202450052,30.0036722644187,31.5102068615967,34.0541461752503,35.453216674497,32.5456493105175,33.8416971637913,25.4728458879422,34.0821875247992,37.9962321407161,22.8709355097555,15.532869735218,5.00011732733128,33.7270184895462,10.8255437081002,27.2342488501773,45.5582052367007,30.6825659320078,28.1885201173275,35.3084732586678],\"z\":[7.25,4.68,0.17,9.19,1.88,6.98,3.61,7.44431197366752,3.01207687183701e-06,3.28459954380965,9.91772702018178,8.49931807397086,9.55336298803107,5.00566408295029,5.02752789216697,7.7738615591977,9.43210886071256,6.25842492892633,2.79878191944589,0.00017920392087815,3.42564451844821,3.7018664568847,4.82373615470081,1.24369596377374,1.85730655088649e-05,1.73241815045835,2.06811592101409,7.09346537147916,3.13951426817342,9.9991248781199,9.99993950133253,9.43393887103915e-07,0.000188091760315378,5.68671484936848,9.99860967857608,3.74412792202795,2.65365673529235e-05,9.99133889415994,7.36895510564409,2.16131272858361],\"type\":\"scatter3d\"},{\"hovertemplate\":\"repeatNumb=2<br>Gradient time / minutes=%{x}<br>Initial organic modifier (%)=%{y}<br>Isocratic hold time / minutes=%{z}<br>Responce=%{marker.color}<extra></extra>\",\"legendgroup\":\"2\",\"marker\":{\"color\":[0.150285904278216,0.124913941499996,0.120015448512691,0.169936578956167,0.176590471522325,0.0413656899588379,0.121543175671596,0.0428459553898348,0.0552010245804386,0.110212613181195,0.0743306475127298,0.15250604707058,0.0682927113067411,0.107908628889564,0.0322612962485763,0.0445287541978853,0.0533353472379594,0.209805656562028,0.0221617037673054,0.16759394466145,0.0248971421289254,0.0456792716023308,0.0311670092783512,0.0149666061026988,0.0694056771315826,0.0172073936806531,0.0364653080576265,0.069937944580978,0.0234633847408805,0.138646153927403,0.143754624116683,0.208069809322867,0.224188427554708,0.0520410661637737,0.212722734953351,0.0323583591597131,0.209851142355295,0.140259325628692,0.0628195670433904,0.0394581119904318],\"coloraxis\":\"coloraxis\",\"symbol\":\"square\",\"size\":7},\"mode\":\"markers\",\"name\":\"2\",\"scene\":\"scene\",\"showlegend\":true,\"x\":[8.84,5.19,6.38,2.29,8.39,1.24,3.87,1.00000144534003,2.44058253333753,1.00007473162899,9.9941856187039,6.70628369102212,9.98839858123916,1.0000000793413,1.00000002743231,1.00891737857479,1.00000002682733,1.00005816368022,1.0000068075838,1.00027902424774,1.00075522529376,9.99705868715844,1.00000113539954,1.00288421356914,1.00014023053757,1.00000477196489,9.95748208159278,1.0030983297369,1.00034735534363,1.01644941386139,1.00060425281508,1.0001614689093,9.99790552842778,9.99999816265919,1.00276893558813,1.00388498532863,1.00394812498482,1.00403353807577,9.99999990797704,1.00000065989336],\"y\":[16.18,38.16,22.25,50.35,53.73,34.5,9.31,33.1367638243265,31.7852535096316,22.9915418576239,27.8117715618339,5.00000000695389,33.9199987540937,37.4946572452851,28.6951810357363,30.7590344310304,27.252116056459,59.9999973483543,29.3516683839881,28.4543603622743,31.5578202450052,30.0036722644187,31.5102068615967,34.0541461752503,35.453216674497,32.5456493105175,33.8416971637913,25.4728458879422,34.0821875247992,37.9962321407161,22.8709355097555,15.532869735218,5.00011732733128,33.7270184895462,10.8255437081002,27.2342488501773,45.5582052367007,30.6825659320078,28.1885201173275,35.3084732586678],\"z\":[7.25,4.68,0.17,9.19,1.88,6.98,3.61,7.44431197366752,3.01207687183701e-06,3.28459954380965,9.91772702018178,8.49931807397086,9.55336298803107,5.00566408295029,5.02752789216697,7.7738615591977,9.43210886071256,6.25842492892633,2.79878191944589,0.00017920392087815,3.42564451844821,3.7018664568847,4.82373615470081,1.24369596377374,1.85730655088649e-05,1.73241815045835,2.06811592101409,7.09346537147916,3.13951426817342,9.9991248781199,9.99993950133253,9.43393887103915e-07,0.000188091760315378,5.68671484936848,9.99860967857608,3.74412792202795,2.65365673529235e-05,9.99133889415994,7.36895510564409,2.16131272858361],\"type\":\"scatter3d\"}],                        {\"template\":{\"data\":{\"barpolar\":[{\"marker\":{\"line\":{\"color\":\"white\",\"width\":0.5},\"pattern\":{\"fillmode\":\"overlay\",\"size\":10,\"solidity\":0.2}},\"type\":\"barpolar\"}],\"bar\":[{\"error_x\":{\"color\":\"#2a3f5f\"},\"error_y\":{\"color\":\"#2a3f5f\"},\"marker\":{\"line\":{\"color\":\"white\",\"width\":0.5},\"pattern\":{\"fillmode\":\"overlay\",\"size\":10,\"solidity\":0.2}},\"type\":\"bar\"}],\"carpet\":[{\"aaxis\":{\"endlinecolor\":\"#2a3f5f\",\"gridcolor\":\"#C8D4E3\",\"linecolor\":\"#C8D4E3\",\"minorgridcolor\":\"#C8D4E3\",\"startlinecolor\":\"#2a3f5f\"},\"baxis\":{\"endlinecolor\":\"#2a3f5f\",\"gridcolor\":\"#C8D4E3\",\"linecolor\":\"#C8D4E3\",\"minorgridcolor\":\"#C8D4E3\",\"startlinecolor\":\"#2a3f5f\"},\"type\":\"carpet\"}],\"choropleth\":[{\"colorbar\":{\"outlinewidth\":0,\"ticks\":\"\"},\"type\":\"choropleth\"}],\"contourcarpet\":[{\"colorbar\":{\"outlinewidth\":0,\"ticks\":\"\"},\"type\":\"contourcarpet\"}],\"contour\":[{\"colorbar\":{\"outlinewidth\":0,\"ticks\":\"\"},\"colorscale\":[[0.0,\"#0d0887\"],[0.1111111111111111,\"#46039f\"],[0.2222222222222222,\"#7201a8\"],[0.3333333333333333,\"#9c179e\"],[0.4444444444444444,\"#bd3786\"],[0.5555555555555556,\"#d8576b\"],[0.6666666666666666,\"#ed7953\"],[0.7777777777777778,\"#fb9f3a\"],[0.8888888888888888,\"#fdca26\"],[1.0,\"#f0f921\"]],\"type\":\"contour\"}],\"heatmapgl\":[{\"colorbar\":{\"outlinewidth\":0,\"ticks\":\"\"},\"colorscale\":[[0.0,\"#0d0887\"],[0.1111111111111111,\"#46039f\"],[0.2222222222222222,\"#7201a8\"],[0.3333333333333333,\"#9c179e\"],[0.4444444444444444,\"#bd3786\"],[0.5555555555555556,\"#d8576b\"],[0.6666666666666666,\"#ed7953\"],[0.7777777777777778,\"#fb9f3a\"],[0.8888888888888888,\"#fdca26\"],[1.0,\"#f0f921\"]],\"type\":\"heatmapgl\"}],\"heatmap\":[{\"colorbar\":{\"outlinewidth\":0,\"ticks\":\"\"},\"colorscale\":[[0.0,\"#0d0887\"],[0.1111111111111111,\"#46039f\"],[0.2222222222222222,\"#7201a8\"],[0.3333333333333333,\"#9c179e\"],[0.4444444444444444,\"#bd3786\"],[0.5555555555555556,\"#d8576b\"],[0.6666666666666666,\"#ed7953\"],[0.7777777777777778,\"#fb9f3a\"],[0.8888888888888888,\"#fdca26\"],[1.0,\"#f0f921\"]],\"type\":\"heatmap\"}],\"histogram2dcontour\":[{\"colorbar\":{\"outlinewidth\":0,\"ticks\":\"\"},\"colorscale\":[[0.0,\"#0d0887\"],[0.1111111111111111,\"#46039f\"],[0.2222222222222222,\"#7201a8\"],[0.3333333333333333,\"#9c179e\"],[0.4444444444444444,\"#bd3786\"],[0.5555555555555556,\"#d8576b\"],[0.6666666666666666,\"#ed7953\"],[0.7777777777777778,\"#fb9f3a\"],[0.8888888888888888,\"#fdca26\"],[1.0,\"#f0f921\"]],\"type\":\"histogram2dcontour\"}],\"histogram2d\":[{\"colorbar\":{\"outlinewidth\":0,\"ticks\":\"\"},\"colorscale\":[[0.0,\"#0d0887\"],[0.1111111111111111,\"#46039f\"],[0.2222222222222222,\"#7201a8\"],[0.3333333333333333,\"#9c179e\"],[0.4444444444444444,\"#bd3786\"],[0.5555555555555556,\"#d8576b\"],[0.6666666666666666,\"#ed7953\"],[0.7777777777777778,\"#fb9f3a\"],[0.8888888888888888,\"#fdca26\"],[1.0,\"#f0f921\"]],\"type\":\"histogram2d\"}],\"histogram\":[{\"marker\":{\"pattern\":{\"fillmode\":\"overlay\",\"size\":10,\"solidity\":0.2}},\"type\":\"histogram\"}],\"mesh3d\":[{\"colorbar\":{\"outlinewidth\":0,\"ticks\":\"\"},\"type\":\"mesh3d\"}],\"parcoords\":[{\"line\":{\"colorbar\":{\"outlinewidth\":0,\"ticks\":\"\"}},\"type\":\"parcoords\"}],\"pie\":[{\"automargin\":true,\"type\":\"pie\"}],\"scatter3d\":[{\"line\":{\"colorbar\":{\"outlinewidth\":0,\"ticks\":\"\"}},\"marker\":{\"colorbar\":{\"outlinewidth\":0,\"ticks\":\"\"}},\"type\":\"scatter3d\"}],\"scattercarpet\":[{\"marker\":{\"colorbar\":{\"outlinewidth\":0,\"ticks\":\"\"}},\"type\":\"scattercarpet\"}],\"scattergeo\":[{\"marker\":{\"colorbar\":{\"outlinewidth\":0,\"ticks\":\"\"}},\"type\":\"scattergeo\"}],\"scattergl\":[{\"marker\":{\"colorbar\":{\"outlinewidth\":0,\"ticks\":\"\"}},\"type\":\"scattergl\"}],\"scattermapbox\":[{\"marker\":{\"colorbar\":{\"outlinewidth\":0,\"ticks\":\"\"}},\"type\":\"scattermapbox\"}],\"scatterpolargl\":[{\"marker\":{\"colorbar\":{\"outlinewidth\":0,\"ticks\":\"\"}},\"type\":\"scatterpolargl\"}],\"scatterpolar\":[{\"marker\":{\"colorbar\":{\"outlinewidth\":0,\"ticks\":\"\"}},\"type\":\"scatterpolar\"}],\"scatter\":[{\"fillpattern\":{\"fillmode\":\"overlay\",\"size\":10,\"solidity\":0.2},\"type\":\"scatter\"}],\"scatterternary\":[{\"marker\":{\"colorbar\":{\"outlinewidth\":0,\"ticks\":\"\"}},\"type\":\"scatterternary\"}],\"surface\":[{\"colorbar\":{\"outlinewidth\":0,\"ticks\":\"\"},\"colorscale\":[[0.0,\"#0d0887\"],[0.1111111111111111,\"#46039f\"],[0.2222222222222222,\"#7201a8\"],[0.3333333333333333,\"#9c179e\"],[0.4444444444444444,\"#bd3786\"],[0.5555555555555556,\"#d8576b\"],[0.6666666666666666,\"#ed7953\"],[0.7777777777777778,\"#fb9f3a\"],[0.8888888888888888,\"#fdca26\"],[1.0,\"#f0f921\"]],\"type\":\"surface\"}],\"table\":[{\"cells\":{\"fill\":{\"color\":\"#EBF0F8\"},\"line\":{\"color\":\"white\"}},\"header\":{\"fill\":{\"color\":\"#C8D4E3\"},\"line\":{\"color\":\"white\"}},\"type\":\"table\"}]},\"layout\":{\"annotationdefaults\":{\"arrowcolor\":\"#2a3f5f\",\"arrowhead\":0,\"arrowwidth\":1},\"autotypenumbers\":\"strict\",\"coloraxis\":{\"colorbar\":{\"outlinewidth\":0,\"ticks\":\"\"}},\"colorscale\":{\"diverging\":[[0,\"#8e0152\"],[0.1,\"#c51b7d\"],[0.2,\"#de77ae\"],[0.3,\"#f1b6da\"],[0.4,\"#fde0ef\"],[0.5,\"#f7f7f7\"],[0.6,\"#e6f5d0\"],[0.7,\"#b8e186\"],[0.8,\"#7fbc41\"],[0.9,\"#4d9221\"],[1,\"#276419\"]],\"sequential\":[[0.0,\"#0d0887\"],[0.1111111111111111,\"#46039f\"],[0.2222222222222222,\"#7201a8\"],[0.3333333333333333,\"#9c179e\"],[0.4444444444444444,\"#bd3786\"],[0.5555555555555556,\"#d8576b\"],[0.6666666666666666,\"#ed7953\"],[0.7777777777777778,\"#fb9f3a\"],[0.8888888888888888,\"#fdca26\"],[1.0,\"#f0f921\"]],\"sequentialminus\":[[0.0,\"#0d0887\"],[0.1111111111111111,\"#46039f\"],[0.2222222222222222,\"#7201a8\"],[0.3333333333333333,\"#9c179e\"],[0.4444444444444444,\"#bd3786\"],[0.5555555555555556,\"#d8576b\"],[0.6666666666666666,\"#ed7953\"],[0.7777777777777778,\"#fb9f3a\"],[0.8888888888888888,\"#fdca26\"],[1.0,\"#f0f921\"]]},\"colorway\":[\"#636efa\",\"#EF553B\",\"#00cc96\",\"#ab63fa\",\"#FFA15A\",\"#19d3f3\",\"#FF6692\",\"#B6E880\",\"#FF97FF\",\"#FECB52\"],\"font\":{\"color\":\"#2a3f5f\"},\"geo\":{\"bgcolor\":\"white\",\"lakecolor\":\"white\",\"landcolor\":\"white\",\"showlakes\":true,\"showland\":true,\"subunitcolor\":\"#C8D4E3\"},\"hoverlabel\":{\"align\":\"left\"},\"hovermode\":\"closest\",\"mapbox\":{\"style\":\"light\"},\"paper_bgcolor\":\"white\",\"plot_bgcolor\":\"white\",\"polar\":{\"angularaxis\":{\"gridcolor\":\"#EBF0F8\",\"linecolor\":\"#EBF0F8\",\"ticks\":\"\"},\"bgcolor\":\"white\",\"radialaxis\":{\"gridcolor\":\"#EBF0F8\",\"linecolor\":\"#EBF0F8\",\"ticks\":\"\"}},\"scene\":{\"xaxis\":{\"backgroundcolor\":\"white\",\"gridcolor\":\"#DFE8F3\",\"gridwidth\":2,\"linecolor\":\"#EBF0F8\",\"showbackground\":true,\"ticks\":\"\",\"zerolinecolor\":\"#EBF0F8\"},\"yaxis\":{\"backgroundcolor\":\"white\",\"gridcolor\":\"#DFE8F3\",\"gridwidth\":2,\"linecolor\":\"#EBF0F8\",\"showbackground\":true,\"ticks\":\"\",\"zerolinecolor\":\"#EBF0F8\"},\"zaxis\":{\"backgroundcolor\":\"white\",\"gridcolor\":\"#DFE8F3\",\"gridwidth\":2,\"linecolor\":\"#EBF0F8\",\"showbackground\":true,\"ticks\":\"\",\"zerolinecolor\":\"#EBF0F8\"}},\"shapedefaults\":{\"line\":{\"color\":\"#2a3f5f\"}},\"ternary\":{\"aaxis\":{\"gridcolor\":\"#DFE8F3\",\"linecolor\":\"#A2B1C6\",\"ticks\":\"\"},\"baxis\":{\"gridcolor\":\"#DFE8F3\",\"linecolor\":\"#A2B1C6\",\"ticks\":\"\"},\"bgcolor\":\"white\",\"caxis\":{\"gridcolor\":\"#DFE8F3\",\"linecolor\":\"#A2B1C6\",\"ticks\":\"\"}},\"title\":{\"x\":0.05},\"xaxis\":{\"automargin\":true,\"gridcolor\":\"#EBF0F8\",\"linecolor\":\"#EBF0F8\",\"ticks\":\"\",\"title\":{\"standoff\":15},\"zerolinecolor\":\"#EBF0F8\",\"zerolinewidth\":2},\"yaxis\":{\"automargin\":true,\"gridcolor\":\"#EBF0F8\",\"linecolor\":\"#EBF0F8\",\"ticks\":\"\",\"title\":{\"standoff\":15},\"zerolinecolor\":\"#EBF0F8\",\"zerolinewidth\":2}}},\"scene\":{\"domain\":{\"x\":[0.0,1.0],\"y\":[0.0,1.0]},\"xaxis\":{\"title\":{\"text\":\"Gradient time / minutes\",\"font\":{\"size\":15}},\"tickfont\":{\"color\":\"black\",\"size\":14},\"ticks\":\"outside\",\"tick0\":0,\"tickwidth\":4},\"yaxis\":{\"title\":{\"text\":\"Initial organic modifier (%)\",\"font\":{\"size\":15}},\"tickfont\":{\"color\":\"black\",\"size\":14},\"ticks\":\"outside\",\"tick0\":0,\"tickwidth\":4},\"zaxis\":{\"title\":{\"text\":\"Isocratic hold time / minutes\",\"font\":{\"size\":15}},\"tickfont\":{\"color\":\"black\",\"size\":14},\"ticks\":\"outside\",\"tick0\":0,\"tickwidth\":4},\"camera\":{\"eye\":{\"x\":-1.8673042307711347,\"y\":-1.7813407618263895,\"z\":0.3}},\"aspectmode\":\"cube\"},\"coloraxis\":{\"colorbar\":{\"title\":{\"text\":\"R\",\"font\":{\"size\":20}},\"tickfont\":{\"size\":20},\"thickness\":20,\"dtick\":0.05,\"ticks\":\"outside\",\"tickwidth\":2,\"tickmode\":\"array\",\"tickvals\":[0.02,0.05,0.1,0.15,0.2,0.25],\"ticktext\":[\"0.02 (Best)\",\"0.05\",\"0.10\",\"0.15\",\"0.20\",\"0.25 (Worst)\"]},\"colorscale\":[[0.0,\"rgb(181, 222, 43)\"],[0.125,\"rgb(110, 206, 88)\"],[0.25,\"rgb(53, 183, 121)\"],[0.375,\"rgb(31, 158, 137)\"],[0.5,\"rgb(38, 130, 142)\"],[0.625,\"rgb(49, 104, 142)\"],[0.75,\"rgb(62, 73, 137)\"],[0.875,\"rgb(72, 40, 120)\"],[1.0,\"rgb(68, 1, 84)\"]],\"cmin\":0.015,\"cmax\":0.255,\"showscale\":false},\"legend\":{\"title\":{\"text\":\"repeatNumb\"},\"tracegroupgap\":0},\"margin\":{\"t\":60},\"showlegend\":false,\"autosize\":false,\"width\":1000,\"height\":800},                        {\"responsive\": true}                    ).then(function(){\n",
       "                            \n",
       "var gd = document.getElementById('7be16175-eedc-4f1d-aba7-0fc9bc9410e2');\n",
       "var x = new MutationObserver(function (mutations, observer) {{\n",
       "        var display = window.getComputedStyle(gd).display;\n",
       "        if (!display || display === 'none') {{\n",
       "            console.log([gd, 'removed!']);\n",
       "            Plotly.purge(gd);\n",
       "            observer.disconnect();\n",
       "        }}\n",
       "}});\n",
       "\n",
       "// Listen for the removal of the full notebook cells\n",
       "var notebookContainer = gd.closest('#notebook-container');\n",
       "if (notebookContainer) {{\n",
       "    x.observe(notebookContainer, {childList: true});\n",
       "}}\n",
       "\n",
       "// Listen for the clearing of the current output cell\n",
       "var outputEl = gd.closest('.output');\n",
       "if (outputEl) {{\n",
       "    x.observe(outputEl, {childList: true});\n",
       "}}\n",
       "\n",
       "                        })                };                });            </script>        </div>"
      ]
     },
     "metadata": {},
     "output_type": "display_data"
    }
   ],
   "source": [
    "#Figure 4. Design space for Optimisation 2\n",
    "\n",
    "colorscale = ['rgb(68, 1, 84)', 'rgb(72, 40, 120)', 'rgb(62, 73, 137)', 'rgb(49, 104, 142)', 'rgb(38, 130, 142)', 'rgb(31, 158, 137)', 'rgb(53, 183, 121)', 'rgb(110, 206, 88)', 'rgb(181, 222, 43)']\n",
    "colorscale.reverse()\n",
    "colorscale = pc.make_colorscale(colorscale)\n",
    "\n",
    "def rotate_z(x, y, z, theta):\n",
    "    w = x+1j*y\n",
    "    return np.real(np.exp(1j*theta)*w), np.imag(np.exp(1j*theta)*w), z\n",
    "\n",
    "allVars12 = variables2.iloc[0:40,:]\n",
    "\n",
    "xe, ye, ze = rotate_z(2.1, 1.5, 0.3, -3)\n",
    "fig = px.scatter_3d(allVars12, x = \"GradTime\", y = \"InitalOM\", z = \"IsoHoldTime\", color = \"WeightRespcmtmdHPLC018\", symbol = \"repeatNumb\",color_continuous_scale=colorscale, labels={'GradTime':'Gradient time / minutes', 'InitalOM':'Initial organic modifier (%)',\n",
    "'IsoHoldTime':'Isocratic hold time / minutes', 'WeightRespcmtmdHPLC018':\"Responce\"})\n",
    "\n",
    "# Generate a pair of 3D points that corrispond to the line being drawn\n",
    "xyzList = allVars12.iloc[:,[0,1,4]]\n",
    "bottomList = allVars12.iloc[:,[0,1,4]]\n",
    "bottomList.loc[:,\"IsoHoldTime\"] = -1;\n",
    "\n",
    "x = pd.concat([xyzList.iloc[:,0],bottomList.iloc[:,0]], axis = 1)\n",
    "y = pd.concat([xyzList.iloc[:,1],bottomList.iloc[:,1]], axis = 1)\n",
    "z = pd.concat([xyzList.iloc[:,2],bottomList.iloc[:,2]], axis = 1)\n",
    "\n",
    "x_lines = list()\n",
    "y_lines = list()\n",
    "z_lines = list()\n",
    "\n",
    "#create the coordinate list for the lines\n",
    "for p in range(0, len(x)):\n",
    "    x_lines.append(x.iloc[p, 0])\n",
    "    x_lines.append(x.iloc[p, 1])\n",
    "    y_lines.append(y.iloc[p, 0])\n",
    "    y_lines.append(y.iloc[p, 1])\n",
    "    z_lines.append(z.iloc[p, 0])\n",
    "    z_lines.append(z.iloc[p, 1])\n",
    "    x_lines.append(None)\n",
    "    y_lines.append(None)\n",
    "    z_lines.append(None)\n",
    "    \n",
    "fig.add_trace(go.Scatter3d(\n",
    "                x=x_lines,\n",
    "                y=y_lines,\n",
    "                z=z_lines,\n",
    "                mode='lines',\n",
    "                line = dict( color = \"grey\", width= 1, dash = 'solid')\n",
    "                ))\n",
    "\n",
    "\n",
    "fig.add_trace(go.Scatter3d(\n",
    "                x = allVars12.iloc[0:40,0], \n",
    "                y = allVars12.iloc[0:40,1],\n",
    "                z = allVars12.iloc[0:40,4], \n",
    "                mode='markers',\n",
    "                marker_symbol=\"diamond\",\n",
    "                marker=dict(\n",
    "                    size=12,\n",
    "                    color=\"black\",                # set color to an array/list of desired value\n",
    "                    )\n",
    "                ))\n",
    "#Add the optimal point\n",
    "\n",
    "# fig.add_trace(\n",
    "#     go.Scatter3d(\n",
    "#     mode='markers',\n",
    "#         x=[optPoints.iloc[1,0]],\n",
    "#         y=[optPoints.iloc[1,1]],\n",
    "#         z=[optPoints.iloc[1,2]],\n",
    "#         marker=dict(\n",
    "#             color=\"red\",\n",
    "#             size=5,\n",
    "#             symbol = 'x'\n",
    "#         )\n",
    "# ))\n",
    "\n",
    "camera = dict(eye=dict(x=xe, y=ye, z=ze))\n",
    "fig.update_layout(scene=dict(camera=camera,aspectmode='cube'),showlegend=True)\n",
    "fig.update_traces(marker_size=8)\n",
    "fig.update_coloraxes(colorscale=colorscale,\n",
    "                    cmin = 0.015,\n",
    "                    cmax = 0.255,\n",
    "                    colorbar_title_text = \"R\",\n",
    "                    colorbar_thickness = 20,\n",
    "                    colorbar_dtick = 0.05,\n",
    "                    colorbar_ticks = 'outside',\n",
    "                    colorbar_tickwidth = 2,\n",
    "                    colorbar_tickmode = 'array',\n",
    "                    colorbar_tickvals = [0.02, 0.05, 0.10, 0.15, 0.20, 0.25],\n",
    "                    colorbar_ticktext = ['0.02 (Best)', '0.05', '0.10', '0.15', '0.20', '0.25 (Worst)'],\n",
    "                    colorbar_tickfont_size=20,\n",
    "                    colorbar_titlefont_size = 20)\n",
    "\n",
    "fontLayoutX = dict(\n",
    "                    tickfont=dict(\n",
    "                    color='black',\n",
    "                    size=14),ticks='outside',tick0=0, tickwidth=4, title = dict(font = dict(size=15)))\n",
    "\n",
    "fontLayoutY = dict(\n",
    "                    tickfont=dict(\n",
    "                    color='black',\n",
    "                    size=14),ticks='outside',tick0=0, tickwidth=4, title = dict(font = dict(size=15)))\n",
    "fontLayoutZ = dict(\n",
    "                    tickfont=dict(\n",
    "                    color='black',\n",
    "                    size=14),ticks='outside',tick0=0, tickwidth=4, title = dict(font = dict(size=15)))\n",
    "\n",
    "fig.update_layout(\n",
    "    scene1 = dict(\n",
    "                        xaxis = fontLayoutX,\n",
    "                        yaxis = fontLayoutY,\n",
    "                        zaxis = fontLayoutZ\n",
    "                     ))\n",
    "\n",
    "fig.data[0].marker.symbol = 'square'\n",
    "fig.data[0].marker.size = 7\n",
    "fig.data[2].marker.symbol = 'square'\n",
    "fig.data[2].marker.size = 9\n",
    "\n",
    "fig.update_layout(template='plotly_white',\n",
    "autosize=False,\n",
    "width=1000,\n",
    "height=800,\n",
    "showlegend=False\n",
    "                 )\n",
    "\n",
    "fig.update_coloraxes(showscale=False)\n",
    "\n",
    "fig['data'] = (fig['data'][1:] + fig['data'][:1])\n",
    "\n",
    "fig.show()\n",
    "\n",
    "import plotly.io as pio\n",
    "pio.write_image(fig, 'Optimisation2DesignSpace.jpg', scale=4, width=1000, height=800)"
   ]
  },
  {
   "cell_type": "code",
   "execution_count": 15,
   "metadata": {},
   "outputs": [
    {
     "name": "stderr",
     "output_type": "stream",
     "text": [
      "C:\\Users\\Thoma\\AppData\\Local\\Temp\\ipykernel_7416\\2106854450.py:20: SettingWithCopyWarning:\n",
      "\n",
      "\n",
      "A value is trying to be set on a copy of a slice from a DataFrame.\n",
      "Try using .loc[row_indexer,col_indexer] = value instead\n",
      "\n",
      "See the caveats in the documentation: https://pandas.pydata.org/pandas-docs/stable/user_guide/indexing.html#returning-a-view-versus-a-copy\n",
      "\n",
      "C:\\Users\\Thoma\\AppData\\Local\\Temp\\ipykernel_7416\\2106854450.py:20: FutureWarning:\n",
      "\n",
      "In a future version, `df.iloc[:, i] = newvals` will attempt to set the values inplace instead of always setting a new array. To retain the old behavior, use either `df[df.columns[i]] = newvals` or, if columns are non-unique, `df.isetitem(i, newvals)`\n",
      "\n"
     ]
    },
    {
     "data": {
      "application/vnd.plotly.v1+json": {
       "config": {
        "plotlyServerURL": "https://plot.ly"
       },
       "data": [
        {
         "line": {
          "color": "grey",
          "dash": "solid",
          "width": 1
         },
         "marker": {
          "size": 8
         },
         "mode": "lines",
         "type": "scatter3d",
         "x": [
          1.34,
          1.34,
          null,
          8.2,
          8.2,
          null,
          9.46,
          9.46,
          null,
          6.41,
          6.41,
          null,
          4.92,
          4.92,
          null,
          3.5,
          3.5,
          null,
          3.64,
          3.64,
          null,
          9.75557151215127,
          9.75557151215127,
          null,
          6.95216208622554,
          6.95216208622554,
          null,
          4.87879447197725,
          4.87879447197725,
          null,
          9.99932504672531,
          9.99932504672531,
          null,
          7.10923069806931,
          7.10923069806931,
          null,
          9.36122217454197,
          9.36122217454197,
          null,
          5.67023237412144,
          5.67023237412144,
          null,
          6.75735387412747,
          6.75735387412747,
          null,
          7.51852818725445,
          7.51852818725445,
          null,
          1.00002857610788,
          1.00002857610788,
          null,
          6.48573195299114,
          6.48573195299114,
          null,
          9.9972093775344,
          9.9972093775344,
          null,
          9.98204663735152,
          9.98204663735152,
          null,
          1.00158422025517,
          1.00158422025517,
          null,
          9.99888413308351,
          9.99888413308351,
          null,
          4.89284329222533,
          4.89284329222533,
          null,
          1.0014828530646,
          1.0014828530646,
          null,
          9.9999680190801,
          9.9999680190801,
          null,
          9.99998664552089,
          9.99998664552089,
          null,
          9.93764271481863,
          9.93764271481863,
          null,
          6.95957863764426,
          6.95957863764426,
          null,
          9.99999343535462,
          9.99999343535462,
          null,
          1.00024501326256,
          1.00024501326256,
          null,
          9.99990653203398,
          9.99990653203398,
          null,
          2.69832772502164,
          2.69832772502164,
          null,
          9.99964972109416,
          9.99964972109416,
          null,
          9.99998520886761,
          9.99998520886761,
          null,
          9.99990648820086,
          9.99990648820086,
          null,
          3.00796400356417,
          3.00796400356417,
          null,
          9.99773551663804,
          9.99773551663804,
          null,
          8.0126887492763,
          8.0126887492763,
          null,
          1.0725893041184,
          1.0725893041184,
          null,
          6.03398468026847,
          6.03398468026847,
          null
         ],
         "y": [
          29.31,
          29.31,
          null,
          47.98,
          47.98,
          null,
          27.32,
          27.32,
          null,
          18.41,
          18.41,
          null,
          58.65,
          58.65,
          null,
          12.67,
          12.67,
          null,
          43.47,
          43.47,
          null,
          32.569540220637,
          32.569540220637,
          null,
          30.8200895472036,
          30.8200895472036,
          null,
          31.1206548867625,
          31.1206548867625,
          null,
          31.3832005439938,
          31.3832005439938,
          null,
          31.4207797720755,
          31.4207797720755,
          null,
          31.403608579416,
          31.403608579416,
          null,
          34.1834657978798,
          34.1834657978798,
          null,
          31.43731249032,
          31.43731249032,
          null,
          31.285976997213,
          31.285976997213,
          null,
          25.394304415543,
          25.394304415543,
          null,
          31.0296478382013,
          31.0296478382013,
          null,
          29.0350581487648,
          29.0350581487648,
          null,
          36.4228815799508,
          36.4228815799508,
          null,
          34.3943984143333,
          34.3943984143333,
          null,
          5.00035076608154,
          5.00035076608154,
          null,
          29.0450778740098,
          29.0450778740098,
          null,
          32.9199703629445,
          32.9199703629445,
          null,
          22.5528141783764,
          22.5528141783764,
          null,
          37.407693731407,
          37.407693731407,
          null,
          34.2744213893147,
          34.2744213893147,
          null,
          33.4142200944823,
          33.4142200944823,
          null,
          15.5329791455094,
          15.5329791455094,
          null,
          53.3700829284159,
          53.3700829284159,
          null,
          28.8378376180549,
          28.8378376180549,
          null,
          30.4775204505928,
          30.4775204505928,
          null,
          28.311961580136,
          28.311961580136,
          null,
          33.605622135204,
          33.605622135204,
          null,
          31.424432740924,
          31.424432740924,
          null,
          26.3912994920124,
          26.3912994920124,
          null,
          24.3209315533701,
          24.3209315533701,
          null,
          30.5053138008198,
          30.5053138008198,
          null,
          59.948950254521,
          59.948950254521,
          null,
          28.5676154710362,
          28.5676154710362,
          null
         ],
         "z": [
          9.34,
          -1,
          null,
          8.47,
          -1,
          null,
          6.68,
          -1,
          null,
          5.28,
          -1,
          null,
          1.58,
          -1,
          null,
          0.98,
          -1,
          null,
          4.06,
          -1,
          null,
          4.96329960517093e-06,
          -1,
          null,
          4.764046444e-05,
          -1,
          null,
          1.94771900561909e-07,
          -1,
          null,
          2.55843764542887e-08,
          -1,
          null,
          7.47992848357302e-08,
          -1,
          null,
          9.12493168837654e-06,
          -1,
          null,
          7.51547638880138,
          -1,
          null,
          0.00023753106184348,
          -1,
          null,
          9.9993213833633,
          -1,
          null,
          0.000255463771029626,
          -1,
          null,
          3.77132755809506,
          -1,
          null,
          0.00377063983260957,
          -1,
          null,
          0.00092002057456,
          -1,
          null,
          0.000552318971373026,
          -1,
          null,
          9.99317781024295,
          -1,
          null,
          6.68567028564306e-05,
          -1,
          null,
          9.99153869361555,
          -1,
          null,
          9.99987137465272,
          -1,
          null,
          9.99999782147058,
          -1,
          null,
          0.0143527629425695,
          -1,
          null,
          0.000172448868869252,
          -1,
          null,
          9.99987647596831,
          -1,
          null,
          8.37625765332029e-05,
          -1,
          null,
          9.99900108044357,
          -1,
          null,
          6.86458369033765,
          -1,
          null,
          3.18999596780937,
          -1,
          null,
          2.33898116611371,
          -1,
          null,
          5.90520474106385,
          -1,
          null,
          6.07280812612789,
          -1,
          null,
          4.27679471959504,
          -1,
          null,
          1.52885750457367,
          -1,
          null,
          9.9947856763125,
          -1,
          null,
          5.30463953100212,
          -1,
          null
         ]
        },
        {
         "marker": {
          "color": "black",
          "size": 9,
          "symbol": "circle"
         },
         "mode": "markers",
         "type": "scatter3d",
         "x": [
          1.34,
          8.2,
          9.46,
          6.41,
          4.92,
          3.5,
          3.64,
          9.75557151215127,
          6.95216208622554,
          4.87879447197725,
          9.99932504672531,
          7.10923069806931,
          9.36122217454197,
          5.67023237412144,
          6.75735387412747,
          7.51852818725445,
          1.00002857610788,
          6.48573195299114,
          9.9972093775344,
          9.98204663735152,
          1.00158422025517,
          9.99888413308351,
          4.89284329222533,
          1.0014828530646,
          9.9999680190801,
          9.99998664552089,
          9.93764271481863,
          6.95957863764426,
          9.99999343535462,
          1.00024501326256,
          9.99990653203398,
          2.69832772502164,
          9.99964972109416,
          9.99998520886761,
          9.99990648820086,
          3.00796400356417,
          9.99773551663804,
          8.0126887492763,
          1.0725893041184,
          6.03398468026847
         ],
         "y": [
          29.31,
          47.98,
          27.32,
          18.41,
          58.65,
          12.67,
          43.47,
          32.569540220637,
          30.8200895472036,
          31.1206548867625,
          31.3832005439938,
          31.4207797720755,
          31.403608579416,
          34.1834657978798,
          31.43731249032,
          31.285976997213,
          25.394304415543,
          31.0296478382013,
          29.0350581487648,
          36.4228815799508,
          34.3943984143333,
          5.00035076608154,
          29.0450778740098,
          32.9199703629445,
          22.5528141783764,
          37.407693731407,
          34.2744213893147,
          33.4142200944823,
          15.5329791455094,
          53.3700829284159,
          28.8378376180549,
          30.4775204505928,
          28.311961580136,
          33.605622135204,
          31.424432740924,
          26.3912994920124,
          24.3209315533701,
          30.5053138008198,
          59.948950254521,
          28.5676154710362
         ],
         "z": [
          9.34,
          8.47,
          6.68,
          5.28,
          1.58,
          0.98,
          4.06,
          4.96329960517093e-06,
          4.764046444e-05,
          1.94771900561909e-07,
          2.55843764542887e-08,
          7.47992848357302e-08,
          9.12493168837654e-06,
          7.51547638880138,
          0.00023753106184348,
          9.9993213833633,
          0.000255463771029626,
          3.77132755809506,
          0.00377063983260957,
          0.00092002057456,
          0.000552318971373026,
          9.99317781024295,
          6.68567028564306e-05,
          9.99153869361555,
          9.99987137465272,
          9.99999782147058,
          0.0143527629425695,
          0.000172448868869252,
          9.99987647596831,
          8.37625765332029e-05,
          9.99900108044357,
          6.86458369033765,
          3.18999596780937,
          2.33898116611371,
          5.90520474106385,
          6.07280812612789,
          4.27679471959504,
          1.52885750457367,
          9.9947856763125,
          5.30463953100212
         ]
        },
        {
         "hovertemplate": "repeatNumb=3<br>Gradient time / minutes=%{x}<br>Initial organic modifier (%)=%{y}<br>Isocratic hold time / minutes=%{z}<br>Responce=%{marker.color}<extra></extra>",
         "legendgroup": "3",
         "marker": {
          "color": [
           0.0527260524586048,
           0.266014244340562,
           0.059841256330415,
           0.134996556235561,
           0.200017739607895,
           0.213249964368633,
           0.207033272633025,
           0.0278327748293598,
           0.0237518346622498,
           0.0289490960732238,
           0.0287552509682485,
           0.0238652445574252,
           0.0277214446766914,
           0.0532861875152808,
           0.0232171231774126,
           0.0686121225721589,
           0.188127373394095,
           0.0395212282948735,
           0.0347556540206464,
           0.0761964700804368,
           0.0920479650157896,
           0.253889393624272,
           0.0499867800715678,
           0.05430771848968,
           0.175363927911189,
           0.136447286547665,
           0.0273226682579141,
           0.0229858612168506,
           0.165509213381802,
           0.167131390322232,
           0.159822498510793,
           0.0452936265969812,
           0.0442504584205483,
           0.0377800887345995,
           0.0545472388696688,
           0.0600872800819582,
           0.109057417797279,
           0.0325274065680326,
           0.206570147577023,
           0.0462087464990278
          ],
          "coloraxis": "coloraxis",
          "size": 7,
          "symbol": "circle"
         },
         "mode": "markers",
         "name": "3",
         "scene": "scene",
         "showlegend": true,
         "type": "scatter3d",
         "x": [
          1.34,
          8.2,
          9.46,
          6.41,
          4.92,
          3.5,
          3.64,
          9.75557151215127,
          6.95216208622554,
          4.87879447197725,
          9.99932504672531,
          7.10923069806931,
          9.36122217454197,
          5.67023237412144,
          6.75735387412747,
          7.51852818725445,
          1.00002857610788,
          6.48573195299114,
          9.9972093775344,
          9.98204663735152,
          1.00158422025517,
          9.99888413308351,
          4.89284329222533,
          1.0014828530646,
          9.9999680190801,
          9.99998664552089,
          9.93764271481863,
          6.95957863764426,
          9.99999343535462,
          1.00024501326256,
          9.99990653203398,
          2.69832772502164,
          9.99964972109416,
          9.99998520886761,
          9.99990648820086,
          3.00796400356417,
          9.99773551663804,
          8.0126887492763,
          1.0725893041184,
          6.03398468026847
         ],
         "y": [
          29.31,
          47.98,
          27.32,
          18.41,
          58.65,
          12.67,
          43.47,
          32.569540220637,
          30.8200895472036,
          31.1206548867625,
          31.3832005439938,
          31.4207797720755,
          31.403608579416,
          34.1834657978798,
          31.43731249032,
          31.285976997213,
          25.394304415543,
          31.0296478382013,
          29.0350581487648,
          36.4228815799508,
          34.3943984143333,
          5.00035076608154,
          29.0450778740098,
          32.9199703629445,
          22.5528141783764,
          37.407693731407,
          34.2744213893147,
          33.4142200944823,
          15.5329791455094,
          53.3700829284159,
          28.8378376180549,
          30.4775204505928,
          28.311961580136,
          33.605622135204,
          31.424432740924,
          26.3912994920124,
          24.3209315533701,
          30.5053138008198,
          59.948950254521,
          28.5676154710362
         ],
         "z": [
          9.34,
          8.47,
          6.68,
          5.28,
          1.58,
          0.98,
          4.06,
          4.96329960517093e-06,
          4.764046444e-05,
          1.94771900561909e-07,
          2.55843764542887e-08,
          7.47992848357302e-08,
          9.12493168837654e-06,
          7.51547638880138,
          0.00023753106184348,
          9.9993213833633,
          0.000255463771029626,
          3.77132755809506,
          0.00377063983260957,
          0.00092002057456,
          0.000552318971373026,
          9.99317781024295,
          6.68567028564306e-05,
          9.99153869361555,
          9.99987137465272,
          9.99999782147058,
          0.0143527629425695,
          0.000172448868869252,
          9.99987647596831,
          8.37625765332029e-05,
          9.99900108044357,
          6.86458369033765,
          3.18999596780937,
          2.33898116611371,
          5.90520474106385,
          6.07280812612789,
          4.27679471959504,
          1.52885750457367,
          9.9947856763125,
          5.30463953100212
         ]
        }
       ],
       "layout": {
        "autosize": false,
        "coloraxis": {
         "cmax": 0.255,
         "cmin": 0.015,
         "colorbar": {
          "dtick": 0.05,
          "thickness": 20,
          "tickfont": {
           "size": 20
          },
          "tickmode": "array",
          "ticks": "outside",
          "ticktext": [
           "0.02 (Best)",
           "0.05",
           "0.10",
           "0.15",
           "0.20",
           "0.25 (Worst)"
          ],
          "tickvals": [
           0.02,
           0.05,
           0.1,
           0.15,
           0.2,
           0.25
          ],
          "tickwidth": 2,
          "title": {
           "font": {
            "size": 20
           },
           "text": "R"
          }
         },
         "colorscale": [
          [
           0,
           "rgb(181, 222, 43)"
          ],
          [
           0.125,
           "rgb(110, 206, 88)"
          ],
          [
           0.25,
           "rgb(53, 183, 121)"
          ],
          [
           0.375,
           "rgb(31, 158, 137)"
          ],
          [
           0.5,
           "rgb(38, 130, 142)"
          ],
          [
           0.625,
           "rgb(49, 104, 142)"
          ],
          [
           0.75,
           "rgb(62, 73, 137)"
          ],
          [
           0.875,
           "rgb(72, 40, 120)"
          ],
          [
           1,
           "rgb(68, 1, 84)"
          ]
         ],
         "showscale": false
        },
        "height": 800,
        "legend": {
         "title": {
          "text": "repeatNumb"
         },
         "tracegroupgap": 0
        },
        "margin": {
         "t": 60
        },
        "scene": {
         "aspectmode": "cube",
         "camera": {
          "eye": {
           "x": -1.8673042307711347,
           "y": -1.7813407618263895,
           "z": 0.3
          }
         },
         "domain": {
          "x": [
           0,
           1
          ],
          "y": [
           0,
           1
          ]
         },
         "xaxis": {
          "tick0": 0,
          "tickfont": {
           "color": "black",
           "size": 14
          },
          "ticks": "outside",
          "tickwidth": 4,
          "title": {
           "font": {
            "size": 15
           },
           "text": "Gradient time / minutes"
          }
         },
         "yaxis": {
          "tick0": 0,
          "tickfont": {
           "color": "black",
           "size": 14
          },
          "ticks": "outside",
          "tickwidth": 4,
          "title": {
           "font": {
            "size": 15
           },
           "text": "Initial organic modifier (%)"
          }
         },
         "zaxis": {
          "tick0": 0,
          "tickfont": {
           "color": "black",
           "size": 14
          },
          "ticks": "outside",
          "tickwidth": 4,
          "title": {
           "font": {
            "size": 15
           },
           "text": "Isocratic hold time / minutes"
          }
         }
        },
        "showlegend": false,
        "template": {
         "data": {
          "bar": [
           {
            "error_x": {
             "color": "#2a3f5f"
            },
            "error_y": {
             "color": "#2a3f5f"
            },
            "marker": {
             "line": {
              "color": "white",
              "width": 0.5
             },
             "pattern": {
              "fillmode": "overlay",
              "size": 10,
              "solidity": 0.2
             }
            },
            "type": "bar"
           }
          ],
          "barpolar": [
           {
            "marker": {
             "line": {
              "color": "white",
              "width": 0.5
             },
             "pattern": {
              "fillmode": "overlay",
              "size": 10,
              "solidity": 0.2
             }
            },
            "type": "barpolar"
           }
          ],
          "carpet": [
           {
            "aaxis": {
             "endlinecolor": "#2a3f5f",
             "gridcolor": "#C8D4E3",
             "linecolor": "#C8D4E3",
             "minorgridcolor": "#C8D4E3",
             "startlinecolor": "#2a3f5f"
            },
            "baxis": {
             "endlinecolor": "#2a3f5f",
             "gridcolor": "#C8D4E3",
             "linecolor": "#C8D4E3",
             "minorgridcolor": "#C8D4E3",
             "startlinecolor": "#2a3f5f"
            },
            "type": "carpet"
           }
          ],
          "choropleth": [
           {
            "colorbar": {
             "outlinewidth": 0,
             "ticks": ""
            },
            "type": "choropleth"
           }
          ],
          "contour": [
           {
            "colorbar": {
             "outlinewidth": 0,
             "ticks": ""
            },
            "colorscale": [
             [
              0,
              "#0d0887"
             ],
             [
              0.1111111111111111,
              "#46039f"
             ],
             [
              0.2222222222222222,
              "#7201a8"
             ],
             [
              0.3333333333333333,
              "#9c179e"
             ],
             [
              0.4444444444444444,
              "#bd3786"
             ],
             [
              0.5555555555555556,
              "#d8576b"
             ],
             [
              0.6666666666666666,
              "#ed7953"
             ],
             [
              0.7777777777777778,
              "#fb9f3a"
             ],
             [
              0.8888888888888888,
              "#fdca26"
             ],
             [
              1,
              "#f0f921"
             ]
            ],
            "type": "contour"
           }
          ],
          "contourcarpet": [
           {
            "colorbar": {
             "outlinewidth": 0,
             "ticks": ""
            },
            "type": "contourcarpet"
           }
          ],
          "heatmap": [
           {
            "colorbar": {
             "outlinewidth": 0,
             "ticks": ""
            },
            "colorscale": [
             [
              0,
              "#0d0887"
             ],
             [
              0.1111111111111111,
              "#46039f"
             ],
             [
              0.2222222222222222,
              "#7201a8"
             ],
             [
              0.3333333333333333,
              "#9c179e"
             ],
             [
              0.4444444444444444,
              "#bd3786"
             ],
             [
              0.5555555555555556,
              "#d8576b"
             ],
             [
              0.6666666666666666,
              "#ed7953"
             ],
             [
              0.7777777777777778,
              "#fb9f3a"
             ],
             [
              0.8888888888888888,
              "#fdca26"
             ],
             [
              1,
              "#f0f921"
             ]
            ],
            "type": "heatmap"
           }
          ],
          "heatmapgl": [
           {
            "colorbar": {
             "outlinewidth": 0,
             "ticks": ""
            },
            "colorscale": [
             [
              0,
              "#0d0887"
             ],
             [
              0.1111111111111111,
              "#46039f"
             ],
             [
              0.2222222222222222,
              "#7201a8"
             ],
             [
              0.3333333333333333,
              "#9c179e"
             ],
             [
              0.4444444444444444,
              "#bd3786"
             ],
             [
              0.5555555555555556,
              "#d8576b"
             ],
             [
              0.6666666666666666,
              "#ed7953"
             ],
             [
              0.7777777777777778,
              "#fb9f3a"
             ],
             [
              0.8888888888888888,
              "#fdca26"
             ],
             [
              1,
              "#f0f921"
             ]
            ],
            "type": "heatmapgl"
           }
          ],
          "histogram": [
           {
            "marker": {
             "pattern": {
              "fillmode": "overlay",
              "size": 10,
              "solidity": 0.2
             }
            },
            "type": "histogram"
           }
          ],
          "histogram2d": [
           {
            "colorbar": {
             "outlinewidth": 0,
             "ticks": ""
            },
            "colorscale": [
             [
              0,
              "#0d0887"
             ],
             [
              0.1111111111111111,
              "#46039f"
             ],
             [
              0.2222222222222222,
              "#7201a8"
             ],
             [
              0.3333333333333333,
              "#9c179e"
             ],
             [
              0.4444444444444444,
              "#bd3786"
             ],
             [
              0.5555555555555556,
              "#d8576b"
             ],
             [
              0.6666666666666666,
              "#ed7953"
             ],
             [
              0.7777777777777778,
              "#fb9f3a"
             ],
             [
              0.8888888888888888,
              "#fdca26"
             ],
             [
              1,
              "#f0f921"
             ]
            ],
            "type": "histogram2d"
           }
          ],
          "histogram2dcontour": [
           {
            "colorbar": {
             "outlinewidth": 0,
             "ticks": ""
            },
            "colorscale": [
             [
              0,
              "#0d0887"
             ],
             [
              0.1111111111111111,
              "#46039f"
             ],
             [
              0.2222222222222222,
              "#7201a8"
             ],
             [
              0.3333333333333333,
              "#9c179e"
             ],
             [
              0.4444444444444444,
              "#bd3786"
             ],
             [
              0.5555555555555556,
              "#d8576b"
             ],
             [
              0.6666666666666666,
              "#ed7953"
             ],
             [
              0.7777777777777778,
              "#fb9f3a"
             ],
             [
              0.8888888888888888,
              "#fdca26"
             ],
             [
              1,
              "#f0f921"
             ]
            ],
            "type": "histogram2dcontour"
           }
          ],
          "mesh3d": [
           {
            "colorbar": {
             "outlinewidth": 0,
             "ticks": ""
            },
            "type": "mesh3d"
           }
          ],
          "parcoords": [
           {
            "line": {
             "colorbar": {
              "outlinewidth": 0,
              "ticks": ""
             }
            },
            "type": "parcoords"
           }
          ],
          "pie": [
           {
            "automargin": true,
            "type": "pie"
           }
          ],
          "scatter": [
           {
            "fillpattern": {
             "fillmode": "overlay",
             "size": 10,
             "solidity": 0.2
            },
            "type": "scatter"
           }
          ],
          "scatter3d": [
           {
            "line": {
             "colorbar": {
              "outlinewidth": 0,
              "ticks": ""
             }
            },
            "marker": {
             "colorbar": {
              "outlinewidth": 0,
              "ticks": ""
             }
            },
            "type": "scatter3d"
           }
          ],
          "scattercarpet": [
           {
            "marker": {
             "colorbar": {
              "outlinewidth": 0,
              "ticks": ""
             }
            },
            "type": "scattercarpet"
           }
          ],
          "scattergeo": [
           {
            "marker": {
             "colorbar": {
              "outlinewidth": 0,
              "ticks": ""
             }
            },
            "type": "scattergeo"
           }
          ],
          "scattergl": [
           {
            "marker": {
             "colorbar": {
              "outlinewidth": 0,
              "ticks": ""
             }
            },
            "type": "scattergl"
           }
          ],
          "scattermapbox": [
           {
            "marker": {
             "colorbar": {
              "outlinewidth": 0,
              "ticks": ""
             }
            },
            "type": "scattermapbox"
           }
          ],
          "scatterpolar": [
           {
            "marker": {
             "colorbar": {
              "outlinewidth": 0,
              "ticks": ""
             }
            },
            "type": "scatterpolar"
           }
          ],
          "scatterpolargl": [
           {
            "marker": {
             "colorbar": {
              "outlinewidth": 0,
              "ticks": ""
             }
            },
            "type": "scatterpolargl"
           }
          ],
          "scatterternary": [
           {
            "marker": {
             "colorbar": {
              "outlinewidth": 0,
              "ticks": ""
             }
            },
            "type": "scatterternary"
           }
          ],
          "surface": [
           {
            "colorbar": {
             "outlinewidth": 0,
             "ticks": ""
            },
            "colorscale": [
             [
              0,
              "#0d0887"
             ],
             [
              0.1111111111111111,
              "#46039f"
             ],
             [
              0.2222222222222222,
              "#7201a8"
             ],
             [
              0.3333333333333333,
              "#9c179e"
             ],
             [
              0.4444444444444444,
              "#bd3786"
             ],
             [
              0.5555555555555556,
              "#d8576b"
             ],
             [
              0.6666666666666666,
              "#ed7953"
             ],
             [
              0.7777777777777778,
              "#fb9f3a"
             ],
             [
              0.8888888888888888,
              "#fdca26"
             ],
             [
              1,
              "#f0f921"
             ]
            ],
            "type": "surface"
           }
          ],
          "table": [
           {
            "cells": {
             "fill": {
              "color": "#EBF0F8"
             },
             "line": {
              "color": "white"
             }
            },
            "header": {
             "fill": {
              "color": "#C8D4E3"
             },
             "line": {
              "color": "white"
             }
            },
            "type": "table"
           }
          ]
         },
         "layout": {
          "annotationdefaults": {
           "arrowcolor": "#2a3f5f",
           "arrowhead": 0,
           "arrowwidth": 1
          },
          "autotypenumbers": "strict",
          "coloraxis": {
           "colorbar": {
            "outlinewidth": 0,
            "ticks": ""
           }
          },
          "colorscale": {
           "diverging": [
            [
             0,
             "#8e0152"
            ],
            [
             0.1,
             "#c51b7d"
            ],
            [
             0.2,
             "#de77ae"
            ],
            [
             0.3,
             "#f1b6da"
            ],
            [
             0.4,
             "#fde0ef"
            ],
            [
             0.5,
             "#f7f7f7"
            ],
            [
             0.6,
             "#e6f5d0"
            ],
            [
             0.7,
             "#b8e186"
            ],
            [
             0.8,
             "#7fbc41"
            ],
            [
             0.9,
             "#4d9221"
            ],
            [
             1,
             "#276419"
            ]
           ],
           "sequential": [
            [
             0,
             "#0d0887"
            ],
            [
             0.1111111111111111,
             "#46039f"
            ],
            [
             0.2222222222222222,
             "#7201a8"
            ],
            [
             0.3333333333333333,
             "#9c179e"
            ],
            [
             0.4444444444444444,
             "#bd3786"
            ],
            [
             0.5555555555555556,
             "#d8576b"
            ],
            [
             0.6666666666666666,
             "#ed7953"
            ],
            [
             0.7777777777777778,
             "#fb9f3a"
            ],
            [
             0.8888888888888888,
             "#fdca26"
            ],
            [
             1,
             "#f0f921"
            ]
           ],
           "sequentialminus": [
            [
             0,
             "#0d0887"
            ],
            [
             0.1111111111111111,
             "#46039f"
            ],
            [
             0.2222222222222222,
             "#7201a8"
            ],
            [
             0.3333333333333333,
             "#9c179e"
            ],
            [
             0.4444444444444444,
             "#bd3786"
            ],
            [
             0.5555555555555556,
             "#d8576b"
            ],
            [
             0.6666666666666666,
             "#ed7953"
            ],
            [
             0.7777777777777778,
             "#fb9f3a"
            ],
            [
             0.8888888888888888,
             "#fdca26"
            ],
            [
             1,
             "#f0f921"
            ]
           ]
          },
          "colorway": [
           "#636efa",
           "#EF553B",
           "#00cc96",
           "#ab63fa",
           "#FFA15A",
           "#19d3f3",
           "#FF6692",
           "#B6E880",
           "#FF97FF",
           "#FECB52"
          ],
          "font": {
           "color": "#2a3f5f"
          },
          "geo": {
           "bgcolor": "white",
           "lakecolor": "white",
           "landcolor": "white",
           "showlakes": true,
           "showland": true,
           "subunitcolor": "#C8D4E3"
          },
          "hoverlabel": {
           "align": "left"
          },
          "hovermode": "closest",
          "mapbox": {
           "style": "light"
          },
          "paper_bgcolor": "white",
          "plot_bgcolor": "white",
          "polar": {
           "angularaxis": {
            "gridcolor": "#EBF0F8",
            "linecolor": "#EBF0F8",
            "ticks": ""
           },
           "bgcolor": "white",
           "radialaxis": {
            "gridcolor": "#EBF0F8",
            "linecolor": "#EBF0F8",
            "ticks": ""
           }
          },
          "scene": {
           "xaxis": {
            "backgroundcolor": "white",
            "gridcolor": "#DFE8F3",
            "gridwidth": 2,
            "linecolor": "#EBF0F8",
            "showbackground": true,
            "ticks": "",
            "zerolinecolor": "#EBF0F8"
           },
           "yaxis": {
            "backgroundcolor": "white",
            "gridcolor": "#DFE8F3",
            "gridwidth": 2,
            "linecolor": "#EBF0F8",
            "showbackground": true,
            "ticks": "",
            "zerolinecolor": "#EBF0F8"
           },
           "zaxis": {
            "backgroundcolor": "white",
            "gridcolor": "#DFE8F3",
            "gridwidth": 2,
            "linecolor": "#EBF0F8",
            "showbackground": true,
            "ticks": "",
            "zerolinecolor": "#EBF0F8"
           }
          },
          "shapedefaults": {
           "line": {
            "color": "#2a3f5f"
           }
          },
          "ternary": {
           "aaxis": {
            "gridcolor": "#DFE8F3",
            "linecolor": "#A2B1C6",
            "ticks": ""
           },
           "baxis": {
            "gridcolor": "#DFE8F3",
            "linecolor": "#A2B1C6",
            "ticks": ""
           },
           "bgcolor": "white",
           "caxis": {
            "gridcolor": "#DFE8F3",
            "linecolor": "#A2B1C6",
            "ticks": ""
           }
          },
          "title": {
           "x": 0.05
          },
          "xaxis": {
           "automargin": true,
           "gridcolor": "#EBF0F8",
           "linecolor": "#EBF0F8",
           "ticks": "",
           "title": {
            "standoff": 15
           },
           "zerolinecolor": "#EBF0F8",
           "zerolinewidth": 2
          },
          "yaxis": {
           "automargin": true,
           "gridcolor": "#EBF0F8",
           "linecolor": "#EBF0F8",
           "ticks": "",
           "title": {
            "standoff": 15
           },
           "zerolinecolor": "#EBF0F8",
           "zerolinewidth": 2
          }
         }
        },
        "width": 1000
       }
      },
      "text/html": [
       "<div>                            <div id=\"e5f85640-fea9-43c5-8a90-3bf04600b1bd\" class=\"plotly-graph-div\" style=\"height:800px; width:1000px;\"></div>            <script type=\"text/javascript\">                require([\"plotly\"], function(Plotly) {                    window.PLOTLYENV=window.PLOTLYENV || {};                                    if (document.getElementById(\"e5f85640-fea9-43c5-8a90-3bf04600b1bd\")) {                    Plotly.newPlot(                        \"e5f85640-fea9-43c5-8a90-3bf04600b1bd\",                        [{\"line\":{\"color\":\"grey\",\"dash\":\"solid\",\"width\":1},\"mode\":\"lines\",\"x\":[1.34,1.34,null,8.2,8.2,null,9.46,9.46,null,6.41,6.41,null,4.92,4.92,null,3.5,3.5,null,3.64,3.64,null,9.75557151215127,9.75557151215127,null,6.95216208622554,6.95216208622554,null,4.87879447197725,4.87879447197725,null,9.99932504672531,9.99932504672531,null,7.10923069806931,7.10923069806931,null,9.36122217454197,9.36122217454197,null,5.67023237412144,5.67023237412144,null,6.75735387412747,6.75735387412747,null,7.51852818725445,7.51852818725445,null,1.00002857610788,1.00002857610788,null,6.48573195299114,6.48573195299114,null,9.9972093775344,9.9972093775344,null,9.98204663735152,9.98204663735152,null,1.00158422025517,1.00158422025517,null,9.99888413308351,9.99888413308351,null,4.89284329222533,4.89284329222533,null,1.0014828530646,1.0014828530646,null,9.9999680190801,9.9999680190801,null,9.99998664552089,9.99998664552089,null,9.93764271481863,9.93764271481863,null,6.95957863764426,6.95957863764426,null,9.99999343535462,9.99999343535462,null,1.00024501326256,1.00024501326256,null,9.99990653203398,9.99990653203398,null,2.69832772502164,2.69832772502164,null,9.99964972109416,9.99964972109416,null,9.99998520886761,9.99998520886761,null,9.99990648820086,9.99990648820086,null,3.00796400356417,3.00796400356417,null,9.99773551663804,9.99773551663804,null,8.0126887492763,8.0126887492763,null,1.0725893041184,1.0725893041184,null,6.03398468026847,6.03398468026847,null],\"y\":[29.31,29.31,null,47.98,47.98,null,27.32,27.32,null,18.41,18.41,null,58.65,58.65,null,12.67,12.67,null,43.47,43.47,null,32.569540220637,32.569540220637,null,30.8200895472036,30.8200895472036,null,31.1206548867625,31.1206548867625,null,31.3832005439938,31.3832005439938,null,31.4207797720755,31.4207797720755,null,31.403608579416,31.403608579416,null,34.1834657978798,34.1834657978798,null,31.43731249032,31.43731249032,null,31.285976997213,31.285976997213,null,25.394304415543,25.394304415543,null,31.0296478382013,31.0296478382013,null,29.0350581487648,29.0350581487648,null,36.4228815799508,36.4228815799508,null,34.3943984143333,34.3943984143333,null,5.00035076608154,5.00035076608154,null,29.0450778740098,29.0450778740098,null,32.9199703629445,32.9199703629445,null,22.5528141783764,22.5528141783764,null,37.407693731407,37.407693731407,null,34.2744213893147,34.2744213893147,null,33.4142200944823,33.4142200944823,null,15.5329791455094,15.5329791455094,null,53.3700829284159,53.3700829284159,null,28.8378376180549,28.8378376180549,null,30.4775204505928,30.4775204505928,null,28.311961580136,28.311961580136,null,33.605622135204,33.605622135204,null,31.424432740924,31.424432740924,null,26.3912994920124,26.3912994920124,null,24.3209315533701,24.3209315533701,null,30.5053138008198,30.5053138008198,null,59.948950254521,59.948950254521,null,28.5676154710362,28.5676154710362,null],\"z\":[9.34,-1,null,8.47,-1,null,6.68,-1,null,5.28,-1,null,1.58,-1,null,0.98,-1,null,4.06,-1,null,4.96329960517093e-06,-1,null,4.764046444e-05,-1,null,1.94771900561909e-07,-1,null,2.55843764542887e-08,-1,null,7.47992848357302e-08,-1,null,9.12493168837654e-06,-1,null,7.51547638880138,-1,null,0.00023753106184348,-1,null,9.9993213833633,-1,null,0.000255463771029626,-1,null,3.77132755809506,-1,null,0.00377063983260957,-1,null,0.00092002057456,-1,null,0.000552318971373026,-1,null,9.99317781024295,-1,null,6.68567028564306e-05,-1,null,9.99153869361555,-1,null,9.99987137465272,-1,null,9.99999782147058,-1,null,0.0143527629425695,-1,null,0.000172448868869252,-1,null,9.99987647596831,-1,null,8.37625765332029e-05,-1,null,9.99900108044357,-1,null,6.86458369033765,-1,null,3.18999596780937,-1,null,2.33898116611371,-1,null,5.90520474106385,-1,null,6.07280812612789,-1,null,4.27679471959504,-1,null,1.52885750457367,-1,null,9.9947856763125,-1,null,5.30463953100212,-1,null],\"type\":\"scatter3d\",\"marker\":{\"size\":8}},{\"marker\":{\"color\":\"black\",\"size\":9,\"symbol\":\"circle\"},\"mode\":\"markers\",\"x\":[1.34,8.2,9.46,6.41,4.92,3.5,3.64,9.75557151215127,6.95216208622554,4.87879447197725,9.99932504672531,7.10923069806931,9.36122217454197,5.67023237412144,6.75735387412747,7.51852818725445,1.00002857610788,6.48573195299114,9.9972093775344,9.98204663735152,1.00158422025517,9.99888413308351,4.89284329222533,1.0014828530646,9.9999680190801,9.99998664552089,9.93764271481863,6.95957863764426,9.99999343535462,1.00024501326256,9.99990653203398,2.69832772502164,9.99964972109416,9.99998520886761,9.99990648820086,3.00796400356417,9.99773551663804,8.0126887492763,1.0725893041184,6.03398468026847],\"y\":[29.31,47.98,27.32,18.41,58.65,12.67,43.47,32.569540220637,30.8200895472036,31.1206548867625,31.3832005439938,31.4207797720755,31.403608579416,34.1834657978798,31.43731249032,31.285976997213,25.394304415543,31.0296478382013,29.0350581487648,36.4228815799508,34.3943984143333,5.00035076608154,29.0450778740098,32.9199703629445,22.5528141783764,37.407693731407,34.2744213893147,33.4142200944823,15.5329791455094,53.3700829284159,28.8378376180549,30.4775204505928,28.311961580136,33.605622135204,31.424432740924,26.3912994920124,24.3209315533701,30.5053138008198,59.948950254521,28.5676154710362],\"z\":[9.34,8.47,6.68,5.28,1.58,0.98,4.06,4.96329960517093e-06,4.764046444e-05,1.94771900561909e-07,2.55843764542887e-08,7.47992848357302e-08,9.12493168837654e-06,7.51547638880138,0.00023753106184348,9.9993213833633,0.000255463771029626,3.77132755809506,0.00377063983260957,0.00092002057456,0.000552318971373026,9.99317781024295,6.68567028564306e-05,9.99153869361555,9.99987137465272,9.99999782147058,0.0143527629425695,0.000172448868869252,9.99987647596831,8.37625765332029e-05,9.99900108044357,6.86458369033765,3.18999596780937,2.33898116611371,5.90520474106385,6.07280812612789,4.27679471959504,1.52885750457367,9.9947856763125,5.30463953100212],\"type\":\"scatter3d\"},{\"hovertemplate\":\"repeatNumb=3<br>Gradient time / minutes=%{x}<br>Initial organic modifier (%)=%{y}<br>Isocratic hold time / minutes=%{z}<br>Responce=%{marker.color}<extra></extra>\",\"legendgroup\":\"3\",\"marker\":{\"color\":[0.0527260524586048,0.266014244340562,0.059841256330415,0.134996556235561,0.200017739607895,0.213249964368633,0.207033272633025,0.0278327748293598,0.0237518346622498,0.0289490960732238,0.0287552509682485,0.0238652445574252,0.0277214446766914,0.0532861875152808,0.0232171231774126,0.0686121225721589,0.188127373394095,0.0395212282948735,0.0347556540206464,0.0761964700804368,0.0920479650157896,0.253889393624272,0.0499867800715678,0.05430771848968,0.175363927911189,0.136447286547665,0.0273226682579141,0.0229858612168506,0.165509213381802,0.167131390322232,0.159822498510793,0.0452936265969812,0.0442504584205483,0.0377800887345995,0.0545472388696688,0.0600872800819582,0.109057417797279,0.0325274065680326,0.206570147577023,0.0462087464990278],\"coloraxis\":\"coloraxis\",\"symbol\":\"circle\",\"size\":7},\"mode\":\"markers\",\"name\":\"3\",\"scene\":\"scene\",\"showlegend\":true,\"x\":[1.34,8.2,9.46,6.41,4.92,3.5,3.64,9.75557151215127,6.95216208622554,4.87879447197725,9.99932504672531,7.10923069806931,9.36122217454197,5.67023237412144,6.75735387412747,7.51852818725445,1.00002857610788,6.48573195299114,9.9972093775344,9.98204663735152,1.00158422025517,9.99888413308351,4.89284329222533,1.0014828530646,9.9999680190801,9.99998664552089,9.93764271481863,6.95957863764426,9.99999343535462,1.00024501326256,9.99990653203398,2.69832772502164,9.99964972109416,9.99998520886761,9.99990648820086,3.00796400356417,9.99773551663804,8.0126887492763,1.0725893041184,6.03398468026847],\"y\":[29.31,47.98,27.32,18.41,58.65,12.67,43.47,32.569540220637,30.8200895472036,31.1206548867625,31.3832005439938,31.4207797720755,31.403608579416,34.1834657978798,31.43731249032,31.285976997213,25.394304415543,31.0296478382013,29.0350581487648,36.4228815799508,34.3943984143333,5.00035076608154,29.0450778740098,32.9199703629445,22.5528141783764,37.407693731407,34.2744213893147,33.4142200944823,15.5329791455094,53.3700829284159,28.8378376180549,30.4775204505928,28.311961580136,33.605622135204,31.424432740924,26.3912994920124,24.3209315533701,30.5053138008198,59.948950254521,28.5676154710362],\"z\":[9.34,8.47,6.68,5.28,1.58,0.98,4.06,4.96329960517093e-06,4.764046444e-05,1.94771900561909e-07,2.55843764542887e-08,7.47992848357302e-08,9.12493168837654e-06,7.51547638880138,0.00023753106184348,9.9993213833633,0.000255463771029626,3.77132755809506,0.00377063983260957,0.00092002057456,0.000552318971373026,9.99317781024295,6.68567028564306e-05,9.99153869361555,9.99987137465272,9.99999782147058,0.0143527629425695,0.000172448868869252,9.99987647596831,8.37625765332029e-05,9.99900108044357,6.86458369033765,3.18999596780937,2.33898116611371,5.90520474106385,6.07280812612789,4.27679471959504,1.52885750457367,9.9947856763125,5.30463953100212],\"type\":\"scatter3d\"}],                        {\"template\":{\"data\":{\"barpolar\":[{\"marker\":{\"line\":{\"color\":\"white\",\"width\":0.5},\"pattern\":{\"fillmode\":\"overlay\",\"size\":10,\"solidity\":0.2}},\"type\":\"barpolar\"}],\"bar\":[{\"error_x\":{\"color\":\"#2a3f5f\"},\"error_y\":{\"color\":\"#2a3f5f\"},\"marker\":{\"line\":{\"color\":\"white\",\"width\":0.5},\"pattern\":{\"fillmode\":\"overlay\",\"size\":10,\"solidity\":0.2}},\"type\":\"bar\"}],\"carpet\":[{\"aaxis\":{\"endlinecolor\":\"#2a3f5f\",\"gridcolor\":\"#C8D4E3\",\"linecolor\":\"#C8D4E3\",\"minorgridcolor\":\"#C8D4E3\",\"startlinecolor\":\"#2a3f5f\"},\"baxis\":{\"endlinecolor\":\"#2a3f5f\",\"gridcolor\":\"#C8D4E3\",\"linecolor\":\"#C8D4E3\",\"minorgridcolor\":\"#C8D4E3\",\"startlinecolor\":\"#2a3f5f\"},\"type\":\"carpet\"}],\"choropleth\":[{\"colorbar\":{\"outlinewidth\":0,\"ticks\":\"\"},\"type\":\"choropleth\"}],\"contourcarpet\":[{\"colorbar\":{\"outlinewidth\":0,\"ticks\":\"\"},\"type\":\"contourcarpet\"}],\"contour\":[{\"colorbar\":{\"outlinewidth\":0,\"ticks\":\"\"},\"colorscale\":[[0.0,\"#0d0887\"],[0.1111111111111111,\"#46039f\"],[0.2222222222222222,\"#7201a8\"],[0.3333333333333333,\"#9c179e\"],[0.4444444444444444,\"#bd3786\"],[0.5555555555555556,\"#d8576b\"],[0.6666666666666666,\"#ed7953\"],[0.7777777777777778,\"#fb9f3a\"],[0.8888888888888888,\"#fdca26\"],[1.0,\"#f0f921\"]],\"type\":\"contour\"}],\"heatmapgl\":[{\"colorbar\":{\"outlinewidth\":0,\"ticks\":\"\"},\"colorscale\":[[0.0,\"#0d0887\"],[0.1111111111111111,\"#46039f\"],[0.2222222222222222,\"#7201a8\"],[0.3333333333333333,\"#9c179e\"],[0.4444444444444444,\"#bd3786\"],[0.5555555555555556,\"#d8576b\"],[0.6666666666666666,\"#ed7953\"],[0.7777777777777778,\"#fb9f3a\"],[0.8888888888888888,\"#fdca26\"],[1.0,\"#f0f921\"]],\"type\":\"heatmapgl\"}],\"heatmap\":[{\"colorbar\":{\"outlinewidth\":0,\"ticks\":\"\"},\"colorscale\":[[0.0,\"#0d0887\"],[0.1111111111111111,\"#46039f\"],[0.2222222222222222,\"#7201a8\"],[0.3333333333333333,\"#9c179e\"],[0.4444444444444444,\"#bd3786\"],[0.5555555555555556,\"#d8576b\"],[0.6666666666666666,\"#ed7953\"],[0.7777777777777778,\"#fb9f3a\"],[0.8888888888888888,\"#fdca26\"],[1.0,\"#f0f921\"]],\"type\":\"heatmap\"}],\"histogram2dcontour\":[{\"colorbar\":{\"outlinewidth\":0,\"ticks\":\"\"},\"colorscale\":[[0.0,\"#0d0887\"],[0.1111111111111111,\"#46039f\"],[0.2222222222222222,\"#7201a8\"],[0.3333333333333333,\"#9c179e\"],[0.4444444444444444,\"#bd3786\"],[0.5555555555555556,\"#d8576b\"],[0.6666666666666666,\"#ed7953\"],[0.7777777777777778,\"#fb9f3a\"],[0.8888888888888888,\"#fdca26\"],[1.0,\"#f0f921\"]],\"type\":\"histogram2dcontour\"}],\"histogram2d\":[{\"colorbar\":{\"outlinewidth\":0,\"ticks\":\"\"},\"colorscale\":[[0.0,\"#0d0887\"],[0.1111111111111111,\"#46039f\"],[0.2222222222222222,\"#7201a8\"],[0.3333333333333333,\"#9c179e\"],[0.4444444444444444,\"#bd3786\"],[0.5555555555555556,\"#d8576b\"],[0.6666666666666666,\"#ed7953\"],[0.7777777777777778,\"#fb9f3a\"],[0.8888888888888888,\"#fdca26\"],[1.0,\"#f0f921\"]],\"type\":\"histogram2d\"}],\"histogram\":[{\"marker\":{\"pattern\":{\"fillmode\":\"overlay\",\"size\":10,\"solidity\":0.2}},\"type\":\"histogram\"}],\"mesh3d\":[{\"colorbar\":{\"outlinewidth\":0,\"ticks\":\"\"},\"type\":\"mesh3d\"}],\"parcoords\":[{\"line\":{\"colorbar\":{\"outlinewidth\":0,\"ticks\":\"\"}},\"type\":\"parcoords\"}],\"pie\":[{\"automargin\":true,\"type\":\"pie\"}],\"scatter3d\":[{\"line\":{\"colorbar\":{\"outlinewidth\":0,\"ticks\":\"\"}},\"marker\":{\"colorbar\":{\"outlinewidth\":0,\"ticks\":\"\"}},\"type\":\"scatter3d\"}],\"scattercarpet\":[{\"marker\":{\"colorbar\":{\"outlinewidth\":0,\"ticks\":\"\"}},\"type\":\"scattercarpet\"}],\"scattergeo\":[{\"marker\":{\"colorbar\":{\"outlinewidth\":0,\"ticks\":\"\"}},\"type\":\"scattergeo\"}],\"scattergl\":[{\"marker\":{\"colorbar\":{\"outlinewidth\":0,\"ticks\":\"\"}},\"type\":\"scattergl\"}],\"scattermapbox\":[{\"marker\":{\"colorbar\":{\"outlinewidth\":0,\"ticks\":\"\"}},\"type\":\"scattermapbox\"}],\"scatterpolargl\":[{\"marker\":{\"colorbar\":{\"outlinewidth\":0,\"ticks\":\"\"}},\"type\":\"scatterpolargl\"}],\"scatterpolar\":[{\"marker\":{\"colorbar\":{\"outlinewidth\":0,\"ticks\":\"\"}},\"type\":\"scatterpolar\"}],\"scatter\":[{\"fillpattern\":{\"fillmode\":\"overlay\",\"size\":10,\"solidity\":0.2},\"type\":\"scatter\"}],\"scatterternary\":[{\"marker\":{\"colorbar\":{\"outlinewidth\":0,\"ticks\":\"\"}},\"type\":\"scatterternary\"}],\"surface\":[{\"colorbar\":{\"outlinewidth\":0,\"ticks\":\"\"},\"colorscale\":[[0.0,\"#0d0887\"],[0.1111111111111111,\"#46039f\"],[0.2222222222222222,\"#7201a8\"],[0.3333333333333333,\"#9c179e\"],[0.4444444444444444,\"#bd3786\"],[0.5555555555555556,\"#d8576b\"],[0.6666666666666666,\"#ed7953\"],[0.7777777777777778,\"#fb9f3a\"],[0.8888888888888888,\"#fdca26\"],[1.0,\"#f0f921\"]],\"type\":\"surface\"}],\"table\":[{\"cells\":{\"fill\":{\"color\":\"#EBF0F8\"},\"line\":{\"color\":\"white\"}},\"header\":{\"fill\":{\"color\":\"#C8D4E3\"},\"line\":{\"color\":\"white\"}},\"type\":\"table\"}]},\"layout\":{\"annotationdefaults\":{\"arrowcolor\":\"#2a3f5f\",\"arrowhead\":0,\"arrowwidth\":1},\"autotypenumbers\":\"strict\",\"coloraxis\":{\"colorbar\":{\"outlinewidth\":0,\"ticks\":\"\"}},\"colorscale\":{\"diverging\":[[0,\"#8e0152\"],[0.1,\"#c51b7d\"],[0.2,\"#de77ae\"],[0.3,\"#f1b6da\"],[0.4,\"#fde0ef\"],[0.5,\"#f7f7f7\"],[0.6,\"#e6f5d0\"],[0.7,\"#b8e186\"],[0.8,\"#7fbc41\"],[0.9,\"#4d9221\"],[1,\"#276419\"]],\"sequential\":[[0.0,\"#0d0887\"],[0.1111111111111111,\"#46039f\"],[0.2222222222222222,\"#7201a8\"],[0.3333333333333333,\"#9c179e\"],[0.4444444444444444,\"#bd3786\"],[0.5555555555555556,\"#d8576b\"],[0.6666666666666666,\"#ed7953\"],[0.7777777777777778,\"#fb9f3a\"],[0.8888888888888888,\"#fdca26\"],[1.0,\"#f0f921\"]],\"sequentialminus\":[[0.0,\"#0d0887\"],[0.1111111111111111,\"#46039f\"],[0.2222222222222222,\"#7201a8\"],[0.3333333333333333,\"#9c179e\"],[0.4444444444444444,\"#bd3786\"],[0.5555555555555556,\"#d8576b\"],[0.6666666666666666,\"#ed7953\"],[0.7777777777777778,\"#fb9f3a\"],[0.8888888888888888,\"#fdca26\"],[1.0,\"#f0f921\"]]},\"colorway\":[\"#636efa\",\"#EF553B\",\"#00cc96\",\"#ab63fa\",\"#FFA15A\",\"#19d3f3\",\"#FF6692\",\"#B6E880\",\"#FF97FF\",\"#FECB52\"],\"font\":{\"color\":\"#2a3f5f\"},\"geo\":{\"bgcolor\":\"white\",\"lakecolor\":\"white\",\"landcolor\":\"white\",\"showlakes\":true,\"showland\":true,\"subunitcolor\":\"#C8D4E3\"},\"hoverlabel\":{\"align\":\"left\"},\"hovermode\":\"closest\",\"mapbox\":{\"style\":\"light\"},\"paper_bgcolor\":\"white\",\"plot_bgcolor\":\"white\",\"polar\":{\"angularaxis\":{\"gridcolor\":\"#EBF0F8\",\"linecolor\":\"#EBF0F8\",\"ticks\":\"\"},\"bgcolor\":\"white\",\"radialaxis\":{\"gridcolor\":\"#EBF0F8\",\"linecolor\":\"#EBF0F8\",\"ticks\":\"\"}},\"scene\":{\"xaxis\":{\"backgroundcolor\":\"white\",\"gridcolor\":\"#DFE8F3\",\"gridwidth\":2,\"linecolor\":\"#EBF0F8\",\"showbackground\":true,\"ticks\":\"\",\"zerolinecolor\":\"#EBF0F8\"},\"yaxis\":{\"backgroundcolor\":\"white\",\"gridcolor\":\"#DFE8F3\",\"gridwidth\":2,\"linecolor\":\"#EBF0F8\",\"showbackground\":true,\"ticks\":\"\",\"zerolinecolor\":\"#EBF0F8\"},\"zaxis\":{\"backgroundcolor\":\"white\",\"gridcolor\":\"#DFE8F3\",\"gridwidth\":2,\"linecolor\":\"#EBF0F8\",\"showbackground\":true,\"ticks\":\"\",\"zerolinecolor\":\"#EBF0F8\"}},\"shapedefaults\":{\"line\":{\"color\":\"#2a3f5f\"}},\"ternary\":{\"aaxis\":{\"gridcolor\":\"#DFE8F3\",\"linecolor\":\"#A2B1C6\",\"ticks\":\"\"},\"baxis\":{\"gridcolor\":\"#DFE8F3\",\"linecolor\":\"#A2B1C6\",\"ticks\":\"\"},\"bgcolor\":\"white\",\"caxis\":{\"gridcolor\":\"#DFE8F3\",\"linecolor\":\"#A2B1C6\",\"ticks\":\"\"}},\"title\":{\"x\":0.05},\"xaxis\":{\"automargin\":true,\"gridcolor\":\"#EBF0F8\",\"linecolor\":\"#EBF0F8\",\"ticks\":\"\",\"title\":{\"standoff\":15},\"zerolinecolor\":\"#EBF0F8\",\"zerolinewidth\":2},\"yaxis\":{\"automargin\":true,\"gridcolor\":\"#EBF0F8\",\"linecolor\":\"#EBF0F8\",\"ticks\":\"\",\"title\":{\"standoff\":15},\"zerolinecolor\":\"#EBF0F8\",\"zerolinewidth\":2}}},\"scene\":{\"domain\":{\"x\":[0.0,1.0],\"y\":[0.0,1.0]},\"xaxis\":{\"title\":{\"text\":\"Gradient time / minutes\",\"font\":{\"size\":15}},\"tickfont\":{\"color\":\"black\",\"size\":14},\"ticks\":\"outside\",\"tick0\":0,\"tickwidth\":4},\"yaxis\":{\"title\":{\"text\":\"Initial organic modifier (%)\",\"font\":{\"size\":15}},\"tickfont\":{\"color\":\"black\",\"size\":14},\"ticks\":\"outside\",\"tick0\":0,\"tickwidth\":4},\"zaxis\":{\"title\":{\"text\":\"Isocratic hold time / minutes\",\"font\":{\"size\":15}},\"tickfont\":{\"color\":\"black\",\"size\":14},\"ticks\":\"outside\",\"tick0\":0,\"tickwidth\":4},\"camera\":{\"eye\":{\"x\":-1.8673042307711347,\"y\":-1.7813407618263895,\"z\":0.3}},\"aspectmode\":\"cube\"},\"coloraxis\":{\"colorbar\":{\"title\":{\"text\":\"R\",\"font\":{\"size\":20}},\"tickfont\":{\"size\":20},\"thickness\":20,\"dtick\":0.05,\"ticks\":\"outside\",\"tickwidth\":2,\"tickmode\":\"array\",\"tickvals\":[0.02,0.05,0.1,0.15,0.2,0.25],\"ticktext\":[\"0.02 (Best)\",\"0.05\",\"0.10\",\"0.15\",\"0.20\",\"0.25 (Worst)\"]},\"colorscale\":[[0.0,\"rgb(181, 222, 43)\"],[0.125,\"rgb(110, 206, 88)\"],[0.25,\"rgb(53, 183, 121)\"],[0.375,\"rgb(31, 158, 137)\"],[0.5,\"rgb(38, 130, 142)\"],[0.625,\"rgb(49, 104, 142)\"],[0.75,\"rgb(62, 73, 137)\"],[0.875,\"rgb(72, 40, 120)\"],[1.0,\"rgb(68, 1, 84)\"]],\"cmin\":0.015,\"cmax\":0.255,\"showscale\":false},\"legend\":{\"title\":{\"text\":\"repeatNumb\"},\"tracegroupgap\":0},\"margin\":{\"t\":60},\"showlegend\":false,\"autosize\":false,\"width\":1000,\"height\":800},                        {\"responsive\": true}                    ).then(function(){\n",
       "                            \n",
       "var gd = document.getElementById('e5f85640-fea9-43c5-8a90-3bf04600b1bd');\n",
       "var x = new MutationObserver(function (mutations, observer) {{\n",
       "        var display = window.getComputedStyle(gd).display;\n",
       "        if (!display || display === 'none') {{\n",
       "            console.log([gd, 'removed!']);\n",
       "            Plotly.purge(gd);\n",
       "            observer.disconnect();\n",
       "        }}\n",
       "}});\n",
       "\n",
       "// Listen for the removal of the full notebook cells\n",
       "var notebookContainer = gd.closest('#notebook-container');\n",
       "if (notebookContainer) {{\n",
       "    x.observe(notebookContainer, {childList: true});\n",
       "}}\n",
       "\n",
       "// Listen for the clearing of the current output cell\n",
       "var outputEl = gd.closest('.output');\n",
       "if (outputEl) {{\n",
       "    x.observe(outputEl, {childList: true});\n",
       "}}\n",
       "\n",
       "                        })                };                });            </script>        </div>"
      ]
     },
     "metadata": {},
     "output_type": "display_data"
    }
   ],
   "source": [
    "#Figure 4. Design space for Optimisation 3\n",
    "\n",
    "colorscale = ['rgb(68, 1, 84)', 'rgb(72, 40, 120)', 'rgb(62, 73, 137)', 'rgb(49, 104, 142)', 'rgb(38, 130, 142)', 'rgb(31, 158, 137)', 'rgb(53, 183, 121)', 'rgb(110, 206, 88)', 'rgb(181, 222, 43)']\n",
    "colorscale.reverse()\n",
    "colorscale = pc.make_colorscale(colorscale)\n",
    "\n",
    "def rotate_z(x, y, z, theta):\n",
    "    w = x+1j*y\n",
    "    return np.real(np.exp(1j*theta)*w), np.imag(np.exp(1j*theta)*w), z\n",
    "\n",
    "allVars13 = variables3.iloc[0:40,:]\n",
    "\n",
    "xe, ye, ze = rotate_z(2.1, 1.5, 0.3, -3)\n",
    "fig = px.scatter_3d(allVars13, x = \"GradTime\", y = \"InitalOM\", z = \"IsoHoldTime\", color = \"WeightRespcmtmdHPLC018\", symbol = \"repeatNumb\",color_continuous_scale=colorscale, labels={'GradTime':'Gradient time / minutes', 'InitalOM':'Initial organic modifier (%)',\n",
    "'IsoHoldTime':'Isocratic hold time / minutes', 'WeightRespcmtmdHPLC018':\"Responce\"})\n",
    "\n",
    "# Generate a pair of 3D points that corrispond to the line being drawn\n",
    "xyzList = allVars13.iloc[:,[0,1,4]]\n",
    "bottomList = allVars13.iloc[:,[0,1,4]]\n",
    "bottomList.loc[:,\"IsoHoldTime\"] = -1;\n",
    "\n",
    "x = pd.concat([xyzList.iloc[:,0],bottomList.iloc[:,0]], axis = 1)\n",
    "y = pd.concat([xyzList.iloc[:,1],bottomList.iloc[:,1]], axis = 1)\n",
    "z = pd.concat([xyzList.iloc[:,2],bottomList.iloc[:,2]], axis = 1)\n",
    "\n",
    "x_lines = list()\n",
    "y_lines = list()\n",
    "z_lines = list()\n",
    "\n",
    "#create the coordinate list for the lines\n",
    "for p in range(0, len(x)):\n",
    "    x_lines.append(x.iloc[p, 0])\n",
    "    x_lines.append(x.iloc[p, 1])\n",
    "    y_lines.append(y.iloc[p, 0])\n",
    "    y_lines.append(y.iloc[p, 1])\n",
    "    z_lines.append(z.iloc[p, 0])\n",
    "    z_lines.append(z.iloc[p, 1])\n",
    "    x_lines.append(None)\n",
    "    y_lines.append(None)\n",
    "    z_lines.append(None)\n",
    "    \n",
    "fig.add_trace(go.Scatter3d(\n",
    "                x=x_lines,\n",
    "                y=y_lines,\n",
    "                z=z_lines,\n",
    "                mode='lines',\n",
    "                line = dict( color = \"grey\", width= 1, dash = 'solid')\n",
    "                ))\n",
    "\n",
    "\n",
    "fig.add_trace(go.Scatter3d(\n",
    "                x = allVars13.iloc[0:40,0], \n",
    "                y = allVars13.iloc[0:40,1],\n",
    "                z = allVars13.iloc[0:40,4], \n",
    "                mode='markers',\n",
    "                marker_symbol=\"diamond\",\n",
    "                marker=dict(\n",
    "                    size=12,\n",
    "                    color=\"black\",                # set color to an array/list of desired value\n",
    "                    )\n",
    "                ))\n",
    "\n",
    "#Add the optimal point\n",
    "\n",
    "# fig.add_trace(\n",
    "#     go.Scatter3d(\n",
    "#     mode='markers',\n",
    "#         x=[optPoints.iloc[2,0]],\n",
    "#         y=[optPoints.iloc[2,1]],\n",
    "#         z=[optPoints.iloc[2,2]],\n",
    "#         marker=dict(\n",
    "#             color=\"red\",\n",
    "#             size=5,\n",
    "#             symbol = 'x'\n",
    "#         )\n",
    "# ))\n",
    "\n",
    "camera = dict(eye=dict(x=xe, y=ye, z=ze))\n",
    "fig.update_layout(scene=dict(camera=camera,aspectmode='cube'),showlegend=True)\n",
    "fig.update_traces(marker_size=8)\n",
    "fig.update_coloraxes(colorscale=colorscale,\n",
    "                    cmin = 0.015,\n",
    "                    cmax = 0.255,\n",
    "                    colorbar_title_text = \"R\",\n",
    "                    colorbar_thickness = 20,\n",
    "                    colorbar_dtick = 0.05,\n",
    "                    colorbar_ticks = 'outside',\n",
    "                    colorbar_tickwidth = 2,\n",
    "                    colorbar_tickmode = 'array',\n",
    "                    colorbar_tickvals = [0.02, 0.05, 0.10, 0.15, 0.20, 0.25],\n",
    "                    colorbar_ticktext = ['0.02 (Best)', '0.05', '0.10', '0.15', '0.20', '0.25 (Worst)'],\n",
    "                    colorbar_tickfont_size=20,\n",
    "                    colorbar_titlefont_size = 20)\n",
    "\n",
    "fontLayoutX = dict(\n",
    "                    tickfont=dict(\n",
    "                    color='black',\n",
    "                    size=14),ticks='outside',tick0=0, tickwidth=4, title = dict(font = dict(size=15)))\n",
    "\n",
    "fontLayoutY = dict(\n",
    "                    tickfont=dict(\n",
    "                    color='black',\n",
    "                    size=14),ticks='outside',tick0=0, tickwidth=4, title = dict(font = dict(size=15)))\n",
    "fontLayoutZ = dict(\n",
    "                    tickfont=dict(\n",
    "                    color='black',\n",
    "                    size=14),ticks='outside',tick0=0, tickwidth=4, title = dict(font = dict(size=15)))\n",
    "\n",
    "fig.update_layout(\n",
    "    scene1 = dict(\n",
    "                        xaxis = fontLayoutX,\n",
    "                        yaxis = fontLayoutY,\n",
    "                        zaxis = fontLayoutZ\n",
    "                     ))\n",
    "\n",
    "fig.data[0].marker.symbol = 'circle'\n",
    "fig.data[0].marker.size = 7\n",
    "fig.data[2].marker.symbol = 'circle'\n",
    "fig.data[2].marker.size = 9\n",
    "\n",
    "fig.update_layout(template='plotly_white',\n",
    "autosize=False,\n",
    "width=1000,\n",
    "height=800,\n",
    "showlegend=False\n",
    "                 )\n",
    "\n",
    "fig.update_coloraxes(showscale=False)\n",
    "\n",
    "fig['data'] = (fig['data'][1:] + fig['data'][:1])\n",
    "\n",
    "fig.show()\n",
    "\n",
    "import plotly.io as pio\n",
    "pio.write_image(fig, 'Optimisation3DesignSpace.jpg', scale=4, width=1000, height=800)"
   ]
  },
  {
   "cell_type": "code",
   "execution_count": 26,
   "metadata": {
    "scrolled": true
   },
   "outputs": [
    {
     "name": "stderr",
     "output_type": "stream",
     "text": [
      "C:\\Users\\Thoma\\AppData\\Local\\Temp\\ipykernel_7416\\2427247120.py:20: SettingWithCopyWarning:\n",
      "\n",
      "\n",
      "A value is trying to be set on a copy of a slice from a DataFrame.\n",
      "Try using .loc[row_indexer,col_indexer] = value instead\n",
      "\n",
      "See the caveats in the documentation: https://pandas.pydata.org/pandas-docs/stable/user_guide/indexing.html#returning-a-view-versus-a-copy\n",
      "\n",
      "C:\\Users\\Thoma\\AppData\\Local\\Temp\\ipykernel_7416\\2427247120.py:20: FutureWarning:\n",
      "\n",
      "In a future version, `df.iloc[:, i] = newvals` will attempt to set the values inplace instead of always setting a new array. To retain the old behavior, use either `df[df.columns[i]] = newvals` or, if columns are non-unique, `df.isetitem(i, newvals)`\n",
      "\n"
     ]
    },
    {
     "data": {
      "application/vnd.plotly.v1+json": {
       "config": {
        "plotlyServerURL": "https://plot.ly"
       },
       "data": [
        {
         "line": {
          "color": "grey",
          "dash": "solid",
          "width": 1
         },
         "marker": {
          "size": 8
         },
         "mode": "lines",
         "type": "scatter3d",
         "x": [
          4.44,
          4.44,
          null,
          7.85,
          7.85,
          null,
          9.44,
          9.44,
          null,
          6.36,
          6.36,
          null,
          1.3,
          1.3,
          null,
          3.36,
          3.36,
          null,
          5.03,
          5.03,
          null,
          9.55765529084079,
          9.55765529084079,
          null,
          1.46581015600357,
          1.46581015600357,
          null,
          1.69651574907421,
          1.69651574907421,
          null,
          2.17787539373663,
          2.17787539373663,
          null,
          2.58795855626415,
          2.58795855626415,
          null,
          9.9852498620893,
          9.9852498620893,
          null,
          1.82400421331431,
          1.82400421331431,
          null,
          3.83994986297086,
          3.83994986297086,
          null,
          1.71047269793955,
          1.71047269793955,
          null,
          1.00023756745268,
          1.00023756745268,
          null,
          1,
          1,
          null,
          1.32143292950446,
          1.32143292950446,
          null,
          1.1641034532968,
          1.1641034532968,
          null,
          1.34118807738371,
          1.34118807738371,
          null,
          1.52112466741034,
          1.52112466741034,
          null,
          1,
          1,
          null,
          2.02901945094548,
          2.02901945094548,
          null,
          5.00038122818008,
          5.00038122818008,
          null,
          1.98496709898062,
          1.98496709898062,
          null,
          1.18546277796098,
          1.18546277796098,
          null,
          1,
          1,
          null,
          1.24516424112171,
          1.24516424112171,
          null,
          2.9268841465437,
          2.9268841465437,
          null,
          1,
          1,
          null,
          1.11000141237879,
          1.11000141237879,
          null,
          1,
          1,
          null,
          1.17468831709684,
          1.17468831709684,
          null,
          3.57602655797929,
          3.57602655797929,
          null,
          8.1109056641041,
          8.1109056641041,
          null,
          1,
          1,
          null,
          4.16266929702087,
          4.16266929702087,
          null,
          5.86279793204741,
          5.86279793204741,
          null,
          1,
          1,
          null,
          7.22249135464644,
          7.22249135464644,
          null,
          1.04841854191655,
          1.04841854191655,
          null,
          1,
          1,
          null,
          1.08789242165095,
          1.08789242165095,
          null,
          1.40869474427053,
          1.40869474427053,
          null,
          1.43442306356793,
          1.43442306356793,
          null,
          1.72046152173063,
          1.72046152173063,
          null,
          1,
          1,
          null,
          2.88807052134617,
          2.88807052134617,
          null,
          1,
          1,
          null,
          6.14,
          6.14,
          null,
          9.68,
          9.68,
          null,
          2.58,
          2.58,
          null,
          8.18,
          8.18,
          null,
          4.73,
          4.73,
          null,
          1.74,
          1.74,
          null,
          6.01,
          6.01,
          null,
          2.44103695239975,
          2.44103695239975,
          null,
          2.79313820851141,
          2.79313820851141,
          null,
          8.56666877823857,
          8.56666877823857,
          null,
          4.2610007227135,
          4.2610007227135,
          null,
          2.89395146477269,
          2.89395146477269,
          null,
          4.45580197904473,
          4.45580197904473,
          null,
          1,
          1,
          null,
          1,
          1,
          null,
          1,
          1,
          null,
          1.35210346565518,
          1.35210346565518,
          null,
          1.17726264572973,
          1.17726264572973,
          null,
          1,
          1,
          null,
          2.93225117789541,
          2.93225117789541,
          null,
          1.21963917089358,
          1.21963917089358,
          null,
          9.64644887689991,
          9.64644887689991,
          null,
          3.49668719529062,
          3.49668719529062,
          null,
          1.3647290012776,
          1.3647290012776,
          null,
          2.1034121908897,
          2.1034121908897,
          null,
          3.20967985930285,
          3.20967985930285,
          null,
          2.06918290463614,
          2.06918290463614,
          null,
          1.30627617810267,
          1.30627617810267,
          null,
          1.9994353519123,
          1.9994353519123,
          null,
          1.58194320840147,
          1.58194320840147,
          null,
          1.13208181043708,
          1.13208181043708,
          null,
          1.84279202547545,
          1.84279202547545,
          null,
          7.08125607555881,
          7.08125607555881,
          null,
          1,
          1,
          null,
          4.98223854448491,
          4.98223854448491,
          null,
          1.20681641434454,
          1.20681641434454,
          null,
          4.49401978506155,
          4.49401978506155,
          null,
          10,
          10,
          null,
          1.35422706520576,
          1.35422706520576,
          null,
          2.66530528522302,
          2.66530528522302,
          null,
          7.1218063902828,
          7.1218063902828,
          null,
          1.33345790075615,
          1.33345790075615,
          null,
          3.8207563344534,
          3.8207563344534,
          null,
          2.20107766211118,
          2.20107766211118,
          null,
          1,
          1,
          null,
          1,
          1,
          null,
          2.01825671605462,
          2.01825671605462,
          null,
          3.38806790384503,
          3.38806790384503,
          null,
          1.50043491920691,
          1.50043491920691,
          null,
          1.99780469901582,
          1.99780469901582,
          null,
          8.24,
          8.24,
          null,
          4.74,
          4.74,
          null,
          8.96,
          8.96,
          null,
          2.91,
          2.91,
          null,
          5.44,
          5.44,
          null,
          1.47,
          1.47,
          null,
          7.27,
          7.27,
          null,
          3.05649082350913,
          3.05649082350913,
          null,
          2.09912657538309,
          2.09912657538309,
          null,
          4.54058261312281,
          4.54058261312281,
          null,
          9.77229262906983,
          9.77229262906983,
          null,
          4.88586837706711,
          4.88586837706711,
          null,
          6.84144719771484,
          6.84144719771484,
          null,
          1.91427992211107,
          1.91427992211107,
          null,
          1,
          1,
          null,
          1.321630185789,
          1.321630185789,
          null,
          1,
          1,
          null,
          1,
          1,
          null,
          1,
          1,
          null,
          1.18093941818273,
          1.18093941818273,
          null,
          1,
          1,
          null,
          1.1854309437589,
          1.1854309437589,
          null,
          7.34859857368157,
          7.34859857368157,
          null,
          1.57293248553862,
          1.57293248553862,
          null,
          5.41193079300026,
          5.41193079300026,
          null,
          6.37385392472166,
          6.37385392472166,
          null,
          9.41183810571757,
          9.41183810571757,
          null,
          2.79406849452495,
          2.79406849452495,
          null,
          1.50481106533973,
          1.50481106533973,
          null,
          1.01549292263374,
          1.01549292263374,
          null,
          1,
          1,
          null,
          1.04444396810523,
          1.04444396810523,
          null,
          3.9219472395651,
          3.9219472395651,
          null,
          1,
          1,
          null,
          1,
          1,
          null,
          10,
          10,
          null,
          1.66430267941285,
          1.66430267941285,
          null,
          1,
          1,
          null,
          1.06349138695286,
          1.06349138695286,
          null,
          2.63820134713421,
          2.63820134713421,
          null,
          1.42194380511526,
          1.42194380511526,
          null,
          1.16751984362664,
          1.16751984362664,
          null,
          1,
          1,
          null,
          1,
          1,
          null,
          1,
          1,
          null,
          1,
          1,
          null,
          1.77970056811895,
          1.77970056811895,
          null,
          1.93110615052928,
          1.93110615052928,
          null,
          2.06499606058907,
          2.06499606058907,
          null,
          1,
          1,
          null
         ],
         "y": [
          12.94,
          12.94,
          null,
          8.82,
          8.82,
          null,
          45.19,
          45.19,
          null,
          31.81,
          31.81,
          null,
          58.78,
          58.78,
          null,
          27,
          27,
          null,
          41.09,
          41.09,
          null,
          24.7128185445087,
          24.7128185445087,
          null,
          53.8897672939099,
          53.8897672939099,
          null,
          19.9607056254599,
          19.9607056254599,
          null,
          29.5111563298578,
          29.5111563298578,
          null,
          36.9693050708585,
          36.9693050708585,
          null,
          28.8836949291197,
          28.8836949291197,
          null,
          8.86109567693063,
          8.86109567693063,
          null,
          18.4661027884504,
          18.4661027884504,
          null,
          49.0096305480143,
          49.0096305480143,
          null,
          32.2860936137618,
          32.2860936137618,
          null,
          25.5047345664152,
          25.5047345664152,
          null,
          5,
          5,
          null,
          31.636286469108,
          31.636286469108,
          null,
          42.9286521404846,
          42.9286521404846,
          null,
          34.6170848540858,
          34.6170848540858,
          null,
          26.2571132364512,
          26.2571132364512,
          null,
          27.4214016342663,
          27.4214016342663,
          null,
          25.69574123495,
          25.69574123495,
          null,
          23.7459313801906,
          23.7459313801906,
          null,
          31.0982515176564,
          31.0982515176564,
          null,
          36.1222924222529,
          36.1222924222529,
          null,
          41.6093728307362,
          41.6093728307362,
          null,
          28.4672709520304,
          28.4672709520304,
          null,
          34.3669597621104,
          34.3669597621104,
          null,
          32.9111523827712,
          32.9111523827712,
          null,
          14.5327958102685,
          14.5327958102685,
          null,
          33.8971434955227,
          33.8971434955227,
          null,
          29.8045397185225,
          29.8045397185225,
          null,
          21.8872983683424,
          21.8872983683424,
          null,
          40.4370329457692,
          40.4370329457692,
          null,
          5.8169498794388,
          5.8169498794388,
          null,
          32.5191519642698,
          32.5191519642698,
          null,
          36.0094767447303,
          36.0094767447303,
          null,
          38.3077355955209,
          38.3077355955209,
          null,
          39.7151589414255,
          39.7151589414255,
          null,
          33.7442214366797,
          33.7442214366797,
          null,
          30.6168177442804,
          30.6168177442804,
          null,
          35.0699351412278,
          35.0699351412278,
          null,
          26.8030574550265,
          26.8030574550265,
          null,
          24.9585778816586,
          24.9585778816586,
          null,
          32.5603435354946,
          32.5603435354946,
          null,
          34.3153044248451,
          34.3153044248451,
          null,
          25.8314879046045,
          25.8314879046045,
          null,
          31.32,
          31.32,
          null,
          7.81,
          7.81,
          null,
          45.13,
          45.13,
          null,
          41.02,
          41.02,
          null,
          25.57,
          25.57,
          null,
          14.93,
          14.93,
          null,
          56.32,
          56.32,
          null,
          41.7019401967944,
          41.7019401967944,
          null,
          22.6388540459101,
          22.6388540459101,
          null,
          60,
          60,
          null,
          43.0052177358958,
          43.0052177358958,
          null,
          33.9595497890411,
          33.9595497890411,
          null,
          34.5725881084425,
          34.5725881084425,
          null,
          36.6942973747611,
          36.6942973747611,
          null,
          34.8155494903416,
          34.8155494903416,
          null,
          19.3705869686756,
          19.3705869686756,
          null,
          24.5705884353766,
          24.5705884353766,
          null,
          57.3647775330136,
          57.3647775330136,
          null,
          54.9524851233856,
          54.9524851233856,
          null,
          16.2148412665118,
          16.2148412665118,
          null,
          31.9801452499175,
          31.9801452499175,
          null,
          35.5406900745188,
          35.5406900745188,
          null,
          49.7525050363166,
          49.7525050363166,
          null,
          40.0702210181573,
          40.0702210181573,
          null,
          5,
          5,
          null,
          36.7322275146926,
          36.7322275146926,
          null,
          29.6594718693267,
          29.6594718693267,
          null,
          38.2714088311366,
          38.2714088311366,
          null,
          35.2592382610664,
          35.2592382610664,
          null,
          26.4976622240335,
          26.4976622240335,
          null,
          33.0386522337581,
          33.0386522337581,
          null,
          32.962925865768,
          32.962925865768,
          null,
          35.1623868960872,
          35.1623868960872,
          null,
          27.2360109917439,
          27.2360109917439,
          null,
          34.6328235047335,
          34.6328235047335,
          null,
          29.8932321955837,
          29.8932321955837,
          null,
          37.100033909994,
          37.100033909994,
          null,
          12.3507888904598,
          12.3507888904598,
          null,
          29.1427843247037,
          29.1427843247037,
          null,
          33.1784034559835,
          33.1784034559835,
          null,
          7.58941834887219,
          7.58941834887219,
          null,
          30.4499608128311,
          30.4499608128311,
          null,
          24.190699807017,
          24.190699807017,
          null,
          33.5302690207129,
          33.5302690207129,
          null,
          31.4173157142354,
          31.4173157142354,
          null,
          39.3936980648782,
          39.3936980648782,
          null,
          30.5797441797741,
          30.5797441797741,
          null,
          31.1525050404484,
          31.1525050404484,
          null,
          29.4289781086616,
          29.4289781086616,
          null,
          32.742475024953,
          32.742475024953,
          null,
          11.52,
          11.52,
          null,
          24.94,
          24.94,
          null,
          29.87,
          29.87,
          null,
          44.42,
          44.42,
          null,
          13.41,
          13.41,
          null,
          36.48,
          36.48,
          null,
          58.09,
          58.09,
          null,
          30.613619238124,
          30.613619238124,
          null,
          29.1360028901199,
          29.1360028901199,
          null,
          27.0934664288426,
          27.0934664288426,
          null,
          27.7190129298426,
          27.7190129298426,
          null,
          30.0940193031494,
          30.0940193031494,
          null,
          47.9350088802999,
          47.9350088802999,
          null,
          28.2273580361279,
          28.2273580361279,
          null,
          5.08362575608139,
          5.08362575608139,
          null,
          8.01531127342957,
          8.01531127342957,
          null,
          41.4620291983301,
          41.4620291983301,
          null,
          38.9781986274978,
          38.9781986274978,
          null,
          18.1633797947714,
          18.1633797947714,
          null,
          33.887312690097,
          33.887312690097,
          null,
          30.7806998355584,
          30.7806998355584,
          null,
          32.617276932137,
          32.617276932137,
          null,
          26.5249030138598,
          26.5249030138598,
          null,
          23.8058286928491,
          23.8058286928491,
          null,
          27.8587985382755,
          27.8587985382755,
          null,
          32.6440245333755,
          32.6440245333755,
          null,
          55.6113124458375,
          55.6113124458375,
          null,
          54.4261949006364,
          54.4261949006364,
          null,
          26.8322348830173,
          26.8322348830173,
          null,
          56.3093232063137,
          56.3093232063137,
          null,
          38.076432121479,
          38.076432121479,
          null,
          34.5491130708302,
          34.5491130708302,
          null,
          29.3127756358639,
          29.3127756358639,
          null,
          35.1579716436082,
          35.1579716436082,
          null,
          26.2205206116941,
          26.2205206116941,
          null,
          43.566831425744,
          43.566831425744,
          null,
          36.0262751396478,
          36.0262751396478,
          null,
          21.082250848464,
          21.082250848464,
          null,
          29.1278129347649,
          29.1278129347649,
          null,
          34.7924536952616,
          34.7924536952616,
          null,
          30.1670852315928,
          30.1670852315928,
          null,
          27.5994476489008,
          27.5994476489008,
          null,
          19.3160462018516,
          19.3160462018516,
          null,
          28.0163941280542,
          28.0163941280542,
          null,
          36.817937469237,
          36.817937469237,
          null,
          25.1399952003105,
          25.1399952003105,
          null,
          25.9907785391757,
          25.9907785391757,
          null,
          29.6662150490422,
          29.6662150490422,
          null,
          32.5993879227923,
          32.5993879227923,
          null,
          37.9230912780861,
          37.9230912780861,
          null
         ],
         "z": [
          3.22,
          -1,
          null,
          7.39,
          -1,
          null,
          4.59,
          -1,
          null,
          2.4,
          -1,
          null,
          0.67,
          -1,
          null,
          7.01,
          -1,
          null,
          9.84,
          -1,
          null,
          5.49510364653455,
          -1,
          null,
          1.81579695063668,
          -1,
          null,
          1.72751920466575,
          -1,
          null,
          0.27412558674906,
          -1,
          null,
          1.57502719649738,
          -1,
          null,
          0.976484033876342,
          -1,
          null,
          0.795030867053931,
          -1,
          null,
          0.223586109682248,
          -1,
          null,
          0.308080860780793,
          -1,
          null,
          0.751124894909785,
          -1,
          null,
          3.3311751087131,
          -1,
          null,
          0.568002652307095,
          -1,
          null,
          0,
          -1,
          null,
          1.08448699685994,
          -1,
          null,
          3.45747319937467,
          -1,
          null,
          1.13327261940407,
          -1,
          null,
          0.313506533877572,
          -1,
          null,
          0,
          -1,
          null,
          0.222903516334492,
          -1,
          null,
          1.37914292231955,
          -1,
          null,
          6.59693578690008,
          -1,
          null,
          3.51314907600546,
          -1,
          null,
          1.3695799313515,
          -1,
          null,
          0,
          -1,
          null,
          0.892121610589224,
          -1,
          null,
          3.45837189156471,
          -1,
          null,
          0.726365920386771,
          -1,
          null,
          1.90407978283655,
          -1,
          null,
          0.892127237882323,
          -1,
          null,
          0,
          -1,
          null,
          1.80692298927633,
          -1,
          null,
          0.82911090035137,
          -1,
          null,
          0.824590599527226,
          -1,
          null,
          0.7715030731982,
          -1,
          null,
          4.43038338443129,
          -1,
          null,
          1.02962773747393,
          -1,
          null,
          1.57367185364169,
          -1,
          null,
          0.962723912564613,
          -1,
          null,
          1.70521270157805,
          -1,
          null,
          0,
          -1,
          null,
          1.24221701501888,
          -1,
          null,
          1.84792948671915,
          -1,
          null,
          10,
          -1,
          null,
          0.3,
          -1,
          null,
          5.51,
          -1,
          null,
          1.92,
          -1,
          null,
          8.65,
          -1,
          null,
          8.16,
          -1,
          null,
          6.23,
          -1,
          null,
          4.09,
          -1,
          null,
          1.97173722932744,
          -1,
          null,
          4.7213378088734,
          -1,
          null,
          6.98766630942404,
          -1,
          null,
          0.0781259255547099,
          -1,
          null,
          0.33066522318053,
          -1,
          null,
          9.71494798531561,
          -1,
          null,
          0.248784097666226,
          -1,
          null,
          0,
          -1,
          null,
          0.555581391159761,
          -1,
          null,
          0,
          -1,
          null,
          5.12816980496431,
          -1,
          null,
          0.845975393581705,
          -1,
          null,
          0,
          -1,
          null,
          0,
          -1,
          null,
          0.599755549917989,
          -1,
          null,
          2.82976818460669,
          -1,
          null,
          10,
          -1,
          null,
          0,
          -1,
          null,
          1.41241444253297,
          -1,
          null,
          0,
          -1,
          null,
          0,
          -1,
          null,
          4.83859671489312,
          -1,
          null,
          2.39015831359634,
          -1,
          null,
          0.543619519967613,
          -1,
          null,
          0.231532792475657,
          -1,
          null,
          2.2923973991017,
          -1,
          null,
          0,
          -1,
          null,
          3.13568987772085,
          -1,
          null,
          4.60274237374531,
          -1,
          null,
          0.260132851949908,
          -1,
          null,
          0.0241526486703397,
          -1,
          null,
          1.17962499248192,
          -1,
          null,
          1.49074069255186,
          -1,
          null,
          0,
          -1,
          null,
          0.811632605543142,
          -1,
          null,
          6.06620699792823,
          -1,
          null,
          0.731548730741485,
          -1,
          null,
          1.56101864831558,
          -1,
          null,
          1.1333694969264,
          -1,
          null,
          1.53345401913752,
          -1,
          null,
          0.936361471927426,
          -1,
          null,
          0.834743773304974,
          -1,
          null,
          1.39432803750642,
          -1,
          null,
          0.05,
          -1,
          null,
          1.92,
          -1,
          null,
          2.98,
          -1,
          null,
          4.85,
          -1,
          null,
          5.92,
          -1,
          null,
          9.34,
          -1,
          null,
          7.45,
          -1,
          null,
          4.38205006713619,
          -1,
          null,
          8.57045737792441,
          -1,
          null,
          0.423728941344387,
          -1,
          null,
          8.0746545741522,
          -1,
          null,
          0,
          -1,
          null,
          0.798338340363284,
          -1,
          null,
          0.621125453563099,
          -1,
          null,
          4.76817591673556,
          -1,
          null,
          0.720733490434228,
          -1,
          null,
          0.437207648689124,
          -1,
          null,
          1.1496971384899,
          -1,
          null,
          0,
          -1,
          null,
          0,
          -1,
          null,
          0,
          -1,
          null,
          1.07493442407484,
          -1,
          null,
          3.50006379763398,
          -1,
          null,
          0.117482377195914,
          -1,
          null,
          0,
          -1,
          null,
          7.22318119390646,
          -1,
          null,
          5.28271260739329,
          -1,
          null,
          6.43547876856129,
          -1,
          null,
          1.78527208726959,
          -1,
          null,
          0.13411440824851,
          -1,
          null,
          5.65185139866661,
          -1,
          null,
          0.338592593066716,
          -1,
          null,
          0.441322345021356,
          -1,
          null,
          0.879272302072603,
          -1,
          null,
          4.72277265779975,
          -1,
          null,
          0.896260876178891,
          -1,
          null,
          0.397322026272358,
          -1,
          null,
          1.46466452174249,
          -1,
          null,
          4.75644116431528,
          -1,
          null,
          1.41077548849591,
          -1,
          null,
          3.85626511905311,
          -1,
          null,
          1.11801042975968,
          -1,
          null,
          2.47277770505139,
          -1,
          null,
          1.78875316974412,
          -1,
          null,
          0.471249231883023,
          -1,
          null,
          0,
          -1,
          null,
          0.649303618339606,
          -1,
          null,
          1.08716160470635,
          -1,
          null,
          0.853923193461046,
          -1,
          null,
          1.30151527426978,
          -1,
          null
         ]
        },
        {
         "marker": {
          "color": "black",
          "size": 9,
          "symbol": "diamond"
         },
         "mode": "markers",
         "type": "scatter3d",
         "x": [
          4.44,
          7.85,
          9.44,
          6.36,
          1.3,
          3.36,
          5.03,
          9.55765529084079,
          1.46581015600357,
          1.69651574907421,
          2.17787539373663,
          2.58795855626415,
          9.9852498620893,
          1.82400421331431,
          3.83994986297086,
          1.71047269793955,
          1.00023756745268,
          1,
          1.32143292950446,
          1.1641034532968,
          1.34118807738371,
          1.52112466741034,
          1,
          2.02901945094548,
          5.00038122818008,
          1.98496709898062,
          1.18546277796098,
          1,
          1.24516424112171,
          2.9268841465437,
          1,
          1.11000141237879,
          1,
          1.17468831709684,
          3.57602655797929,
          8.1109056641041,
          1,
          4.16266929702087,
          5.86279793204741,
          1,
          7.22249135464644,
          1.04841854191655,
          1,
          1.08789242165095,
          1.40869474427053,
          1.43442306356793,
          1.72046152173063,
          1,
          2.88807052134617,
          1
         ],
         "y": [
          12.94,
          8.82,
          45.19,
          31.81,
          58.78,
          27,
          41.09,
          24.7128185445087,
          53.8897672939099,
          19.9607056254599,
          29.5111563298578,
          36.9693050708585,
          28.8836949291197,
          8.86109567693063,
          18.4661027884504,
          49.0096305480143,
          32.2860936137618,
          25.5047345664152,
          5,
          31.636286469108,
          42.9286521404846,
          34.6170848540858,
          26.2571132364512,
          27.4214016342663,
          25.69574123495,
          23.7459313801906,
          31.0982515176564,
          36.1222924222529,
          41.6093728307362,
          28.4672709520304,
          34.3669597621104,
          32.9111523827712,
          14.5327958102685,
          33.8971434955227,
          29.8045397185225,
          21.8872983683424,
          40.4370329457692,
          5.8169498794388,
          32.5191519642698,
          36.0094767447303,
          38.3077355955209,
          39.7151589414255,
          33.7442214366797,
          30.6168177442804,
          35.0699351412278,
          26.8030574550265,
          24.9585778816586,
          32.5603435354946,
          34.3153044248451,
          25.8314879046045
         ],
         "z": [
          3.22,
          7.39,
          4.59,
          2.4,
          0.67,
          7.01,
          9.84,
          5.49510364653455,
          1.81579695063668,
          1.72751920466575,
          0.27412558674906,
          1.57502719649738,
          0.976484033876342,
          0.795030867053931,
          0.223586109682248,
          0.308080860780793,
          0.751124894909785,
          3.3311751087131,
          0.568002652307095,
          0,
          1.08448699685994,
          3.45747319937467,
          1.13327261940407,
          0.313506533877572,
          0,
          0.222903516334492,
          1.37914292231955,
          6.59693578690008,
          3.51314907600546,
          1.3695799313515,
          0,
          0.892121610589224,
          3.45837189156471,
          0.726365920386771,
          1.90407978283655,
          0.892127237882323,
          0,
          1.80692298927633,
          0.82911090035137,
          0.824590599527226,
          0.7715030731982,
          4.43038338443129,
          1.02962773747393,
          1.57367185364169,
          0.962723912564613,
          1.70521270157805,
          0,
          1.24221701501888,
          1.84792948671915,
          10
         ]
        },
        {
         "marker": {
          "color": "black",
          "size": 9,
          "symbol": "square"
         },
         "mode": "markers",
         "type": "scatter3d",
         "x": [
          6.14,
          9.68,
          2.58,
          8.18,
          4.73,
          1.74,
          6.01,
          2.44103695239975,
          2.79313820851141,
          8.56666877823857,
          4.2610007227135,
          2.89395146477269,
          4.45580197904473,
          1,
          1,
          1,
          1.35210346565518,
          1.17726264572973,
          1,
          2.93225117789541,
          1.21963917089358,
          9.64644887689991,
          3.49668719529062,
          1.3647290012776,
          2.1034121908897,
          3.20967985930285,
          2.06918290463614,
          1.30627617810267,
          1.9994353519123,
          1.58194320840147,
          1.13208181043708,
          1.84279202547545,
          7.08125607555881,
          1,
          4.98223854448491,
          1.20681641434454,
          4.49401978506155,
          10,
          1.35422706520576,
          2.66530528522302,
          7.1218063902828,
          1.33345790075615,
          3.8207563344534,
          2.20107766211118,
          1,
          1,
          2.01825671605462,
          3.38806790384503,
          1.50043491920691,
          1.99780469901582
         ],
         "y": [
          31.32,
          7.81,
          45.13,
          41.02,
          25.57,
          14.93,
          56.32,
          41.7019401967944,
          22.6388540459101,
          60,
          43.0052177358958,
          33.9595497890411,
          34.5725881084425,
          36.6942973747611,
          34.8155494903416,
          19.3705869686756,
          24.5705884353766,
          57.3647775330136,
          54.9524851233856,
          16.2148412665118,
          31.9801452499175,
          35.5406900745188,
          49.7525050363166,
          40.0702210181573,
          5,
          36.7322275146926,
          29.6594718693267,
          38.2714088311366,
          35.2592382610664,
          26.4976622240335,
          33.0386522337581,
          32.962925865768,
          35.1623868960872,
          27.2360109917439,
          34.6328235047335,
          29.8932321955837,
          37.100033909994,
          12.3507888904598,
          29.1427843247037,
          33.1784034559835,
          7.58941834887219,
          30.4499608128311,
          24.190699807017,
          33.5302690207129,
          31.4173157142354,
          39.3936980648782,
          30.5797441797741,
          31.1525050404484,
          29.4289781086616,
          32.742475024953
         ],
         "z": [
          0.3,
          5.51,
          1.92,
          8.65,
          8.16,
          6.23,
          4.09,
          1.97173722932744,
          4.7213378088734,
          6.98766630942404,
          0.0781259255547099,
          0.33066522318053,
          9.71494798531561,
          0.248784097666226,
          0,
          0.555581391159761,
          0,
          5.12816980496431,
          0.845975393581705,
          0,
          0,
          0.599755549917989,
          2.82976818460669,
          10,
          0,
          1.41241444253297,
          0,
          0,
          4.83859671489312,
          2.39015831359634,
          0.543619519967613,
          0.231532792475657,
          2.2923973991017,
          0,
          3.13568987772085,
          4.60274237374531,
          0.260132851949908,
          0.0241526486703397,
          1.17962499248192,
          1.49074069255186,
          0,
          0.811632605543142,
          6.06620699792823,
          0.731548730741485,
          1.56101864831558,
          1.1333694969264,
          1.53345401913752,
          0.936361471927426,
          0.834743773304974,
          1.39432803750642
         ]
        },
        {
         "marker": {
          "color": "black",
          "size": 9,
          "symbol": "circle"
         },
         "mode": "markers",
         "type": "scatter3d",
         "x": [
          8.24,
          4.74,
          8.96,
          2.91,
          5.44,
          1.47,
          7.27,
          3.05649082350913,
          2.09912657538309,
          4.54058261312281,
          9.77229262906983,
          4.88586837706711,
          6.84144719771484,
          1.91427992211107,
          1,
          1.321630185789,
          1,
          1,
          1,
          1.18093941818273,
          1,
          1.1854309437589,
          7.34859857368157,
          1.57293248553862,
          5.41193079300026,
          6.37385392472166,
          9.41183810571757,
          2.79406849452495,
          1.50481106533973,
          1.01549292263374,
          1,
          1.04444396810523,
          3.9219472395651,
          1,
          1,
          10,
          1.66430267941285,
          1,
          1.06349138695286,
          2.63820134713421,
          1.42194380511526,
          1.16751984362664,
          1,
          1,
          1,
          1,
          1.77970056811895,
          1.93110615052928,
          2.06499606058907,
          1
         ],
         "y": [
          11.52,
          24.94,
          29.87,
          44.42,
          13.41,
          36.48,
          58.09,
          30.613619238124,
          29.1360028901199,
          27.0934664288426,
          27.7190129298426,
          30.0940193031494,
          47.9350088802999,
          28.2273580361279,
          5.08362575608139,
          8.01531127342957,
          41.4620291983301,
          38.9781986274978,
          18.1633797947714,
          33.887312690097,
          30.7806998355584,
          32.617276932137,
          26.5249030138598,
          23.8058286928491,
          27.8587985382755,
          32.6440245333755,
          55.6113124458375,
          54.4261949006364,
          26.8322348830173,
          56.3093232063137,
          38.076432121479,
          34.5491130708302,
          29.3127756358639,
          35.1579716436082,
          26.2205206116941,
          43.566831425744,
          36.0262751396478,
          21.082250848464,
          29.1278129347649,
          34.7924536952616,
          30.1670852315928,
          27.5994476489008,
          19.3160462018516,
          28.0163941280542,
          36.817937469237,
          25.1399952003105,
          25.9907785391757,
          29.6662150490422,
          32.5993879227923,
          37.9230912780861
         ],
         "z": [
          0.05,
          1.92,
          2.98,
          4.85,
          5.92,
          9.34,
          7.45,
          4.38205006713619,
          8.57045737792441,
          0.423728941344387,
          8.0746545741522,
          0,
          0.798338340363284,
          0.621125453563099,
          4.76817591673556,
          0.720733490434228,
          0.437207648689124,
          1.1496971384899,
          0,
          0,
          0,
          1.07493442407484,
          3.50006379763398,
          0.117482377195914,
          0,
          7.22318119390646,
          5.28271260739329,
          6.43547876856129,
          1.78527208726959,
          0.13411440824851,
          5.65185139866661,
          0.338592593066716,
          0.441322345021356,
          0.879272302072603,
          4.72277265779975,
          0.896260876178891,
          0.397322026272358,
          1.46466452174249,
          4.75644116431528,
          1.41077548849591,
          3.85626511905311,
          1.11801042975968,
          2.47277770505139,
          1.78875316974412,
          0.471249231883023,
          0,
          0.649303618339606,
          1.08716160470635,
          0.853923193461046,
          1.30151527426978
         ]
        },
        {
         "hovertemplate": "repeatNumb=1<br>Gradient time / minutes=%{x}<br>Initial organic modifier (%)=%{y}<br>Isocratic hold time / minutes=%{z}<br>Dist2=%{marker.color}<extra></extra>",
         "legendgroup": "1",
         "marker": {
          "color": [
           1.40820576133274,
           2.21495706001993,
           1,
           0.351093521407841,
           1,
           0.613419770930868,
           1,
           0.74493760823893,
           1,
           1,
           0.0737947159096748,
           1,
           0.368759846462947,
           1,
           1,
           1,
           0.0372172620569928,
           0.240809584707274,
           1,
           1,
           1,
           0.258367622782801,
           0.0702715101317055,
           1,
           0.187110106874532,
           1,
           0.0749417572883151,
           0.4837010007874,
           1,
           0.159659808237437,
           1,
           0.0471920984429123,
           0.231798965478443,
           0.0310552104354899,
           0.224675353304151,
           1,
           1,
           1,
           0.218122862229054,
           0.0560791618047004,
           1,
           1,
           0.0375381670321581,
           0.0835334861336562,
           0.0784483538124496,
           0.131704291211897,
           1,
           0.0573409989545441,
           0.19222343922846,
           0.735944303761413
          ],
          "coloraxis": "coloraxis",
          "size": 7,
          "symbol": "diamond"
         },
         "mode": "markers",
         "name": "1",
         "scene": "scene",
         "showlegend": true,
         "type": "scatter3d",
         "x": [
          4.44,
          7.85,
          9.44,
          6.36,
          1.3,
          3.36,
          5.03,
          9.55765529084079,
          1.46581015600357,
          1.69651574907421,
          2.17787539373663,
          2.58795855626415,
          9.9852498620893,
          1.82400421331431,
          3.83994986297086,
          1.71047269793955,
          1.00023756745268,
          1,
          1.32143292950446,
          1.1641034532968,
          1.34118807738371,
          1.52112466741034,
          1,
          2.02901945094548,
          5.00038122818008,
          1.98496709898062,
          1.18546277796098,
          1,
          1.24516424112171,
          2.9268841465437,
          1,
          1.11000141237879,
          1,
          1.17468831709684,
          3.57602655797929,
          8.1109056641041,
          1,
          4.16266929702087,
          5.86279793204741,
          1,
          7.22249135464644,
          1.04841854191655,
          1,
          1.08789242165095,
          1.40869474427053,
          1.43442306356793,
          1.72046152173063,
          1,
          2.88807052134617,
          1
         ],
         "y": [
          12.94,
          8.82,
          45.19,
          31.81,
          58.78,
          27,
          41.09,
          24.7128185445087,
          53.8897672939099,
          19.9607056254599,
          29.5111563298578,
          36.9693050708585,
          28.8836949291197,
          8.86109567693063,
          18.4661027884504,
          49.0096305480143,
          32.2860936137618,
          25.5047345664152,
          5,
          31.636286469108,
          42.9286521404846,
          34.6170848540858,
          26.2571132364512,
          27.4214016342663,
          25.69574123495,
          23.7459313801906,
          31.0982515176564,
          36.1222924222529,
          41.6093728307362,
          28.4672709520304,
          34.3669597621104,
          32.9111523827712,
          14.5327958102685,
          33.8971434955227,
          29.8045397185225,
          21.8872983683424,
          40.4370329457692,
          5.8169498794388,
          32.5191519642698,
          36.0094767447303,
          38.3077355955209,
          39.7151589414255,
          33.7442214366797,
          30.6168177442804,
          35.0699351412278,
          26.8030574550265,
          24.9585778816586,
          32.5603435354946,
          34.3153044248451,
          25.8314879046045
         ],
         "z": [
          3.22,
          7.39,
          4.59,
          2.4,
          0.67,
          7.01,
          9.84,
          5.49510364653455,
          1.81579695063668,
          1.72751920466575,
          0.27412558674906,
          1.57502719649738,
          0.976484033876342,
          0.795030867053931,
          0.223586109682248,
          0.308080860780793,
          0.751124894909785,
          3.3311751087131,
          0.568002652307095,
          0,
          1.08448699685994,
          3.45747319937467,
          1.13327261940407,
          0.313506533877572,
          0,
          0.222903516334492,
          1.37914292231955,
          6.59693578690008,
          3.51314907600546,
          1.3695799313515,
          0,
          0.892121610589224,
          3.45837189156471,
          0.726365920386771,
          1.90407978283655,
          0.892127237882323,
          0,
          1.80692298927633,
          0.82911090035137,
          0.824590599527226,
          0.7715030731982,
          4.43038338443129,
          1.02962773747393,
          1.57367185364169,
          0.962723912564613,
          1.70521270157805,
          0,
          1.24221701501888,
          1.84792948671915,
          10
         ]
        },
        {
         "hovertemplate": "repeatNumb=2<br>Gradient time / minutes=%{x}<br>Initial organic modifier (%)=%{y}<br>Isocratic hold time / minutes=%{z}<br>Dist2=%{marker.color}<extra></extra>",
         "legendgroup": "2",
         "marker": {
          "color": [
           0.193634256648544,
           1,
           1,
           1,
           0.774267946643596,
           0.736773680541551,
           1,
           1,
           1,
           1,
           1,
           0.0822801915323843,
           0.823847435361763,
           1,
           1,
           1,
           1,
           1,
           1,
           1,
           1,
           0.309994955512339,
           1,
           1,
           1,
           0.198323038401926,
           1,
           1,
           0.393185404479964,
           0.207561888199337,
           0.0164712511834749,
           0.0375187686633248,
           0.366506565953872,
           1,
           0.362556230094215,
           0.324930863399582,
           1,
           1,
           0.0835236805968521,
           0.150026819218681,
           1,
           0.0503080836351278,
           1,
           0.0754931402476058,
           0.0849716980463971,
           1,
           0.131190360969246,
           0.143583635767062,
           0.0654375714265559,
           0.115079446319388
          ],
          "coloraxis": "coloraxis",
          "size": 7,
          "symbol": "square"
         },
         "mode": "markers",
         "name": "2",
         "scene": "scene",
         "showlegend": true,
         "type": "scatter3d",
         "x": [
          6.14,
          9.68,
          2.58,
          8.18,
          4.73,
          1.74,
          6.01,
          2.44103695239975,
          2.79313820851141,
          8.56666877823857,
          4.2610007227135,
          2.89395146477269,
          4.45580197904473,
          1,
          1,
          1,
          1.35210346565518,
          1.17726264572973,
          1,
          2.93225117789541,
          1.21963917089358,
          9.64644887689991,
          3.49668719529062,
          1.3647290012776,
          2.1034121908897,
          3.20967985930285,
          2.06918290463614,
          1.30627617810267,
          1.9994353519123,
          1.58194320840147,
          1.13208181043708,
          1.84279202547545,
          7.08125607555881,
          1,
          4.98223854448491,
          1.20681641434454,
          4.49401978506155,
          10,
          1.35422706520576,
          2.66530528522302,
          7.1218063902828,
          1.33345790075615,
          3.8207563344534,
          2.20107766211118,
          1,
          1,
          2.01825671605462,
          3.38806790384503,
          1.50043491920691,
          1.99780469901582
         ],
         "y": [
          31.32,
          7.81,
          45.13,
          41.02,
          25.57,
          14.93,
          56.32,
          41.7019401967944,
          22.6388540459101,
          60,
          43.0052177358958,
          33.9595497890411,
          34.5725881084425,
          36.6942973747611,
          34.8155494903416,
          19.3705869686756,
          24.5705884353766,
          57.3647775330136,
          54.9524851233856,
          16.2148412665118,
          31.9801452499175,
          35.5406900745188,
          49.7525050363166,
          40.0702210181573,
          5,
          36.7322275146926,
          29.6594718693267,
          38.2714088311366,
          35.2592382610664,
          26.4976622240335,
          33.0386522337581,
          32.962925865768,
          35.1623868960872,
          27.2360109917439,
          34.6328235047335,
          29.8932321955837,
          37.100033909994,
          12.3507888904598,
          29.1427843247037,
          33.1784034559835,
          7.58941834887219,
          30.4499608128311,
          24.190699807017,
          33.5302690207129,
          31.4173157142354,
          39.3936980648782,
          30.5797441797741,
          31.1525050404484,
          29.4289781086616,
          32.742475024953
         ],
         "z": [
          0.3,
          5.51,
          1.92,
          8.65,
          8.16,
          6.23,
          4.09,
          1.97173722932744,
          4.7213378088734,
          6.98766630942404,
          0.0781259255547099,
          0.33066522318053,
          9.71494798531561,
          0.248784097666226,
          0,
          0.555581391159761,
          0,
          5.12816980496431,
          0.845975393581705,
          0,
          0,
          0.599755549917989,
          2.82976818460669,
          10,
          0,
          1.41241444253297,
          0,
          0,
          4.83859671489312,
          2.39015831359634,
          0.543619519967613,
          0.231532792475657,
          2.2923973991017,
          0,
          3.13568987772085,
          4.60274237374531,
          0.260132851949908,
          0.0241526486703397,
          1.17962499248192,
          1.49074069255186,
          0,
          0.811632605543142,
          6.06620699792823,
          0.731548730741485,
          1.56101864831558,
          1.1333694969264,
          1.53345401913752,
          0.936361471927426,
          0.834743773304974,
          1.39432803750642
         ]
        },
        {
         "hovertemplate": "repeatNumb=3<br>Gradient time / minutes=%{x}<br>Initial organic modifier (%)=%{y}<br>Isocratic hold time / minutes=%{z}<br>Dist2=%{marker.color}<extra></extra>",
         "legendgroup": "3",
         "marker": {
          "color": [
           1,
           0.323555052704416,
           0.483877149996847,
           1,
           1,
           0.708181148562373,
           1,
           0.389931084456278,
           0.670020716862035,
           0.193288985412138,
           0.908503230551001,
           0.158486354666982,
           1,
           0.0773444085263068,
           0.357841818055338,
           1,
           1,
           1,
           1,
           1,
           1,
           0.0484765335902172,
           0.50689180617846,
           1,
           0.189970559199249,
           0.705470543025031,
           1,
           1,
           0.146908005706688,
           1,
           1,
           0.0208900760478789,
           0.141841232737553,
           0.0466848317338836,
           0.340621016937704,
           1,
           0.0590906181178248,
           1,
           0.327268942228095,
           0.163283115054314,
           0.274575717845021,
           0.0737527129079321,
           1,
           0.11127450038853,
           0.033751147577512,
           1,
           1,
           0.0927303244721547,
           0.0750154903008257,
           1
          ],
          "coloraxis": "coloraxis",
          "size": 7,
          "symbol": "circle"
         },
         "mode": "markers",
         "name": "3",
         "scene": "scene",
         "showlegend": true,
         "type": "scatter3d",
         "x": [
          8.24,
          4.74,
          8.96,
          2.91,
          5.44,
          1.47,
          7.27,
          3.05649082350913,
          2.09912657538309,
          4.54058261312281,
          9.77229262906983,
          4.88586837706711,
          6.84144719771484,
          1.91427992211107,
          1,
          1.321630185789,
          1,
          1,
          1,
          1.18093941818273,
          1,
          1.1854309437589,
          7.34859857368157,
          1.57293248553862,
          5.41193079300026,
          6.37385392472166,
          9.41183810571757,
          2.79406849452495,
          1.50481106533973,
          1.01549292263374,
          1,
          1.04444396810523,
          3.9219472395651,
          1,
          1,
          10,
          1.66430267941285,
          1,
          1.06349138695286,
          2.63820134713421,
          1.42194380511526,
          1.16751984362664,
          1,
          1,
          1,
          1,
          1.77970056811895,
          1.93110615052928,
          2.06499606058907,
          1
         ],
         "y": [
          11.52,
          24.94,
          29.87,
          44.42,
          13.41,
          36.48,
          58.09,
          30.613619238124,
          29.1360028901199,
          27.0934664288426,
          27.7190129298426,
          30.0940193031494,
          47.9350088802999,
          28.2273580361279,
          5.08362575608139,
          8.01531127342957,
          41.4620291983301,
          38.9781986274978,
          18.1633797947714,
          33.887312690097,
          30.7806998355584,
          32.617276932137,
          26.5249030138598,
          23.8058286928491,
          27.8587985382755,
          32.6440245333755,
          55.6113124458375,
          54.4261949006364,
          26.8322348830173,
          56.3093232063137,
          38.076432121479,
          34.5491130708302,
          29.3127756358639,
          35.1579716436082,
          26.2205206116941,
          43.566831425744,
          36.0262751396478,
          21.082250848464,
          29.1278129347649,
          34.7924536952616,
          30.1670852315928,
          27.5994476489008,
          19.3160462018516,
          28.0163941280542,
          36.817937469237,
          25.1399952003105,
          25.9907785391757,
          29.6662150490422,
          32.5993879227923,
          37.9230912780861
         ],
         "z": [
          0.05,
          1.92,
          2.98,
          4.85,
          5.92,
          9.34,
          7.45,
          4.38205006713619,
          8.57045737792441,
          0.423728941344387,
          8.0746545741522,
          0,
          0.798338340363284,
          0.621125453563099,
          4.76817591673556,
          0.720733490434228,
          0.437207648689124,
          1.1496971384899,
          0,
          0,
          0,
          1.07493442407484,
          3.50006379763398,
          0.117482377195914,
          0,
          7.22318119390646,
          5.28271260739329,
          6.43547876856129,
          1.78527208726959,
          0.13411440824851,
          5.65185139866661,
          0.338592593066716,
          0.441322345021356,
          0.879272302072603,
          4.72277265779975,
          0.896260876178891,
          0.397322026272358,
          1.46466452174249,
          4.75644116431528,
          1.41077548849591,
          3.85626511905311,
          1.11801042975968,
          2.47277770505139,
          1.78875316974412,
          0.471249231883023,
          0,
          0.649303618339606,
          1.08716160470635,
          0.853923193461046,
          1.30151527426978
         ]
        }
       ],
       "layout": {
        "autosize": false,
        "coloraxis": {
         "cmax": 1.05,
         "cmin": -0.05,
         "colorbar": {
          "dtick": 0.05,
          "thickness": 20,
          "tickfont": {
           "size": 20
          },
          "tickmode": "array",
          "ticks": "outside",
          "ticktext": [
           "0 (Best)",
           "0.2",
           "0.4",
           "0.6",
           "0.8",
           "1.0 (Worst)"
          ],
          "tickvals": [
           0,
           0.2,
           0.4,
           0.6,
           0.8,
           1
          ],
          "tickwidth": 2,
          "title": {
           "font": {
            "size": 20
           },
           "text": "Distance to Pareto\n\n"
          }
         },
         "colorscale": [
          [
           0,
           "rgb(255, 176, 0)"
          ],
          [
           0.25,
           "rgb(254, 97, 0)"
          ],
          [
           0.5,
           "rgb(220, 38, 127)"
          ],
          [
           0.75,
           "rgb(120, 94, 240)"
          ],
          [
           1,
           "rgb(100, 143, 255)"
          ]
         ],
         "showscale": true
        },
        "height": 800,
        "legend": {
         "title": {
          "text": "repeatNumb"
         },
         "tracegroupgap": 0
        },
        "margin": {
         "t": 60
        },
        "scene": {
         "aspectmode": "cube",
         "camera": {
          "eye": {
           "x": -1.8673042307711347,
           "y": -1.7813407618263895,
           "z": 0.3
          }
         },
         "domain": {
          "x": [
           0,
           1
          ],
          "y": [
           0,
           1
          ]
         },
         "xaxis": {
          "tick0": 0,
          "tickfont": {
           "color": "black",
           "size": 14
          },
          "ticks": "outside",
          "tickwidth": 4,
          "title": {
           "font": {
            "size": 15
           },
           "text": "Gradient time / minutes"
          }
         },
         "yaxis": {
          "tick0": 0,
          "tickfont": {
           "color": "black",
           "size": 14
          },
          "ticks": "outside",
          "tickwidth": 4,
          "title": {
           "font": {
            "size": 15
           },
           "text": "Initial organic modifier (%)"
          }
         },
         "zaxis": {
          "tick0": 0,
          "tickfont": {
           "color": "black",
           "size": 14
          },
          "ticks": "outside",
          "tickwidth": 4,
          "title": {
           "font": {
            "size": 15
           },
           "text": "Isocratic hold time / minutes"
          }
         }
        },
        "showlegend": false,
        "template": {
         "data": {
          "bar": [
           {
            "error_x": {
             "color": "#2a3f5f"
            },
            "error_y": {
             "color": "#2a3f5f"
            },
            "marker": {
             "line": {
              "color": "white",
              "width": 0.5
             },
             "pattern": {
              "fillmode": "overlay",
              "size": 10,
              "solidity": 0.2
             }
            },
            "type": "bar"
           }
          ],
          "barpolar": [
           {
            "marker": {
             "line": {
              "color": "white",
              "width": 0.5
             },
             "pattern": {
              "fillmode": "overlay",
              "size": 10,
              "solidity": 0.2
             }
            },
            "type": "barpolar"
           }
          ],
          "carpet": [
           {
            "aaxis": {
             "endlinecolor": "#2a3f5f",
             "gridcolor": "#C8D4E3",
             "linecolor": "#C8D4E3",
             "minorgridcolor": "#C8D4E3",
             "startlinecolor": "#2a3f5f"
            },
            "baxis": {
             "endlinecolor": "#2a3f5f",
             "gridcolor": "#C8D4E3",
             "linecolor": "#C8D4E3",
             "minorgridcolor": "#C8D4E3",
             "startlinecolor": "#2a3f5f"
            },
            "type": "carpet"
           }
          ],
          "choropleth": [
           {
            "colorbar": {
             "outlinewidth": 0,
             "ticks": ""
            },
            "type": "choropleth"
           }
          ],
          "contour": [
           {
            "colorbar": {
             "outlinewidth": 0,
             "ticks": ""
            },
            "colorscale": [
             [
              0,
              "#0d0887"
             ],
             [
              0.1111111111111111,
              "#46039f"
             ],
             [
              0.2222222222222222,
              "#7201a8"
             ],
             [
              0.3333333333333333,
              "#9c179e"
             ],
             [
              0.4444444444444444,
              "#bd3786"
             ],
             [
              0.5555555555555556,
              "#d8576b"
             ],
             [
              0.6666666666666666,
              "#ed7953"
             ],
             [
              0.7777777777777778,
              "#fb9f3a"
             ],
             [
              0.8888888888888888,
              "#fdca26"
             ],
             [
              1,
              "#f0f921"
             ]
            ],
            "type": "contour"
           }
          ],
          "contourcarpet": [
           {
            "colorbar": {
             "outlinewidth": 0,
             "ticks": ""
            },
            "type": "contourcarpet"
           }
          ],
          "heatmap": [
           {
            "colorbar": {
             "outlinewidth": 0,
             "ticks": ""
            },
            "colorscale": [
             [
              0,
              "#0d0887"
             ],
             [
              0.1111111111111111,
              "#46039f"
             ],
             [
              0.2222222222222222,
              "#7201a8"
             ],
             [
              0.3333333333333333,
              "#9c179e"
             ],
             [
              0.4444444444444444,
              "#bd3786"
             ],
             [
              0.5555555555555556,
              "#d8576b"
             ],
             [
              0.6666666666666666,
              "#ed7953"
             ],
             [
              0.7777777777777778,
              "#fb9f3a"
             ],
             [
              0.8888888888888888,
              "#fdca26"
             ],
             [
              1,
              "#f0f921"
             ]
            ],
            "type": "heatmap"
           }
          ],
          "heatmapgl": [
           {
            "colorbar": {
             "outlinewidth": 0,
             "ticks": ""
            },
            "colorscale": [
             [
              0,
              "#0d0887"
             ],
             [
              0.1111111111111111,
              "#46039f"
             ],
             [
              0.2222222222222222,
              "#7201a8"
             ],
             [
              0.3333333333333333,
              "#9c179e"
             ],
             [
              0.4444444444444444,
              "#bd3786"
             ],
             [
              0.5555555555555556,
              "#d8576b"
             ],
             [
              0.6666666666666666,
              "#ed7953"
             ],
             [
              0.7777777777777778,
              "#fb9f3a"
             ],
             [
              0.8888888888888888,
              "#fdca26"
             ],
             [
              1,
              "#f0f921"
             ]
            ],
            "type": "heatmapgl"
           }
          ],
          "histogram": [
           {
            "marker": {
             "pattern": {
              "fillmode": "overlay",
              "size": 10,
              "solidity": 0.2
             }
            },
            "type": "histogram"
           }
          ],
          "histogram2d": [
           {
            "colorbar": {
             "outlinewidth": 0,
             "ticks": ""
            },
            "colorscale": [
             [
              0,
              "#0d0887"
             ],
             [
              0.1111111111111111,
              "#46039f"
             ],
             [
              0.2222222222222222,
              "#7201a8"
             ],
             [
              0.3333333333333333,
              "#9c179e"
             ],
             [
              0.4444444444444444,
              "#bd3786"
             ],
             [
              0.5555555555555556,
              "#d8576b"
             ],
             [
              0.6666666666666666,
              "#ed7953"
             ],
             [
              0.7777777777777778,
              "#fb9f3a"
             ],
             [
              0.8888888888888888,
              "#fdca26"
             ],
             [
              1,
              "#f0f921"
             ]
            ],
            "type": "histogram2d"
           }
          ],
          "histogram2dcontour": [
           {
            "colorbar": {
             "outlinewidth": 0,
             "ticks": ""
            },
            "colorscale": [
             [
              0,
              "#0d0887"
             ],
             [
              0.1111111111111111,
              "#46039f"
             ],
             [
              0.2222222222222222,
              "#7201a8"
             ],
             [
              0.3333333333333333,
              "#9c179e"
             ],
             [
              0.4444444444444444,
              "#bd3786"
             ],
             [
              0.5555555555555556,
              "#d8576b"
             ],
             [
              0.6666666666666666,
              "#ed7953"
             ],
             [
              0.7777777777777778,
              "#fb9f3a"
             ],
             [
              0.8888888888888888,
              "#fdca26"
             ],
             [
              1,
              "#f0f921"
             ]
            ],
            "type": "histogram2dcontour"
           }
          ],
          "mesh3d": [
           {
            "colorbar": {
             "outlinewidth": 0,
             "ticks": ""
            },
            "type": "mesh3d"
           }
          ],
          "parcoords": [
           {
            "line": {
             "colorbar": {
              "outlinewidth": 0,
              "ticks": ""
             }
            },
            "type": "parcoords"
           }
          ],
          "pie": [
           {
            "automargin": true,
            "type": "pie"
           }
          ],
          "scatter": [
           {
            "fillpattern": {
             "fillmode": "overlay",
             "size": 10,
             "solidity": 0.2
            },
            "type": "scatter"
           }
          ],
          "scatter3d": [
           {
            "line": {
             "colorbar": {
              "outlinewidth": 0,
              "ticks": ""
             }
            },
            "marker": {
             "colorbar": {
              "outlinewidth": 0,
              "ticks": ""
             }
            },
            "type": "scatter3d"
           }
          ],
          "scattercarpet": [
           {
            "marker": {
             "colorbar": {
              "outlinewidth": 0,
              "ticks": ""
             }
            },
            "type": "scattercarpet"
           }
          ],
          "scattergeo": [
           {
            "marker": {
             "colorbar": {
              "outlinewidth": 0,
              "ticks": ""
             }
            },
            "type": "scattergeo"
           }
          ],
          "scattergl": [
           {
            "marker": {
             "colorbar": {
              "outlinewidth": 0,
              "ticks": ""
             }
            },
            "type": "scattergl"
           }
          ],
          "scattermapbox": [
           {
            "marker": {
             "colorbar": {
              "outlinewidth": 0,
              "ticks": ""
             }
            },
            "type": "scattermapbox"
           }
          ],
          "scatterpolar": [
           {
            "marker": {
             "colorbar": {
              "outlinewidth": 0,
              "ticks": ""
             }
            },
            "type": "scatterpolar"
           }
          ],
          "scatterpolargl": [
           {
            "marker": {
             "colorbar": {
              "outlinewidth": 0,
              "ticks": ""
             }
            },
            "type": "scatterpolargl"
           }
          ],
          "scatterternary": [
           {
            "marker": {
             "colorbar": {
              "outlinewidth": 0,
              "ticks": ""
             }
            },
            "type": "scatterternary"
           }
          ],
          "surface": [
           {
            "colorbar": {
             "outlinewidth": 0,
             "ticks": ""
            },
            "colorscale": [
             [
              0,
              "#0d0887"
             ],
             [
              0.1111111111111111,
              "#46039f"
             ],
             [
              0.2222222222222222,
              "#7201a8"
             ],
             [
              0.3333333333333333,
              "#9c179e"
             ],
             [
              0.4444444444444444,
              "#bd3786"
             ],
             [
              0.5555555555555556,
              "#d8576b"
             ],
             [
              0.6666666666666666,
              "#ed7953"
             ],
             [
              0.7777777777777778,
              "#fb9f3a"
             ],
             [
              0.8888888888888888,
              "#fdca26"
             ],
             [
              1,
              "#f0f921"
             ]
            ],
            "type": "surface"
           }
          ],
          "table": [
           {
            "cells": {
             "fill": {
              "color": "#EBF0F8"
             },
             "line": {
              "color": "white"
             }
            },
            "header": {
             "fill": {
              "color": "#C8D4E3"
             },
             "line": {
              "color": "white"
             }
            },
            "type": "table"
           }
          ]
         },
         "layout": {
          "annotationdefaults": {
           "arrowcolor": "#2a3f5f",
           "arrowhead": 0,
           "arrowwidth": 1
          },
          "autotypenumbers": "strict",
          "coloraxis": {
           "colorbar": {
            "outlinewidth": 0,
            "ticks": ""
           }
          },
          "colorscale": {
           "diverging": [
            [
             0,
             "#8e0152"
            ],
            [
             0.1,
             "#c51b7d"
            ],
            [
             0.2,
             "#de77ae"
            ],
            [
             0.3,
             "#f1b6da"
            ],
            [
             0.4,
             "#fde0ef"
            ],
            [
             0.5,
             "#f7f7f7"
            ],
            [
             0.6,
             "#e6f5d0"
            ],
            [
             0.7,
             "#b8e186"
            ],
            [
             0.8,
             "#7fbc41"
            ],
            [
             0.9,
             "#4d9221"
            ],
            [
             1,
             "#276419"
            ]
           ],
           "sequential": [
            [
             0,
             "#0d0887"
            ],
            [
             0.1111111111111111,
             "#46039f"
            ],
            [
             0.2222222222222222,
             "#7201a8"
            ],
            [
             0.3333333333333333,
             "#9c179e"
            ],
            [
             0.4444444444444444,
             "#bd3786"
            ],
            [
             0.5555555555555556,
             "#d8576b"
            ],
            [
             0.6666666666666666,
             "#ed7953"
            ],
            [
             0.7777777777777778,
             "#fb9f3a"
            ],
            [
             0.8888888888888888,
             "#fdca26"
            ],
            [
             1,
             "#f0f921"
            ]
           ],
           "sequentialminus": [
            [
             0,
             "#0d0887"
            ],
            [
             0.1111111111111111,
             "#46039f"
            ],
            [
             0.2222222222222222,
             "#7201a8"
            ],
            [
             0.3333333333333333,
             "#9c179e"
            ],
            [
             0.4444444444444444,
             "#bd3786"
            ],
            [
             0.5555555555555556,
             "#d8576b"
            ],
            [
             0.6666666666666666,
             "#ed7953"
            ],
            [
             0.7777777777777778,
             "#fb9f3a"
            ],
            [
             0.8888888888888888,
             "#fdca26"
            ],
            [
             1,
             "#f0f921"
            ]
           ]
          },
          "colorway": [
           "#636efa",
           "#EF553B",
           "#00cc96",
           "#ab63fa",
           "#FFA15A",
           "#19d3f3",
           "#FF6692",
           "#B6E880",
           "#FF97FF",
           "#FECB52"
          ],
          "font": {
           "color": "#2a3f5f"
          },
          "geo": {
           "bgcolor": "white",
           "lakecolor": "white",
           "landcolor": "white",
           "showlakes": true,
           "showland": true,
           "subunitcolor": "#C8D4E3"
          },
          "hoverlabel": {
           "align": "left"
          },
          "hovermode": "closest",
          "mapbox": {
           "style": "light"
          },
          "paper_bgcolor": "white",
          "plot_bgcolor": "white",
          "polar": {
           "angularaxis": {
            "gridcolor": "#EBF0F8",
            "linecolor": "#EBF0F8",
            "ticks": ""
           },
           "bgcolor": "white",
           "radialaxis": {
            "gridcolor": "#EBF0F8",
            "linecolor": "#EBF0F8",
            "ticks": ""
           }
          },
          "scene": {
           "xaxis": {
            "backgroundcolor": "white",
            "gridcolor": "#DFE8F3",
            "gridwidth": 2,
            "linecolor": "#EBF0F8",
            "showbackground": true,
            "ticks": "",
            "zerolinecolor": "#EBF0F8"
           },
           "yaxis": {
            "backgroundcolor": "white",
            "gridcolor": "#DFE8F3",
            "gridwidth": 2,
            "linecolor": "#EBF0F8",
            "showbackground": true,
            "ticks": "",
            "zerolinecolor": "#EBF0F8"
           },
           "zaxis": {
            "backgroundcolor": "white",
            "gridcolor": "#DFE8F3",
            "gridwidth": 2,
            "linecolor": "#EBF0F8",
            "showbackground": true,
            "ticks": "",
            "zerolinecolor": "#EBF0F8"
           }
          },
          "shapedefaults": {
           "line": {
            "color": "#2a3f5f"
           }
          },
          "ternary": {
           "aaxis": {
            "gridcolor": "#DFE8F3",
            "linecolor": "#A2B1C6",
            "ticks": ""
           },
           "baxis": {
            "gridcolor": "#DFE8F3",
            "linecolor": "#A2B1C6",
            "ticks": ""
           },
           "bgcolor": "white",
           "caxis": {
            "gridcolor": "#DFE8F3",
            "linecolor": "#A2B1C6",
            "ticks": ""
           }
          },
          "title": {
           "x": 0.05
          },
          "xaxis": {
           "automargin": true,
           "gridcolor": "#EBF0F8",
           "linecolor": "#EBF0F8",
           "ticks": "",
           "title": {
            "standoff": 15
           },
           "zerolinecolor": "#EBF0F8",
           "zerolinewidth": 2
          },
          "yaxis": {
           "automargin": true,
           "gridcolor": "#EBF0F8",
           "linecolor": "#EBF0F8",
           "ticks": "",
           "title": {
            "standoff": 15
           },
           "zerolinecolor": "#EBF0F8",
           "zerolinewidth": 2
          }
         }
        },
        "width": 1000
       }
      },
      "text/html": [
       "<div>                            <div id=\"0892ccd3-33f2-4066-bd4b-ca7009857635\" class=\"plotly-graph-div\" style=\"height:800px; width:1000px;\"></div>            <script type=\"text/javascript\">                require([\"plotly\"], function(Plotly) {                    window.PLOTLYENV=window.PLOTLYENV || {};                                    if (document.getElementById(\"0892ccd3-33f2-4066-bd4b-ca7009857635\")) {                    Plotly.newPlot(                        \"0892ccd3-33f2-4066-bd4b-ca7009857635\",                        [{\"line\":{\"color\":\"grey\",\"dash\":\"solid\",\"width\":1},\"mode\":\"lines\",\"x\":[4.44,4.44,null,7.85,7.85,null,9.44,9.44,null,6.36,6.36,null,1.3,1.3,null,3.36,3.36,null,5.03,5.03,null,9.55765529084079,9.55765529084079,null,1.46581015600357,1.46581015600357,null,1.69651574907421,1.69651574907421,null,2.17787539373663,2.17787539373663,null,2.58795855626415,2.58795855626415,null,9.9852498620893,9.9852498620893,null,1.82400421331431,1.82400421331431,null,3.83994986297086,3.83994986297086,null,1.71047269793955,1.71047269793955,null,1.00023756745268,1.00023756745268,null,1.0,1.0,null,1.32143292950446,1.32143292950446,null,1.1641034532968,1.1641034532968,null,1.34118807738371,1.34118807738371,null,1.52112466741034,1.52112466741034,null,1.0,1.0,null,2.02901945094548,2.02901945094548,null,5.00038122818008,5.00038122818008,null,1.98496709898062,1.98496709898062,null,1.18546277796098,1.18546277796098,null,1.0,1.0,null,1.24516424112171,1.24516424112171,null,2.9268841465437,2.9268841465437,null,1.0,1.0,null,1.11000141237879,1.11000141237879,null,1.0,1.0,null,1.17468831709684,1.17468831709684,null,3.57602655797929,3.57602655797929,null,8.1109056641041,8.1109056641041,null,1.0,1.0,null,4.16266929702087,4.16266929702087,null,5.86279793204741,5.86279793204741,null,1.0,1.0,null,7.22249135464644,7.22249135464644,null,1.04841854191655,1.04841854191655,null,1.0,1.0,null,1.08789242165095,1.08789242165095,null,1.40869474427053,1.40869474427053,null,1.43442306356793,1.43442306356793,null,1.72046152173063,1.72046152173063,null,1.0,1.0,null,2.88807052134617,2.88807052134617,null,1.0,1.0,null,6.14,6.14,null,9.68,9.68,null,2.58,2.58,null,8.18,8.18,null,4.73,4.73,null,1.74,1.74,null,6.01,6.01,null,2.44103695239975,2.44103695239975,null,2.79313820851141,2.79313820851141,null,8.56666877823857,8.56666877823857,null,4.2610007227135,4.2610007227135,null,2.89395146477269,2.89395146477269,null,4.45580197904473,4.45580197904473,null,1.0,1.0,null,1.0,1.0,null,1.0,1.0,null,1.35210346565518,1.35210346565518,null,1.17726264572973,1.17726264572973,null,1.0,1.0,null,2.93225117789541,2.93225117789541,null,1.21963917089358,1.21963917089358,null,9.64644887689991,9.64644887689991,null,3.49668719529062,3.49668719529062,null,1.3647290012776,1.3647290012776,null,2.1034121908897,2.1034121908897,null,3.20967985930285,3.20967985930285,null,2.06918290463614,2.06918290463614,null,1.30627617810267,1.30627617810267,null,1.9994353519123,1.9994353519123,null,1.58194320840147,1.58194320840147,null,1.13208181043708,1.13208181043708,null,1.84279202547545,1.84279202547545,null,7.08125607555881,7.08125607555881,null,1.0,1.0,null,4.98223854448491,4.98223854448491,null,1.20681641434454,1.20681641434454,null,4.49401978506155,4.49401978506155,null,10.0,10.0,null,1.35422706520576,1.35422706520576,null,2.66530528522302,2.66530528522302,null,7.1218063902828,7.1218063902828,null,1.33345790075615,1.33345790075615,null,3.8207563344534,3.8207563344534,null,2.20107766211118,2.20107766211118,null,1.0,1.0,null,1.0,1.0,null,2.01825671605462,2.01825671605462,null,3.38806790384503,3.38806790384503,null,1.50043491920691,1.50043491920691,null,1.99780469901582,1.99780469901582,null,8.24,8.24,null,4.74,4.74,null,8.96,8.96,null,2.91,2.91,null,5.44,5.44,null,1.47,1.47,null,7.27,7.27,null,3.05649082350913,3.05649082350913,null,2.09912657538309,2.09912657538309,null,4.54058261312281,4.54058261312281,null,9.77229262906983,9.77229262906983,null,4.88586837706711,4.88586837706711,null,6.84144719771484,6.84144719771484,null,1.91427992211107,1.91427992211107,null,1.0,1.0,null,1.321630185789,1.321630185789,null,1.0,1.0,null,1.0,1.0,null,1.0,1.0,null,1.18093941818273,1.18093941818273,null,1.0,1.0,null,1.1854309437589,1.1854309437589,null,7.34859857368157,7.34859857368157,null,1.57293248553862,1.57293248553862,null,5.41193079300026,5.41193079300026,null,6.37385392472166,6.37385392472166,null,9.41183810571757,9.41183810571757,null,2.79406849452495,2.79406849452495,null,1.50481106533973,1.50481106533973,null,1.01549292263374,1.01549292263374,null,1.0,1.0,null,1.04444396810523,1.04444396810523,null,3.9219472395651,3.9219472395651,null,1.0,1.0,null,1.0,1.0,null,10.0,10.0,null,1.66430267941285,1.66430267941285,null,1.0,1.0,null,1.06349138695286,1.06349138695286,null,2.63820134713421,2.63820134713421,null,1.42194380511526,1.42194380511526,null,1.16751984362664,1.16751984362664,null,1.0,1.0,null,1.0,1.0,null,1.0,1.0,null,1.0,1.0,null,1.77970056811895,1.77970056811895,null,1.93110615052928,1.93110615052928,null,2.06499606058907,2.06499606058907,null,1.0,1.0,null],\"y\":[12.94,12.94,null,8.82,8.82,null,45.19,45.19,null,31.81,31.81,null,58.78,58.78,null,27.0,27.0,null,41.09,41.09,null,24.7128185445087,24.7128185445087,null,53.8897672939099,53.8897672939099,null,19.9607056254599,19.9607056254599,null,29.5111563298578,29.5111563298578,null,36.9693050708585,36.9693050708585,null,28.8836949291197,28.8836949291197,null,8.86109567693063,8.86109567693063,null,18.4661027884504,18.4661027884504,null,49.0096305480143,49.0096305480143,null,32.2860936137618,32.2860936137618,null,25.5047345664152,25.5047345664152,null,5.0,5.0,null,31.636286469108,31.636286469108,null,42.9286521404846,42.9286521404846,null,34.6170848540858,34.6170848540858,null,26.2571132364512,26.2571132364512,null,27.4214016342663,27.4214016342663,null,25.69574123495,25.69574123495,null,23.7459313801906,23.7459313801906,null,31.0982515176564,31.0982515176564,null,36.1222924222529,36.1222924222529,null,41.6093728307362,41.6093728307362,null,28.4672709520304,28.4672709520304,null,34.3669597621104,34.3669597621104,null,32.9111523827712,32.9111523827712,null,14.5327958102685,14.5327958102685,null,33.8971434955227,33.8971434955227,null,29.8045397185225,29.8045397185225,null,21.8872983683424,21.8872983683424,null,40.4370329457692,40.4370329457692,null,5.8169498794388,5.8169498794388,null,32.5191519642698,32.5191519642698,null,36.0094767447303,36.0094767447303,null,38.3077355955209,38.3077355955209,null,39.7151589414255,39.7151589414255,null,33.7442214366797,33.7442214366797,null,30.6168177442804,30.6168177442804,null,35.0699351412278,35.0699351412278,null,26.8030574550265,26.8030574550265,null,24.9585778816586,24.9585778816586,null,32.5603435354946,32.5603435354946,null,34.3153044248451,34.3153044248451,null,25.8314879046045,25.8314879046045,null,31.32,31.32,null,7.81,7.81,null,45.13,45.13,null,41.02,41.02,null,25.57,25.57,null,14.93,14.93,null,56.32,56.32,null,41.7019401967944,41.7019401967944,null,22.6388540459101,22.6388540459101,null,60.0,60.0,null,43.0052177358958,43.0052177358958,null,33.9595497890411,33.9595497890411,null,34.5725881084425,34.5725881084425,null,36.6942973747611,36.6942973747611,null,34.8155494903416,34.8155494903416,null,19.3705869686756,19.3705869686756,null,24.5705884353766,24.5705884353766,null,57.3647775330136,57.3647775330136,null,54.9524851233856,54.9524851233856,null,16.2148412665118,16.2148412665118,null,31.9801452499175,31.9801452499175,null,35.5406900745188,35.5406900745188,null,49.7525050363166,49.7525050363166,null,40.0702210181573,40.0702210181573,null,5.0,5.0,null,36.7322275146926,36.7322275146926,null,29.6594718693267,29.6594718693267,null,38.2714088311366,38.2714088311366,null,35.2592382610664,35.2592382610664,null,26.4976622240335,26.4976622240335,null,33.0386522337581,33.0386522337581,null,32.962925865768,32.962925865768,null,35.1623868960872,35.1623868960872,null,27.2360109917439,27.2360109917439,null,34.6328235047335,34.6328235047335,null,29.8932321955837,29.8932321955837,null,37.100033909994,37.100033909994,null,12.3507888904598,12.3507888904598,null,29.1427843247037,29.1427843247037,null,33.1784034559835,33.1784034559835,null,7.58941834887219,7.58941834887219,null,30.4499608128311,30.4499608128311,null,24.190699807017,24.190699807017,null,33.5302690207129,33.5302690207129,null,31.4173157142354,31.4173157142354,null,39.3936980648782,39.3936980648782,null,30.5797441797741,30.5797441797741,null,31.1525050404484,31.1525050404484,null,29.4289781086616,29.4289781086616,null,32.742475024953,32.742475024953,null,11.52,11.52,null,24.94,24.94,null,29.87,29.87,null,44.42,44.42,null,13.41,13.41,null,36.48,36.48,null,58.09,58.09,null,30.613619238124,30.613619238124,null,29.1360028901199,29.1360028901199,null,27.0934664288426,27.0934664288426,null,27.7190129298426,27.7190129298426,null,30.0940193031494,30.0940193031494,null,47.9350088802999,47.9350088802999,null,28.2273580361279,28.2273580361279,null,5.08362575608139,5.08362575608139,null,8.01531127342957,8.01531127342957,null,41.4620291983301,41.4620291983301,null,38.9781986274978,38.9781986274978,null,18.1633797947714,18.1633797947714,null,33.887312690097,33.887312690097,null,30.7806998355584,30.7806998355584,null,32.617276932137,32.617276932137,null,26.5249030138598,26.5249030138598,null,23.8058286928491,23.8058286928491,null,27.8587985382755,27.8587985382755,null,32.6440245333755,32.6440245333755,null,55.6113124458375,55.6113124458375,null,54.4261949006364,54.4261949006364,null,26.8322348830173,26.8322348830173,null,56.3093232063137,56.3093232063137,null,38.076432121479,38.076432121479,null,34.5491130708302,34.5491130708302,null,29.3127756358639,29.3127756358639,null,35.1579716436082,35.1579716436082,null,26.2205206116941,26.2205206116941,null,43.566831425744,43.566831425744,null,36.0262751396478,36.0262751396478,null,21.082250848464,21.082250848464,null,29.1278129347649,29.1278129347649,null,34.7924536952616,34.7924536952616,null,30.1670852315928,30.1670852315928,null,27.5994476489008,27.5994476489008,null,19.3160462018516,19.3160462018516,null,28.0163941280542,28.0163941280542,null,36.817937469237,36.817937469237,null,25.1399952003105,25.1399952003105,null,25.9907785391757,25.9907785391757,null,29.6662150490422,29.6662150490422,null,32.5993879227923,32.5993879227923,null,37.9230912780861,37.9230912780861,null],\"z\":[3.22,-1,null,7.39,-1,null,4.59,-1,null,2.4,-1,null,0.67,-1,null,7.01,-1,null,9.84,-1,null,5.49510364653455,-1,null,1.81579695063668,-1,null,1.72751920466575,-1,null,0.27412558674906,-1,null,1.57502719649738,-1,null,0.976484033876342,-1,null,0.795030867053931,-1,null,0.223586109682248,-1,null,0.308080860780793,-1,null,0.751124894909785,-1,null,3.3311751087131,-1,null,0.568002652307095,-1,null,0.0,-1,null,1.08448699685994,-1,null,3.45747319937467,-1,null,1.13327261940407,-1,null,0.313506533877572,-1,null,0.0,-1,null,0.222903516334492,-1,null,1.37914292231955,-1,null,6.59693578690008,-1,null,3.51314907600546,-1,null,1.3695799313515,-1,null,0.0,-1,null,0.892121610589224,-1,null,3.45837189156471,-1,null,0.726365920386771,-1,null,1.90407978283655,-1,null,0.892127237882323,-1,null,0.0,-1,null,1.80692298927633,-1,null,0.82911090035137,-1,null,0.824590599527226,-1,null,0.7715030731982,-1,null,4.43038338443129,-1,null,1.02962773747393,-1,null,1.57367185364169,-1,null,0.962723912564613,-1,null,1.70521270157805,-1,null,0.0,-1,null,1.24221701501888,-1,null,1.84792948671915,-1,null,10.0,-1,null,0.3,-1,null,5.51,-1,null,1.92,-1,null,8.65,-1,null,8.16,-1,null,6.23,-1,null,4.09,-1,null,1.97173722932744,-1,null,4.7213378088734,-1,null,6.98766630942404,-1,null,0.0781259255547099,-1,null,0.33066522318053,-1,null,9.71494798531561,-1,null,0.248784097666226,-1,null,0.0,-1,null,0.555581391159761,-1,null,0.0,-1,null,5.12816980496431,-1,null,0.845975393581705,-1,null,0.0,-1,null,0.0,-1,null,0.599755549917989,-1,null,2.82976818460669,-1,null,10.0,-1,null,0.0,-1,null,1.41241444253297,-1,null,0.0,-1,null,0.0,-1,null,4.83859671489312,-1,null,2.39015831359634,-1,null,0.543619519967613,-1,null,0.231532792475657,-1,null,2.2923973991017,-1,null,0.0,-1,null,3.13568987772085,-1,null,4.60274237374531,-1,null,0.260132851949908,-1,null,0.0241526486703397,-1,null,1.17962499248192,-1,null,1.49074069255186,-1,null,0.0,-1,null,0.811632605543142,-1,null,6.06620699792823,-1,null,0.731548730741485,-1,null,1.56101864831558,-1,null,1.1333694969264,-1,null,1.53345401913752,-1,null,0.936361471927426,-1,null,0.834743773304974,-1,null,1.39432803750642,-1,null,0.05,-1,null,1.92,-1,null,2.98,-1,null,4.85,-1,null,5.92,-1,null,9.34,-1,null,7.45,-1,null,4.38205006713619,-1,null,8.57045737792441,-1,null,0.423728941344387,-1,null,8.0746545741522,-1,null,0.0,-1,null,0.798338340363284,-1,null,0.621125453563099,-1,null,4.76817591673556,-1,null,0.720733490434228,-1,null,0.437207648689124,-1,null,1.1496971384899,-1,null,0.0,-1,null,0.0,-1,null,0.0,-1,null,1.07493442407484,-1,null,3.50006379763398,-1,null,0.117482377195914,-1,null,0.0,-1,null,7.22318119390646,-1,null,5.28271260739329,-1,null,6.43547876856129,-1,null,1.78527208726959,-1,null,0.13411440824851,-1,null,5.65185139866661,-1,null,0.338592593066716,-1,null,0.441322345021356,-1,null,0.879272302072603,-1,null,4.72277265779975,-1,null,0.896260876178891,-1,null,0.397322026272358,-1,null,1.46466452174249,-1,null,4.75644116431528,-1,null,1.41077548849591,-1,null,3.85626511905311,-1,null,1.11801042975968,-1,null,2.47277770505139,-1,null,1.78875316974412,-1,null,0.471249231883023,-1,null,0.0,-1,null,0.649303618339606,-1,null,1.08716160470635,-1,null,0.853923193461046,-1,null,1.30151527426978,-1,null],\"type\":\"scatter3d\",\"marker\":{\"size\":8}},{\"marker\":{\"color\":\"black\",\"size\":9,\"symbol\":\"diamond\"},\"mode\":\"markers\",\"x\":[4.44,7.85,9.44,6.36,1.3,3.36,5.03,9.55765529084079,1.46581015600357,1.69651574907421,2.17787539373663,2.58795855626415,9.9852498620893,1.82400421331431,3.83994986297086,1.71047269793955,1.00023756745268,1.0,1.32143292950446,1.1641034532968,1.34118807738371,1.52112466741034,1.0,2.02901945094548,5.00038122818008,1.98496709898062,1.18546277796098,1.0,1.24516424112171,2.9268841465437,1.0,1.11000141237879,1.0,1.17468831709684,3.57602655797929,8.1109056641041,1.0,4.16266929702087,5.86279793204741,1.0,7.22249135464644,1.04841854191655,1.0,1.08789242165095,1.40869474427053,1.43442306356793,1.72046152173063,1.0,2.88807052134617,1.0],\"y\":[12.94,8.82,45.19,31.81,58.78,27.0,41.09,24.7128185445087,53.8897672939099,19.9607056254599,29.5111563298578,36.9693050708585,28.8836949291197,8.86109567693063,18.4661027884504,49.0096305480143,32.2860936137618,25.5047345664152,5.0,31.636286469108,42.9286521404846,34.6170848540858,26.2571132364512,27.4214016342663,25.69574123495,23.7459313801906,31.0982515176564,36.1222924222529,41.6093728307362,28.4672709520304,34.3669597621104,32.9111523827712,14.5327958102685,33.8971434955227,29.8045397185225,21.8872983683424,40.4370329457692,5.8169498794388,32.5191519642698,36.0094767447303,38.3077355955209,39.7151589414255,33.7442214366797,30.6168177442804,35.0699351412278,26.8030574550265,24.9585778816586,32.5603435354946,34.3153044248451,25.8314879046045],\"z\":[3.22,7.39,4.59,2.4,0.67,7.01,9.84,5.49510364653455,1.81579695063668,1.72751920466575,0.27412558674906,1.57502719649738,0.976484033876342,0.795030867053931,0.223586109682248,0.308080860780793,0.751124894909785,3.3311751087131,0.568002652307095,0.0,1.08448699685994,3.45747319937467,1.13327261940407,0.313506533877572,0.0,0.222903516334492,1.37914292231955,6.59693578690008,3.51314907600546,1.3695799313515,0.0,0.892121610589224,3.45837189156471,0.726365920386771,1.90407978283655,0.892127237882323,0.0,1.80692298927633,0.82911090035137,0.824590599527226,0.7715030731982,4.43038338443129,1.02962773747393,1.57367185364169,0.962723912564613,1.70521270157805,0.0,1.24221701501888,1.84792948671915,10.0],\"type\":\"scatter3d\"},{\"marker\":{\"color\":\"black\",\"size\":9,\"symbol\":\"square\"},\"mode\":\"markers\",\"x\":[6.14,9.68,2.58,8.18,4.73,1.74,6.01,2.44103695239975,2.79313820851141,8.56666877823857,4.2610007227135,2.89395146477269,4.45580197904473,1.0,1.0,1.0,1.35210346565518,1.17726264572973,1.0,2.93225117789541,1.21963917089358,9.64644887689991,3.49668719529062,1.3647290012776,2.1034121908897,3.20967985930285,2.06918290463614,1.30627617810267,1.9994353519123,1.58194320840147,1.13208181043708,1.84279202547545,7.08125607555881,1.0,4.98223854448491,1.20681641434454,4.49401978506155,10.0,1.35422706520576,2.66530528522302,7.1218063902828,1.33345790075615,3.8207563344534,2.20107766211118,1.0,1.0,2.01825671605462,3.38806790384503,1.50043491920691,1.99780469901582],\"y\":[31.32,7.81,45.13,41.02,25.57,14.93,56.32,41.7019401967944,22.6388540459101,60.0,43.0052177358958,33.9595497890411,34.5725881084425,36.6942973747611,34.8155494903416,19.3705869686756,24.5705884353766,57.3647775330136,54.9524851233856,16.2148412665118,31.9801452499175,35.5406900745188,49.7525050363166,40.0702210181573,5.0,36.7322275146926,29.6594718693267,38.2714088311366,35.2592382610664,26.4976622240335,33.0386522337581,32.962925865768,35.1623868960872,27.2360109917439,34.6328235047335,29.8932321955837,37.100033909994,12.3507888904598,29.1427843247037,33.1784034559835,7.58941834887219,30.4499608128311,24.190699807017,33.5302690207129,31.4173157142354,39.3936980648782,30.5797441797741,31.1525050404484,29.4289781086616,32.742475024953],\"z\":[0.3,5.51,1.92,8.65,8.16,6.23,4.09,1.97173722932744,4.7213378088734,6.98766630942404,0.0781259255547099,0.33066522318053,9.71494798531561,0.248784097666226,0.0,0.555581391159761,0.0,5.12816980496431,0.845975393581705,0.0,0.0,0.599755549917989,2.82976818460669,10.0,0.0,1.41241444253297,0.0,0.0,4.83859671489312,2.39015831359634,0.543619519967613,0.231532792475657,2.2923973991017,0.0,3.13568987772085,4.60274237374531,0.260132851949908,0.0241526486703397,1.17962499248192,1.49074069255186,0.0,0.811632605543142,6.06620699792823,0.731548730741485,1.56101864831558,1.1333694969264,1.53345401913752,0.936361471927426,0.834743773304974,1.39432803750642],\"type\":\"scatter3d\"},{\"marker\":{\"color\":\"black\",\"size\":9,\"symbol\":\"circle\"},\"mode\":\"markers\",\"x\":[8.24,4.74,8.96,2.91,5.44,1.47,7.27,3.05649082350913,2.09912657538309,4.54058261312281,9.77229262906983,4.88586837706711,6.84144719771484,1.91427992211107,1.0,1.321630185789,1.0,1.0,1.0,1.18093941818273,1.0,1.1854309437589,7.34859857368157,1.57293248553862,5.41193079300026,6.37385392472166,9.41183810571757,2.79406849452495,1.50481106533973,1.01549292263374,1.0,1.04444396810523,3.9219472395651,1.0,1.0,10.0,1.66430267941285,1.0,1.06349138695286,2.63820134713421,1.42194380511526,1.16751984362664,1.0,1.0,1.0,1.0,1.77970056811895,1.93110615052928,2.06499606058907,1.0],\"y\":[11.52,24.94,29.87,44.42,13.41,36.48,58.09,30.613619238124,29.1360028901199,27.0934664288426,27.7190129298426,30.0940193031494,47.9350088802999,28.2273580361279,5.08362575608139,8.01531127342957,41.4620291983301,38.9781986274978,18.1633797947714,33.887312690097,30.7806998355584,32.617276932137,26.5249030138598,23.8058286928491,27.8587985382755,32.6440245333755,55.6113124458375,54.4261949006364,26.8322348830173,56.3093232063137,38.076432121479,34.5491130708302,29.3127756358639,35.1579716436082,26.2205206116941,43.566831425744,36.0262751396478,21.082250848464,29.1278129347649,34.7924536952616,30.1670852315928,27.5994476489008,19.3160462018516,28.0163941280542,36.817937469237,25.1399952003105,25.9907785391757,29.6662150490422,32.5993879227923,37.9230912780861],\"z\":[0.05,1.92,2.98,4.85,5.92,9.34,7.45,4.38205006713619,8.57045737792441,0.423728941344387,8.0746545741522,0.0,0.798338340363284,0.621125453563099,4.76817591673556,0.720733490434228,0.437207648689124,1.1496971384899,0.0,0.0,0.0,1.07493442407484,3.50006379763398,0.117482377195914,0.0,7.22318119390646,5.28271260739329,6.43547876856129,1.78527208726959,0.13411440824851,5.65185139866661,0.338592593066716,0.441322345021356,0.879272302072603,4.72277265779975,0.896260876178891,0.397322026272358,1.46466452174249,4.75644116431528,1.41077548849591,3.85626511905311,1.11801042975968,2.47277770505139,1.78875316974412,0.471249231883023,0.0,0.649303618339606,1.08716160470635,0.853923193461046,1.30151527426978],\"type\":\"scatter3d\"},{\"hovertemplate\":\"repeatNumb=1<br>Gradient time / minutes=%{x}<br>Initial organic modifier (%)=%{y}<br>Isocratic hold time / minutes=%{z}<br>Dist2=%{marker.color}<extra></extra>\",\"legendgroup\":\"1\",\"marker\":{\"color\":[1.40820576133274,2.21495706001993,1.0,0.351093521407841,1.0,0.613419770930868,1.0,0.74493760823893,1.0,1.0,0.0737947159096748,1.0,0.368759846462947,1.0,1.0,1.0,0.0372172620569928,0.240809584707274,1.0,1.0,1.0,0.258367622782801,0.0702715101317055,1.0,0.187110106874532,1.0,0.0749417572883151,0.4837010007874,1.0,0.159659808237437,1.0,0.0471920984429123,0.231798965478443,0.0310552104354899,0.224675353304151,1.0,1.0,1.0,0.218122862229054,0.0560791618047004,1.0,1.0,0.0375381670321581,0.0835334861336562,0.0784483538124496,0.131704291211897,1.0,0.0573409989545441,0.19222343922846,0.735944303761413],\"coloraxis\":\"coloraxis\",\"symbol\":\"diamond\",\"size\":7},\"mode\":\"markers\",\"name\":\"1\",\"scene\":\"scene\",\"showlegend\":true,\"x\":[4.44,7.85,9.44,6.36,1.3,3.36,5.03,9.55765529084079,1.46581015600357,1.69651574907421,2.17787539373663,2.58795855626415,9.9852498620893,1.82400421331431,3.83994986297086,1.71047269793955,1.00023756745268,1.0,1.32143292950446,1.1641034532968,1.34118807738371,1.52112466741034,1.0,2.02901945094548,5.00038122818008,1.98496709898062,1.18546277796098,1.0,1.24516424112171,2.9268841465437,1.0,1.11000141237879,1.0,1.17468831709684,3.57602655797929,8.1109056641041,1.0,4.16266929702087,5.86279793204741,1.0,7.22249135464644,1.04841854191655,1.0,1.08789242165095,1.40869474427053,1.43442306356793,1.72046152173063,1.0,2.88807052134617,1.0],\"y\":[12.94,8.82,45.19,31.81,58.78,27.0,41.09,24.7128185445087,53.8897672939099,19.9607056254599,29.5111563298578,36.9693050708585,28.8836949291197,8.86109567693063,18.4661027884504,49.0096305480143,32.2860936137618,25.5047345664152,5.0,31.636286469108,42.9286521404846,34.6170848540858,26.2571132364512,27.4214016342663,25.69574123495,23.7459313801906,31.0982515176564,36.1222924222529,41.6093728307362,28.4672709520304,34.3669597621104,32.9111523827712,14.5327958102685,33.8971434955227,29.8045397185225,21.8872983683424,40.4370329457692,5.8169498794388,32.5191519642698,36.0094767447303,38.3077355955209,39.7151589414255,33.7442214366797,30.6168177442804,35.0699351412278,26.8030574550265,24.9585778816586,32.5603435354946,34.3153044248451,25.8314879046045],\"z\":[3.22,7.39,4.59,2.4,0.67,7.01,9.84,5.49510364653455,1.81579695063668,1.72751920466575,0.27412558674906,1.57502719649738,0.976484033876342,0.795030867053931,0.223586109682248,0.308080860780793,0.751124894909785,3.3311751087131,0.568002652307095,0.0,1.08448699685994,3.45747319937467,1.13327261940407,0.313506533877572,0.0,0.222903516334492,1.37914292231955,6.59693578690008,3.51314907600546,1.3695799313515,0.0,0.892121610589224,3.45837189156471,0.726365920386771,1.90407978283655,0.892127237882323,0.0,1.80692298927633,0.82911090035137,0.824590599527226,0.7715030731982,4.43038338443129,1.02962773747393,1.57367185364169,0.962723912564613,1.70521270157805,0.0,1.24221701501888,1.84792948671915,10.0],\"type\":\"scatter3d\"},{\"hovertemplate\":\"repeatNumb=2<br>Gradient time / minutes=%{x}<br>Initial organic modifier (%)=%{y}<br>Isocratic hold time / minutes=%{z}<br>Dist2=%{marker.color}<extra></extra>\",\"legendgroup\":\"2\",\"marker\":{\"color\":[0.193634256648544,1.0,1.0,1.0,0.774267946643596,0.736773680541551,1.0,1.0,1.0,1.0,1.0,0.0822801915323843,0.823847435361763,1.0,1.0,1.0,1.0,1.0,1.0,1.0,1.0,0.309994955512339,1.0,1.0,1.0,0.198323038401926,1.0,1.0,0.393185404479964,0.207561888199337,0.0164712511834749,0.0375187686633248,0.366506565953872,1.0,0.362556230094215,0.324930863399582,1.0,1.0,0.0835236805968521,0.150026819218681,1.0,0.0503080836351278,1.0,0.0754931402476058,0.0849716980463971,1.0,0.131190360969246,0.143583635767062,0.0654375714265559,0.115079446319388],\"coloraxis\":\"coloraxis\",\"symbol\":\"square\",\"size\":7},\"mode\":\"markers\",\"name\":\"2\",\"scene\":\"scene\",\"showlegend\":true,\"x\":[6.14,9.68,2.58,8.18,4.73,1.74,6.01,2.44103695239975,2.79313820851141,8.56666877823857,4.2610007227135,2.89395146477269,4.45580197904473,1.0,1.0,1.0,1.35210346565518,1.17726264572973,1.0,2.93225117789541,1.21963917089358,9.64644887689991,3.49668719529062,1.3647290012776,2.1034121908897,3.20967985930285,2.06918290463614,1.30627617810267,1.9994353519123,1.58194320840147,1.13208181043708,1.84279202547545,7.08125607555881,1.0,4.98223854448491,1.20681641434454,4.49401978506155,10.0,1.35422706520576,2.66530528522302,7.1218063902828,1.33345790075615,3.8207563344534,2.20107766211118,1.0,1.0,2.01825671605462,3.38806790384503,1.50043491920691,1.99780469901582],\"y\":[31.32,7.81,45.13,41.02,25.57,14.93,56.32,41.7019401967944,22.6388540459101,60.0,43.0052177358958,33.9595497890411,34.5725881084425,36.6942973747611,34.8155494903416,19.3705869686756,24.5705884353766,57.3647775330136,54.9524851233856,16.2148412665118,31.9801452499175,35.5406900745188,49.7525050363166,40.0702210181573,5.0,36.7322275146926,29.6594718693267,38.2714088311366,35.2592382610664,26.4976622240335,33.0386522337581,32.962925865768,35.1623868960872,27.2360109917439,34.6328235047335,29.8932321955837,37.100033909994,12.3507888904598,29.1427843247037,33.1784034559835,7.58941834887219,30.4499608128311,24.190699807017,33.5302690207129,31.4173157142354,39.3936980648782,30.5797441797741,31.1525050404484,29.4289781086616,32.742475024953],\"z\":[0.3,5.51,1.92,8.65,8.16,6.23,4.09,1.97173722932744,4.7213378088734,6.98766630942404,0.0781259255547099,0.33066522318053,9.71494798531561,0.248784097666226,0.0,0.555581391159761,0.0,5.12816980496431,0.845975393581705,0.0,0.0,0.599755549917989,2.82976818460669,10.0,0.0,1.41241444253297,0.0,0.0,4.83859671489312,2.39015831359634,0.543619519967613,0.231532792475657,2.2923973991017,0.0,3.13568987772085,4.60274237374531,0.260132851949908,0.0241526486703397,1.17962499248192,1.49074069255186,0.0,0.811632605543142,6.06620699792823,0.731548730741485,1.56101864831558,1.1333694969264,1.53345401913752,0.936361471927426,0.834743773304974,1.39432803750642],\"type\":\"scatter3d\"},{\"hovertemplate\":\"repeatNumb=3<br>Gradient time / minutes=%{x}<br>Initial organic modifier (%)=%{y}<br>Isocratic hold time / minutes=%{z}<br>Dist2=%{marker.color}<extra></extra>\",\"legendgroup\":\"3\",\"marker\":{\"color\":[1.0,0.323555052704416,0.483877149996847,1.0,1.0,0.708181148562373,1.0,0.389931084456278,0.670020716862035,0.193288985412138,0.908503230551001,0.158486354666982,1.0,0.0773444085263068,0.357841818055338,1.0,1.0,1.0,1.0,1.0,1.0,0.0484765335902172,0.50689180617846,1.0,0.189970559199249,0.705470543025031,1.0,1.0,0.146908005706688,1.0,1.0,0.0208900760478789,0.141841232737553,0.0466848317338836,0.340621016937704,1.0,0.0590906181178248,1.0,0.327268942228095,0.163283115054314,0.274575717845021,0.0737527129079321,1.0,0.11127450038853,0.033751147577512,1.0,1.0,0.0927303244721547,0.0750154903008257,1.0],\"coloraxis\":\"coloraxis\",\"symbol\":\"circle\",\"size\":7},\"mode\":\"markers\",\"name\":\"3\",\"scene\":\"scene\",\"showlegend\":true,\"x\":[8.24,4.74,8.96,2.91,5.44,1.47,7.27,3.05649082350913,2.09912657538309,4.54058261312281,9.77229262906983,4.88586837706711,6.84144719771484,1.91427992211107,1.0,1.321630185789,1.0,1.0,1.0,1.18093941818273,1.0,1.1854309437589,7.34859857368157,1.57293248553862,5.41193079300026,6.37385392472166,9.41183810571757,2.79406849452495,1.50481106533973,1.01549292263374,1.0,1.04444396810523,3.9219472395651,1.0,1.0,10.0,1.66430267941285,1.0,1.06349138695286,2.63820134713421,1.42194380511526,1.16751984362664,1.0,1.0,1.0,1.0,1.77970056811895,1.93110615052928,2.06499606058907,1.0],\"y\":[11.52,24.94,29.87,44.42,13.41,36.48,58.09,30.613619238124,29.1360028901199,27.0934664288426,27.7190129298426,30.0940193031494,47.9350088802999,28.2273580361279,5.08362575608139,8.01531127342957,41.4620291983301,38.9781986274978,18.1633797947714,33.887312690097,30.7806998355584,32.617276932137,26.5249030138598,23.8058286928491,27.8587985382755,32.6440245333755,55.6113124458375,54.4261949006364,26.8322348830173,56.3093232063137,38.076432121479,34.5491130708302,29.3127756358639,35.1579716436082,26.2205206116941,43.566831425744,36.0262751396478,21.082250848464,29.1278129347649,34.7924536952616,30.1670852315928,27.5994476489008,19.3160462018516,28.0163941280542,36.817937469237,25.1399952003105,25.9907785391757,29.6662150490422,32.5993879227923,37.9230912780861],\"z\":[0.05,1.92,2.98,4.85,5.92,9.34,7.45,4.38205006713619,8.57045737792441,0.423728941344387,8.0746545741522,0.0,0.798338340363284,0.621125453563099,4.76817591673556,0.720733490434228,0.437207648689124,1.1496971384899,0.0,0.0,0.0,1.07493442407484,3.50006379763398,0.117482377195914,0.0,7.22318119390646,5.28271260739329,6.43547876856129,1.78527208726959,0.13411440824851,5.65185139866661,0.338592593066716,0.441322345021356,0.879272302072603,4.72277265779975,0.896260876178891,0.397322026272358,1.46466452174249,4.75644116431528,1.41077548849591,3.85626511905311,1.11801042975968,2.47277770505139,1.78875316974412,0.471249231883023,0.0,0.649303618339606,1.08716160470635,0.853923193461046,1.30151527426978],\"type\":\"scatter3d\"}],                        {\"template\":{\"data\":{\"barpolar\":[{\"marker\":{\"line\":{\"color\":\"white\",\"width\":0.5},\"pattern\":{\"fillmode\":\"overlay\",\"size\":10,\"solidity\":0.2}},\"type\":\"barpolar\"}],\"bar\":[{\"error_x\":{\"color\":\"#2a3f5f\"},\"error_y\":{\"color\":\"#2a3f5f\"},\"marker\":{\"line\":{\"color\":\"white\",\"width\":0.5},\"pattern\":{\"fillmode\":\"overlay\",\"size\":10,\"solidity\":0.2}},\"type\":\"bar\"}],\"carpet\":[{\"aaxis\":{\"endlinecolor\":\"#2a3f5f\",\"gridcolor\":\"#C8D4E3\",\"linecolor\":\"#C8D4E3\",\"minorgridcolor\":\"#C8D4E3\",\"startlinecolor\":\"#2a3f5f\"},\"baxis\":{\"endlinecolor\":\"#2a3f5f\",\"gridcolor\":\"#C8D4E3\",\"linecolor\":\"#C8D4E3\",\"minorgridcolor\":\"#C8D4E3\",\"startlinecolor\":\"#2a3f5f\"},\"type\":\"carpet\"}],\"choropleth\":[{\"colorbar\":{\"outlinewidth\":0,\"ticks\":\"\"},\"type\":\"choropleth\"}],\"contourcarpet\":[{\"colorbar\":{\"outlinewidth\":0,\"ticks\":\"\"},\"type\":\"contourcarpet\"}],\"contour\":[{\"colorbar\":{\"outlinewidth\":0,\"ticks\":\"\"},\"colorscale\":[[0.0,\"#0d0887\"],[0.1111111111111111,\"#46039f\"],[0.2222222222222222,\"#7201a8\"],[0.3333333333333333,\"#9c179e\"],[0.4444444444444444,\"#bd3786\"],[0.5555555555555556,\"#d8576b\"],[0.6666666666666666,\"#ed7953\"],[0.7777777777777778,\"#fb9f3a\"],[0.8888888888888888,\"#fdca26\"],[1.0,\"#f0f921\"]],\"type\":\"contour\"}],\"heatmapgl\":[{\"colorbar\":{\"outlinewidth\":0,\"ticks\":\"\"},\"colorscale\":[[0.0,\"#0d0887\"],[0.1111111111111111,\"#46039f\"],[0.2222222222222222,\"#7201a8\"],[0.3333333333333333,\"#9c179e\"],[0.4444444444444444,\"#bd3786\"],[0.5555555555555556,\"#d8576b\"],[0.6666666666666666,\"#ed7953\"],[0.7777777777777778,\"#fb9f3a\"],[0.8888888888888888,\"#fdca26\"],[1.0,\"#f0f921\"]],\"type\":\"heatmapgl\"}],\"heatmap\":[{\"colorbar\":{\"outlinewidth\":0,\"ticks\":\"\"},\"colorscale\":[[0.0,\"#0d0887\"],[0.1111111111111111,\"#46039f\"],[0.2222222222222222,\"#7201a8\"],[0.3333333333333333,\"#9c179e\"],[0.4444444444444444,\"#bd3786\"],[0.5555555555555556,\"#d8576b\"],[0.6666666666666666,\"#ed7953\"],[0.7777777777777778,\"#fb9f3a\"],[0.8888888888888888,\"#fdca26\"],[1.0,\"#f0f921\"]],\"type\":\"heatmap\"}],\"histogram2dcontour\":[{\"colorbar\":{\"outlinewidth\":0,\"ticks\":\"\"},\"colorscale\":[[0.0,\"#0d0887\"],[0.1111111111111111,\"#46039f\"],[0.2222222222222222,\"#7201a8\"],[0.3333333333333333,\"#9c179e\"],[0.4444444444444444,\"#bd3786\"],[0.5555555555555556,\"#d8576b\"],[0.6666666666666666,\"#ed7953\"],[0.7777777777777778,\"#fb9f3a\"],[0.8888888888888888,\"#fdca26\"],[1.0,\"#f0f921\"]],\"type\":\"histogram2dcontour\"}],\"histogram2d\":[{\"colorbar\":{\"outlinewidth\":0,\"ticks\":\"\"},\"colorscale\":[[0.0,\"#0d0887\"],[0.1111111111111111,\"#46039f\"],[0.2222222222222222,\"#7201a8\"],[0.3333333333333333,\"#9c179e\"],[0.4444444444444444,\"#bd3786\"],[0.5555555555555556,\"#d8576b\"],[0.6666666666666666,\"#ed7953\"],[0.7777777777777778,\"#fb9f3a\"],[0.8888888888888888,\"#fdca26\"],[1.0,\"#f0f921\"]],\"type\":\"histogram2d\"}],\"histogram\":[{\"marker\":{\"pattern\":{\"fillmode\":\"overlay\",\"size\":10,\"solidity\":0.2}},\"type\":\"histogram\"}],\"mesh3d\":[{\"colorbar\":{\"outlinewidth\":0,\"ticks\":\"\"},\"type\":\"mesh3d\"}],\"parcoords\":[{\"line\":{\"colorbar\":{\"outlinewidth\":0,\"ticks\":\"\"}},\"type\":\"parcoords\"}],\"pie\":[{\"automargin\":true,\"type\":\"pie\"}],\"scatter3d\":[{\"line\":{\"colorbar\":{\"outlinewidth\":0,\"ticks\":\"\"}},\"marker\":{\"colorbar\":{\"outlinewidth\":0,\"ticks\":\"\"}},\"type\":\"scatter3d\"}],\"scattercarpet\":[{\"marker\":{\"colorbar\":{\"outlinewidth\":0,\"ticks\":\"\"}},\"type\":\"scattercarpet\"}],\"scattergeo\":[{\"marker\":{\"colorbar\":{\"outlinewidth\":0,\"ticks\":\"\"}},\"type\":\"scattergeo\"}],\"scattergl\":[{\"marker\":{\"colorbar\":{\"outlinewidth\":0,\"ticks\":\"\"}},\"type\":\"scattergl\"}],\"scattermapbox\":[{\"marker\":{\"colorbar\":{\"outlinewidth\":0,\"ticks\":\"\"}},\"type\":\"scattermapbox\"}],\"scatterpolargl\":[{\"marker\":{\"colorbar\":{\"outlinewidth\":0,\"ticks\":\"\"}},\"type\":\"scatterpolargl\"}],\"scatterpolar\":[{\"marker\":{\"colorbar\":{\"outlinewidth\":0,\"ticks\":\"\"}},\"type\":\"scatterpolar\"}],\"scatter\":[{\"fillpattern\":{\"fillmode\":\"overlay\",\"size\":10,\"solidity\":0.2},\"type\":\"scatter\"}],\"scatterternary\":[{\"marker\":{\"colorbar\":{\"outlinewidth\":0,\"ticks\":\"\"}},\"type\":\"scatterternary\"}],\"surface\":[{\"colorbar\":{\"outlinewidth\":0,\"ticks\":\"\"},\"colorscale\":[[0.0,\"#0d0887\"],[0.1111111111111111,\"#46039f\"],[0.2222222222222222,\"#7201a8\"],[0.3333333333333333,\"#9c179e\"],[0.4444444444444444,\"#bd3786\"],[0.5555555555555556,\"#d8576b\"],[0.6666666666666666,\"#ed7953\"],[0.7777777777777778,\"#fb9f3a\"],[0.8888888888888888,\"#fdca26\"],[1.0,\"#f0f921\"]],\"type\":\"surface\"}],\"table\":[{\"cells\":{\"fill\":{\"color\":\"#EBF0F8\"},\"line\":{\"color\":\"white\"}},\"header\":{\"fill\":{\"color\":\"#C8D4E3\"},\"line\":{\"color\":\"white\"}},\"type\":\"table\"}]},\"layout\":{\"annotationdefaults\":{\"arrowcolor\":\"#2a3f5f\",\"arrowhead\":0,\"arrowwidth\":1},\"autotypenumbers\":\"strict\",\"coloraxis\":{\"colorbar\":{\"outlinewidth\":0,\"ticks\":\"\"}},\"colorscale\":{\"diverging\":[[0,\"#8e0152\"],[0.1,\"#c51b7d\"],[0.2,\"#de77ae\"],[0.3,\"#f1b6da\"],[0.4,\"#fde0ef\"],[0.5,\"#f7f7f7\"],[0.6,\"#e6f5d0\"],[0.7,\"#b8e186\"],[0.8,\"#7fbc41\"],[0.9,\"#4d9221\"],[1,\"#276419\"]],\"sequential\":[[0.0,\"#0d0887\"],[0.1111111111111111,\"#46039f\"],[0.2222222222222222,\"#7201a8\"],[0.3333333333333333,\"#9c179e\"],[0.4444444444444444,\"#bd3786\"],[0.5555555555555556,\"#d8576b\"],[0.6666666666666666,\"#ed7953\"],[0.7777777777777778,\"#fb9f3a\"],[0.8888888888888888,\"#fdca26\"],[1.0,\"#f0f921\"]],\"sequentialminus\":[[0.0,\"#0d0887\"],[0.1111111111111111,\"#46039f\"],[0.2222222222222222,\"#7201a8\"],[0.3333333333333333,\"#9c179e\"],[0.4444444444444444,\"#bd3786\"],[0.5555555555555556,\"#d8576b\"],[0.6666666666666666,\"#ed7953\"],[0.7777777777777778,\"#fb9f3a\"],[0.8888888888888888,\"#fdca26\"],[1.0,\"#f0f921\"]]},\"colorway\":[\"#636efa\",\"#EF553B\",\"#00cc96\",\"#ab63fa\",\"#FFA15A\",\"#19d3f3\",\"#FF6692\",\"#B6E880\",\"#FF97FF\",\"#FECB52\"],\"font\":{\"color\":\"#2a3f5f\"},\"geo\":{\"bgcolor\":\"white\",\"lakecolor\":\"white\",\"landcolor\":\"white\",\"showlakes\":true,\"showland\":true,\"subunitcolor\":\"#C8D4E3\"},\"hoverlabel\":{\"align\":\"left\"},\"hovermode\":\"closest\",\"mapbox\":{\"style\":\"light\"},\"paper_bgcolor\":\"white\",\"plot_bgcolor\":\"white\",\"polar\":{\"angularaxis\":{\"gridcolor\":\"#EBF0F8\",\"linecolor\":\"#EBF0F8\",\"ticks\":\"\"},\"bgcolor\":\"white\",\"radialaxis\":{\"gridcolor\":\"#EBF0F8\",\"linecolor\":\"#EBF0F8\",\"ticks\":\"\"}},\"scene\":{\"xaxis\":{\"backgroundcolor\":\"white\",\"gridcolor\":\"#DFE8F3\",\"gridwidth\":2,\"linecolor\":\"#EBF0F8\",\"showbackground\":true,\"ticks\":\"\",\"zerolinecolor\":\"#EBF0F8\"},\"yaxis\":{\"backgroundcolor\":\"white\",\"gridcolor\":\"#DFE8F3\",\"gridwidth\":2,\"linecolor\":\"#EBF0F8\",\"showbackground\":true,\"ticks\":\"\",\"zerolinecolor\":\"#EBF0F8\"},\"zaxis\":{\"backgroundcolor\":\"white\",\"gridcolor\":\"#DFE8F3\",\"gridwidth\":2,\"linecolor\":\"#EBF0F8\",\"showbackground\":true,\"ticks\":\"\",\"zerolinecolor\":\"#EBF0F8\"}},\"shapedefaults\":{\"line\":{\"color\":\"#2a3f5f\"}},\"ternary\":{\"aaxis\":{\"gridcolor\":\"#DFE8F3\",\"linecolor\":\"#A2B1C6\",\"ticks\":\"\"},\"baxis\":{\"gridcolor\":\"#DFE8F3\",\"linecolor\":\"#A2B1C6\",\"ticks\":\"\"},\"bgcolor\":\"white\",\"caxis\":{\"gridcolor\":\"#DFE8F3\",\"linecolor\":\"#A2B1C6\",\"ticks\":\"\"}},\"title\":{\"x\":0.05},\"xaxis\":{\"automargin\":true,\"gridcolor\":\"#EBF0F8\",\"linecolor\":\"#EBF0F8\",\"ticks\":\"\",\"title\":{\"standoff\":15},\"zerolinecolor\":\"#EBF0F8\",\"zerolinewidth\":2},\"yaxis\":{\"automargin\":true,\"gridcolor\":\"#EBF0F8\",\"linecolor\":\"#EBF0F8\",\"ticks\":\"\",\"title\":{\"standoff\":15},\"zerolinecolor\":\"#EBF0F8\",\"zerolinewidth\":2}}},\"scene\":{\"domain\":{\"x\":[0.0,1.0],\"y\":[0.0,1.0]},\"xaxis\":{\"title\":{\"text\":\"Gradient time / minutes\",\"font\":{\"size\":15}},\"tickfont\":{\"color\":\"black\",\"size\":14},\"ticks\":\"outside\",\"tick0\":0,\"tickwidth\":4},\"yaxis\":{\"title\":{\"text\":\"Initial organic modifier (%)\",\"font\":{\"size\":15}},\"tickfont\":{\"color\":\"black\",\"size\":14},\"ticks\":\"outside\",\"tick0\":0,\"tickwidth\":4},\"zaxis\":{\"title\":{\"text\":\"Isocratic hold time / minutes\",\"font\":{\"size\":15}},\"tickfont\":{\"color\":\"black\",\"size\":14},\"ticks\":\"outside\",\"tick0\":0,\"tickwidth\":4},\"camera\":{\"eye\":{\"x\":-1.8673042307711347,\"y\":-1.7813407618263895,\"z\":0.3}},\"aspectmode\":\"cube\"},\"coloraxis\":{\"colorbar\":{\"title\":{\"text\":\"Distance to Pareto\\n\\n\",\"font\":{\"size\":20}},\"tickfont\":{\"size\":20},\"thickness\":20,\"dtick\":0.05,\"ticks\":\"outside\",\"tickwidth\":2,\"tickmode\":\"array\",\"tickvals\":[0,0.2,0.4,0.6,0.8,1.0],\"ticktext\":[\"0 (Best)\",\"0.2\",\"0.4\",\"0.6\",\"0.8\",\"1.0 (Worst)\"]},\"colorscale\":[[0.0,\"rgb(255, 176, 0)\"],[0.25,\"rgb(254, 97, 0)\"],[0.5,\"rgb(220, 38, 127)\"],[0.75,\"rgb(120, 94, 240)\"],[1.0,\"rgb(100, 143, 255)\"]],\"cmin\":-0.05,\"cmax\":1.05,\"showscale\":true},\"legend\":{\"title\":{\"text\":\"repeatNumb\"},\"tracegroupgap\":0},\"margin\":{\"t\":60},\"showlegend\":false,\"autosize\":false,\"width\":1000,\"height\":800},                        {\"responsive\": true}                    ).then(function(){\n",
       "                            \n",
       "var gd = document.getElementById('0892ccd3-33f2-4066-bd4b-ca7009857635');\n",
       "var x = new MutationObserver(function (mutations, observer) {{\n",
       "        var display = window.getComputedStyle(gd).display;\n",
       "        if (!display || display === 'none') {{\n",
       "            console.log([gd, 'removed!']);\n",
       "            Plotly.purge(gd);\n",
       "            observer.disconnect();\n",
       "        }}\n",
       "}});\n",
       "\n",
       "// Listen for the removal of the full notebook cells\n",
       "var notebookContainer = gd.closest('#notebook-container');\n",
       "if (notebookContainer) {{\n",
       "    x.observe(notebookContainer, {childList: true});\n",
       "}}\n",
       "\n",
       "// Listen for the clearing of the current output cell\n",
       "var outputEl = gd.closest('.output');\n",
       "if (outputEl) {{\n",
       "    x.observe(outputEl, {childList: true});\n",
       "}}\n",
       "\n",
       "                        })                };                });            </script>        </div>"
      ]
     },
     "metadata": {},
     "output_type": "display_data"
    }
   ],
   "source": [
    "#Figure 5. Design space for Optimisations 4, 5 and 6.\n",
    "\n",
    "#IBM colorscale no greenish\n",
    "colorscale = ['rgb(100, 143, 255)', 'rgb(120, 94, 240)', 'rgb(220, 38, 127)', 'rgb(254, 97, 0)', 'rgb(255, 176, 0)']\n",
    "colorscale.reverse()\n",
    "colorscale = pc.make_colorscale(colorscale)\n",
    "\n",
    "def rotate_z(x, y, z, theta):\n",
    "    w = x+1j*y\n",
    "    return np.real(np.exp(1j*theta)*w), np.imag(np.exp(1j*theta)*w), z\n",
    "\n",
    "\n",
    "xe, ye, ze = rotate_z(2.1, 1.5, 0.3, -3)\n",
    "fig = px.scatter_3d(allVars2, x = \"GradTime\", y = \"InitalOM\", z = \"IsoHoldTime\", color = \"Dist2\", symbol = \"repeatNumb\", color_continuous_scale=colorscale, labels={'GradTime':'Gradient time / minutes', 'InitalOM':'Initial organic modifier (%)',\n",
    "'IsoHoldTime':'Isocratic hold time / minutes', 'WeightRespcmtmdHPLC018':\"Responce\"})\n",
    "\n",
    "# Generate a pair of 3D points that corrispond to the line being drawn\n",
    "xyzList = allVars2.iloc[:,[0,1,4]]\n",
    "bottomList = allVars2.iloc[:,[0,1,4]]\n",
    "bottomList.loc[:,\"IsoHoldTime\"] = -1;\n",
    "\n",
    "x = pd.concat([xyzList.iloc[:,0],bottomList.iloc[:,0]], axis = 1)\n",
    "y = pd.concat([xyzList.iloc[:,1],bottomList.iloc[:,1]], axis = 1)\n",
    "z = pd.concat([xyzList.iloc[:,2],bottomList.iloc[:,2]], axis = 1)\n",
    "\n",
    "x_lines = list()\n",
    "y_lines = list()\n",
    "z_lines = list()\n",
    "\n",
    "#create the coordinate list for the lines\n",
    "for p in range(0, len(x)):\n",
    "    x_lines.append(x.iloc[p, 0])\n",
    "    x_lines.append(x.iloc[p, 1])\n",
    "    y_lines.append(y.iloc[p, 0])\n",
    "    y_lines.append(y.iloc[p, 1])\n",
    "    z_lines.append(z.iloc[p, 0])\n",
    "    z_lines.append(z.iloc[p, 1])\n",
    "    x_lines.append(None)\n",
    "    y_lines.append(None)\n",
    "    z_lines.append(None)\n",
    "    \n",
    "fig.add_trace(go.Scatter3d(\n",
    "                x=x_lines,\n",
    "                y=y_lines,\n",
    "                z=z_lines,\n",
    "                mode='lines',\n",
    "                line = dict( color = \"grey\", width= 1, dash = 'solid')\n",
    "                ))\n",
    "\n",
    "fig.add_trace(go.Scatter3d(\n",
    "                x = allVars2.iloc[0:50,0], \n",
    "                y = allVars2.iloc[0:50,1],\n",
    "                z = allVars2.iloc[0:50,4], \n",
    "                mode='markers',\n",
    "                marker_symbol=\"diamond\",\n",
    "                marker=dict(\n",
    "                    size=12,\n",
    "                    color=\"black\",                # set color to an array/list of desired value\n",
    "                    )\n",
    "                ))\n",
    "\n",
    "fig.add_trace(go.Scatter3d(\n",
    "                x = allVars2.iloc[50:100,0], \n",
    "                y = allVars2.iloc[50:100,1],\n",
    "                z = allVars2.iloc[50:100,4], \n",
    "                mode='markers',\n",
    "                marker_symbol=\"square\",\n",
    "                marker=dict(\n",
    "                    size=12,\n",
    "                    color=\"black\",                # set color to an array/list of desired value\n",
    "                    )\n",
    "                ))\n",
    "\n",
    "fig.add_trace(go.Scatter3d(\n",
    "                x = allVars2.iloc[100:150,0], \n",
    "                y = allVars2.iloc[100:150,1],\n",
    "                z = allVars2.iloc[100:150,4], \n",
    "                mode='markers',\n",
    "                marker_symbol=\"circle\",\n",
    "                marker=dict(\n",
    "                    size=12,\n",
    "                    color=\"black\",                # set color to an array/list of desired value\n",
    "                    )\n",
    "                ))\n",
    "\n",
    "\n",
    "camera = dict(eye=dict(x=xe, y=ye, z=ze))\n",
    "fig.update_layout(scene=dict(camera=camera,aspectmode='cube'),showlegend=True)\n",
    "fig.update_traces(marker_size=8)\n",
    "fig.update_coloraxes(colorscale=colorscale,\n",
    "                    cmin = -0.05,\n",
    "                    cmax = 1.05,\n",
    "                    colorbar_title_text = \"Distance to Pareto\\n\\n\",\n",
    "                    colorbar_thickness = 20,\n",
    "                    colorbar_dtick = 0.05,\n",
    "                    colorbar_ticks = 'outside',\n",
    "                    colorbar_tickwidth = 2,\n",
    "                    colorbar_tickmode = 'array',\n",
    "                    colorbar_tickvals = [0, 0.20, 0.40, 0.60, 0.80, 1.0],\n",
    "                    colorbar_ticktext = ['0 (Best)', '0.2', '0.4', '0.6', '0.8', '1.0 (Worst)'],\n",
    "                    colorbar_tickfont_size=20,\n",
    "                    colorbar_titlefont_size = 20\n",
    "                    )\n",
    "\n",
    "fontLayoutX = dict(\n",
    "                    tickfont=dict(\n",
    "                    color='black',\n",
    "                    size=14),ticks='outside',tick0=0, tickwidth=4, title = dict(font = dict(size=15)))\n",
    "\n",
    "fontLayoutY = dict(\n",
    "                    tickfont=dict(\n",
    "                    color='black',\n",
    "                    size=14),ticks='outside',tick0=0, tickwidth=4, title = dict(font = dict(size=15)))\n",
    "fontLayoutZ = dict(\n",
    "                    tickfont=dict(\n",
    "                    color='black',\n",
    "                    size=14),ticks='outside',tick0=0, tickwidth=4, title = dict(font = dict(size=15)))\n",
    "\n",
    "\n",
    "fig.update_layout(\n",
    "    scene1 = dict(\n",
    "\n",
    "                        xaxis = fontLayoutX,\n",
    "\n",
    "                        yaxis = fontLayoutY,\n",
    "\n",
    "                        zaxis = fontLayoutZ\n",
    "                     ))\n",
    "\n",
    "fig.data[0].marker.symbol = 'diamond'\n",
    "fig.data[0].marker.size = 7\n",
    "fig.data[1].marker.symbol = 'square'\n",
    "fig.data[1].marker.size = 7\n",
    "fig.data[2].marker.symbol = 'circle'\n",
    "fig.data[2].marker.size = 7\n",
    "\n",
    "fig.data[4].marker.size = 9\n",
    "fig.data[5].marker.size = 9\n",
    "fig.data[6].marker.size = 9\n",
    "\n",
    "\n",
    "fig.update_layout(template='plotly_white',\n",
    "autosize=False,\n",
    "width=1000,\n",
    "height=800,\n",
    "showlegend=False\n",
    "                 )\n",
    "\n",
    "#Add or remove colorbar\n",
    "fig.update_coloraxes(showscale=True)\n",
    "#fig.update_coloraxes(showscale=False)\n",
    "\n",
    "# fig.data[2].name = \"Optimisation 1\"\n",
    "# fig.data[3].name = \"Optimisation 2\"\n",
    "# fig.data[4].name = \"Optimisation 3\"\n",
    "\n",
    "fig['data'] = (fig['data'][3:] + fig['data'][:3])\n",
    "\n",
    "fig.show()\n",
    "\n",
    "import plotly.io as pio\n",
    "pio.write_image(fig, 'Optimisations456DesignSpaceWithCB.jpg', scale=4, width=1000, height=800)"
   ]
  },
  {
   "cell_type": "code",
   "execution_count": 27,
   "metadata": {},
   "outputs": [
    {
     "data": {
      "application/vnd.plotly.v1+json": {
       "config": {
        "plotlyServerURL": "https://plot.ly"
       },
       "data": [
        {
         "hovertemplate": "repeatNumb=1<br>Critical resolution=%{x}<br>Time last peak eluted / minutes=%{y}<br>Dist2=%{marker.color}<extra></extra>",
         "legendgroup": "1",
         "marker": {
          "color": [
           1,
           0.351093521407841,
           0.613419770930868,
           1,
           0.74493760823893,
           1,
           0.0737947159096748,
           1,
           0.368759846462947,
           1,
           1,
           1,
           0.0372172620569928,
           0.240809584707274,
           1,
           1,
           1,
           0.258367622782801,
           0.0702715101317055,
           1,
           0.187110106874532,
           1,
           0.0749417572883151,
           0.4837010007874,
           1,
           0.159659808237437,
           1,
           0.0471920984429123,
           0.0310552104354899,
           0.224675353304151,
           1,
           1,
           1,
           0.218122862229054,
           0.0560791618047004,
           1,
           1,
           0.0375381670321581,
           0.0835334861336562,
           0.0784483538124496,
           0.131704291211897,
           1,
           0.0573409989545441,
           0.19222343922846,
           0.735944303761413
          ],
          "coloraxis": "coloraxis",
          "line": {
           "color": "Black",
           "width": 1
          },
          "size": 12,
          "symbol": "diamond"
         },
         "mode": "markers",
         "name": "1",
         "orientation": "v",
         "showlegend": true,
         "type": "scatter",
         "x": [
          0.6410541914581026,
          2.1745352687477775,
          1.917361587207681,
          0.9927978022735684,
          1.6522912990500458,
          0.8503566852457062,
          1.7281570706037135,
          1.4893104536908912,
          2.0634767000515057,
          0.7440521432359777,
          1.0612649408464632,
          0.2622900483969494,
          2.194487670413973,
          1.7847935293265216,
          0.7074321071298102,
          1.2088181211622095,
          0.825793092654935,
          1.8616107586077875,
          1.857012423211655,
          1.4605090494970436,
          1.5737891551360434,
          1.0719136014793826,
          2.1584189428426175,
          1.6333594774082876,
          0.9410599751910446,
          2.052446783655443,
          1.4644160694951733,
          2.2005778323763967,
          2.0353745158396537,
          2.1412099139304193,
          1.2169896604268367,
          1.0378627526609339,
          0.7612382205919361,
          2.191610699860019,
          1.6496239550050407,
          1.3228010478935996,
          1.13629804168651,
          2.0583268675225863,
          2.138760467988192,
          1.7995923499043904,
          1.8873395753490643,
          1.057662864086016,
          2.171058044988675,
          1.935441064947845,
          1.775781856436382
         ],
         "xaxis": "x",
         "y": [
          7.743604300373699,
          7.167835008585959,
          10.54457658855041,
          12.304910672065144,
          12.065695889235762,
          4.351705151225542,
          3.1252729330860545,
          4.480437969726437,
          7.4080846906649365,
          3.5969685901045896,
          4.285079928834929,
          2.5284731616485763,
          2.79931190519687,
          5.423903479681937,
          3.016932729985899,
          2.1785408008763247,
          3.209715711219481,
          5.779955121146406,
          3.225444110757564,
          3.0954075844516296,
          4.514422325512564,
          3.018553755876537,
          3.551323458812461,
          8.507286310746064,
          5.511728147394442,
          4.6806182576352935,
          2.040053476651337,
          3.0029102418646425,
          2.8799683757030685,
          5.5315676057138745,
          7.09454049936021,
          1.9937354476265639,
          6.312085980189535,
          5.419426608004064,
          2.8340086756277216,
          5.409400165257575,
          6.338062288967135,
          3.0634868613352286,
          3.68759019262061,
          3.2483664059873103,
          4.091154102305491,
          2.6037066877886486,
          3.282177322311225,
          4.991144121020403,
          12.060142237947217
         ],
         "yaxis": "y"
        },
        {
         "hovertemplate": "repeatNumb=2<br>Critical resolution=%{x}<br>Time last peak eluted / minutes=%{y}<br>Dist2=%{marker.color}<extra></extra>",
         "legendgroup": "2",
         "marker": {
          "color": [
           0.193634256648544,
           1,
           1,
           1,
           0.774267946643596,
           1,
           1,
           1,
           0.0822801915323843,
           0.823847435361763,
           1,
           1,
           1,
           1,
           1,
           1,
           0.309994955512339,
           1,
           1,
           0.198323038401926,
           1,
           1,
           0.393185404479964,
           0.207561888199337,
           0.0164712511834749,
           0.0375187686633248,
           0.366506565953872,
           1,
           0.362556230094215,
           0.324930863399582,
           1,
           1,
           0.0835236805968521,
           0.150026819218681,
           1,
           0.0503080836351278,
           1,
           0.0754931402476058,
           0.0849716980463971,
           1,
           0.131190360969246,
           0.143583635767062,
           0.0654375714265559,
           0.115079446319388
          ],
          "coloraxis": "coloraxis",
          "line": {
           "color": "Black",
           "width": 1
          },
          "size": 10,
          "symbol": "square"
         },
         "mode": "markers",
         "name": "2",
         "orientation": "v",
         "showlegend": true,
         "type": "scatter",
         "x": [
          2.0076450186580685,
          0.6458911535257968,
          0.6633302493555122,
          0.9930722860925374,
          1.665642169106159,
          0.9384003358561531,
          1.2390595679675374,
          0.8202924666882964,
          1.9582614748719502,
          1.8430963637355364,
          1.4948333633145257,
          1.4787515994668579,
          0.5778905506609071,
          0.9094242623986454,
          1.0045143908738696,
          1.293268591956239,
          1.7091454606097802,
          1.0861599741959025,
          0.8906096990572699,
          1.5308042395487598,
          1.4133182455553637,
          1.2776335046788598,
          1.7248931458269854,
          1.6889249182115744,
          1.9979914367344052,
          1.9320027185997848,
          1.7446192374350642,
          0.8321145283532891,
          1.8400748977592811,
          1.9505810571069295,
          1.4701281871652625,
          0.7058287865752468,
          1.927416834014904,
          2.0493300764372213,
          0.877654563037952,
          1.9788335385435072,
          1.4743324326753864,
          2.026596174649919,
          1.9979338260144284,
          1.1694010466595999,
          2.004954702208424,
          2.0195786902084123,
          1.9296028434122523,
          2.0312855839170516
         ],
         "xaxis": "x",
         "y": [
          5.09615422620486,
          13.292141861720939,
          4.4767235825698535,
          11.881439265915168,
          12.469596595431632,
          4.641227626462173,
          8.048812956019281,
          3.5255689845792535,
          3.5157246233243047,
          13.257770720595628,
          2.2675467982268525,
          2.0398692139610546,
          2.7072778956529846,
          2.353203468355805,
          3.5286558923389935,
          2.212023208652434,
          6.261856856500332,
          11.81958880811745,
          3.0329629141278076,
          4.64238349946348,
          2.7915530086984393,
          2.208178193358606,
          7.408912250340447,
          4.874880499160626,
          2.6784872731814477,
          2.8303789511643163,
          7.0736044437994545,
          2.09715876892567,
          7.166373758400944,
          6.781527503121259,
          4.073942065988946,
          7.730507305146353,
          3.49432369305985,
          4.552815116357644,
          6.332700790169928,
          3.1108219709293414,
          9.96701248970756,
          3.5348785909178218,
          3.6101681825543572,
          3.102661299646441,
          4.262117009509912,
          4.4445120904340065,
          3.246950358661699,
          4.077417306623245
         ],
         "yaxis": "y"
        },
        {
         "hovertemplate": "repeatNumb=3<br>Critical resolution=%{x}<br>Time last peak eluted / minutes=%{y}<br>Dist2=%{marker.color}<extra></extra>",
         "legendgroup": "3",
         "marker": {
          "color": [
           1,
           0.323555052704416,
           0.483877149996847,
           1,
           1,
           0.708181148562373,
           0.389931084456278,
           0.670020716862035,
           0.193288985412138,
           0.908503230551001,
           0.158486354666982,
           1,
           0.0773444085263068,
           1,
           1,
           1,
           1,
           1,
           1,
           0.0484765335902172,
           0.50689180617846,
           1,
           0.189970559199249,
           0.146908005706688,
           1,
           0.0208900760478789,
           0.141841232737553,
           0.0466848317338836,
           0.340621016937704,
           1,
           0.0590906181178248,
           1,
           0.327268942228095,
           0.163283115054314,
           0.274575717845021,
           0.0737527129079321,
           1,
           0.11127450038853,
           0.033751147577512,
           1,
           1,
           0.0927303244721547,
           0.0750154903008257,
           1
          ],
          "coloraxis": "coloraxis",
          "line": {
           "color": "Black",
           "width": 1
          },
          "size": 10,
          "symbol": "circle"
         },
         "mode": "markers",
         "name": "3",
         "orientation": "v",
         "showlegend": true,
         "type": "scatter",
         "x": [
          0.7355698536328449,
          1.5965215619468367,
          2.031636649251855,
          0.6991316038904056,
          0.42702096002591755,
          1.5585686080343717,
          2.0353143095710196,
          1.9822832138259048,
          1.662247506376176,
          1.888784312380515,
          1.7691509219496615,
          0.3944456376655362,
          1.8647387812267888,
          0.6615839025469925,
          0.9590098674370086,
          1.2112327250407073,
          0.6884075096036171,
          1.437289792379121,
          1.044528597556672,
          2.07708512384264,
          1.7972463489372976,
          0.9394821044945231,
          1.6918353279709035,
          1.8398161753046205,
          1.3222662141188561,
          1.8447316408217225,
          1.9377059069669582,
          1.7606438671581282,
          1.7960304928624988,
          0.7644545896809962,
          1.6137471005439987,
          0.8661716744841037,
          2.013220578201337,
          1.8181081666064756,
          2.0810711186313053,
          1.9104114613977465,
          0.680568424158854,
          1.9298477046859104,
          1.5051098135052183,
          0.7815276665103057,
          1.4562605279327168,
          2.036665017622798,
          2.1072682388087203,
          1.3517773833298419
         ],
         "xaxis": "x",
         "y": [
          6.868645992216649,
          6.32273739465883,
          8.899374737444308,
          7.215664465622059,
          11.066463212545292,
          11.458044197201128,
          7.677144647419601,
          11.309684400544594,
          4.654811007934741,
          14.385290215868734,
          4.299538213098904,
          4.297047624561708,
          3.326434770092127,
          3.154106097323053,
          2.412974717633537,
          3.126491368807406,
          2.153194834616608,
          2.166181477860124,
          2.0689037912957673,
          3.23808559674509,
          9.04846959670517,
          2.633151670193113,
          4.6442477004288065,
          4.223310120596461,
          7.540407661560777,
          2.4056155899254805,
          4.292805825945695,
          2.806003369543576,
          6.803975173851462,
          5.5067141119190826,
          2.85057598913409,
          3.5953209723287687,
          6.8518666328118645,
          4.421791521651762,
          6.185693972909778,
          3.3239900341186286,
          4.61678477305828,
          3.8723296856424816,
          2.4863323577535836,
          2.1129632375158973,
          3.288057167683565,
          3.7847810062333473,
          3.5919310940372187,
          3.288218133042402
         ],
         "yaxis": "y"
        }
       ],
       "layout": {
        "autosize": false,
        "coloraxis": {
         "cmax": 1.05,
         "cmin": -0.05,
         "colorbar": {
          "dtick": 0.05,
          "thickness": 20,
          "tickfont": {
           "size": 10
          },
          "tickmode": "array",
          "ticks": "outside",
          "ticktext": [
           "0 (Best)",
           "0.2",
           "0.4",
           "0.6",
           "0.8",
           "1.0 (Worst)"
          ],
          "tickvals": [
           0,
           0.2,
           0.4,
           0.6,
           0.8,
           1
          ],
          "tickwidth": 2,
          "title": {
           "font": {
            "size": 10
           },
           "text": "Distance to Pareto"
          }
         },
         "colorscale": [
          [
           0,
           "rgb(255, 176, 0)"
          ],
          [
           0.25,
           "rgb(254, 97, 0)"
          ],
          [
           0.5,
           "rgb(220, 38, 127)"
          ],
          [
           0.75,
           "rgb(120, 94, 240)"
          ],
          [
           1,
           "rgb(100, 143, 255)"
          ]
         ],
         "showscale": false
        },
        "height": 400,
        "legend": {
         "title": {
          "text": "repeatNumb"
         },
         "tracegroupgap": 0
        },
        "margin": {
         "t": 60
        },
        "scene": {
         "aspectmode": "cube",
         "camera": {
          "eye": {
           "x": 0.6981112017630946,
           "y": -2.0790961377418045,
           "z": 0.3
          }
         }
        },
        "showlegend": false,
        "template": {
         "data": {
          "bar": [
           {
            "error_x": {
             "color": "#2a3f5f"
            },
            "error_y": {
             "color": "#2a3f5f"
            },
            "marker": {
             "line": {
              "color": "white",
              "width": 0.5
             },
             "pattern": {
              "fillmode": "overlay",
              "size": 10,
              "solidity": 0.2
             }
            },
            "type": "bar"
           }
          ],
          "barpolar": [
           {
            "marker": {
             "line": {
              "color": "white",
              "width": 0.5
             },
             "pattern": {
              "fillmode": "overlay",
              "size": 10,
              "solidity": 0.2
             }
            },
            "type": "barpolar"
           }
          ],
          "carpet": [
           {
            "aaxis": {
             "endlinecolor": "#2a3f5f",
             "gridcolor": "#C8D4E3",
             "linecolor": "#C8D4E3",
             "minorgridcolor": "#C8D4E3",
             "startlinecolor": "#2a3f5f"
            },
            "baxis": {
             "endlinecolor": "#2a3f5f",
             "gridcolor": "#C8D4E3",
             "linecolor": "#C8D4E3",
             "minorgridcolor": "#C8D4E3",
             "startlinecolor": "#2a3f5f"
            },
            "type": "carpet"
           }
          ],
          "choropleth": [
           {
            "colorbar": {
             "outlinewidth": 0,
             "ticks": ""
            },
            "type": "choropleth"
           }
          ],
          "contour": [
           {
            "colorbar": {
             "outlinewidth": 0,
             "ticks": ""
            },
            "colorscale": [
             [
              0,
              "#0d0887"
             ],
             [
              0.1111111111111111,
              "#46039f"
             ],
             [
              0.2222222222222222,
              "#7201a8"
             ],
             [
              0.3333333333333333,
              "#9c179e"
             ],
             [
              0.4444444444444444,
              "#bd3786"
             ],
             [
              0.5555555555555556,
              "#d8576b"
             ],
             [
              0.6666666666666666,
              "#ed7953"
             ],
             [
              0.7777777777777778,
              "#fb9f3a"
             ],
             [
              0.8888888888888888,
              "#fdca26"
             ],
             [
              1,
              "#f0f921"
             ]
            ],
            "type": "contour"
           }
          ],
          "contourcarpet": [
           {
            "colorbar": {
             "outlinewidth": 0,
             "ticks": ""
            },
            "type": "contourcarpet"
           }
          ],
          "heatmap": [
           {
            "colorbar": {
             "outlinewidth": 0,
             "ticks": ""
            },
            "colorscale": [
             [
              0,
              "#0d0887"
             ],
             [
              0.1111111111111111,
              "#46039f"
             ],
             [
              0.2222222222222222,
              "#7201a8"
             ],
             [
              0.3333333333333333,
              "#9c179e"
             ],
             [
              0.4444444444444444,
              "#bd3786"
             ],
             [
              0.5555555555555556,
              "#d8576b"
             ],
             [
              0.6666666666666666,
              "#ed7953"
             ],
             [
              0.7777777777777778,
              "#fb9f3a"
             ],
             [
              0.8888888888888888,
              "#fdca26"
             ],
             [
              1,
              "#f0f921"
             ]
            ],
            "type": "heatmap"
           }
          ],
          "heatmapgl": [
           {
            "colorbar": {
             "outlinewidth": 0,
             "ticks": ""
            },
            "colorscale": [
             [
              0,
              "#0d0887"
             ],
             [
              0.1111111111111111,
              "#46039f"
             ],
             [
              0.2222222222222222,
              "#7201a8"
             ],
             [
              0.3333333333333333,
              "#9c179e"
             ],
             [
              0.4444444444444444,
              "#bd3786"
             ],
             [
              0.5555555555555556,
              "#d8576b"
             ],
             [
              0.6666666666666666,
              "#ed7953"
             ],
             [
              0.7777777777777778,
              "#fb9f3a"
             ],
             [
              0.8888888888888888,
              "#fdca26"
             ],
             [
              1,
              "#f0f921"
             ]
            ],
            "type": "heatmapgl"
           }
          ],
          "histogram": [
           {
            "marker": {
             "pattern": {
              "fillmode": "overlay",
              "size": 10,
              "solidity": 0.2
             }
            },
            "type": "histogram"
           }
          ],
          "histogram2d": [
           {
            "colorbar": {
             "outlinewidth": 0,
             "ticks": ""
            },
            "colorscale": [
             [
              0,
              "#0d0887"
             ],
             [
              0.1111111111111111,
              "#46039f"
             ],
             [
              0.2222222222222222,
              "#7201a8"
             ],
             [
              0.3333333333333333,
              "#9c179e"
             ],
             [
              0.4444444444444444,
              "#bd3786"
             ],
             [
              0.5555555555555556,
              "#d8576b"
             ],
             [
              0.6666666666666666,
              "#ed7953"
             ],
             [
              0.7777777777777778,
              "#fb9f3a"
             ],
             [
              0.8888888888888888,
              "#fdca26"
             ],
             [
              1,
              "#f0f921"
             ]
            ],
            "type": "histogram2d"
           }
          ],
          "histogram2dcontour": [
           {
            "colorbar": {
             "outlinewidth": 0,
             "ticks": ""
            },
            "colorscale": [
             [
              0,
              "#0d0887"
             ],
             [
              0.1111111111111111,
              "#46039f"
             ],
             [
              0.2222222222222222,
              "#7201a8"
             ],
             [
              0.3333333333333333,
              "#9c179e"
             ],
             [
              0.4444444444444444,
              "#bd3786"
             ],
             [
              0.5555555555555556,
              "#d8576b"
             ],
             [
              0.6666666666666666,
              "#ed7953"
             ],
             [
              0.7777777777777778,
              "#fb9f3a"
             ],
             [
              0.8888888888888888,
              "#fdca26"
             ],
             [
              1,
              "#f0f921"
             ]
            ],
            "type": "histogram2dcontour"
           }
          ],
          "mesh3d": [
           {
            "colorbar": {
             "outlinewidth": 0,
             "ticks": ""
            },
            "type": "mesh3d"
           }
          ],
          "parcoords": [
           {
            "line": {
             "colorbar": {
              "outlinewidth": 0,
              "ticks": ""
             }
            },
            "type": "parcoords"
           }
          ],
          "pie": [
           {
            "automargin": true,
            "type": "pie"
           }
          ],
          "scatter": [
           {
            "fillpattern": {
             "fillmode": "overlay",
             "size": 10,
             "solidity": 0.2
            },
            "type": "scatter"
           }
          ],
          "scatter3d": [
           {
            "line": {
             "colorbar": {
              "outlinewidth": 0,
              "ticks": ""
             }
            },
            "marker": {
             "colorbar": {
              "outlinewidth": 0,
              "ticks": ""
             }
            },
            "type": "scatter3d"
           }
          ],
          "scattercarpet": [
           {
            "marker": {
             "colorbar": {
              "outlinewidth": 0,
              "ticks": ""
             }
            },
            "type": "scattercarpet"
           }
          ],
          "scattergeo": [
           {
            "marker": {
             "colorbar": {
              "outlinewidth": 0,
              "ticks": ""
             }
            },
            "type": "scattergeo"
           }
          ],
          "scattergl": [
           {
            "marker": {
             "colorbar": {
              "outlinewidth": 0,
              "ticks": ""
             }
            },
            "type": "scattergl"
           }
          ],
          "scattermapbox": [
           {
            "marker": {
             "colorbar": {
              "outlinewidth": 0,
              "ticks": ""
             }
            },
            "type": "scattermapbox"
           }
          ],
          "scatterpolar": [
           {
            "marker": {
             "colorbar": {
              "outlinewidth": 0,
              "ticks": ""
             }
            },
            "type": "scatterpolar"
           }
          ],
          "scatterpolargl": [
           {
            "marker": {
             "colorbar": {
              "outlinewidth": 0,
              "ticks": ""
             }
            },
            "type": "scatterpolargl"
           }
          ],
          "scatterternary": [
           {
            "marker": {
             "colorbar": {
              "outlinewidth": 0,
              "ticks": ""
             }
            },
            "type": "scatterternary"
           }
          ],
          "surface": [
           {
            "colorbar": {
             "outlinewidth": 0,
             "ticks": ""
            },
            "colorscale": [
             [
              0,
              "#0d0887"
             ],
             [
              0.1111111111111111,
              "#46039f"
             ],
             [
              0.2222222222222222,
              "#7201a8"
             ],
             [
              0.3333333333333333,
              "#9c179e"
             ],
             [
              0.4444444444444444,
              "#bd3786"
             ],
             [
              0.5555555555555556,
              "#d8576b"
             ],
             [
              0.6666666666666666,
              "#ed7953"
             ],
             [
              0.7777777777777778,
              "#fb9f3a"
             ],
             [
              0.8888888888888888,
              "#fdca26"
             ],
             [
              1,
              "#f0f921"
             ]
            ],
            "type": "surface"
           }
          ],
          "table": [
           {
            "cells": {
             "fill": {
              "color": "#EBF0F8"
             },
             "line": {
              "color": "white"
             }
            },
            "header": {
             "fill": {
              "color": "#C8D4E3"
             },
             "line": {
              "color": "white"
             }
            },
            "type": "table"
           }
          ]
         },
         "layout": {
          "annotationdefaults": {
           "arrowcolor": "#2a3f5f",
           "arrowhead": 0,
           "arrowwidth": 1
          },
          "autotypenumbers": "strict",
          "coloraxis": {
           "colorbar": {
            "outlinewidth": 0,
            "ticks": ""
           }
          },
          "colorscale": {
           "diverging": [
            [
             0,
             "#8e0152"
            ],
            [
             0.1,
             "#c51b7d"
            ],
            [
             0.2,
             "#de77ae"
            ],
            [
             0.3,
             "#f1b6da"
            ],
            [
             0.4,
             "#fde0ef"
            ],
            [
             0.5,
             "#f7f7f7"
            ],
            [
             0.6,
             "#e6f5d0"
            ],
            [
             0.7,
             "#b8e186"
            ],
            [
             0.8,
             "#7fbc41"
            ],
            [
             0.9,
             "#4d9221"
            ],
            [
             1,
             "#276419"
            ]
           ],
           "sequential": [
            [
             0,
             "#0d0887"
            ],
            [
             0.1111111111111111,
             "#46039f"
            ],
            [
             0.2222222222222222,
             "#7201a8"
            ],
            [
             0.3333333333333333,
             "#9c179e"
            ],
            [
             0.4444444444444444,
             "#bd3786"
            ],
            [
             0.5555555555555556,
             "#d8576b"
            ],
            [
             0.6666666666666666,
             "#ed7953"
            ],
            [
             0.7777777777777778,
             "#fb9f3a"
            ],
            [
             0.8888888888888888,
             "#fdca26"
            ],
            [
             1,
             "#f0f921"
            ]
           ],
           "sequentialminus": [
            [
             0,
             "#0d0887"
            ],
            [
             0.1111111111111111,
             "#46039f"
            ],
            [
             0.2222222222222222,
             "#7201a8"
            ],
            [
             0.3333333333333333,
             "#9c179e"
            ],
            [
             0.4444444444444444,
             "#bd3786"
            ],
            [
             0.5555555555555556,
             "#d8576b"
            ],
            [
             0.6666666666666666,
             "#ed7953"
            ],
            [
             0.7777777777777778,
             "#fb9f3a"
            ],
            [
             0.8888888888888888,
             "#fdca26"
            ],
            [
             1,
             "#f0f921"
            ]
           ]
          },
          "colorway": [
           "#636efa",
           "#EF553B",
           "#00cc96",
           "#ab63fa",
           "#FFA15A",
           "#19d3f3",
           "#FF6692",
           "#B6E880",
           "#FF97FF",
           "#FECB52"
          ],
          "font": {
           "color": "#2a3f5f"
          },
          "geo": {
           "bgcolor": "white",
           "lakecolor": "white",
           "landcolor": "white",
           "showlakes": true,
           "showland": true,
           "subunitcolor": "#C8D4E3"
          },
          "hoverlabel": {
           "align": "left"
          },
          "hovermode": "closest",
          "mapbox": {
           "style": "light"
          },
          "paper_bgcolor": "white",
          "plot_bgcolor": "white",
          "polar": {
           "angularaxis": {
            "gridcolor": "#EBF0F8",
            "linecolor": "#EBF0F8",
            "ticks": ""
           },
           "bgcolor": "white",
           "radialaxis": {
            "gridcolor": "#EBF0F8",
            "linecolor": "#EBF0F8",
            "ticks": ""
           }
          },
          "scene": {
           "xaxis": {
            "backgroundcolor": "white",
            "gridcolor": "#DFE8F3",
            "gridwidth": 2,
            "linecolor": "#EBF0F8",
            "showbackground": true,
            "ticks": "",
            "zerolinecolor": "#EBF0F8"
           },
           "yaxis": {
            "backgroundcolor": "white",
            "gridcolor": "#DFE8F3",
            "gridwidth": 2,
            "linecolor": "#EBF0F8",
            "showbackground": true,
            "ticks": "",
            "zerolinecolor": "#EBF0F8"
           },
           "zaxis": {
            "backgroundcolor": "white",
            "gridcolor": "#DFE8F3",
            "gridwidth": 2,
            "linecolor": "#EBF0F8",
            "showbackground": true,
            "ticks": "",
            "zerolinecolor": "#EBF0F8"
           }
          },
          "shapedefaults": {
           "line": {
            "color": "#2a3f5f"
           }
          },
          "ternary": {
           "aaxis": {
            "gridcolor": "#DFE8F3",
            "linecolor": "#A2B1C6",
            "ticks": ""
           },
           "baxis": {
            "gridcolor": "#DFE8F3",
            "linecolor": "#A2B1C6",
            "ticks": ""
           },
           "bgcolor": "white",
           "caxis": {
            "gridcolor": "#DFE8F3",
            "linecolor": "#A2B1C6",
            "ticks": ""
           }
          },
          "title": {
           "x": 0.05
          },
          "xaxis": {
           "automargin": true,
           "gridcolor": "#EBF0F8",
           "linecolor": "#EBF0F8",
           "ticks": "",
           "title": {
            "standoff": 15
           },
           "zerolinecolor": "#EBF0F8",
           "zerolinewidth": 2
          },
          "yaxis": {
           "automargin": true,
           "gridcolor": "#EBF0F8",
           "linecolor": "#EBF0F8",
           "ticks": "",
           "title": {
            "standoff": 15
           },
           "zerolinecolor": "#EBF0F8",
           "zerolinewidth": 2
          }
         }
        },
        "width": 500,
        "xaxis": {
         "anchor": "y",
         "domain": [
          0,
          1
         ],
         "gridwidth": 2,
         "range": [
          0,
          2.5
         ],
         "showgrid": true,
         "tick0": 0,
         "tickfont": {
          "color": "black",
          "size": 13
         },
         "ticks": "outside",
         "tickwidth": 4,
         "title": {
          "font": {
           "size": 13
          },
          "text": "Critical resolution"
         }
        },
        "yaxis": {
         "anchor": "x",
         "domain": [
          0,
          1
         ],
         "gridwidth": 2,
         "range": [
          1,
          18
         ],
         "showgrid": true,
         "tick0": 0,
         "tickfont": {
          "color": "black",
          "size": 13
         },
         "ticks": "outside",
         "tickwidth": 4,
         "title": {
          "font": {
           "size": 13
          },
          "text": "Time last peak eluted / minutes"
         }
        }
       }
      },
      "text/html": [
       "<div>                            <div id=\"996fe82f-9527-492a-b3ee-cf73fa565195\" class=\"plotly-graph-div\" style=\"height:400.0px; width:500.0px;\"></div>            <script type=\"text/javascript\">                require([\"plotly\"], function(Plotly) {                    window.PLOTLYENV=window.PLOTLYENV || {};                                    if (document.getElementById(\"996fe82f-9527-492a-b3ee-cf73fa565195\")) {                    Plotly.newPlot(                        \"996fe82f-9527-492a-b3ee-cf73fa565195\",                        [{\"hovertemplate\":\"repeatNumb=1<br>Critical resolution=%{x}<br>Time last peak eluted / minutes=%{y}<br>Dist2=%{marker.color}<extra></extra>\",\"legendgroup\":\"1\",\"marker\":{\"color\":[1.0,0.351093521407841,0.613419770930868,1.0,0.74493760823893,1.0,0.0737947159096748,1.0,0.368759846462947,1.0,1.0,1.0,0.0372172620569928,0.240809584707274,1.0,1.0,1.0,0.258367622782801,0.0702715101317055,1.0,0.187110106874532,1.0,0.0749417572883151,0.4837010007874,1.0,0.159659808237437,1.0,0.0471920984429123,0.0310552104354899,0.224675353304151,1.0,1.0,1.0,0.218122862229054,0.0560791618047004,1.0,1.0,0.0375381670321581,0.0835334861336562,0.0784483538124496,0.131704291211897,1.0,0.0573409989545441,0.19222343922846,0.735944303761413],\"coloraxis\":\"coloraxis\",\"symbol\":\"diamond\",\"size\":12,\"line\":{\"width\":1,\"color\":\"Black\"}},\"mode\":\"markers\",\"name\":\"1\",\"orientation\":\"v\",\"showlegend\":true,\"x\":[0.6410541914581026,2.1745352687477775,1.917361587207681,0.9927978022735684,1.6522912990500458,0.8503566852457062,1.7281570706037135,1.4893104536908912,2.0634767000515057,0.7440521432359777,1.0612649408464632,0.2622900483969494,2.194487670413973,1.7847935293265216,0.7074321071298102,1.2088181211622095,0.825793092654935,1.8616107586077875,1.857012423211655,1.4605090494970436,1.5737891551360434,1.0719136014793826,2.1584189428426175,1.6333594774082876,0.9410599751910446,2.052446783655443,1.4644160694951733,2.2005778323763967,2.0353745158396537,2.1412099139304193,1.2169896604268367,1.0378627526609339,0.7612382205919361,2.191610699860019,1.6496239550050407,1.3228010478935996,1.13629804168651,2.0583268675225863,2.138760467988192,1.7995923499043904,1.8873395753490643,1.057662864086016,2.171058044988675,1.935441064947845,1.775781856436382],\"xaxis\":\"x\",\"y\":[7.743604300373699,7.167835008585959,10.54457658855041,12.304910672065144,12.065695889235762,4.351705151225542,3.1252729330860545,4.480437969726437,7.4080846906649365,3.5969685901045896,4.285079928834929,2.5284731616485763,2.79931190519687,5.423903479681937,3.016932729985899,2.1785408008763247,3.209715711219481,5.779955121146406,3.225444110757564,3.0954075844516296,4.514422325512564,3.018553755876537,3.551323458812461,8.507286310746064,5.511728147394442,4.6806182576352935,2.040053476651337,3.0029102418646425,2.8799683757030685,5.5315676057138745,7.09454049936021,1.9937354476265639,6.312085980189535,5.419426608004064,2.8340086756277216,5.409400165257575,6.338062288967135,3.0634868613352286,3.68759019262061,3.2483664059873103,4.091154102305491,2.6037066877886486,3.282177322311225,4.991144121020403,12.060142237947217],\"yaxis\":\"y\",\"type\":\"scatter\"},{\"hovertemplate\":\"repeatNumb=2<br>Critical resolution=%{x}<br>Time last peak eluted / minutes=%{y}<br>Dist2=%{marker.color}<extra></extra>\",\"legendgroup\":\"2\",\"marker\":{\"color\":[0.193634256648544,1.0,1.0,1.0,0.774267946643596,1.0,1.0,1.0,0.0822801915323843,0.823847435361763,1.0,1.0,1.0,1.0,1.0,1.0,0.309994955512339,1.0,1.0,0.198323038401926,1.0,1.0,0.393185404479964,0.207561888199337,0.0164712511834749,0.0375187686633248,0.366506565953872,1.0,0.362556230094215,0.324930863399582,1.0,1.0,0.0835236805968521,0.150026819218681,1.0,0.0503080836351278,1.0,0.0754931402476058,0.0849716980463971,1.0,0.131190360969246,0.143583635767062,0.0654375714265559,0.115079446319388],\"coloraxis\":\"coloraxis\",\"symbol\":\"square\",\"size\":10,\"line\":{\"width\":1,\"color\":\"Black\"}},\"mode\":\"markers\",\"name\":\"2\",\"orientation\":\"v\",\"showlegend\":true,\"x\":[2.0076450186580685,0.6458911535257968,0.6633302493555122,0.9930722860925374,1.665642169106159,0.9384003358561531,1.2390595679675374,0.8202924666882964,1.9582614748719502,1.8430963637355364,1.4948333633145257,1.4787515994668579,0.5778905506609071,0.9094242623986454,1.0045143908738696,1.293268591956239,1.7091454606097802,1.0861599741959025,0.8906096990572699,1.5308042395487598,1.4133182455553637,1.2776335046788598,1.7248931458269854,1.6889249182115744,1.9979914367344052,1.9320027185997848,1.7446192374350642,0.8321145283532891,1.8400748977592811,1.9505810571069295,1.4701281871652625,0.7058287865752468,1.927416834014904,2.0493300764372213,0.877654563037952,1.9788335385435072,1.4743324326753864,2.026596174649919,1.9979338260144284,1.1694010466595999,2.004954702208424,2.0195786902084123,1.9296028434122523,2.0312855839170516],\"xaxis\":\"x\",\"y\":[5.09615422620486,13.292141861720939,4.4767235825698535,11.881439265915168,12.469596595431632,4.641227626462173,8.048812956019281,3.5255689845792535,3.5157246233243047,13.257770720595628,2.2675467982268525,2.0398692139610546,2.7072778956529846,2.353203468355805,3.5286558923389935,2.212023208652434,6.261856856500332,11.81958880811745,3.0329629141278076,4.64238349946348,2.7915530086984393,2.208178193358606,7.408912250340447,4.874880499160626,2.6784872731814477,2.8303789511643163,7.0736044437994545,2.09715876892567,7.166373758400944,6.781527503121259,4.073942065988946,7.730507305146353,3.49432369305985,4.552815116357644,6.332700790169928,3.1108219709293414,9.96701248970756,3.5348785909178218,3.6101681825543572,3.102661299646441,4.262117009509912,4.4445120904340065,3.246950358661699,4.077417306623245],\"yaxis\":\"y\",\"type\":\"scatter\"},{\"hovertemplate\":\"repeatNumb=3<br>Critical resolution=%{x}<br>Time last peak eluted / minutes=%{y}<br>Dist2=%{marker.color}<extra></extra>\",\"legendgroup\":\"3\",\"marker\":{\"color\":[1.0,0.323555052704416,0.483877149996847,1.0,1.0,0.708181148562373,0.389931084456278,0.670020716862035,0.193288985412138,0.908503230551001,0.158486354666982,1.0,0.0773444085263068,1.0,1.0,1.0,1.0,1.0,1.0,0.0484765335902172,0.50689180617846,1.0,0.189970559199249,0.146908005706688,1.0,0.0208900760478789,0.141841232737553,0.0466848317338836,0.340621016937704,1.0,0.0590906181178248,1.0,0.327268942228095,0.163283115054314,0.274575717845021,0.0737527129079321,1.0,0.11127450038853,0.033751147577512,1.0,1.0,0.0927303244721547,0.0750154903008257,1.0],\"coloraxis\":\"coloraxis\",\"symbol\":\"circle\",\"size\":10,\"line\":{\"width\":1,\"color\":\"Black\"}},\"mode\":\"markers\",\"name\":\"3\",\"orientation\":\"v\",\"showlegend\":true,\"x\":[0.7355698536328449,1.5965215619468367,2.031636649251855,0.6991316038904056,0.42702096002591755,1.5585686080343717,2.0353143095710196,1.9822832138259048,1.662247506376176,1.888784312380515,1.7691509219496615,0.3944456376655362,1.8647387812267888,0.6615839025469925,0.9590098674370086,1.2112327250407073,0.6884075096036171,1.437289792379121,1.044528597556672,2.07708512384264,1.7972463489372976,0.9394821044945231,1.6918353279709035,1.8398161753046205,1.3222662141188561,1.8447316408217225,1.9377059069669582,1.7606438671581282,1.7960304928624988,0.7644545896809962,1.6137471005439987,0.8661716744841037,2.013220578201337,1.8181081666064756,2.0810711186313053,1.9104114613977465,0.680568424158854,1.9298477046859104,1.5051098135052183,0.7815276665103057,1.4562605279327168,2.036665017622798,2.1072682388087203,1.3517773833298419],\"xaxis\":\"x\",\"y\":[6.868645992216649,6.32273739465883,8.899374737444308,7.215664465622059,11.066463212545292,11.458044197201128,7.677144647419601,11.309684400544594,4.654811007934741,14.385290215868734,4.299538213098904,4.297047624561708,3.326434770092127,3.154106097323053,2.412974717633537,3.126491368807406,2.153194834616608,2.166181477860124,2.0689037912957673,3.23808559674509,9.04846959670517,2.633151670193113,4.6442477004288065,4.223310120596461,7.540407661560777,2.4056155899254805,4.292805825945695,2.806003369543576,6.803975173851462,5.5067141119190826,2.85057598913409,3.5953209723287687,6.8518666328118645,4.421791521651762,6.185693972909778,3.3239900341186286,4.61678477305828,3.8723296856424816,2.4863323577535836,2.1129632375158973,3.288057167683565,3.7847810062333473,3.5919310940372187,3.288218133042402],\"yaxis\":\"y\",\"type\":\"scatter\"}],                        {\"template\":{\"data\":{\"barpolar\":[{\"marker\":{\"line\":{\"color\":\"white\",\"width\":0.5},\"pattern\":{\"fillmode\":\"overlay\",\"size\":10,\"solidity\":0.2}},\"type\":\"barpolar\"}],\"bar\":[{\"error_x\":{\"color\":\"#2a3f5f\"},\"error_y\":{\"color\":\"#2a3f5f\"},\"marker\":{\"line\":{\"color\":\"white\",\"width\":0.5},\"pattern\":{\"fillmode\":\"overlay\",\"size\":10,\"solidity\":0.2}},\"type\":\"bar\"}],\"carpet\":[{\"aaxis\":{\"endlinecolor\":\"#2a3f5f\",\"gridcolor\":\"#C8D4E3\",\"linecolor\":\"#C8D4E3\",\"minorgridcolor\":\"#C8D4E3\",\"startlinecolor\":\"#2a3f5f\"},\"baxis\":{\"endlinecolor\":\"#2a3f5f\",\"gridcolor\":\"#C8D4E3\",\"linecolor\":\"#C8D4E3\",\"minorgridcolor\":\"#C8D4E3\",\"startlinecolor\":\"#2a3f5f\"},\"type\":\"carpet\"}],\"choropleth\":[{\"colorbar\":{\"outlinewidth\":0,\"ticks\":\"\"},\"type\":\"choropleth\"}],\"contourcarpet\":[{\"colorbar\":{\"outlinewidth\":0,\"ticks\":\"\"},\"type\":\"contourcarpet\"}],\"contour\":[{\"colorbar\":{\"outlinewidth\":0,\"ticks\":\"\"},\"colorscale\":[[0.0,\"#0d0887\"],[0.1111111111111111,\"#46039f\"],[0.2222222222222222,\"#7201a8\"],[0.3333333333333333,\"#9c179e\"],[0.4444444444444444,\"#bd3786\"],[0.5555555555555556,\"#d8576b\"],[0.6666666666666666,\"#ed7953\"],[0.7777777777777778,\"#fb9f3a\"],[0.8888888888888888,\"#fdca26\"],[1.0,\"#f0f921\"]],\"type\":\"contour\"}],\"heatmapgl\":[{\"colorbar\":{\"outlinewidth\":0,\"ticks\":\"\"},\"colorscale\":[[0.0,\"#0d0887\"],[0.1111111111111111,\"#46039f\"],[0.2222222222222222,\"#7201a8\"],[0.3333333333333333,\"#9c179e\"],[0.4444444444444444,\"#bd3786\"],[0.5555555555555556,\"#d8576b\"],[0.6666666666666666,\"#ed7953\"],[0.7777777777777778,\"#fb9f3a\"],[0.8888888888888888,\"#fdca26\"],[1.0,\"#f0f921\"]],\"type\":\"heatmapgl\"}],\"heatmap\":[{\"colorbar\":{\"outlinewidth\":0,\"ticks\":\"\"},\"colorscale\":[[0.0,\"#0d0887\"],[0.1111111111111111,\"#46039f\"],[0.2222222222222222,\"#7201a8\"],[0.3333333333333333,\"#9c179e\"],[0.4444444444444444,\"#bd3786\"],[0.5555555555555556,\"#d8576b\"],[0.6666666666666666,\"#ed7953\"],[0.7777777777777778,\"#fb9f3a\"],[0.8888888888888888,\"#fdca26\"],[1.0,\"#f0f921\"]],\"type\":\"heatmap\"}],\"histogram2dcontour\":[{\"colorbar\":{\"outlinewidth\":0,\"ticks\":\"\"},\"colorscale\":[[0.0,\"#0d0887\"],[0.1111111111111111,\"#46039f\"],[0.2222222222222222,\"#7201a8\"],[0.3333333333333333,\"#9c179e\"],[0.4444444444444444,\"#bd3786\"],[0.5555555555555556,\"#d8576b\"],[0.6666666666666666,\"#ed7953\"],[0.7777777777777778,\"#fb9f3a\"],[0.8888888888888888,\"#fdca26\"],[1.0,\"#f0f921\"]],\"type\":\"histogram2dcontour\"}],\"histogram2d\":[{\"colorbar\":{\"outlinewidth\":0,\"ticks\":\"\"},\"colorscale\":[[0.0,\"#0d0887\"],[0.1111111111111111,\"#46039f\"],[0.2222222222222222,\"#7201a8\"],[0.3333333333333333,\"#9c179e\"],[0.4444444444444444,\"#bd3786\"],[0.5555555555555556,\"#d8576b\"],[0.6666666666666666,\"#ed7953\"],[0.7777777777777778,\"#fb9f3a\"],[0.8888888888888888,\"#fdca26\"],[1.0,\"#f0f921\"]],\"type\":\"histogram2d\"}],\"histogram\":[{\"marker\":{\"pattern\":{\"fillmode\":\"overlay\",\"size\":10,\"solidity\":0.2}},\"type\":\"histogram\"}],\"mesh3d\":[{\"colorbar\":{\"outlinewidth\":0,\"ticks\":\"\"},\"type\":\"mesh3d\"}],\"parcoords\":[{\"line\":{\"colorbar\":{\"outlinewidth\":0,\"ticks\":\"\"}},\"type\":\"parcoords\"}],\"pie\":[{\"automargin\":true,\"type\":\"pie\"}],\"scatter3d\":[{\"line\":{\"colorbar\":{\"outlinewidth\":0,\"ticks\":\"\"}},\"marker\":{\"colorbar\":{\"outlinewidth\":0,\"ticks\":\"\"}},\"type\":\"scatter3d\"}],\"scattercarpet\":[{\"marker\":{\"colorbar\":{\"outlinewidth\":0,\"ticks\":\"\"}},\"type\":\"scattercarpet\"}],\"scattergeo\":[{\"marker\":{\"colorbar\":{\"outlinewidth\":0,\"ticks\":\"\"}},\"type\":\"scattergeo\"}],\"scattergl\":[{\"marker\":{\"colorbar\":{\"outlinewidth\":0,\"ticks\":\"\"}},\"type\":\"scattergl\"}],\"scattermapbox\":[{\"marker\":{\"colorbar\":{\"outlinewidth\":0,\"ticks\":\"\"}},\"type\":\"scattermapbox\"}],\"scatterpolargl\":[{\"marker\":{\"colorbar\":{\"outlinewidth\":0,\"ticks\":\"\"}},\"type\":\"scatterpolargl\"}],\"scatterpolar\":[{\"marker\":{\"colorbar\":{\"outlinewidth\":0,\"ticks\":\"\"}},\"type\":\"scatterpolar\"}],\"scatter\":[{\"fillpattern\":{\"fillmode\":\"overlay\",\"size\":10,\"solidity\":0.2},\"type\":\"scatter\"}],\"scatterternary\":[{\"marker\":{\"colorbar\":{\"outlinewidth\":0,\"ticks\":\"\"}},\"type\":\"scatterternary\"}],\"surface\":[{\"colorbar\":{\"outlinewidth\":0,\"ticks\":\"\"},\"colorscale\":[[0.0,\"#0d0887\"],[0.1111111111111111,\"#46039f\"],[0.2222222222222222,\"#7201a8\"],[0.3333333333333333,\"#9c179e\"],[0.4444444444444444,\"#bd3786\"],[0.5555555555555556,\"#d8576b\"],[0.6666666666666666,\"#ed7953\"],[0.7777777777777778,\"#fb9f3a\"],[0.8888888888888888,\"#fdca26\"],[1.0,\"#f0f921\"]],\"type\":\"surface\"}],\"table\":[{\"cells\":{\"fill\":{\"color\":\"#EBF0F8\"},\"line\":{\"color\":\"white\"}},\"header\":{\"fill\":{\"color\":\"#C8D4E3\"},\"line\":{\"color\":\"white\"}},\"type\":\"table\"}]},\"layout\":{\"annotationdefaults\":{\"arrowcolor\":\"#2a3f5f\",\"arrowhead\":0,\"arrowwidth\":1},\"autotypenumbers\":\"strict\",\"coloraxis\":{\"colorbar\":{\"outlinewidth\":0,\"ticks\":\"\"}},\"colorscale\":{\"diverging\":[[0,\"#8e0152\"],[0.1,\"#c51b7d\"],[0.2,\"#de77ae\"],[0.3,\"#f1b6da\"],[0.4,\"#fde0ef\"],[0.5,\"#f7f7f7\"],[0.6,\"#e6f5d0\"],[0.7,\"#b8e186\"],[0.8,\"#7fbc41\"],[0.9,\"#4d9221\"],[1,\"#276419\"]],\"sequential\":[[0.0,\"#0d0887\"],[0.1111111111111111,\"#46039f\"],[0.2222222222222222,\"#7201a8\"],[0.3333333333333333,\"#9c179e\"],[0.4444444444444444,\"#bd3786\"],[0.5555555555555556,\"#d8576b\"],[0.6666666666666666,\"#ed7953\"],[0.7777777777777778,\"#fb9f3a\"],[0.8888888888888888,\"#fdca26\"],[1.0,\"#f0f921\"]],\"sequentialminus\":[[0.0,\"#0d0887\"],[0.1111111111111111,\"#46039f\"],[0.2222222222222222,\"#7201a8\"],[0.3333333333333333,\"#9c179e\"],[0.4444444444444444,\"#bd3786\"],[0.5555555555555556,\"#d8576b\"],[0.6666666666666666,\"#ed7953\"],[0.7777777777777778,\"#fb9f3a\"],[0.8888888888888888,\"#fdca26\"],[1.0,\"#f0f921\"]]},\"colorway\":[\"#636efa\",\"#EF553B\",\"#00cc96\",\"#ab63fa\",\"#FFA15A\",\"#19d3f3\",\"#FF6692\",\"#B6E880\",\"#FF97FF\",\"#FECB52\"],\"font\":{\"color\":\"#2a3f5f\"},\"geo\":{\"bgcolor\":\"white\",\"lakecolor\":\"white\",\"landcolor\":\"white\",\"showlakes\":true,\"showland\":true,\"subunitcolor\":\"#C8D4E3\"},\"hoverlabel\":{\"align\":\"left\"},\"hovermode\":\"closest\",\"mapbox\":{\"style\":\"light\"},\"paper_bgcolor\":\"white\",\"plot_bgcolor\":\"white\",\"polar\":{\"angularaxis\":{\"gridcolor\":\"#EBF0F8\",\"linecolor\":\"#EBF0F8\",\"ticks\":\"\"},\"bgcolor\":\"white\",\"radialaxis\":{\"gridcolor\":\"#EBF0F8\",\"linecolor\":\"#EBF0F8\",\"ticks\":\"\"}},\"scene\":{\"xaxis\":{\"backgroundcolor\":\"white\",\"gridcolor\":\"#DFE8F3\",\"gridwidth\":2,\"linecolor\":\"#EBF0F8\",\"showbackground\":true,\"ticks\":\"\",\"zerolinecolor\":\"#EBF0F8\"},\"yaxis\":{\"backgroundcolor\":\"white\",\"gridcolor\":\"#DFE8F3\",\"gridwidth\":2,\"linecolor\":\"#EBF0F8\",\"showbackground\":true,\"ticks\":\"\",\"zerolinecolor\":\"#EBF0F8\"},\"zaxis\":{\"backgroundcolor\":\"white\",\"gridcolor\":\"#DFE8F3\",\"gridwidth\":2,\"linecolor\":\"#EBF0F8\",\"showbackground\":true,\"ticks\":\"\",\"zerolinecolor\":\"#EBF0F8\"}},\"shapedefaults\":{\"line\":{\"color\":\"#2a3f5f\"}},\"ternary\":{\"aaxis\":{\"gridcolor\":\"#DFE8F3\",\"linecolor\":\"#A2B1C6\",\"ticks\":\"\"},\"baxis\":{\"gridcolor\":\"#DFE8F3\",\"linecolor\":\"#A2B1C6\",\"ticks\":\"\"},\"bgcolor\":\"white\",\"caxis\":{\"gridcolor\":\"#DFE8F3\",\"linecolor\":\"#A2B1C6\",\"ticks\":\"\"}},\"title\":{\"x\":0.05},\"xaxis\":{\"automargin\":true,\"gridcolor\":\"#EBF0F8\",\"linecolor\":\"#EBF0F8\",\"ticks\":\"\",\"title\":{\"standoff\":15},\"zerolinecolor\":\"#EBF0F8\",\"zerolinewidth\":2},\"yaxis\":{\"automargin\":true,\"gridcolor\":\"#EBF0F8\",\"linecolor\":\"#EBF0F8\",\"ticks\":\"\",\"title\":{\"standoff\":15},\"zerolinecolor\":\"#EBF0F8\",\"zerolinewidth\":2}}},\"xaxis\":{\"anchor\":\"y\",\"domain\":[0.0,1.0],\"title\":{\"text\":\"Critical resolution\",\"font\":{\"size\":13}},\"tickfont\":{\"color\":\"black\",\"size\":13},\"range\":[0,2.5],\"showgrid\":true,\"gridwidth\":2,\"ticks\":\"outside\",\"tick0\":0,\"tickwidth\":4},\"yaxis\":{\"anchor\":\"x\",\"domain\":[0.0,1.0],\"title\":{\"text\":\"Time last peak eluted / minutes\",\"font\":{\"size\":13}},\"tickfont\":{\"color\":\"black\",\"size\":13},\"range\":[1,18],\"showgrid\":true,\"gridwidth\":2,\"ticks\":\"outside\",\"tick0\":0,\"tickwidth\":4},\"coloraxis\":{\"colorbar\":{\"title\":{\"text\":\"Distance to Pareto\",\"font\":{\"size\":10}},\"tickfont\":{\"size\":10},\"thickness\":20,\"dtick\":0.05,\"ticks\":\"outside\",\"tickwidth\":2,\"tickmode\":\"array\",\"tickvals\":[0,0.2,0.4,0.6,0.8,1.0],\"ticktext\":[\"0 (Best)\",\"0.2\",\"0.4\",\"0.6\",\"0.8\",\"1.0 (Worst)\"]},\"colorscale\":[[0.0,\"rgb(255, 176, 0)\"],[0.25,\"rgb(254, 97, 0)\"],[0.5,\"rgb(220, 38, 127)\"],[0.75,\"rgb(120, 94, 240)\"],[1.0,\"rgb(100, 143, 255)\"]],\"cmin\":-0.05,\"cmax\":1.05,\"showscale\":false},\"legend\":{\"title\":{\"text\":\"repeatNumb\"},\"tracegroupgap\":0},\"margin\":{\"t\":60},\"autosize\":false,\"width\":500.0,\"height\":400.0,\"showlegend\":false,\"scene\":{\"camera\":{\"eye\":{\"x\":0.6981112017630946,\"y\":-2.0790961377418045,\"z\":0.3}},\"aspectmode\":\"cube\"}},                        {\"responsive\": true}                    ).then(function(){\n",
       "                            \n",
       "var gd = document.getElementById('996fe82f-9527-492a-b3ee-cf73fa565195');\n",
       "var x = new MutationObserver(function (mutations, observer) {{\n",
       "        var display = window.getComputedStyle(gd).display;\n",
       "        if (!display || display === 'none') {{\n",
       "            console.log([gd, 'removed!']);\n",
       "            Plotly.purge(gd);\n",
       "            observer.disconnect();\n",
       "        }}\n",
       "}});\n",
       "\n",
       "// Listen for the removal of the full notebook cells\n",
       "var notebookContainer = gd.closest('#notebook-container');\n",
       "if (notebookContainer) {{\n",
       "    x.observe(notebookContainer, {childList: true});\n",
       "}}\n",
       "\n",
       "// Listen for the clearing of the current output cell\n",
       "var outputEl = gd.closest('.output');\n",
       "if (outputEl) {{\n",
       "    x.observe(outputEl, {childList: true});\n",
       "}}\n",
       "\n",
       "                        })                };                });            </script>        </div>"
      ]
     },
     "metadata": {},
     "output_type": "display_data"
    }
   ],
   "source": [
    "#Figure 5. Trade-off for Optimisations 4, 5 and 6.\n",
    "\n",
    "#IBM colorscale no greenish\n",
    "colorscale = ['rgb(100, 143, 255)', 'rgb(120, 94, 240)', 'rgb(220, 38, 127)', 'rgb(254, 97, 0)', 'rgb(255, 176, 0)']\n",
    "colorscale.reverse()\n",
    "colorscale = pc.make_colorscale(colorscale)\n",
    "\n",
    "def rotate_z(x, y, z, theta):\n",
    "    w = x+1j*y\n",
    "    return np.real(np.exp(1j*theta)*w), np.imag(np.exp(1j*theta)*w), z\n",
    "\n",
    "#colorscale = px.colors.sequential.Sunsetdark_r\n",
    "\n",
    "allVars2New = allVars2[:]\n",
    "\n",
    "allVars2New[\"Maximisepeaknumber\"] = np.rint(np.exp(-allVars2New[\"Maximisepeaknumber\"]))\n",
    "allVars2New[\"RsCrit2\"] = np.exp(-allVars2New[\"RsCrit2\"])\n",
    "allVars2New[\"Minimisemethodtime\"] = np.exp(allVars2New[\"Minimisemethodtime\"])\n",
    "\n",
    "indexGood = allVars2New[\"Maximisepeaknumber\"] == 7\n",
    "\n",
    "xe, ye, ze = rotate_z(1.6, 1.5, 0.3, -2)\n",
    "\n",
    "fig = px.scatter(allVars2New[indexGood], x = \"RsCrit2\", y = \"Minimisemethodtime\", color = \"Dist2\",symbol = \"repeatNumb\",color_continuous_scale=colorscale, labels={'RsCrit2':'Critical resolution',\n",
    "'Minimisemethodtime':'Time last peak eluted / minutes', 'Dist':\"Distance\"})\n",
    "\n",
    "fig.update_coloraxes(colorscale=colorscale,\n",
    "                    cmin = -0.05,\n",
    "                    cmax = 1.05,\n",
    "                    colorbar_title_text = \"Distance to Pareto\",\n",
    "                    colorbar_thickness = 20,\n",
    "                    colorbar_dtick = 0.05,\n",
    "                    colorbar_ticks = 'outside',\n",
    "                    colorbar_tickwidth = 2,\n",
    "                    colorbar_tickmode = 'array',\n",
    "                    colorbar_tickvals = [0, 0.20, 0.40, 0.60, 0.80, 1.0],\n",
    "                    colorbar_ticktext = ['0 (Best)', '0.2', '0.4', '0.6', '0.8', '1.0 (Worst)'],\n",
    "                    colorbar_tickfont_size=10,\n",
    "                    colorbar_titlefont_size = 10\n",
    "                    )\n",
    "\n",
    "fig.update_layout(template='plotly_white')\n",
    "camera = dict(eye=dict(x=xe, y=ye, z=ze))\n",
    "\n",
    "fig.data[0].marker.symbol = 'diamond'\n",
    "fig.data[0].marker.size = 12\n",
    "fig.data[1].marker.symbol = 'square'\n",
    "fig.data[1].marker.size = 10\n",
    "fig.data[2].marker.symbol = 'circle'\n",
    "fig.data[2].marker.size = 10\n",
    "\n",
    "fig.data[0].marker.line.width = 1\n",
    "fig.data[0].marker.line.color ='Black'\n",
    "fig.data[1].marker.line.width = 1\n",
    "fig.data[1].marker.line.color ='Black'\n",
    "fig.data[2].marker.line.width = 1\n",
    "fig.data[2].marker.line.color ='Black'\n",
    "\n",
    "fig.update_xaxes(range = [0, 2.5],showgrid=True, gridwidth=2, tickfont=dict(color='black',size=13),ticks='outside',tick0=0, \n",
    "                 tickwidth=4, title = dict(font = dict(size=13)))\n",
    "fig.update_yaxes(range = [1, 18],showgrid=True, gridwidth=2, tickfont=dict(color='black',size=13),ticks='outside',tick0=0, \n",
    "                 tickwidth=4, title = dict(font = dict(size=13)))\n",
    "\n",
    "\n",
    "fig.update_layout(template='plotly_white',\n",
    "autosize=False,\n",
    "width=1000/2,\n",
    "height=800/2,\n",
    "showlegend=False\n",
    "                 )\n",
    "\n",
    "#Add or remove colorbar\n",
    "#fig.update_coloraxes(showscale=True)\n",
    "fig.update_coloraxes(showscale=False)\n",
    "\n",
    "\n",
    "fig.update_layout(scene=dict(camera=camera,aspectmode='cube'),showlegend=False)\n",
    "fig.show()\n",
    "\n",
    "import plotly.io as pio\n",
    "pio.write_image(fig, 'Optimisations456TradeOff.jpg', scale=4, width=1000/2, height=800/2)"
   ]
  },
  {
   "cell_type": "code",
   "execution_count": 28,
   "metadata": {
    "scrolled": false
   },
   "outputs": [
    {
     "name": "stderr",
     "output_type": "stream",
     "text": [
      "C:\\Users\\Thoma\\AppData\\Local\\Temp\\ipykernel_7416\\4017437566.py:32: SettingWithCopyWarning:\n",
      "\n",
      "\n",
      "A value is trying to be set on a copy of a slice from a DataFrame.\n",
      "Try using .loc[row_indexer,col_indexer] = value instead\n",
      "\n",
      "See the caveats in the documentation: https://pandas.pydata.org/pandas-docs/stable/user_guide/indexing.html#returning-a-view-versus-a-copy\n",
      "\n",
      "C:\\Users\\Thoma\\AppData\\Local\\Temp\\ipykernel_7416\\4017437566.py:32: FutureWarning:\n",
      "\n",
      "In a future version, `df.iloc[:, i] = newvals` will attempt to set the values inplace instead of always setting a new array. To retain the old behavior, use either `df[df.columns[i]] = newvals` or, if columns are non-unique, `df.isetitem(i, newvals)`\n",
      "\n"
     ]
    },
    {
     "data": {
      "application/vnd.plotly.v1+json": {
       "config": {
        "plotlyServerURL": "https://plot.ly"
       },
       "data": [
        {
         "line": {
          "color": "grey",
          "dash": "solid",
          "width": 1
         },
         "marker": {
          "size": 8
         },
         "mode": "lines",
         "type": "scatter3d",
         "x": [
          9.76,
          9.76,
          null,
          5.43,
          5.43,
          null,
          4.1,
          4.1,
          null,
          6.19,
          6.19,
          null,
          3.14,
          3.14,
          null,
          8.18,
          8.18,
          null,
          1.8,
          1.8,
          null,
          9.30723074350039,
          9.30723074350039,
          null,
          9.59444678361695,
          9.59444678361695,
          null,
          7.23401405648827,
          7.23401405648827,
          null,
          1.8068718775978,
          1.8068718775978,
          null,
          9.80650205253358,
          9.80650205253358,
          null,
          3.08962273928447,
          3.08962273928447,
          null,
          8.07217274081964,
          8.07217274081964,
          null,
          9.48935981510328,
          9.48935981510328,
          null,
          2.17419339976556,
          2.17419339976556,
          null,
          4.17216561128801,
          4.17216561128801,
          null,
          4.92986374344176,
          4.92986374344176,
          null,
          9.83466989376472,
          9.83466989376472,
          null,
          10,
          10,
          null,
          6.78997823942902,
          6.78997823942902,
          null,
          9.8498506007216,
          9.8498506007216,
          null,
          6.4910935665233,
          6.4910935665233,
          null,
          8.06406377912981,
          8.06406377912981,
          null,
          6.43959418058452,
          6.43959418058452,
          null,
          7.10618588044854,
          7.10618588044854,
          null,
          5.86858816326377,
          5.86858816326377,
          null,
          2.14232039730629,
          2.14232039730629,
          null,
          1,
          1,
          null,
          6.66016953096876,
          6.66016953096876,
          null,
          1,
          1,
          null,
          2.02967786147184,
          2.02967786147184,
          null,
          5.17532101499209,
          5.17532101499209,
          null,
          4.03735785947313,
          4.03735785947313,
          null,
          4.54414829559225,
          4.54414829559225,
          null,
          5.52369749828705,
          5.52369749828705,
          null,
          5.40469039750537,
          5.40469039750537,
          null,
          4.88471295404221,
          4.88471295404221,
          null,
          9.11524073950335,
          9.11524073950335,
          null,
          5.79600436316195,
          5.79600436316195,
          null,
          7.45917114734181,
          7.45917114734181,
          null,
          7.85564877792595,
          7.85564877792595,
          null,
          3.51376390229227,
          3.51376390229227,
          null,
          5.97292797887192,
          5.97292797887192,
          null,
          4.99216075110259,
          4.99216075110259,
          null,
          1.11718376222384,
          1.11718376222384,
          null,
          7.23244460694144,
          7.23244460694144,
          null,
          5.14533774094027,
          5.14533774094027,
          null,
          9.29805254505958,
          9.29805254505958,
          null,
          9.83293409599986,
          9.83293409599986,
          null,
          2.76,
          2.76,
          null,
          5.77,
          5.77,
          null,
          6.49,
          6.49,
          null,
          9.72,
          9.72,
          null,
          1.52,
          1.52,
          null,
          7.98,
          7.98,
          null,
          4.28,
          4.28,
          null,
          4.31149505911619,
          4.31149505911619,
          null,
          10,
          10,
          null,
          8.92250341121632,
          8.92250341121632,
          null,
          6.0878072946551,
          6.0878072946551,
          null,
          10,
          10,
          null,
          1.35694504284538,
          1.35694504284538,
          null,
          2.03256287908934,
          2.03256287908934,
          null,
          1.73098768703358,
          1.73098768703358,
          null,
          3.8643732643142,
          3.8643732643142,
          null,
          9.3100091659459,
          9.3100091659459,
          null,
          3.42962058933275,
          3.42962058933275,
          null,
          3.04779126581269,
          3.04779126581269,
          null,
          5.64690571832147,
          5.64690571832147,
          null,
          7.41951992311603,
          7.41951992311603,
          null,
          6.23470931089946,
          6.23470931089946,
          null,
          2.05626357767593,
          2.05626357767593,
          null,
          5.9572208676671,
          5.9572208676671,
          null,
          3.99703895860411,
          3.99703895860411,
          null,
          1,
          1,
          null,
          2.14316116175423,
          2.14316116175423,
          null,
          3.03662353477865,
          3.03662353477865,
          null,
          7.64322145525865,
          7.64322145525865,
          null,
          1.48912091249218,
          1.48912091249218,
          null,
          1.49536820041438,
          1.49536820041438,
          null,
          6.94149081493476,
          6.94149081493476,
          null,
          7.89908049571113,
          7.89908049571113,
          null,
          8.52786121117507,
          8.52786121117507,
          null,
          1.66482035634064,
          1.66482035634064,
          null,
          6.37525796169167,
          6.37525796169167,
          null,
          1.83967132860667,
          1.83967132860667,
          null,
          3.6485965432226,
          3.6485965432226,
          null,
          7.0724090847018,
          7.0724090847018,
          null,
          7.19533561198647,
          7.19533561198647,
          null,
          4.3080785944936,
          4.3080785944936,
          null,
          1.41539635583048,
          1.41539635583048,
          null,
          4.52498300898412,
          4.52498300898412,
          null,
          7.96379786451518,
          7.96379786451518,
          null,
          5.37939244388936,
          5.37939244388936,
          null,
          5.29876232203621,
          5.29876232203621,
          null,
          9.17704313312665,
          9.17704313312665,
          null,
          6.61711536871197,
          6.61711536871197,
          null,
          3.90510831772764,
          3.90510831772764,
          null,
          8.14619300224037,
          8.14619300224037,
          null,
          9.94,
          9.94,
          null,
          4.54,
          4.54,
          null,
          2.67,
          2.67,
          null,
          6.95,
          6.95,
          null,
          1.45,
          1.45,
          null,
          8.68,
          8.68,
          null,
          5.64,
          5.64,
          null,
          10,
          10,
          null,
          9.15174475837433,
          9.15174475837433,
          null,
          9.77630125024568,
          9.77630125024568,
          null,
          8.27904416036494,
          8.27904416036494,
          null,
          2.17995707604533,
          2.17995707604533,
          null,
          3.46101797092032,
          3.46101797092032,
          null,
          1.31372388555711,
          1.31372388555711,
          null,
          1,
          1,
          null,
          7.74061691367316,
          7.74061691367316,
          null,
          8.63143926159107,
          8.63143926159107,
          null,
          9.4423283632806,
          9.4423283632806,
          null,
          8.95169898354132,
          8.95169898354132,
          null,
          2.01494577466693,
          2.01494577466693,
          null,
          4.07213190934433,
          4.07213190934433,
          null,
          2.12425109666683,
          2.12425109666683,
          null,
          9.73629459524441,
          9.73629459524441,
          null,
          10,
          10,
          null,
          10,
          10,
          null,
          8.46987128804351,
          8.46987128804351,
          null,
          2.28711614690672,
          2.28711614690672,
          null,
          5.62821432897499,
          5.62821432897499,
          null,
          10,
          10,
          null,
          3.05005767839319,
          3.05005767839319,
          null,
          7.64294699713602,
          7.64294699713602,
          null,
          6.60881342432533,
          6.60881342432533,
          null,
          1.12283104304396,
          1.12283104304396,
          null,
          8.32708466221299,
          8.32708466221299,
          null,
          1,
          1,
          null,
          7.78735258902979,
          7.78735258902979,
          null,
          1,
          1,
          null,
          2.69067683720004,
          2.69067683720004,
          null,
          1,
          1,
          null,
          1.37694532507736,
          1.37694532507736,
          null,
          1.30298665737794,
          1.30298665737794,
          null,
          3.66103988097315,
          3.66103988097315,
          null,
          6.33743449458668,
          6.33743449458668,
          null,
          2.5220785249854,
          2.5220785249854,
          null,
          8.83587629381181,
          8.83587629381181,
          null,
          4.31635573929498,
          4.31635573929498,
          null,
          1,
          1,
          null,
          1,
          1,
          null,
          1.09116125119664,
          1.09116125119664,
          null,
          1,
          1,
          null
         ],
         "y": [
          51.89,
          51.89,
          null,
          37.99,
          37.99,
          null,
          13.28,
          13.28,
          null,
          57.94,
          57.94,
          null,
          8.46,
          8.46,
          null,
          28.03,
          28.03,
          null,
          34.4,
          34.4,
          null,
          18.8004921305811,
          18.8004921305811,
          null,
          28.8407832830408,
          28.8407832830408,
          null,
          43.5292015662,
          43.5292015662,
          null,
          21.0429602877957,
          21.0429602877957,
          null,
          26.4248158488725,
          26.4248158488725,
          null,
          53.9126185823421,
          53.9126185823421,
          null,
          17.2705095898371,
          17.2705095898371,
          null,
          45.9358456013386,
          45.9358456013386,
          null,
          41.7383613074184,
          41.7383613074184,
          null,
          39.2940968407856,
          39.2940968407856,
          null,
          30.8445157826887,
          30.8445157826887,
          null,
          8.46875356290286,
          8.46875356290286,
          null,
          37.0461412599149,
          37.0461412599149,
          null,
          32.4956997481241,
          32.4956997481241,
          null,
          17.0898261338244,
          17.0898261338244,
          null,
          27.009568504487,
          27.009568504487,
          null,
          31.2579642793096,
          31.2579642793096,
          null,
          5,
          5,
          null,
          11.6548652573083,
          11.6548652573083,
          null,
          21.9522517004556,
          21.9522517004556,
          null,
          48.2637122284724,
          48.2637122284724,
          null,
          14.9525718027552,
          14.9525718027552,
          null,
          31.3777143022569,
          31.3777143022569,
          null,
          48.8026273334843,
          48.8026273334843,
          null,
          60,
          60,
          null,
          17.4295215464969,
          17.4295215464969,
          null,
          41.2708359324449,
          41.2708359324449,
          null,
          24.2480220306938,
          24.2480220306938,
          null,
          39.8600927693849,
          39.8600927693849,
          null,
          34.0040202810494,
          34.0040202810494,
          null,
          42.9691153441519,
          42.9691153441519,
          null,
          22.2764516610226,
          22.2764516610226,
          null,
          26.8940702210295,
          26.8940702210295,
          null,
          33.5356231766309,
          33.5356231766309,
          null,
          28.6640164928591,
          28.6640164928591,
          null,
          21.2091696040629,
          21.2091696040629,
          null,
          30.1178600677451,
          30.1178600677451,
          null,
          49.2847525964805,
          49.2847525964805,
          null,
          49.2393687271295,
          49.2393687271295,
          null,
          24.7849504195217,
          24.7849504195217,
          null,
          25.6273115964826,
          25.6273115964826,
          null,
          33.0460402613027,
          33.0460402613027,
          null,
          41.3368671716334,
          41.3368671716334,
          null,
          34.79,
          34.79,
          null,
          42.95,
          42.95,
          null,
          47.62,
          47.62,
          null,
          14.1,
          14.1,
          null,
          53.68,
          53.68,
          null,
          21.47,
          21.47,
          null,
          7.35,
          7.35,
          null,
          48.2502191620425,
          48.2502191620425,
          null,
          51.8155350963662,
          51.8155350963662,
          null,
          28.5458576157984,
          28.5458576157984,
          null,
          27.2447552961705,
          27.2447552961705,
          null,
          33.6456819960477,
          33.6456819960477,
          null,
          29.5443893038784,
          29.5443893038784,
          null,
          20.2281696264508,
          20.2281696264508,
          null,
          41.7158966271739,
          41.7158966271739,
          null,
          54.0713748350402,
          54.0713748350402,
          null,
          53.8137008803819,
          53.8137008803819,
          null,
          16.929569002566,
          16.929569002566,
          null,
          27.9675592335683,
          27.9675592335683,
          null,
          27.0320673864795,
          27.0320673864795,
          null,
          60,
          60,
          null,
          60,
          60,
          null,
          54.692059819134,
          54.692059819134,
          null,
          50.4621808741872,
          50.4621808741872,
          null,
          38.6647684462726,
          38.6647684462726,
          null,
          26.9539203590783,
          26.9539203590783,
          null,
          13.2982887980121,
          13.2982887980121,
          null,
          21.6056368091559,
          21.6056368091559,
          null,
          38.3742824619254,
          38.3742824619254,
          null,
          60,
          60,
          null,
          50.7487664024874,
          50.7487664024874,
          null,
          58.8235063928195,
          58.8235063928195,
          null,
          35.7700287666473,
          35.7700287666473,
          null,
          38.3471809706221,
          38.3471809706221,
          null,
          33.4521389144091,
          33.4521389144091,
          null,
          15.6441149608759,
          15.6441149608759,
          null,
          46.7518199949901,
          46.7518199949901,
          null,
          7.09751380354299,
          7.09751380354299,
          null,
          29.5617013348926,
          29.5617013348926,
          null,
          45.8106353692116,
          45.8106353692116,
          null,
          30.9299246510556,
          30.9299246510556,
          null,
          5,
          5,
          null,
          25.7618044841197,
          25.7618044841197,
          null,
          33.1442857594179,
          33.1442857594179,
          null,
          39.1873894864584,
          39.1873894864584,
          null,
          18.2283380028951,
          18.2283380028951,
          null,
          49.7993299070929,
          49.7993299070929,
          null,
          26.5584596909025,
          26.5584596909025,
          null,
          32.2237347300546,
          32.2237347300546,
          null,
          48.9993133882223,
          48.9993133882223,
          null,
          53.94,
          53.94,
          null,
          6.45,
          6.45,
          null,
          29.75,
          29.75,
          null,
          25.4,
          25.4,
          null,
          19.07,
          19.07,
          null,
          39.14,
          39.14,
          null,
          46.04,
          46.04,
          null,
          19.8613477708745,
          19.8613477708745,
          null,
          22.8791056782154,
          22.8791056782154,
          null,
          32.6525410546945,
          32.6525410546945,
          null,
          43.2598907973528,
          43.2598907973528,
          null,
          25.5795591463211,
          25.5795591463211,
          null,
          59.0667598679723,
          59.0667598679723,
          null,
          39.9875565483171,
          39.9875565483171,
          null,
          60,
          60,
          null,
          38.5868470521365,
          38.5868470521365,
          null,
          60,
          60,
          null,
          55.4384317811944,
          55.4384317811944,
          null,
          53.9158984396384,
          53.9158984396384,
          null,
          57.5500836984298,
          57.5500836984298,
          null,
          47.8472131234341,
          47.8472131234341,
          null,
          52.114496406371,
          52.114496406371,
          null,
          21.6663284885586,
          21.6663284885586,
          null,
          50.112076788494,
          50.112076788494,
          null,
          41.2607904894314,
          41.2607904894314,
          null,
          54.346677471615,
          54.346677471615,
          null,
          41.8450622343481,
          41.8450622343481,
          null,
          33.335165353472,
          33.335165353472,
          null,
          54.6700415274969,
          54.6700415274969,
          null,
          32.4570150650249,
          32.4570150650249,
          null,
          52.6009998851221,
          52.6009998851221,
          null,
          37.8782386979668,
          37.8782386979668,
          null,
          36.3722272851743,
          36.3722272851743,
          null,
          28.6971831042945,
          28.6971831042945,
          null,
          26.7398629676603,
          26.7398629676603,
          null,
          31.4109013525298,
          31.4109013525298,
          null,
          52.9730566664229,
          52.9730566664229,
          null,
          51.6893364900508,
          51.6893364900508,
          null,
          54.5538000324619,
          54.5538000324619,
          null,
          24.8061804511616,
          24.8061804511616,
          null,
          8.46773375477772,
          8.46773375477772,
          null,
          30.9214407748837,
          30.9214407748837,
          null,
          50.8554749637087,
          50.8554749637087,
          null,
          31.795376339048,
          31.795376339048,
          null,
          27.5518284210548,
          27.5518284210548,
          null,
          32.8434512298149,
          32.8434512298149,
          null,
          48.2495435790183,
          48.2495435790183,
          null,
          13.9265112656882,
          13.9265112656882,
          null,
          52.3807052048569,
          52.3807052048569,
          null,
          33.1677759956703,
          33.1677759956703,
          null
         ],
         "z": [
          3.13,
          -1,
          null,
          9.97,
          -1,
          null,
          1.64,
          -1,
          null,
          5.22,
          -1,
          null,
          6.66,
          -1,
          null,
          7.9,
          -1,
          null,
          0.64,
          -1,
          null,
          1.6755449708196,
          -1,
          null,
          0.293392832617315,
          -1,
          null,
          1.20445961834609,
          -1,
          null,
          3.57095897114296,
          -1,
          null,
          4.32618555243016,
          -1,
          null,
          0,
          -1,
          null,
          1.59891960028412,
          -1,
          null,
          4.74809824743515,
          -1,
          null,
          0.368357603074229,
          -1,
          null,
          0.191715612175052,
          -1,
          null,
          0.562899230045397,
          -1,
          null,
          0,
          -1,
          null,
          0.442942126347986,
          -1,
          null,
          0.271756148297855,
          -1,
          null,
          0.521762488100484,
          -1,
          null,
          0,
          -1,
          null,
          0,
          -1,
          null,
          3.02573964754796,
          -1,
          null,
          0.743540613869052,
          -1,
          null,
          0.369552964764338,
          -1,
          null,
          0,
          -1,
          null,
          0,
          -1,
          null,
          0.171861176067775,
          -1,
          null,
          1.7750089393427,
          -1,
          null,
          1.88744143721802,
          -1,
          null,
          6.19806826506996,
          -1,
          null,
          3.1550378437413,
          -1,
          null,
          0.91983532634969,
          -1,
          null,
          1.10913491213244,
          -1,
          null,
          5.46509154853528,
          -1,
          null,
          0,
          -1,
          null,
          7.97242580143281,
          -1,
          null,
          2.70856447478432,
          -1,
          null,
          0.19070272811212,
          -1,
          null,
          1.00507626387108,
          -1,
          null,
          0.0314080728475458,
          -1,
          null,
          0.803527813146794,
          -1,
          null,
          1.47223936280511,
          -1,
          null,
          5.39652088933858,
          -1,
          null,
          0.309393606324721,
          -1,
          null,
          5.78724084029729,
          -1,
          null,
          2.40420148458755,
          -1,
          null,
          4.265694924989,
          -1,
          null,
          5.65,
          -1,
          null,
          6.92,
          -1,
          null,
          2.13,
          -1,
          null,
          1.16,
          -1,
          null,
          9.16,
          -1,
          null,
          8.18,
          -1,
          null,
          2.86,
          -1,
          null,
          9.86662841829518,
          -1,
          null,
          1.5105375551959,
          -1,
          null,
          1.56538467432898,
          -1,
          null,
          6.77322142528681,
          -1,
          null,
          1.2967674776192,
          -1,
          null,
          2.4627465053854,
          -1,
          null,
          0.142890774656894,
          -1,
          null,
          0.533269670164016,
          -1,
          null,
          0,
          -1,
          null,
          0.580614291249307,
          -1,
          null,
          0.891918648040128,
          -1,
          null,
          1.93316341272369,
          -1,
          null,
          0.437563495812433,
          -1,
          null,
          2.57349142795872,
          -1,
          null,
          0,
          -1,
          null,
          2.30962290175917,
          -1,
          null,
          0.21206318372269,
          -1,
          null,
          0,
          -1,
          null,
          0.0556613081809862,
          -1,
          null,
          0.18533633488732,
          -1,
          null,
          1.26865697715123,
          -1,
          null,
          2.44844010865615,
          -1,
          null,
          0.432327799025238,
          -1,
          null,
          3.19535213841996,
          -1,
          null,
          7.24182014880803,
          -1,
          null,
          0.451534123533695,
          -1,
          null,
          4.7071275356987,
          -1,
          null,
          0,
          -1,
          null,
          0.0879546271044074,
          -1,
          null,
          4.76511386686783,
          -1,
          null,
          8.55440427590033,
          -1,
          null,
          1.15130605118145,
          -1,
          null,
          0.28747264632338,
          -1,
          null,
          0,
          -1,
          null,
          1.13917117300591,
          -1,
          null,
          0.20596099734511,
          -1,
          null,
          0.169302152635155,
          -1,
          null,
          0.651829292035347,
          -1,
          null,
          1.20477372314489,
          -1,
          null,
          0.772534777893725,
          -1,
          null,
          0.0910825571881154,
          -1,
          null,
          1.1056319898776,
          -1,
          null,
          0.292007650274076,
          -1,
          null,
          6.2,
          -1,
          null,
          2.88,
          -1,
          null,
          1.96,
          -1,
          null,
          0.24,
          -1,
          null,
          5.64,
          -1,
          null,
          9.93,
          -1,
          null,
          7.53,
          -1,
          null,
          3.00273115115032,
          -1,
          null,
          1.37030307355957,
          -1,
          null,
          0.146544288477587,
          -1,
          null,
          0,
          -1,
          null,
          0.868346027103747,
          -1,
          null,
          0.470980125146798,
          -1,
          null,
          0.861646972220014,
          -1,
          null,
          5.36437880327819,
          -1,
          null,
          1.42783209263889,
          -1,
          null,
          8.86832698160496,
          -1,
          null,
          0.79384328539671,
          -1,
          null,
          0.305616860296839,
          -1,
          null,
          3.55095539964494,
          -1,
          null,
          3.9118062519877,
          -1,
          null,
          8.5836032944696,
          -1,
          null,
          0.0140665016823759,
          -1,
          null,
          0.70269575596654,
          -1,
          null,
          0.284286644676706,
          -1,
          null,
          5.70880556242885,
          -1,
          null,
          4.53488534280981,
          -1,
          null,
          1.48813326062844,
          -1,
          null,
          10,
          -1,
          null,
          6.62155475638949,
          -1,
          null,
          0.718535032901132,
          -1,
          null,
          1.77624799393717,
          -1,
          null,
          0.997243085839533,
          -1,
          null,
          0.340448766739464,
          -1,
          null,
          5.3039634118189,
          -1,
          null,
          0.121452189945507,
          -1,
          null,
          9.20180320990751,
          -1,
          null,
          5.81574650529975,
          -1,
          null,
          0.830497626862258,
          -1,
          null,
          0,
          -1,
          null,
          7.18619908758904,
          -1,
          null,
          0,
          -1,
          null,
          0.0397295462938856,
          -1,
          null,
          0.0894405941506618,
          -1,
          null,
          0,
          -1,
          null,
          1.24516562176764,
          -1,
          null,
          1.76507900153261,
          -1,
          null,
          0.306446083783243,
          -1,
          null,
          3.95118723322273,
          -1,
          null,
          2.26999768665731,
          -1,
          null
         ]
        },
        {
         "marker": {
          "color": "black",
          "size": 9,
          "symbol": "diamond"
         },
         "mode": "markers",
         "type": "scatter3d",
         "x": [
          9.76,
          5.43,
          4.1,
          6.19,
          3.14,
          8.18,
          1.8,
          9.30723074350039,
          9.59444678361695,
          7.23401405648827,
          1.8068718775978,
          9.80650205253358,
          3.08962273928447,
          8.07217274081964,
          9.48935981510328,
          2.17419339976556,
          4.17216561128801,
          4.92986374344176,
          9.83466989376472,
          10,
          6.78997823942902,
          9.8498506007216,
          6.4910935665233,
          8.06406377912981,
          6.43959418058452,
          7.10618588044854,
          5.86858816326377,
          2.14232039730629,
          1,
          6.66016953096876,
          1,
          2.02967786147184,
          5.17532101499209,
          4.03735785947313,
          4.54414829559225,
          5.52369749828705,
          5.40469039750537,
          4.88471295404221,
          9.11524073950335,
          5.79600436316195,
          7.45917114734181,
          7.85564877792595,
          3.51376390229227,
          5.97292797887192,
          4.99216075110259,
          1.11718376222384,
          7.23244460694144,
          5.14533774094027,
          9.29805254505958,
          9.83293409599986
         ],
         "y": [
          51.89,
          37.99,
          13.28,
          57.94,
          8.46,
          28.03,
          34.4,
          18.8004921305811,
          28.8407832830408,
          43.5292015662,
          21.0429602877957,
          26.4248158488725,
          53.9126185823421,
          17.2705095898371,
          45.9358456013386,
          41.7383613074184,
          39.2940968407856,
          30.8445157826887,
          8.46875356290286,
          37.0461412599149,
          32.4956997481241,
          17.0898261338244,
          27.009568504487,
          31.2579642793096,
          5,
          11.6548652573083,
          21.9522517004556,
          48.2637122284724,
          14.9525718027552,
          31.3777143022569,
          48.8026273334843,
          60,
          17.4295215464969,
          41.2708359324449,
          24.2480220306938,
          39.8600927693849,
          34.0040202810494,
          42.9691153441519,
          22.2764516610226,
          26.8940702210295,
          33.5356231766309,
          28.6640164928591,
          21.2091696040629,
          30.1178600677451,
          49.2847525964805,
          49.2393687271295,
          24.7849504195217,
          25.6273115964826,
          33.0460402613027,
          41.3368671716334
         ],
         "z": [
          3.13,
          9.97,
          1.64,
          5.22,
          6.66,
          7.9,
          0.64,
          1.6755449708196,
          0.293392832617315,
          1.20445961834609,
          3.57095897114296,
          4.32618555243016,
          0,
          1.59891960028412,
          4.74809824743515,
          0.368357603074229,
          0.191715612175052,
          0.562899230045397,
          0,
          0.442942126347986,
          0.271756148297855,
          0.521762488100484,
          0,
          0,
          3.02573964754796,
          0.743540613869052,
          0.369552964764338,
          0,
          0,
          0.171861176067775,
          1.7750089393427,
          1.88744143721802,
          6.19806826506996,
          3.1550378437413,
          0.91983532634969,
          1.10913491213244,
          5.46509154853528,
          0,
          7.97242580143281,
          2.70856447478432,
          0.19070272811212,
          1.00507626387108,
          0.0314080728475458,
          0.803527813146794,
          1.47223936280511,
          5.39652088933858,
          0.309393606324721,
          5.78724084029729,
          2.40420148458755,
          4.265694924989
         ]
        },
        {
         "marker": {
          "color": "black",
          "size": 9,
          "symbol": "square"
         },
         "mode": "markers",
         "type": "scatter3d",
         "x": [
          2.76,
          5.77,
          6.49,
          9.72,
          1.52,
          7.98,
          4.28,
          4.31149505911619,
          10,
          8.92250341121632,
          6.0878072946551,
          10,
          1.35694504284538,
          2.03256287908934,
          1.73098768703358,
          3.8643732643142,
          9.3100091659459,
          3.42962058933275,
          3.04779126581269,
          5.64690571832147,
          7.41951992311603,
          6.23470931089946,
          2.05626357767593,
          5.9572208676671,
          3.99703895860411,
          1,
          2.14316116175423,
          3.03662353477865,
          7.64322145525865,
          1.48912091249218,
          1.49536820041438,
          6.94149081493476,
          7.89908049571113,
          8.52786121117507,
          1.66482035634064,
          6.37525796169167,
          1.83967132860667,
          3.6485965432226,
          7.0724090847018,
          7.19533561198647,
          4.3080785944936,
          1.41539635583048,
          4.52498300898412,
          7.96379786451518,
          5.37939244388936,
          5.29876232203621,
          9.17704313312665,
          6.61711536871197,
          3.90510831772764,
          8.14619300224037
         ],
         "y": [
          34.79,
          42.95,
          47.62,
          14.1,
          53.68,
          21.47,
          7.35,
          48.2502191620425,
          51.8155350963662,
          28.5458576157984,
          27.2447552961705,
          33.6456819960477,
          29.5443893038784,
          20.2281696264508,
          41.7158966271739,
          54.0713748350402,
          53.8137008803819,
          16.929569002566,
          27.9675592335683,
          27.0320673864795,
          60,
          60,
          54.692059819134,
          50.4621808741872,
          38.6647684462726,
          26.9539203590783,
          13.2982887980121,
          21.6056368091559,
          38.3742824619254,
          60,
          50.7487664024874,
          58.8235063928195,
          35.7700287666473,
          38.3471809706221,
          33.4521389144091,
          15.6441149608759,
          46.7518199949901,
          7.09751380354299,
          29.5617013348926,
          45.8106353692116,
          30.9299246510556,
          5,
          25.7618044841197,
          33.1442857594179,
          39.1873894864584,
          18.2283380028951,
          49.7993299070929,
          26.5584596909025,
          32.2237347300546,
          48.9993133882223
         ],
         "z": [
          5.65,
          6.92,
          2.13,
          1.16,
          9.16,
          8.18,
          2.86,
          9.86662841829518,
          1.5105375551959,
          1.56538467432898,
          6.77322142528681,
          1.2967674776192,
          2.4627465053854,
          0.142890774656894,
          0.533269670164016,
          0,
          0.580614291249307,
          0.891918648040128,
          1.93316341272369,
          0.437563495812433,
          2.57349142795872,
          0,
          2.30962290175917,
          0.21206318372269,
          0,
          0.0556613081809862,
          0.18533633488732,
          1.26865697715123,
          2.44844010865615,
          0.432327799025238,
          3.19535213841996,
          7.24182014880803,
          0.451534123533695,
          4.7071275356987,
          0,
          0.0879546271044074,
          4.76511386686783,
          8.55440427590033,
          1.15130605118145,
          0.28747264632338,
          0,
          1.13917117300591,
          0.20596099734511,
          0.169302152635155,
          0.651829292035347,
          1.20477372314489,
          0.772534777893725,
          0.0910825571881154,
          1.1056319898776,
          0.292007650274076
         ]
        },
        {
         "marker": {
          "color": "black",
          "size": 9,
          "symbol": "circle"
         },
         "mode": "markers",
         "type": "scatter3d",
         "x": [
          9.94,
          4.54,
          2.67,
          6.95,
          1.45,
          8.68,
          5.64,
          10,
          9.15174475837433,
          9.77630125024568,
          8.27904416036494,
          2.17995707604533,
          3.46101797092032,
          1.31372388555711,
          1,
          7.74061691367316,
          8.63143926159107,
          9.4423283632806,
          8.95169898354132,
          2.01494577466693,
          4.07213190934433,
          2.12425109666683,
          9.73629459524441,
          10,
          10,
          8.46987128804351,
          2.28711614690672,
          5.62821432897499,
          10,
          3.05005767839319,
          7.64294699713602,
          6.60881342432533,
          1.12283104304396,
          8.32708466221299,
          1,
          7.78735258902979,
          1,
          2.69067683720004,
          1,
          1.37694532507736,
          1.30298665737794,
          3.66103988097315,
          6.33743449458668,
          2.5220785249854,
          8.83587629381181,
          4.31635573929498,
          1,
          1,
          1.09116125119664,
          1
         ],
         "y": [
          53.94,
          6.45,
          29.75,
          25.4,
          19.07,
          39.14,
          46.04,
          19.8613477708745,
          22.8791056782154,
          32.6525410546945,
          43.2598907973528,
          25.5795591463211,
          59.0667598679723,
          39.9875565483171,
          60,
          38.5868470521365,
          60,
          55.4384317811944,
          53.9158984396384,
          57.5500836984298,
          47.8472131234341,
          52.114496406371,
          21.6663284885586,
          50.112076788494,
          41.2607904894314,
          54.346677471615,
          41.8450622343481,
          33.335165353472,
          54.6700415274969,
          32.4570150650249,
          52.6009998851221,
          37.8782386979668,
          36.3722272851743,
          28.6971831042945,
          26.7398629676603,
          31.4109013525298,
          52.9730566664229,
          51.6893364900508,
          54.5538000324619,
          24.8061804511616,
          8.46773375477772,
          30.9214407748837,
          50.8554749637087,
          31.795376339048,
          27.5518284210548,
          32.8434512298149,
          48.2495435790183,
          13.9265112656882,
          52.3807052048569,
          33.1677759956703
         ],
         "z": [
          6.2,
          2.88,
          1.96,
          0.24,
          5.64,
          9.93,
          7.53,
          3.00273115115032,
          1.37030307355957,
          0.146544288477587,
          0,
          0.868346027103747,
          0.470980125146798,
          0.861646972220014,
          5.36437880327819,
          1.42783209263889,
          8.86832698160496,
          0.79384328539671,
          0.305616860296839,
          3.55095539964494,
          3.9118062519877,
          8.5836032944696,
          0.0140665016823759,
          0.70269575596654,
          0.284286644676706,
          5.70880556242885,
          4.53488534280981,
          1.48813326062844,
          10,
          6.62155475638949,
          0.718535032901132,
          1.77624799393717,
          0.997243085839533,
          0.340448766739464,
          5.3039634118189,
          0.121452189945507,
          9.20180320990751,
          5.81574650529975,
          0.830497626862258,
          0,
          7.18619908758904,
          0,
          0.0397295462938856,
          0.0894405941506618,
          0,
          1.24516562176764,
          1.76507900153261,
          0.306446083783243,
          3.95118723322273,
          2.26999768665731
         ]
        },
        {
         "hovertemplate": "repeatNumb=1<br>Gradient time / minutes=%{x}<br>Initial organic modifier (%)=%{y}<br>Isocratic hold time / minutes=%{z}<br>Dist2=%{marker.color}<extra></extra>",
         "legendgroup": "1",
         "marker": {
          "color": [
           1,
           1,
           1,
           1,
           1,
           1,
           1,
           0.25532117200692,
           0.0855615946505225,
           1,
           1,
           0.437096149050731,
           1,
           0.221859303833553,
           1,
           1,
           1,
           1,
           0.195955197802776,
           1,
           0.0123070620551926,
           0.188253416985258,
           0.0326387061417782,
           0.0308728507993984,
           1,
           1,
           1,
           1,
           1,
           0.0154886372795611,
           1,
           1,
           1,
           1,
           1,
           1,
           1,
           1,
           1,
           1,
           0.0111105112602623,
           1,
           1,
           1,
           1,
           1,
           1,
           1,
           1,
           1
          ],
          "coloraxis": "coloraxis",
          "size": 7,
          "symbol": "diamond"
         },
         "mode": "markers",
         "name": "1",
         "scene": "scene",
         "showlegend": true,
         "type": "scatter3d",
         "x": [
          9.76,
          5.43,
          4.1,
          6.19,
          3.14,
          8.18,
          1.8,
          9.30723074350039,
          9.59444678361695,
          7.23401405648827,
          1.8068718775978,
          9.80650205253358,
          3.08962273928447,
          8.07217274081964,
          9.48935981510328,
          2.17419339976556,
          4.17216561128801,
          4.92986374344176,
          9.83466989376472,
          10,
          6.78997823942902,
          9.8498506007216,
          6.4910935665233,
          8.06406377912981,
          6.43959418058452,
          7.10618588044854,
          5.86858816326377,
          2.14232039730629,
          1,
          6.66016953096876,
          1,
          2.02967786147184,
          5.17532101499209,
          4.03735785947313,
          4.54414829559225,
          5.52369749828705,
          5.40469039750537,
          4.88471295404221,
          9.11524073950335,
          5.79600436316195,
          7.45917114734181,
          7.85564877792595,
          3.51376390229227,
          5.97292797887192,
          4.99216075110259,
          1.11718376222384,
          7.23244460694144,
          5.14533774094027,
          9.29805254505958,
          9.83293409599986
         ],
         "y": [
          51.89,
          37.99,
          13.28,
          57.94,
          8.46,
          28.03,
          34.4,
          18.8004921305811,
          28.8407832830408,
          43.5292015662,
          21.0429602877957,
          26.4248158488725,
          53.9126185823421,
          17.2705095898371,
          45.9358456013386,
          41.7383613074184,
          39.2940968407856,
          30.8445157826887,
          8.46875356290286,
          37.0461412599149,
          32.4956997481241,
          17.0898261338244,
          27.009568504487,
          31.2579642793096,
          5,
          11.6548652573083,
          21.9522517004556,
          48.2637122284724,
          14.9525718027552,
          31.3777143022569,
          48.8026273334843,
          60,
          17.4295215464969,
          41.2708359324449,
          24.2480220306938,
          39.8600927693849,
          34.0040202810494,
          42.9691153441519,
          22.2764516610226,
          26.8940702210295,
          33.5356231766309,
          28.6640164928591,
          21.2091696040629,
          30.1178600677451,
          49.2847525964805,
          49.2393687271295,
          24.7849504195217,
          25.6273115964826,
          33.0460402613027,
          41.3368671716334
         ],
         "z": [
          3.13,
          9.97,
          1.64,
          5.22,
          6.66,
          7.9,
          0.64,
          1.6755449708196,
          0.293392832617315,
          1.20445961834609,
          3.57095897114296,
          4.32618555243016,
          0,
          1.59891960028412,
          4.74809824743515,
          0.368357603074229,
          0.191715612175052,
          0.562899230045397,
          0,
          0.442942126347986,
          0.271756148297855,
          0.521762488100484,
          0,
          0,
          3.02573964754796,
          0.743540613869052,
          0.369552964764338,
          0,
          0,
          0.171861176067775,
          1.7750089393427,
          1.88744143721802,
          6.19806826506996,
          3.1550378437413,
          0.91983532634969,
          1.10913491213244,
          5.46509154853528,
          0,
          7.97242580143281,
          2.70856447478432,
          0.19070272811212,
          1.00507626387108,
          0.0314080728475458,
          0.803527813146794,
          1.47223936280511,
          5.39652088933858,
          0.309393606324721,
          5.78724084029729,
          2.40420148458755,
          4.265694924989
         ]
        },
        {
         "hovertemplate": "repeatNumb=2<br>Gradient time / minutes=%{x}<br>Initial organic modifier (%)=%{y}<br>Isocratic hold time / minutes=%{z}<br>Dist2=%{marker.color}<extra></extra>",
         "legendgroup": "2",
         "marker": {
          "color": [
           1,
           1,
           1,
           1,
           1,
           1,
           1,
           1,
           1,
           1,
           1,
           1,
           1,
           1,
           1,
           1,
           1,
           1,
           1,
           1,
           1,
           1,
           1,
           1,
           1,
           1,
           1,
           1,
           1,
           1,
           1,
           1,
           1,
           1,
           1,
           1,
           1,
           1,
           1,
           1,
           1,
           1,
           1,
           1,
           1,
           1,
           1,
           1,
           1,
           1
          ],
          "coloraxis": "coloraxis",
          "size": 7,
          "symbol": "square"
         },
         "mode": "markers",
         "name": "2",
         "scene": "scene",
         "showlegend": true,
         "type": "scatter3d",
         "x": [
          2.76,
          5.77,
          6.49,
          9.72,
          1.52,
          7.98,
          4.28,
          4.31149505911619,
          10,
          8.92250341121632,
          6.0878072946551,
          10,
          1.35694504284538,
          2.03256287908934,
          1.73098768703358,
          3.8643732643142,
          9.3100091659459,
          3.42962058933275,
          3.04779126581269,
          5.64690571832147,
          7.41951992311603,
          6.23470931089946,
          2.05626357767593,
          5.9572208676671,
          3.99703895860411,
          1,
          2.14316116175423,
          3.03662353477865,
          7.64322145525865,
          1.48912091249218,
          1.49536820041438,
          6.94149081493476,
          7.89908049571113,
          8.52786121117507,
          1.66482035634064,
          6.37525796169167,
          1.83967132860667,
          3.6485965432226,
          7.0724090847018,
          7.19533561198647,
          4.3080785944936,
          1.41539635583048,
          4.52498300898412,
          7.96379786451518,
          5.37939244388936,
          5.29876232203621,
          9.17704313312665,
          6.61711536871197,
          3.90510831772764,
          8.14619300224037
         ],
         "y": [
          34.79,
          42.95,
          47.62,
          14.1,
          53.68,
          21.47,
          7.35,
          48.2502191620425,
          51.8155350963662,
          28.5458576157984,
          27.2447552961705,
          33.6456819960477,
          29.5443893038784,
          20.2281696264508,
          41.7158966271739,
          54.0713748350402,
          53.8137008803819,
          16.929569002566,
          27.9675592335683,
          27.0320673864795,
          60,
          60,
          54.692059819134,
          50.4621808741872,
          38.6647684462726,
          26.9539203590783,
          13.2982887980121,
          21.6056368091559,
          38.3742824619254,
          60,
          50.7487664024874,
          58.8235063928195,
          35.7700287666473,
          38.3471809706221,
          33.4521389144091,
          15.6441149608759,
          46.7518199949901,
          7.09751380354299,
          29.5617013348926,
          45.8106353692116,
          30.9299246510556,
          5,
          25.7618044841197,
          33.1442857594179,
          39.1873894864584,
          18.2283380028951,
          49.7993299070929,
          26.5584596909025,
          32.2237347300546,
          48.9993133882223
         ],
         "z": [
          5.65,
          6.92,
          2.13,
          1.16,
          9.16,
          8.18,
          2.86,
          9.86662841829518,
          1.5105375551959,
          1.56538467432898,
          6.77322142528681,
          1.2967674776192,
          2.4627465053854,
          0.142890774656894,
          0.533269670164016,
          0,
          0.580614291249307,
          0.891918648040128,
          1.93316341272369,
          0.437563495812433,
          2.57349142795872,
          0,
          2.30962290175917,
          0.21206318372269,
          0,
          0.0556613081809862,
          0.18533633488732,
          1.26865697715123,
          2.44844010865615,
          0.432327799025238,
          3.19535213841996,
          7.24182014880803,
          0.451534123533695,
          4.7071275356987,
          0,
          0.0879546271044074,
          4.76511386686783,
          8.55440427590033,
          1.15130605118145,
          0.28747264632338,
          0,
          1.13917117300591,
          0.20596099734511,
          0.169302152635155,
          0.651829292035347,
          1.20477372314489,
          0.772534777893725,
          0.0910825571881154,
          1.1056319898776,
          0.292007650274076
         ]
        },
        {
         "hovertemplate": "repeatNumb=3<br>Gradient time / minutes=%{x}<br>Initial organic modifier (%)=%{y}<br>Isocratic hold time / minutes=%{z}<br>Dist2=%{marker.color}<extra></extra>",
         "legendgroup": "3",
         "marker": {
          "color": [
           1,
           1,
           1,
           1,
           1,
           1,
           1,
           1,
           1,
           0.0692649320491453,
           1,
           1,
           1,
           1,
           1,
           1,
           1,
           1,
           1,
           1,
           1,
           1,
           0.143788942482171,
           1,
           1,
           1,
           1,
           1,
           1,
           1,
           1,
           1,
           1,
           1,
           1,
           1,
           1,
           1,
           1,
           1,
           1,
           1,
           1,
           1,
           1,
           1,
           1,
           1,
           1,
           1
          ],
          "coloraxis": "coloraxis",
          "size": 7,
          "symbol": "circle"
         },
         "mode": "markers",
         "name": "3",
         "scene": "scene",
         "showlegend": true,
         "type": "scatter3d",
         "x": [
          9.94,
          4.54,
          2.67,
          6.95,
          1.45,
          8.68,
          5.64,
          10,
          9.15174475837433,
          9.77630125024568,
          8.27904416036494,
          2.17995707604533,
          3.46101797092032,
          1.31372388555711,
          1,
          7.74061691367316,
          8.63143926159107,
          9.4423283632806,
          8.95169898354132,
          2.01494577466693,
          4.07213190934433,
          2.12425109666683,
          9.73629459524441,
          10,
          10,
          8.46987128804351,
          2.28711614690672,
          5.62821432897499,
          10,
          3.05005767839319,
          7.64294699713602,
          6.60881342432533,
          1.12283104304396,
          8.32708466221299,
          1,
          7.78735258902979,
          1,
          2.69067683720004,
          1,
          1.37694532507736,
          1.30298665737794,
          3.66103988097315,
          6.33743449458668,
          2.5220785249854,
          8.83587629381181,
          4.31635573929498,
          1,
          1,
          1.09116125119664,
          1
         ],
         "y": [
          53.94,
          6.45,
          29.75,
          25.4,
          19.07,
          39.14,
          46.04,
          19.8613477708745,
          22.8791056782154,
          32.6525410546945,
          43.2598907973528,
          25.5795591463211,
          59.0667598679723,
          39.9875565483171,
          60,
          38.5868470521365,
          60,
          55.4384317811944,
          53.9158984396384,
          57.5500836984298,
          47.8472131234341,
          52.114496406371,
          21.6663284885586,
          50.112076788494,
          41.2607904894314,
          54.346677471615,
          41.8450622343481,
          33.335165353472,
          54.6700415274969,
          32.4570150650249,
          52.6009998851221,
          37.8782386979668,
          36.3722272851743,
          28.6971831042945,
          26.7398629676603,
          31.4109013525298,
          52.9730566664229,
          51.6893364900508,
          54.5538000324619,
          24.8061804511616,
          8.46773375477772,
          30.9214407748837,
          50.8554749637087,
          31.795376339048,
          27.5518284210548,
          32.8434512298149,
          48.2495435790183,
          13.9265112656882,
          52.3807052048569,
          33.1677759956703
         ],
         "z": [
          6.2,
          2.88,
          1.96,
          0.24,
          5.64,
          9.93,
          7.53,
          3.00273115115032,
          1.37030307355957,
          0.146544288477587,
          0,
          0.868346027103747,
          0.470980125146798,
          0.861646972220014,
          5.36437880327819,
          1.42783209263889,
          8.86832698160496,
          0.79384328539671,
          0.305616860296839,
          3.55095539964494,
          3.9118062519877,
          8.5836032944696,
          0.0140665016823759,
          0.70269575596654,
          0.284286644676706,
          5.70880556242885,
          4.53488534280981,
          1.48813326062844,
          10,
          6.62155475638949,
          0.718535032901132,
          1.77624799393717,
          0.997243085839533,
          0.340448766739464,
          5.3039634118189,
          0.121452189945507,
          9.20180320990751,
          5.81574650529975,
          0.830497626862258,
          0,
          7.18619908758904,
          0,
          0.0397295462938856,
          0.0894405941506618,
          0,
          1.24516562176764,
          1.76507900153261,
          0.306446083783243,
          3.95118723322273,
          2.26999768665731
         ]
        }
       ],
       "layout": {
        "autosize": false,
        "coloraxis": {
         "cmax": 1.05,
         "cmin": -0.05,
         "colorbar": {
          "dtick": 0.05,
          "thickness": 20,
          "tickfont": {
           "size": 20
          },
          "tickmode": "array",
          "ticks": "outside",
          "ticktext": [
           "0 (Best)",
           "0.2",
           "0.4",
           "0.6",
           "0.8",
           "1.0 (Worst)"
          ],
          "tickvals": [
           0,
           0.2,
           0.4,
           0.6,
           0.8,
           1
          ],
          "tickwidth": 2,
          "title": {
           "font": {
            "size": 20
           },
           "text": "Distance to Pareto\n\n"
          }
         },
         "colorscale": [
          [
           0,
           "rgb(255, 176, 0)"
          ],
          [
           0.25,
           "rgb(254, 97, 0)"
          ],
          [
           0.5,
           "rgb(220, 38, 127)"
          ],
          [
           0.75,
           "rgb(120, 94, 240)"
          ],
          [
           1,
           "rgb(100, 143, 255)"
          ]
         ],
         "showscale": true
        },
        "height": 800,
        "legend": {
         "title": {
          "text": "repeatNumb"
         },
         "tracegroupgap": 0
        },
        "margin": {
         "t": 60
        },
        "scene": {
         "aspectmode": "cube",
         "camera": {
          "eye": {
           "x": 2.25,
           "y": 1.07,
           "z": 0.3
          }
         },
         "domain": {
          "x": [
           0,
           1
          ],
          "y": [
           0,
           1
          ]
         },
         "xaxis": {
          "tick0": 0,
          "tickfont": {
           "color": "black",
           "size": 14
          },
          "ticks": "outside",
          "tickwidth": 4,
          "title": {
           "font": {
            "size": 15
           },
           "text": "Gradient time / minutes"
          }
         },
         "yaxis": {
          "tick0": 0,
          "tickfont": {
           "color": "black",
           "size": 14
          },
          "ticks": "outside",
          "tickwidth": 4,
          "title": {
           "font": {
            "size": 15
           },
           "text": "Initial organic modifier (%)"
          }
         },
         "zaxis": {
          "tick0": 0,
          "tickfont": {
           "color": "black",
           "size": 14
          },
          "ticks": "outside",
          "tickwidth": 4,
          "title": {
           "font": {
            "size": 15
           },
           "text": "Isocratic hold time / minutes"
          }
         }
        },
        "showlegend": false,
        "template": {
         "data": {
          "bar": [
           {
            "error_x": {
             "color": "#2a3f5f"
            },
            "error_y": {
             "color": "#2a3f5f"
            },
            "marker": {
             "line": {
              "color": "white",
              "width": 0.5
             },
             "pattern": {
              "fillmode": "overlay",
              "size": 10,
              "solidity": 0.2
             }
            },
            "type": "bar"
           }
          ],
          "barpolar": [
           {
            "marker": {
             "line": {
              "color": "white",
              "width": 0.5
             },
             "pattern": {
              "fillmode": "overlay",
              "size": 10,
              "solidity": 0.2
             }
            },
            "type": "barpolar"
           }
          ],
          "carpet": [
           {
            "aaxis": {
             "endlinecolor": "#2a3f5f",
             "gridcolor": "#C8D4E3",
             "linecolor": "#C8D4E3",
             "minorgridcolor": "#C8D4E3",
             "startlinecolor": "#2a3f5f"
            },
            "baxis": {
             "endlinecolor": "#2a3f5f",
             "gridcolor": "#C8D4E3",
             "linecolor": "#C8D4E3",
             "minorgridcolor": "#C8D4E3",
             "startlinecolor": "#2a3f5f"
            },
            "type": "carpet"
           }
          ],
          "choropleth": [
           {
            "colorbar": {
             "outlinewidth": 0,
             "ticks": ""
            },
            "type": "choropleth"
           }
          ],
          "contour": [
           {
            "colorbar": {
             "outlinewidth": 0,
             "ticks": ""
            },
            "colorscale": [
             [
              0,
              "#0d0887"
             ],
             [
              0.1111111111111111,
              "#46039f"
             ],
             [
              0.2222222222222222,
              "#7201a8"
             ],
             [
              0.3333333333333333,
              "#9c179e"
             ],
             [
              0.4444444444444444,
              "#bd3786"
             ],
             [
              0.5555555555555556,
              "#d8576b"
             ],
             [
              0.6666666666666666,
              "#ed7953"
             ],
             [
              0.7777777777777778,
              "#fb9f3a"
             ],
             [
              0.8888888888888888,
              "#fdca26"
             ],
             [
              1,
              "#f0f921"
             ]
            ],
            "type": "contour"
           }
          ],
          "contourcarpet": [
           {
            "colorbar": {
             "outlinewidth": 0,
             "ticks": ""
            },
            "type": "contourcarpet"
           }
          ],
          "heatmap": [
           {
            "colorbar": {
             "outlinewidth": 0,
             "ticks": ""
            },
            "colorscale": [
             [
              0,
              "#0d0887"
             ],
             [
              0.1111111111111111,
              "#46039f"
             ],
             [
              0.2222222222222222,
              "#7201a8"
             ],
             [
              0.3333333333333333,
              "#9c179e"
             ],
             [
              0.4444444444444444,
              "#bd3786"
             ],
             [
              0.5555555555555556,
              "#d8576b"
             ],
             [
              0.6666666666666666,
              "#ed7953"
             ],
             [
              0.7777777777777778,
              "#fb9f3a"
             ],
             [
              0.8888888888888888,
              "#fdca26"
             ],
             [
              1,
              "#f0f921"
             ]
            ],
            "type": "heatmap"
           }
          ],
          "heatmapgl": [
           {
            "colorbar": {
             "outlinewidth": 0,
             "ticks": ""
            },
            "colorscale": [
             [
              0,
              "#0d0887"
             ],
             [
              0.1111111111111111,
              "#46039f"
             ],
             [
              0.2222222222222222,
              "#7201a8"
             ],
             [
              0.3333333333333333,
              "#9c179e"
             ],
             [
              0.4444444444444444,
              "#bd3786"
             ],
             [
              0.5555555555555556,
              "#d8576b"
             ],
             [
              0.6666666666666666,
              "#ed7953"
             ],
             [
              0.7777777777777778,
              "#fb9f3a"
             ],
             [
              0.8888888888888888,
              "#fdca26"
             ],
             [
              1,
              "#f0f921"
             ]
            ],
            "type": "heatmapgl"
           }
          ],
          "histogram": [
           {
            "marker": {
             "pattern": {
              "fillmode": "overlay",
              "size": 10,
              "solidity": 0.2
             }
            },
            "type": "histogram"
           }
          ],
          "histogram2d": [
           {
            "colorbar": {
             "outlinewidth": 0,
             "ticks": ""
            },
            "colorscale": [
             [
              0,
              "#0d0887"
             ],
             [
              0.1111111111111111,
              "#46039f"
             ],
             [
              0.2222222222222222,
              "#7201a8"
             ],
             [
              0.3333333333333333,
              "#9c179e"
             ],
             [
              0.4444444444444444,
              "#bd3786"
             ],
             [
              0.5555555555555556,
              "#d8576b"
             ],
             [
              0.6666666666666666,
              "#ed7953"
             ],
             [
              0.7777777777777778,
              "#fb9f3a"
             ],
             [
              0.8888888888888888,
              "#fdca26"
             ],
             [
              1,
              "#f0f921"
             ]
            ],
            "type": "histogram2d"
           }
          ],
          "histogram2dcontour": [
           {
            "colorbar": {
             "outlinewidth": 0,
             "ticks": ""
            },
            "colorscale": [
             [
              0,
              "#0d0887"
             ],
             [
              0.1111111111111111,
              "#46039f"
             ],
             [
              0.2222222222222222,
              "#7201a8"
             ],
             [
              0.3333333333333333,
              "#9c179e"
             ],
             [
              0.4444444444444444,
              "#bd3786"
             ],
             [
              0.5555555555555556,
              "#d8576b"
             ],
             [
              0.6666666666666666,
              "#ed7953"
             ],
             [
              0.7777777777777778,
              "#fb9f3a"
             ],
             [
              0.8888888888888888,
              "#fdca26"
             ],
             [
              1,
              "#f0f921"
             ]
            ],
            "type": "histogram2dcontour"
           }
          ],
          "mesh3d": [
           {
            "colorbar": {
             "outlinewidth": 0,
             "ticks": ""
            },
            "type": "mesh3d"
           }
          ],
          "parcoords": [
           {
            "line": {
             "colorbar": {
              "outlinewidth": 0,
              "ticks": ""
             }
            },
            "type": "parcoords"
           }
          ],
          "pie": [
           {
            "automargin": true,
            "type": "pie"
           }
          ],
          "scatter": [
           {
            "fillpattern": {
             "fillmode": "overlay",
             "size": 10,
             "solidity": 0.2
            },
            "type": "scatter"
           }
          ],
          "scatter3d": [
           {
            "line": {
             "colorbar": {
              "outlinewidth": 0,
              "ticks": ""
             }
            },
            "marker": {
             "colorbar": {
              "outlinewidth": 0,
              "ticks": ""
             }
            },
            "type": "scatter3d"
           }
          ],
          "scattercarpet": [
           {
            "marker": {
             "colorbar": {
              "outlinewidth": 0,
              "ticks": ""
             }
            },
            "type": "scattercarpet"
           }
          ],
          "scattergeo": [
           {
            "marker": {
             "colorbar": {
              "outlinewidth": 0,
              "ticks": ""
             }
            },
            "type": "scattergeo"
           }
          ],
          "scattergl": [
           {
            "marker": {
             "colorbar": {
              "outlinewidth": 0,
              "ticks": ""
             }
            },
            "type": "scattergl"
           }
          ],
          "scattermapbox": [
           {
            "marker": {
             "colorbar": {
              "outlinewidth": 0,
              "ticks": ""
             }
            },
            "type": "scattermapbox"
           }
          ],
          "scatterpolar": [
           {
            "marker": {
             "colorbar": {
              "outlinewidth": 0,
              "ticks": ""
             }
            },
            "type": "scatterpolar"
           }
          ],
          "scatterpolargl": [
           {
            "marker": {
             "colorbar": {
              "outlinewidth": 0,
              "ticks": ""
             }
            },
            "type": "scatterpolargl"
           }
          ],
          "scatterternary": [
           {
            "marker": {
             "colorbar": {
              "outlinewidth": 0,
              "ticks": ""
             }
            },
            "type": "scatterternary"
           }
          ],
          "surface": [
           {
            "colorbar": {
             "outlinewidth": 0,
             "ticks": ""
            },
            "colorscale": [
             [
              0,
              "#0d0887"
             ],
             [
              0.1111111111111111,
              "#46039f"
             ],
             [
              0.2222222222222222,
              "#7201a8"
             ],
             [
              0.3333333333333333,
              "#9c179e"
             ],
             [
              0.4444444444444444,
              "#bd3786"
             ],
             [
              0.5555555555555556,
              "#d8576b"
             ],
             [
              0.6666666666666666,
              "#ed7953"
             ],
             [
              0.7777777777777778,
              "#fb9f3a"
             ],
             [
              0.8888888888888888,
              "#fdca26"
             ],
             [
              1,
              "#f0f921"
             ]
            ],
            "type": "surface"
           }
          ],
          "table": [
           {
            "cells": {
             "fill": {
              "color": "#EBF0F8"
             },
             "line": {
              "color": "white"
             }
            },
            "header": {
             "fill": {
              "color": "#C8D4E3"
             },
             "line": {
              "color": "white"
             }
            },
            "type": "table"
           }
          ]
         },
         "layout": {
          "annotationdefaults": {
           "arrowcolor": "#2a3f5f",
           "arrowhead": 0,
           "arrowwidth": 1
          },
          "autotypenumbers": "strict",
          "coloraxis": {
           "colorbar": {
            "outlinewidth": 0,
            "ticks": ""
           }
          },
          "colorscale": {
           "diverging": [
            [
             0,
             "#8e0152"
            ],
            [
             0.1,
             "#c51b7d"
            ],
            [
             0.2,
             "#de77ae"
            ],
            [
             0.3,
             "#f1b6da"
            ],
            [
             0.4,
             "#fde0ef"
            ],
            [
             0.5,
             "#f7f7f7"
            ],
            [
             0.6,
             "#e6f5d0"
            ],
            [
             0.7,
             "#b8e186"
            ],
            [
             0.8,
             "#7fbc41"
            ],
            [
             0.9,
             "#4d9221"
            ],
            [
             1,
             "#276419"
            ]
           ],
           "sequential": [
            [
             0,
             "#0d0887"
            ],
            [
             0.1111111111111111,
             "#46039f"
            ],
            [
             0.2222222222222222,
             "#7201a8"
            ],
            [
             0.3333333333333333,
             "#9c179e"
            ],
            [
             0.4444444444444444,
             "#bd3786"
            ],
            [
             0.5555555555555556,
             "#d8576b"
            ],
            [
             0.6666666666666666,
             "#ed7953"
            ],
            [
             0.7777777777777778,
             "#fb9f3a"
            ],
            [
             0.8888888888888888,
             "#fdca26"
            ],
            [
             1,
             "#f0f921"
            ]
           ],
           "sequentialminus": [
            [
             0,
             "#0d0887"
            ],
            [
             0.1111111111111111,
             "#46039f"
            ],
            [
             0.2222222222222222,
             "#7201a8"
            ],
            [
             0.3333333333333333,
             "#9c179e"
            ],
            [
             0.4444444444444444,
             "#bd3786"
            ],
            [
             0.5555555555555556,
             "#d8576b"
            ],
            [
             0.6666666666666666,
             "#ed7953"
            ],
            [
             0.7777777777777778,
             "#fb9f3a"
            ],
            [
             0.8888888888888888,
             "#fdca26"
            ],
            [
             1,
             "#f0f921"
            ]
           ]
          },
          "colorway": [
           "#636efa",
           "#EF553B",
           "#00cc96",
           "#ab63fa",
           "#FFA15A",
           "#19d3f3",
           "#FF6692",
           "#B6E880",
           "#FF97FF",
           "#FECB52"
          ],
          "font": {
           "color": "#2a3f5f"
          },
          "geo": {
           "bgcolor": "white",
           "lakecolor": "white",
           "landcolor": "white",
           "showlakes": true,
           "showland": true,
           "subunitcolor": "#C8D4E3"
          },
          "hoverlabel": {
           "align": "left"
          },
          "hovermode": "closest",
          "mapbox": {
           "style": "light"
          },
          "paper_bgcolor": "white",
          "plot_bgcolor": "white",
          "polar": {
           "angularaxis": {
            "gridcolor": "#EBF0F8",
            "linecolor": "#EBF0F8",
            "ticks": ""
           },
           "bgcolor": "white",
           "radialaxis": {
            "gridcolor": "#EBF0F8",
            "linecolor": "#EBF0F8",
            "ticks": ""
           }
          },
          "scene": {
           "xaxis": {
            "backgroundcolor": "white",
            "gridcolor": "#DFE8F3",
            "gridwidth": 2,
            "linecolor": "#EBF0F8",
            "showbackground": true,
            "ticks": "",
            "zerolinecolor": "#EBF0F8"
           },
           "yaxis": {
            "backgroundcolor": "white",
            "gridcolor": "#DFE8F3",
            "gridwidth": 2,
            "linecolor": "#EBF0F8",
            "showbackground": true,
            "ticks": "",
            "zerolinecolor": "#EBF0F8"
           },
           "zaxis": {
            "backgroundcolor": "white",
            "gridcolor": "#DFE8F3",
            "gridwidth": 2,
            "linecolor": "#EBF0F8",
            "showbackground": true,
            "ticks": "",
            "zerolinecolor": "#EBF0F8"
           }
          },
          "shapedefaults": {
           "line": {
            "color": "#2a3f5f"
           }
          },
          "ternary": {
           "aaxis": {
            "gridcolor": "#DFE8F3",
            "linecolor": "#A2B1C6",
            "ticks": ""
           },
           "baxis": {
            "gridcolor": "#DFE8F3",
            "linecolor": "#A2B1C6",
            "ticks": ""
           },
           "bgcolor": "white",
           "caxis": {
            "gridcolor": "#DFE8F3",
            "linecolor": "#A2B1C6",
            "ticks": ""
           }
          },
          "title": {
           "x": 0.05
          },
          "xaxis": {
           "automargin": true,
           "gridcolor": "#EBF0F8",
           "linecolor": "#EBF0F8",
           "ticks": "",
           "title": {
            "standoff": 15
           },
           "zerolinecolor": "#EBF0F8",
           "zerolinewidth": 2
          },
          "yaxis": {
           "automargin": true,
           "gridcolor": "#EBF0F8",
           "linecolor": "#EBF0F8",
           "ticks": "",
           "title": {
            "standoff": 15
           },
           "zerolinecolor": "#EBF0F8",
           "zerolinewidth": 2
          }
         }
        },
        "width": 1000
       }
      },
      "text/html": [
       "<div>                            <div id=\"85b79d41-e6fb-4dfd-9197-c7d9c97bcbdb\" class=\"plotly-graph-div\" style=\"height:800px; width:1000px;\"></div>            <script type=\"text/javascript\">                require([\"plotly\"], function(Plotly) {                    window.PLOTLYENV=window.PLOTLYENV || {};                                    if (document.getElementById(\"85b79d41-e6fb-4dfd-9197-c7d9c97bcbdb\")) {                    Plotly.newPlot(                        \"85b79d41-e6fb-4dfd-9197-c7d9c97bcbdb\",                        [{\"line\":{\"color\":\"grey\",\"dash\":\"solid\",\"width\":1},\"mode\":\"lines\",\"x\":[9.76,9.76,null,5.43,5.43,null,4.1,4.1,null,6.19,6.19,null,3.14,3.14,null,8.18,8.18,null,1.8,1.8,null,9.30723074350039,9.30723074350039,null,9.59444678361695,9.59444678361695,null,7.23401405648827,7.23401405648827,null,1.8068718775978,1.8068718775978,null,9.80650205253358,9.80650205253358,null,3.08962273928447,3.08962273928447,null,8.07217274081964,8.07217274081964,null,9.48935981510328,9.48935981510328,null,2.17419339976556,2.17419339976556,null,4.17216561128801,4.17216561128801,null,4.92986374344176,4.92986374344176,null,9.83466989376472,9.83466989376472,null,10.0,10.0,null,6.78997823942902,6.78997823942902,null,9.8498506007216,9.8498506007216,null,6.4910935665233,6.4910935665233,null,8.06406377912981,8.06406377912981,null,6.43959418058452,6.43959418058452,null,7.10618588044854,7.10618588044854,null,5.86858816326377,5.86858816326377,null,2.14232039730629,2.14232039730629,null,1.0,1.0,null,6.66016953096876,6.66016953096876,null,1.0,1.0,null,2.02967786147184,2.02967786147184,null,5.17532101499209,5.17532101499209,null,4.03735785947313,4.03735785947313,null,4.54414829559225,4.54414829559225,null,5.52369749828705,5.52369749828705,null,5.40469039750537,5.40469039750537,null,4.88471295404221,4.88471295404221,null,9.11524073950335,9.11524073950335,null,5.79600436316195,5.79600436316195,null,7.45917114734181,7.45917114734181,null,7.85564877792595,7.85564877792595,null,3.51376390229227,3.51376390229227,null,5.97292797887192,5.97292797887192,null,4.99216075110259,4.99216075110259,null,1.11718376222384,1.11718376222384,null,7.23244460694144,7.23244460694144,null,5.14533774094027,5.14533774094027,null,9.29805254505958,9.29805254505958,null,9.83293409599986,9.83293409599986,null,2.76,2.76,null,5.77,5.77,null,6.49,6.49,null,9.72,9.72,null,1.52,1.52,null,7.98,7.98,null,4.28,4.28,null,4.31149505911619,4.31149505911619,null,10.0,10.0,null,8.92250341121632,8.92250341121632,null,6.0878072946551,6.0878072946551,null,10.0,10.0,null,1.35694504284538,1.35694504284538,null,2.03256287908934,2.03256287908934,null,1.73098768703358,1.73098768703358,null,3.8643732643142,3.8643732643142,null,9.3100091659459,9.3100091659459,null,3.42962058933275,3.42962058933275,null,3.04779126581269,3.04779126581269,null,5.64690571832147,5.64690571832147,null,7.41951992311603,7.41951992311603,null,6.23470931089946,6.23470931089946,null,2.05626357767593,2.05626357767593,null,5.9572208676671,5.9572208676671,null,3.99703895860411,3.99703895860411,null,1.0,1.0,null,2.14316116175423,2.14316116175423,null,3.03662353477865,3.03662353477865,null,7.64322145525865,7.64322145525865,null,1.48912091249218,1.48912091249218,null,1.49536820041438,1.49536820041438,null,6.94149081493476,6.94149081493476,null,7.89908049571113,7.89908049571113,null,8.52786121117507,8.52786121117507,null,1.66482035634064,1.66482035634064,null,6.37525796169167,6.37525796169167,null,1.83967132860667,1.83967132860667,null,3.6485965432226,3.6485965432226,null,7.0724090847018,7.0724090847018,null,7.19533561198647,7.19533561198647,null,4.3080785944936,4.3080785944936,null,1.41539635583048,1.41539635583048,null,4.52498300898412,4.52498300898412,null,7.96379786451518,7.96379786451518,null,5.37939244388936,5.37939244388936,null,5.29876232203621,5.29876232203621,null,9.17704313312665,9.17704313312665,null,6.61711536871197,6.61711536871197,null,3.90510831772764,3.90510831772764,null,8.14619300224037,8.14619300224037,null,9.94,9.94,null,4.54,4.54,null,2.67,2.67,null,6.95,6.95,null,1.45,1.45,null,8.68,8.68,null,5.64,5.64,null,10.0,10.0,null,9.15174475837433,9.15174475837433,null,9.77630125024568,9.77630125024568,null,8.27904416036494,8.27904416036494,null,2.17995707604533,2.17995707604533,null,3.46101797092032,3.46101797092032,null,1.31372388555711,1.31372388555711,null,1.0,1.0,null,7.74061691367316,7.74061691367316,null,8.63143926159107,8.63143926159107,null,9.4423283632806,9.4423283632806,null,8.95169898354132,8.95169898354132,null,2.01494577466693,2.01494577466693,null,4.07213190934433,4.07213190934433,null,2.12425109666683,2.12425109666683,null,9.73629459524441,9.73629459524441,null,10.0,10.0,null,10.0,10.0,null,8.46987128804351,8.46987128804351,null,2.28711614690672,2.28711614690672,null,5.62821432897499,5.62821432897499,null,10.0,10.0,null,3.05005767839319,3.05005767839319,null,7.64294699713602,7.64294699713602,null,6.60881342432533,6.60881342432533,null,1.12283104304396,1.12283104304396,null,8.32708466221299,8.32708466221299,null,1.0,1.0,null,7.78735258902979,7.78735258902979,null,1.0,1.0,null,2.69067683720004,2.69067683720004,null,1.0,1.0,null,1.37694532507736,1.37694532507736,null,1.30298665737794,1.30298665737794,null,3.66103988097315,3.66103988097315,null,6.33743449458668,6.33743449458668,null,2.5220785249854,2.5220785249854,null,8.83587629381181,8.83587629381181,null,4.31635573929498,4.31635573929498,null,1.0,1.0,null,1.0,1.0,null,1.09116125119664,1.09116125119664,null,1.0,1.0,null],\"y\":[51.89,51.89,null,37.99,37.99,null,13.28,13.28,null,57.94,57.94,null,8.46,8.46,null,28.03,28.03,null,34.4,34.4,null,18.8004921305811,18.8004921305811,null,28.8407832830408,28.8407832830408,null,43.5292015662,43.5292015662,null,21.0429602877957,21.0429602877957,null,26.4248158488725,26.4248158488725,null,53.9126185823421,53.9126185823421,null,17.2705095898371,17.2705095898371,null,45.9358456013386,45.9358456013386,null,41.7383613074184,41.7383613074184,null,39.2940968407856,39.2940968407856,null,30.8445157826887,30.8445157826887,null,8.46875356290286,8.46875356290286,null,37.0461412599149,37.0461412599149,null,32.4956997481241,32.4956997481241,null,17.0898261338244,17.0898261338244,null,27.009568504487,27.009568504487,null,31.2579642793096,31.2579642793096,null,5.0,5.0,null,11.6548652573083,11.6548652573083,null,21.9522517004556,21.9522517004556,null,48.2637122284724,48.2637122284724,null,14.9525718027552,14.9525718027552,null,31.3777143022569,31.3777143022569,null,48.8026273334843,48.8026273334843,null,60.0,60.0,null,17.4295215464969,17.4295215464969,null,41.2708359324449,41.2708359324449,null,24.2480220306938,24.2480220306938,null,39.8600927693849,39.8600927693849,null,34.0040202810494,34.0040202810494,null,42.9691153441519,42.9691153441519,null,22.2764516610226,22.2764516610226,null,26.8940702210295,26.8940702210295,null,33.5356231766309,33.5356231766309,null,28.6640164928591,28.6640164928591,null,21.2091696040629,21.2091696040629,null,30.1178600677451,30.1178600677451,null,49.2847525964805,49.2847525964805,null,49.2393687271295,49.2393687271295,null,24.7849504195217,24.7849504195217,null,25.6273115964826,25.6273115964826,null,33.0460402613027,33.0460402613027,null,41.3368671716334,41.3368671716334,null,34.79,34.79,null,42.95,42.95,null,47.62,47.62,null,14.1,14.1,null,53.68,53.68,null,21.47,21.47,null,7.35,7.35,null,48.2502191620425,48.2502191620425,null,51.8155350963662,51.8155350963662,null,28.5458576157984,28.5458576157984,null,27.2447552961705,27.2447552961705,null,33.6456819960477,33.6456819960477,null,29.5443893038784,29.5443893038784,null,20.2281696264508,20.2281696264508,null,41.7158966271739,41.7158966271739,null,54.0713748350402,54.0713748350402,null,53.8137008803819,53.8137008803819,null,16.929569002566,16.929569002566,null,27.9675592335683,27.9675592335683,null,27.0320673864795,27.0320673864795,null,60.0,60.0,null,60.0,60.0,null,54.692059819134,54.692059819134,null,50.4621808741872,50.4621808741872,null,38.6647684462726,38.6647684462726,null,26.9539203590783,26.9539203590783,null,13.2982887980121,13.2982887980121,null,21.6056368091559,21.6056368091559,null,38.3742824619254,38.3742824619254,null,60.0,60.0,null,50.7487664024874,50.7487664024874,null,58.8235063928195,58.8235063928195,null,35.7700287666473,35.7700287666473,null,38.3471809706221,38.3471809706221,null,33.4521389144091,33.4521389144091,null,15.6441149608759,15.6441149608759,null,46.7518199949901,46.7518199949901,null,7.09751380354299,7.09751380354299,null,29.5617013348926,29.5617013348926,null,45.8106353692116,45.8106353692116,null,30.9299246510556,30.9299246510556,null,5.0,5.0,null,25.7618044841197,25.7618044841197,null,33.1442857594179,33.1442857594179,null,39.1873894864584,39.1873894864584,null,18.2283380028951,18.2283380028951,null,49.7993299070929,49.7993299070929,null,26.5584596909025,26.5584596909025,null,32.2237347300546,32.2237347300546,null,48.9993133882223,48.9993133882223,null,53.94,53.94,null,6.45,6.45,null,29.75,29.75,null,25.4,25.4,null,19.07,19.07,null,39.14,39.14,null,46.04,46.04,null,19.8613477708745,19.8613477708745,null,22.8791056782154,22.8791056782154,null,32.6525410546945,32.6525410546945,null,43.2598907973528,43.2598907973528,null,25.5795591463211,25.5795591463211,null,59.0667598679723,59.0667598679723,null,39.9875565483171,39.9875565483171,null,60.0,60.0,null,38.5868470521365,38.5868470521365,null,60.0,60.0,null,55.4384317811944,55.4384317811944,null,53.9158984396384,53.9158984396384,null,57.5500836984298,57.5500836984298,null,47.8472131234341,47.8472131234341,null,52.114496406371,52.114496406371,null,21.6663284885586,21.6663284885586,null,50.112076788494,50.112076788494,null,41.2607904894314,41.2607904894314,null,54.346677471615,54.346677471615,null,41.8450622343481,41.8450622343481,null,33.335165353472,33.335165353472,null,54.6700415274969,54.6700415274969,null,32.4570150650249,32.4570150650249,null,52.6009998851221,52.6009998851221,null,37.8782386979668,37.8782386979668,null,36.3722272851743,36.3722272851743,null,28.6971831042945,28.6971831042945,null,26.7398629676603,26.7398629676603,null,31.4109013525298,31.4109013525298,null,52.9730566664229,52.9730566664229,null,51.6893364900508,51.6893364900508,null,54.5538000324619,54.5538000324619,null,24.8061804511616,24.8061804511616,null,8.46773375477772,8.46773375477772,null,30.9214407748837,30.9214407748837,null,50.8554749637087,50.8554749637087,null,31.795376339048,31.795376339048,null,27.5518284210548,27.5518284210548,null,32.8434512298149,32.8434512298149,null,48.2495435790183,48.2495435790183,null,13.9265112656882,13.9265112656882,null,52.3807052048569,52.3807052048569,null,33.1677759956703,33.1677759956703,null],\"z\":[3.13,-1,null,9.97,-1,null,1.64,-1,null,5.22,-1,null,6.66,-1,null,7.9,-1,null,0.64,-1,null,1.6755449708196,-1,null,0.293392832617315,-1,null,1.20445961834609,-1,null,3.57095897114296,-1,null,4.32618555243016,-1,null,0.0,-1,null,1.59891960028412,-1,null,4.74809824743515,-1,null,0.368357603074229,-1,null,0.191715612175052,-1,null,0.562899230045397,-1,null,0.0,-1,null,0.442942126347986,-1,null,0.271756148297855,-1,null,0.521762488100484,-1,null,0.0,-1,null,0.0,-1,null,3.02573964754796,-1,null,0.743540613869052,-1,null,0.369552964764338,-1,null,0.0,-1,null,0.0,-1,null,0.171861176067775,-1,null,1.7750089393427,-1,null,1.88744143721802,-1,null,6.19806826506996,-1,null,3.1550378437413,-1,null,0.91983532634969,-1,null,1.10913491213244,-1,null,5.46509154853528,-1,null,0.0,-1,null,7.97242580143281,-1,null,2.70856447478432,-1,null,0.19070272811212,-1,null,1.00507626387108,-1,null,0.0314080728475458,-1,null,0.803527813146794,-1,null,1.47223936280511,-1,null,5.39652088933858,-1,null,0.309393606324721,-1,null,5.78724084029729,-1,null,2.40420148458755,-1,null,4.265694924989,-1,null,5.65,-1,null,6.92,-1,null,2.13,-1,null,1.16,-1,null,9.16,-1,null,8.18,-1,null,2.86,-1,null,9.86662841829518,-1,null,1.5105375551959,-1,null,1.56538467432898,-1,null,6.77322142528681,-1,null,1.2967674776192,-1,null,2.4627465053854,-1,null,0.142890774656894,-1,null,0.533269670164016,-1,null,0.0,-1,null,0.580614291249307,-1,null,0.891918648040128,-1,null,1.93316341272369,-1,null,0.437563495812433,-1,null,2.57349142795872,-1,null,0.0,-1,null,2.30962290175917,-1,null,0.21206318372269,-1,null,0.0,-1,null,0.0556613081809862,-1,null,0.18533633488732,-1,null,1.26865697715123,-1,null,2.44844010865615,-1,null,0.432327799025238,-1,null,3.19535213841996,-1,null,7.24182014880803,-1,null,0.451534123533695,-1,null,4.7071275356987,-1,null,0.0,-1,null,0.0879546271044074,-1,null,4.76511386686783,-1,null,8.55440427590033,-1,null,1.15130605118145,-1,null,0.28747264632338,-1,null,0.0,-1,null,1.13917117300591,-1,null,0.20596099734511,-1,null,0.169302152635155,-1,null,0.651829292035347,-1,null,1.20477372314489,-1,null,0.772534777893725,-1,null,0.0910825571881154,-1,null,1.1056319898776,-1,null,0.292007650274076,-1,null,6.2,-1,null,2.88,-1,null,1.96,-1,null,0.24,-1,null,5.64,-1,null,9.93,-1,null,7.53,-1,null,3.00273115115032,-1,null,1.37030307355957,-1,null,0.146544288477587,-1,null,0.0,-1,null,0.868346027103747,-1,null,0.470980125146798,-1,null,0.861646972220014,-1,null,5.36437880327819,-1,null,1.42783209263889,-1,null,8.86832698160496,-1,null,0.79384328539671,-1,null,0.305616860296839,-1,null,3.55095539964494,-1,null,3.9118062519877,-1,null,8.5836032944696,-1,null,0.0140665016823759,-1,null,0.70269575596654,-1,null,0.284286644676706,-1,null,5.70880556242885,-1,null,4.53488534280981,-1,null,1.48813326062844,-1,null,10.0,-1,null,6.62155475638949,-1,null,0.718535032901132,-1,null,1.77624799393717,-1,null,0.997243085839533,-1,null,0.340448766739464,-1,null,5.3039634118189,-1,null,0.121452189945507,-1,null,9.20180320990751,-1,null,5.81574650529975,-1,null,0.830497626862258,-1,null,0.0,-1,null,7.18619908758904,-1,null,0.0,-1,null,0.0397295462938856,-1,null,0.0894405941506618,-1,null,0.0,-1,null,1.24516562176764,-1,null,1.76507900153261,-1,null,0.306446083783243,-1,null,3.95118723322273,-1,null,2.26999768665731,-1,null],\"type\":\"scatter3d\",\"marker\":{\"size\":8}},{\"marker\":{\"color\":\"black\",\"size\":9,\"symbol\":\"diamond\"},\"mode\":\"markers\",\"x\":[9.76,5.43,4.1,6.19,3.14,8.18,1.8,9.30723074350039,9.59444678361695,7.23401405648827,1.8068718775978,9.80650205253358,3.08962273928447,8.07217274081964,9.48935981510328,2.17419339976556,4.17216561128801,4.92986374344176,9.83466989376472,10.0,6.78997823942902,9.8498506007216,6.4910935665233,8.06406377912981,6.43959418058452,7.10618588044854,5.86858816326377,2.14232039730629,1.0,6.66016953096876,1.0,2.02967786147184,5.17532101499209,4.03735785947313,4.54414829559225,5.52369749828705,5.40469039750537,4.88471295404221,9.11524073950335,5.79600436316195,7.45917114734181,7.85564877792595,3.51376390229227,5.97292797887192,4.99216075110259,1.11718376222384,7.23244460694144,5.14533774094027,9.29805254505958,9.83293409599986],\"y\":[51.89,37.99,13.28,57.94,8.46,28.03,34.4,18.8004921305811,28.8407832830408,43.5292015662,21.0429602877957,26.4248158488725,53.9126185823421,17.2705095898371,45.9358456013386,41.7383613074184,39.2940968407856,30.8445157826887,8.46875356290286,37.0461412599149,32.4956997481241,17.0898261338244,27.009568504487,31.2579642793096,5.0,11.6548652573083,21.9522517004556,48.2637122284724,14.9525718027552,31.3777143022569,48.8026273334843,60.0,17.4295215464969,41.2708359324449,24.2480220306938,39.8600927693849,34.0040202810494,42.9691153441519,22.2764516610226,26.8940702210295,33.5356231766309,28.6640164928591,21.2091696040629,30.1178600677451,49.2847525964805,49.2393687271295,24.7849504195217,25.6273115964826,33.0460402613027,41.3368671716334],\"z\":[3.13,9.97,1.64,5.22,6.66,7.9,0.64,1.6755449708196,0.293392832617315,1.20445961834609,3.57095897114296,4.32618555243016,0.0,1.59891960028412,4.74809824743515,0.368357603074229,0.191715612175052,0.562899230045397,0.0,0.442942126347986,0.271756148297855,0.521762488100484,0.0,0.0,3.02573964754796,0.743540613869052,0.369552964764338,0.0,0.0,0.171861176067775,1.7750089393427,1.88744143721802,6.19806826506996,3.1550378437413,0.91983532634969,1.10913491213244,5.46509154853528,0.0,7.97242580143281,2.70856447478432,0.19070272811212,1.00507626387108,0.0314080728475458,0.803527813146794,1.47223936280511,5.39652088933858,0.309393606324721,5.78724084029729,2.40420148458755,4.265694924989],\"type\":\"scatter3d\"},{\"marker\":{\"color\":\"black\",\"size\":9,\"symbol\":\"square\"},\"mode\":\"markers\",\"x\":[2.76,5.77,6.49,9.72,1.52,7.98,4.28,4.31149505911619,10.0,8.92250341121632,6.0878072946551,10.0,1.35694504284538,2.03256287908934,1.73098768703358,3.8643732643142,9.3100091659459,3.42962058933275,3.04779126581269,5.64690571832147,7.41951992311603,6.23470931089946,2.05626357767593,5.9572208676671,3.99703895860411,1.0,2.14316116175423,3.03662353477865,7.64322145525865,1.48912091249218,1.49536820041438,6.94149081493476,7.89908049571113,8.52786121117507,1.66482035634064,6.37525796169167,1.83967132860667,3.6485965432226,7.0724090847018,7.19533561198647,4.3080785944936,1.41539635583048,4.52498300898412,7.96379786451518,5.37939244388936,5.29876232203621,9.17704313312665,6.61711536871197,3.90510831772764,8.14619300224037],\"y\":[34.79,42.95,47.62,14.1,53.68,21.47,7.35,48.2502191620425,51.8155350963662,28.5458576157984,27.2447552961705,33.6456819960477,29.5443893038784,20.2281696264508,41.7158966271739,54.0713748350402,53.8137008803819,16.929569002566,27.9675592335683,27.0320673864795,60.0,60.0,54.692059819134,50.4621808741872,38.6647684462726,26.9539203590783,13.2982887980121,21.6056368091559,38.3742824619254,60.0,50.7487664024874,58.8235063928195,35.7700287666473,38.3471809706221,33.4521389144091,15.6441149608759,46.7518199949901,7.09751380354299,29.5617013348926,45.8106353692116,30.9299246510556,5.0,25.7618044841197,33.1442857594179,39.1873894864584,18.2283380028951,49.7993299070929,26.5584596909025,32.2237347300546,48.9993133882223],\"z\":[5.65,6.92,2.13,1.16,9.16,8.18,2.86,9.86662841829518,1.5105375551959,1.56538467432898,6.77322142528681,1.2967674776192,2.4627465053854,0.142890774656894,0.533269670164016,0.0,0.580614291249307,0.891918648040128,1.93316341272369,0.437563495812433,2.57349142795872,0.0,2.30962290175917,0.21206318372269,0.0,0.0556613081809862,0.18533633488732,1.26865697715123,2.44844010865615,0.432327799025238,3.19535213841996,7.24182014880803,0.451534123533695,4.7071275356987,0.0,0.0879546271044074,4.76511386686783,8.55440427590033,1.15130605118145,0.28747264632338,0.0,1.13917117300591,0.20596099734511,0.169302152635155,0.651829292035347,1.20477372314489,0.772534777893725,0.0910825571881154,1.1056319898776,0.292007650274076],\"type\":\"scatter3d\"},{\"marker\":{\"color\":\"black\",\"size\":9,\"symbol\":\"circle\"},\"mode\":\"markers\",\"x\":[9.94,4.54,2.67,6.95,1.45,8.68,5.64,10.0,9.15174475837433,9.77630125024568,8.27904416036494,2.17995707604533,3.46101797092032,1.31372388555711,1.0,7.74061691367316,8.63143926159107,9.4423283632806,8.95169898354132,2.01494577466693,4.07213190934433,2.12425109666683,9.73629459524441,10.0,10.0,8.46987128804351,2.28711614690672,5.62821432897499,10.0,3.05005767839319,7.64294699713602,6.60881342432533,1.12283104304396,8.32708466221299,1.0,7.78735258902979,1.0,2.69067683720004,1.0,1.37694532507736,1.30298665737794,3.66103988097315,6.33743449458668,2.5220785249854,8.83587629381181,4.31635573929498,1.0,1.0,1.09116125119664,1.0],\"y\":[53.94,6.45,29.75,25.4,19.07,39.14,46.04,19.8613477708745,22.8791056782154,32.6525410546945,43.2598907973528,25.5795591463211,59.0667598679723,39.9875565483171,60.0,38.5868470521365,60.0,55.4384317811944,53.9158984396384,57.5500836984298,47.8472131234341,52.114496406371,21.6663284885586,50.112076788494,41.2607904894314,54.346677471615,41.8450622343481,33.335165353472,54.6700415274969,32.4570150650249,52.6009998851221,37.8782386979668,36.3722272851743,28.6971831042945,26.7398629676603,31.4109013525298,52.9730566664229,51.6893364900508,54.5538000324619,24.8061804511616,8.46773375477772,30.9214407748837,50.8554749637087,31.795376339048,27.5518284210548,32.8434512298149,48.2495435790183,13.9265112656882,52.3807052048569,33.1677759956703],\"z\":[6.2,2.88,1.96,0.24,5.64,9.93,7.53,3.00273115115032,1.37030307355957,0.146544288477587,0.0,0.868346027103747,0.470980125146798,0.861646972220014,5.36437880327819,1.42783209263889,8.86832698160496,0.79384328539671,0.305616860296839,3.55095539964494,3.9118062519877,8.5836032944696,0.0140665016823759,0.70269575596654,0.284286644676706,5.70880556242885,4.53488534280981,1.48813326062844,10.0,6.62155475638949,0.718535032901132,1.77624799393717,0.997243085839533,0.340448766739464,5.3039634118189,0.121452189945507,9.20180320990751,5.81574650529975,0.830497626862258,0.0,7.18619908758904,0.0,0.0397295462938856,0.0894405941506618,0.0,1.24516562176764,1.76507900153261,0.306446083783243,3.95118723322273,2.26999768665731],\"type\":\"scatter3d\"},{\"hovertemplate\":\"repeatNumb=1<br>Gradient time / minutes=%{x}<br>Initial organic modifier (%)=%{y}<br>Isocratic hold time / minutes=%{z}<br>Dist2=%{marker.color}<extra></extra>\",\"legendgroup\":\"1\",\"marker\":{\"color\":[1.0,1.0,1.0,1.0,1.0,1.0,1.0,0.25532117200692,0.0855615946505225,1.0,1.0,0.437096149050731,1.0,0.221859303833553,1.0,1.0,1.0,1.0,0.195955197802776,1.0,0.0123070620551926,0.188253416985258,0.0326387061417782,0.0308728507993984,1.0,1.0,1.0,1.0,1.0,0.0154886372795611,1.0,1.0,1.0,1.0,1.0,1.0,1.0,1.0,1.0,1.0,0.0111105112602623,1.0,1.0,1.0,1.0,1.0,1.0,1.0,1.0,1.0],\"coloraxis\":\"coloraxis\",\"symbol\":\"diamond\",\"size\":7},\"mode\":\"markers\",\"name\":\"1\",\"scene\":\"scene\",\"showlegend\":true,\"x\":[9.76,5.43,4.1,6.19,3.14,8.18,1.8,9.30723074350039,9.59444678361695,7.23401405648827,1.8068718775978,9.80650205253358,3.08962273928447,8.07217274081964,9.48935981510328,2.17419339976556,4.17216561128801,4.92986374344176,9.83466989376472,10.0,6.78997823942902,9.8498506007216,6.4910935665233,8.06406377912981,6.43959418058452,7.10618588044854,5.86858816326377,2.14232039730629,1.0,6.66016953096876,1.0,2.02967786147184,5.17532101499209,4.03735785947313,4.54414829559225,5.52369749828705,5.40469039750537,4.88471295404221,9.11524073950335,5.79600436316195,7.45917114734181,7.85564877792595,3.51376390229227,5.97292797887192,4.99216075110259,1.11718376222384,7.23244460694144,5.14533774094027,9.29805254505958,9.83293409599986],\"y\":[51.89,37.99,13.28,57.94,8.46,28.03,34.4,18.8004921305811,28.8407832830408,43.5292015662,21.0429602877957,26.4248158488725,53.9126185823421,17.2705095898371,45.9358456013386,41.7383613074184,39.2940968407856,30.8445157826887,8.46875356290286,37.0461412599149,32.4956997481241,17.0898261338244,27.009568504487,31.2579642793096,5.0,11.6548652573083,21.9522517004556,48.2637122284724,14.9525718027552,31.3777143022569,48.8026273334843,60.0,17.4295215464969,41.2708359324449,24.2480220306938,39.8600927693849,34.0040202810494,42.9691153441519,22.2764516610226,26.8940702210295,33.5356231766309,28.6640164928591,21.2091696040629,30.1178600677451,49.2847525964805,49.2393687271295,24.7849504195217,25.6273115964826,33.0460402613027,41.3368671716334],\"z\":[3.13,9.97,1.64,5.22,6.66,7.9,0.64,1.6755449708196,0.293392832617315,1.20445961834609,3.57095897114296,4.32618555243016,0.0,1.59891960028412,4.74809824743515,0.368357603074229,0.191715612175052,0.562899230045397,0.0,0.442942126347986,0.271756148297855,0.521762488100484,0.0,0.0,3.02573964754796,0.743540613869052,0.369552964764338,0.0,0.0,0.171861176067775,1.7750089393427,1.88744143721802,6.19806826506996,3.1550378437413,0.91983532634969,1.10913491213244,5.46509154853528,0.0,7.97242580143281,2.70856447478432,0.19070272811212,1.00507626387108,0.0314080728475458,0.803527813146794,1.47223936280511,5.39652088933858,0.309393606324721,5.78724084029729,2.40420148458755,4.265694924989],\"type\":\"scatter3d\"},{\"hovertemplate\":\"repeatNumb=2<br>Gradient time / minutes=%{x}<br>Initial organic modifier (%)=%{y}<br>Isocratic hold time / minutes=%{z}<br>Dist2=%{marker.color}<extra></extra>\",\"legendgroup\":\"2\",\"marker\":{\"color\":[1.0,1.0,1.0,1.0,1.0,1.0,1.0,1.0,1.0,1.0,1.0,1.0,1.0,1.0,1.0,1.0,1.0,1.0,1.0,1.0,1.0,1.0,1.0,1.0,1.0,1.0,1.0,1.0,1.0,1.0,1.0,1.0,1.0,1.0,1.0,1.0,1.0,1.0,1.0,1.0,1.0,1.0,1.0,1.0,1.0,1.0,1.0,1.0,1.0,1.0],\"coloraxis\":\"coloraxis\",\"symbol\":\"square\",\"size\":7},\"mode\":\"markers\",\"name\":\"2\",\"scene\":\"scene\",\"showlegend\":true,\"x\":[2.76,5.77,6.49,9.72,1.52,7.98,4.28,4.31149505911619,10.0,8.92250341121632,6.0878072946551,10.0,1.35694504284538,2.03256287908934,1.73098768703358,3.8643732643142,9.3100091659459,3.42962058933275,3.04779126581269,5.64690571832147,7.41951992311603,6.23470931089946,2.05626357767593,5.9572208676671,3.99703895860411,1.0,2.14316116175423,3.03662353477865,7.64322145525865,1.48912091249218,1.49536820041438,6.94149081493476,7.89908049571113,8.52786121117507,1.66482035634064,6.37525796169167,1.83967132860667,3.6485965432226,7.0724090847018,7.19533561198647,4.3080785944936,1.41539635583048,4.52498300898412,7.96379786451518,5.37939244388936,5.29876232203621,9.17704313312665,6.61711536871197,3.90510831772764,8.14619300224037],\"y\":[34.79,42.95,47.62,14.1,53.68,21.47,7.35,48.2502191620425,51.8155350963662,28.5458576157984,27.2447552961705,33.6456819960477,29.5443893038784,20.2281696264508,41.7158966271739,54.0713748350402,53.8137008803819,16.929569002566,27.9675592335683,27.0320673864795,60.0,60.0,54.692059819134,50.4621808741872,38.6647684462726,26.9539203590783,13.2982887980121,21.6056368091559,38.3742824619254,60.0,50.7487664024874,58.8235063928195,35.7700287666473,38.3471809706221,33.4521389144091,15.6441149608759,46.7518199949901,7.09751380354299,29.5617013348926,45.8106353692116,30.9299246510556,5.0,25.7618044841197,33.1442857594179,39.1873894864584,18.2283380028951,49.7993299070929,26.5584596909025,32.2237347300546,48.9993133882223],\"z\":[5.65,6.92,2.13,1.16,9.16,8.18,2.86,9.86662841829518,1.5105375551959,1.56538467432898,6.77322142528681,1.2967674776192,2.4627465053854,0.142890774656894,0.533269670164016,0.0,0.580614291249307,0.891918648040128,1.93316341272369,0.437563495812433,2.57349142795872,0.0,2.30962290175917,0.21206318372269,0.0,0.0556613081809862,0.18533633488732,1.26865697715123,2.44844010865615,0.432327799025238,3.19535213841996,7.24182014880803,0.451534123533695,4.7071275356987,0.0,0.0879546271044074,4.76511386686783,8.55440427590033,1.15130605118145,0.28747264632338,0.0,1.13917117300591,0.20596099734511,0.169302152635155,0.651829292035347,1.20477372314489,0.772534777893725,0.0910825571881154,1.1056319898776,0.292007650274076],\"type\":\"scatter3d\"},{\"hovertemplate\":\"repeatNumb=3<br>Gradient time / minutes=%{x}<br>Initial organic modifier (%)=%{y}<br>Isocratic hold time / minutes=%{z}<br>Dist2=%{marker.color}<extra></extra>\",\"legendgroup\":\"3\",\"marker\":{\"color\":[1.0,1.0,1.0,1.0,1.0,1.0,1.0,1.0,1.0,0.0692649320491453,1.0,1.0,1.0,1.0,1.0,1.0,1.0,1.0,1.0,1.0,1.0,1.0,0.143788942482171,1.0,1.0,1.0,1.0,1.0,1.0,1.0,1.0,1.0,1.0,1.0,1.0,1.0,1.0,1.0,1.0,1.0,1.0,1.0,1.0,1.0,1.0,1.0,1.0,1.0,1.0,1.0],\"coloraxis\":\"coloraxis\",\"symbol\":\"circle\",\"size\":7},\"mode\":\"markers\",\"name\":\"3\",\"scene\":\"scene\",\"showlegend\":true,\"x\":[9.94,4.54,2.67,6.95,1.45,8.68,5.64,10.0,9.15174475837433,9.77630125024568,8.27904416036494,2.17995707604533,3.46101797092032,1.31372388555711,1.0,7.74061691367316,8.63143926159107,9.4423283632806,8.95169898354132,2.01494577466693,4.07213190934433,2.12425109666683,9.73629459524441,10.0,10.0,8.46987128804351,2.28711614690672,5.62821432897499,10.0,3.05005767839319,7.64294699713602,6.60881342432533,1.12283104304396,8.32708466221299,1.0,7.78735258902979,1.0,2.69067683720004,1.0,1.37694532507736,1.30298665737794,3.66103988097315,6.33743449458668,2.5220785249854,8.83587629381181,4.31635573929498,1.0,1.0,1.09116125119664,1.0],\"y\":[53.94,6.45,29.75,25.4,19.07,39.14,46.04,19.8613477708745,22.8791056782154,32.6525410546945,43.2598907973528,25.5795591463211,59.0667598679723,39.9875565483171,60.0,38.5868470521365,60.0,55.4384317811944,53.9158984396384,57.5500836984298,47.8472131234341,52.114496406371,21.6663284885586,50.112076788494,41.2607904894314,54.346677471615,41.8450622343481,33.335165353472,54.6700415274969,32.4570150650249,52.6009998851221,37.8782386979668,36.3722272851743,28.6971831042945,26.7398629676603,31.4109013525298,52.9730566664229,51.6893364900508,54.5538000324619,24.8061804511616,8.46773375477772,30.9214407748837,50.8554749637087,31.795376339048,27.5518284210548,32.8434512298149,48.2495435790183,13.9265112656882,52.3807052048569,33.1677759956703],\"z\":[6.2,2.88,1.96,0.24,5.64,9.93,7.53,3.00273115115032,1.37030307355957,0.146544288477587,0.0,0.868346027103747,0.470980125146798,0.861646972220014,5.36437880327819,1.42783209263889,8.86832698160496,0.79384328539671,0.305616860296839,3.55095539964494,3.9118062519877,8.5836032944696,0.0140665016823759,0.70269575596654,0.284286644676706,5.70880556242885,4.53488534280981,1.48813326062844,10.0,6.62155475638949,0.718535032901132,1.77624799393717,0.997243085839533,0.340448766739464,5.3039634118189,0.121452189945507,9.20180320990751,5.81574650529975,0.830497626862258,0.0,7.18619908758904,0.0,0.0397295462938856,0.0894405941506618,0.0,1.24516562176764,1.76507900153261,0.306446083783243,3.95118723322273,2.26999768665731],\"type\":\"scatter3d\"}],                        {\"template\":{\"data\":{\"barpolar\":[{\"marker\":{\"line\":{\"color\":\"white\",\"width\":0.5},\"pattern\":{\"fillmode\":\"overlay\",\"size\":10,\"solidity\":0.2}},\"type\":\"barpolar\"}],\"bar\":[{\"error_x\":{\"color\":\"#2a3f5f\"},\"error_y\":{\"color\":\"#2a3f5f\"},\"marker\":{\"line\":{\"color\":\"white\",\"width\":0.5},\"pattern\":{\"fillmode\":\"overlay\",\"size\":10,\"solidity\":0.2}},\"type\":\"bar\"}],\"carpet\":[{\"aaxis\":{\"endlinecolor\":\"#2a3f5f\",\"gridcolor\":\"#C8D4E3\",\"linecolor\":\"#C8D4E3\",\"minorgridcolor\":\"#C8D4E3\",\"startlinecolor\":\"#2a3f5f\"},\"baxis\":{\"endlinecolor\":\"#2a3f5f\",\"gridcolor\":\"#C8D4E3\",\"linecolor\":\"#C8D4E3\",\"minorgridcolor\":\"#C8D4E3\",\"startlinecolor\":\"#2a3f5f\"},\"type\":\"carpet\"}],\"choropleth\":[{\"colorbar\":{\"outlinewidth\":0,\"ticks\":\"\"},\"type\":\"choropleth\"}],\"contourcarpet\":[{\"colorbar\":{\"outlinewidth\":0,\"ticks\":\"\"},\"type\":\"contourcarpet\"}],\"contour\":[{\"colorbar\":{\"outlinewidth\":0,\"ticks\":\"\"},\"colorscale\":[[0.0,\"#0d0887\"],[0.1111111111111111,\"#46039f\"],[0.2222222222222222,\"#7201a8\"],[0.3333333333333333,\"#9c179e\"],[0.4444444444444444,\"#bd3786\"],[0.5555555555555556,\"#d8576b\"],[0.6666666666666666,\"#ed7953\"],[0.7777777777777778,\"#fb9f3a\"],[0.8888888888888888,\"#fdca26\"],[1.0,\"#f0f921\"]],\"type\":\"contour\"}],\"heatmapgl\":[{\"colorbar\":{\"outlinewidth\":0,\"ticks\":\"\"},\"colorscale\":[[0.0,\"#0d0887\"],[0.1111111111111111,\"#46039f\"],[0.2222222222222222,\"#7201a8\"],[0.3333333333333333,\"#9c179e\"],[0.4444444444444444,\"#bd3786\"],[0.5555555555555556,\"#d8576b\"],[0.6666666666666666,\"#ed7953\"],[0.7777777777777778,\"#fb9f3a\"],[0.8888888888888888,\"#fdca26\"],[1.0,\"#f0f921\"]],\"type\":\"heatmapgl\"}],\"heatmap\":[{\"colorbar\":{\"outlinewidth\":0,\"ticks\":\"\"},\"colorscale\":[[0.0,\"#0d0887\"],[0.1111111111111111,\"#46039f\"],[0.2222222222222222,\"#7201a8\"],[0.3333333333333333,\"#9c179e\"],[0.4444444444444444,\"#bd3786\"],[0.5555555555555556,\"#d8576b\"],[0.6666666666666666,\"#ed7953\"],[0.7777777777777778,\"#fb9f3a\"],[0.8888888888888888,\"#fdca26\"],[1.0,\"#f0f921\"]],\"type\":\"heatmap\"}],\"histogram2dcontour\":[{\"colorbar\":{\"outlinewidth\":0,\"ticks\":\"\"},\"colorscale\":[[0.0,\"#0d0887\"],[0.1111111111111111,\"#46039f\"],[0.2222222222222222,\"#7201a8\"],[0.3333333333333333,\"#9c179e\"],[0.4444444444444444,\"#bd3786\"],[0.5555555555555556,\"#d8576b\"],[0.6666666666666666,\"#ed7953\"],[0.7777777777777778,\"#fb9f3a\"],[0.8888888888888888,\"#fdca26\"],[1.0,\"#f0f921\"]],\"type\":\"histogram2dcontour\"}],\"histogram2d\":[{\"colorbar\":{\"outlinewidth\":0,\"ticks\":\"\"},\"colorscale\":[[0.0,\"#0d0887\"],[0.1111111111111111,\"#46039f\"],[0.2222222222222222,\"#7201a8\"],[0.3333333333333333,\"#9c179e\"],[0.4444444444444444,\"#bd3786\"],[0.5555555555555556,\"#d8576b\"],[0.6666666666666666,\"#ed7953\"],[0.7777777777777778,\"#fb9f3a\"],[0.8888888888888888,\"#fdca26\"],[1.0,\"#f0f921\"]],\"type\":\"histogram2d\"}],\"histogram\":[{\"marker\":{\"pattern\":{\"fillmode\":\"overlay\",\"size\":10,\"solidity\":0.2}},\"type\":\"histogram\"}],\"mesh3d\":[{\"colorbar\":{\"outlinewidth\":0,\"ticks\":\"\"},\"type\":\"mesh3d\"}],\"parcoords\":[{\"line\":{\"colorbar\":{\"outlinewidth\":0,\"ticks\":\"\"}},\"type\":\"parcoords\"}],\"pie\":[{\"automargin\":true,\"type\":\"pie\"}],\"scatter3d\":[{\"line\":{\"colorbar\":{\"outlinewidth\":0,\"ticks\":\"\"}},\"marker\":{\"colorbar\":{\"outlinewidth\":0,\"ticks\":\"\"}},\"type\":\"scatter3d\"}],\"scattercarpet\":[{\"marker\":{\"colorbar\":{\"outlinewidth\":0,\"ticks\":\"\"}},\"type\":\"scattercarpet\"}],\"scattergeo\":[{\"marker\":{\"colorbar\":{\"outlinewidth\":0,\"ticks\":\"\"}},\"type\":\"scattergeo\"}],\"scattergl\":[{\"marker\":{\"colorbar\":{\"outlinewidth\":0,\"ticks\":\"\"}},\"type\":\"scattergl\"}],\"scattermapbox\":[{\"marker\":{\"colorbar\":{\"outlinewidth\":0,\"ticks\":\"\"}},\"type\":\"scattermapbox\"}],\"scatterpolargl\":[{\"marker\":{\"colorbar\":{\"outlinewidth\":0,\"ticks\":\"\"}},\"type\":\"scatterpolargl\"}],\"scatterpolar\":[{\"marker\":{\"colorbar\":{\"outlinewidth\":0,\"ticks\":\"\"}},\"type\":\"scatterpolar\"}],\"scatter\":[{\"fillpattern\":{\"fillmode\":\"overlay\",\"size\":10,\"solidity\":0.2},\"type\":\"scatter\"}],\"scatterternary\":[{\"marker\":{\"colorbar\":{\"outlinewidth\":0,\"ticks\":\"\"}},\"type\":\"scatterternary\"}],\"surface\":[{\"colorbar\":{\"outlinewidth\":0,\"ticks\":\"\"},\"colorscale\":[[0.0,\"#0d0887\"],[0.1111111111111111,\"#46039f\"],[0.2222222222222222,\"#7201a8\"],[0.3333333333333333,\"#9c179e\"],[0.4444444444444444,\"#bd3786\"],[0.5555555555555556,\"#d8576b\"],[0.6666666666666666,\"#ed7953\"],[0.7777777777777778,\"#fb9f3a\"],[0.8888888888888888,\"#fdca26\"],[1.0,\"#f0f921\"]],\"type\":\"surface\"}],\"table\":[{\"cells\":{\"fill\":{\"color\":\"#EBF0F8\"},\"line\":{\"color\":\"white\"}},\"header\":{\"fill\":{\"color\":\"#C8D4E3\"},\"line\":{\"color\":\"white\"}},\"type\":\"table\"}]},\"layout\":{\"annotationdefaults\":{\"arrowcolor\":\"#2a3f5f\",\"arrowhead\":0,\"arrowwidth\":1},\"autotypenumbers\":\"strict\",\"coloraxis\":{\"colorbar\":{\"outlinewidth\":0,\"ticks\":\"\"}},\"colorscale\":{\"diverging\":[[0,\"#8e0152\"],[0.1,\"#c51b7d\"],[0.2,\"#de77ae\"],[0.3,\"#f1b6da\"],[0.4,\"#fde0ef\"],[0.5,\"#f7f7f7\"],[0.6,\"#e6f5d0\"],[0.7,\"#b8e186\"],[0.8,\"#7fbc41\"],[0.9,\"#4d9221\"],[1,\"#276419\"]],\"sequential\":[[0.0,\"#0d0887\"],[0.1111111111111111,\"#46039f\"],[0.2222222222222222,\"#7201a8\"],[0.3333333333333333,\"#9c179e\"],[0.4444444444444444,\"#bd3786\"],[0.5555555555555556,\"#d8576b\"],[0.6666666666666666,\"#ed7953\"],[0.7777777777777778,\"#fb9f3a\"],[0.8888888888888888,\"#fdca26\"],[1.0,\"#f0f921\"]],\"sequentialminus\":[[0.0,\"#0d0887\"],[0.1111111111111111,\"#46039f\"],[0.2222222222222222,\"#7201a8\"],[0.3333333333333333,\"#9c179e\"],[0.4444444444444444,\"#bd3786\"],[0.5555555555555556,\"#d8576b\"],[0.6666666666666666,\"#ed7953\"],[0.7777777777777778,\"#fb9f3a\"],[0.8888888888888888,\"#fdca26\"],[1.0,\"#f0f921\"]]},\"colorway\":[\"#636efa\",\"#EF553B\",\"#00cc96\",\"#ab63fa\",\"#FFA15A\",\"#19d3f3\",\"#FF6692\",\"#B6E880\",\"#FF97FF\",\"#FECB52\"],\"font\":{\"color\":\"#2a3f5f\"},\"geo\":{\"bgcolor\":\"white\",\"lakecolor\":\"white\",\"landcolor\":\"white\",\"showlakes\":true,\"showland\":true,\"subunitcolor\":\"#C8D4E3\"},\"hoverlabel\":{\"align\":\"left\"},\"hovermode\":\"closest\",\"mapbox\":{\"style\":\"light\"},\"paper_bgcolor\":\"white\",\"plot_bgcolor\":\"white\",\"polar\":{\"angularaxis\":{\"gridcolor\":\"#EBF0F8\",\"linecolor\":\"#EBF0F8\",\"ticks\":\"\"},\"bgcolor\":\"white\",\"radialaxis\":{\"gridcolor\":\"#EBF0F8\",\"linecolor\":\"#EBF0F8\",\"ticks\":\"\"}},\"scene\":{\"xaxis\":{\"backgroundcolor\":\"white\",\"gridcolor\":\"#DFE8F3\",\"gridwidth\":2,\"linecolor\":\"#EBF0F8\",\"showbackground\":true,\"ticks\":\"\",\"zerolinecolor\":\"#EBF0F8\"},\"yaxis\":{\"backgroundcolor\":\"white\",\"gridcolor\":\"#DFE8F3\",\"gridwidth\":2,\"linecolor\":\"#EBF0F8\",\"showbackground\":true,\"ticks\":\"\",\"zerolinecolor\":\"#EBF0F8\"},\"zaxis\":{\"backgroundcolor\":\"white\",\"gridcolor\":\"#DFE8F3\",\"gridwidth\":2,\"linecolor\":\"#EBF0F8\",\"showbackground\":true,\"ticks\":\"\",\"zerolinecolor\":\"#EBF0F8\"}},\"shapedefaults\":{\"line\":{\"color\":\"#2a3f5f\"}},\"ternary\":{\"aaxis\":{\"gridcolor\":\"#DFE8F3\",\"linecolor\":\"#A2B1C6\",\"ticks\":\"\"},\"baxis\":{\"gridcolor\":\"#DFE8F3\",\"linecolor\":\"#A2B1C6\",\"ticks\":\"\"},\"bgcolor\":\"white\",\"caxis\":{\"gridcolor\":\"#DFE8F3\",\"linecolor\":\"#A2B1C6\",\"ticks\":\"\"}},\"title\":{\"x\":0.05},\"xaxis\":{\"automargin\":true,\"gridcolor\":\"#EBF0F8\",\"linecolor\":\"#EBF0F8\",\"ticks\":\"\",\"title\":{\"standoff\":15},\"zerolinecolor\":\"#EBF0F8\",\"zerolinewidth\":2},\"yaxis\":{\"automargin\":true,\"gridcolor\":\"#EBF0F8\",\"linecolor\":\"#EBF0F8\",\"ticks\":\"\",\"title\":{\"standoff\":15},\"zerolinecolor\":\"#EBF0F8\",\"zerolinewidth\":2}}},\"scene\":{\"domain\":{\"x\":[0.0,1.0],\"y\":[0.0,1.0]},\"xaxis\":{\"title\":{\"text\":\"Gradient time / minutes\",\"font\":{\"size\":15}},\"tickfont\":{\"color\":\"black\",\"size\":14},\"ticks\":\"outside\",\"tick0\":0,\"tickwidth\":4},\"yaxis\":{\"title\":{\"text\":\"Initial organic modifier (%)\",\"font\":{\"size\":15}},\"tickfont\":{\"color\":\"black\",\"size\":14},\"ticks\":\"outside\",\"tick0\":0,\"tickwidth\":4},\"zaxis\":{\"title\":{\"text\":\"Isocratic hold time / minutes\",\"font\":{\"size\":15}},\"tickfont\":{\"color\":\"black\",\"size\":14},\"ticks\":\"outside\",\"tick0\":0,\"tickwidth\":4},\"camera\":{\"eye\":{\"x\":2.25,\"y\":1.07,\"z\":0.3}},\"aspectmode\":\"cube\"},\"coloraxis\":{\"colorbar\":{\"title\":{\"text\":\"Distance to Pareto\\n\\n\",\"font\":{\"size\":20}},\"tickfont\":{\"size\":20},\"thickness\":20,\"dtick\":0.05,\"ticks\":\"outside\",\"tickwidth\":2,\"tickmode\":\"array\",\"tickvals\":[0,0.2,0.4,0.6,0.8,1.0],\"ticktext\":[\"0 (Best)\",\"0.2\",\"0.4\",\"0.6\",\"0.8\",\"1.0 (Worst)\"]},\"colorscale\":[[0.0,\"rgb(255, 176, 0)\"],[0.25,\"rgb(254, 97, 0)\"],[0.5,\"rgb(220, 38, 127)\"],[0.75,\"rgb(120, 94, 240)\"],[1.0,\"rgb(100, 143, 255)\"]],\"cmin\":-0.05,\"cmax\":1.05,\"showscale\":true},\"legend\":{\"title\":{\"text\":\"repeatNumb\"},\"tracegroupgap\":0},\"margin\":{\"t\":60},\"showlegend\":false,\"autosize\":false,\"width\":1000,\"height\":800},                        {\"responsive\": true}                    ).then(function(){\n",
       "                            \n",
       "var gd = document.getElementById('85b79d41-e6fb-4dfd-9197-c7d9c97bcbdb');\n",
       "var x = new MutationObserver(function (mutations, observer) {{\n",
       "        var display = window.getComputedStyle(gd).display;\n",
       "        if (!display || display === 'none') {{\n",
       "            console.log([gd, 'removed!']);\n",
       "            Plotly.purge(gd);\n",
       "            observer.disconnect();\n",
       "        }}\n",
       "}});\n",
       "\n",
       "// Listen for the removal of the full notebook cells\n",
       "var notebookContainer = gd.closest('#notebook-container');\n",
       "if (notebookContainer) {{\n",
       "    x.observe(notebookContainer, {childList: true});\n",
       "}}\n",
       "\n",
       "// Listen for the clearing of the current output cell\n",
       "var outputEl = gd.closest('.output');\n",
       "if (outputEl) {{\n",
       "    x.observe(outputEl, {childList: true});\n",
       "}}\n",
       "\n",
       "                        })                };                });            </script>        </div>"
      ]
     },
     "metadata": {},
     "output_type": "display_data"
    }
   ],
   "source": [
    "#Figure 6. Design space for Optimisations 7, 8 and 9.\n",
    "\n",
    "#IBM colorscale no greenish\n",
    "colorscale = ['rgb(100, 143, 255)', 'rgb(120, 94, 240)', 'rgb(220, 38, 127)', 'rgb(254, 97, 0)', 'rgb(255, 176, 0)']\n",
    "colorscale.reverse()\n",
    "colorscale = pc.make_colorscale(colorscale)\n",
    "\n",
    "def rotate_z(x, y, z, theta):\n",
    "    w = x+1j*y\n",
    "    return np.real(np.exp(1j*theta)*w), np.imag(np.exp(1j*theta)*w), z\n",
    "\n",
    "allVars3New = allVars3[:]\n",
    "\n",
    "allVars3New[\"Maximisepeaknumber\"] = np.rint(np.exp(-allVars3New[\"Maximisepeaknumber\"]))\n",
    "allVars3New[\"RsCrit2\"] = np.exp(-allVars3New[\"RsCrit2\"])\n",
    "allVars3New[\"Minimisemethodtime\"] = np.exp(allVars3New[\"Minimisemethodtime\"])\n",
    "\n",
    "indexGood = allVars3New[\"Maximisepeaknumber\"] == 11\n",
    "allVarsIndex = allVars3New[indexGood]\n",
    "\n",
    "#xe, ye, ze = rotate_z(2, 1.5, 0.3, -0.2)\n",
    "xe = 2.25\n",
    "ye = 1.07\n",
    "ze = 0.3\n",
    "fig = px.scatter_3d(allVars3New, x = \"GradTime\", y = \"InitalOM\", z = \"IsoHoldTime\", color = \"Dist2\", symbol = \"repeatNumb\", color_continuous_scale=colorscale, labels={'GradTime':'Gradient time / minutes', 'InitalOM':'Initial organic modifier (%)',\n",
    "'IsoHoldTime':'Isocratic hold time / minutes', 'WeightRespcmtmdHPLC018':\"Responce\"})\n",
    "\n",
    "\n",
    "# Generate a pair of 3D points that corrispond to the line being drawn\n",
    "xyzList = allVars3New.iloc[:,[0,1,4]]\n",
    "bottomList = allVars3New.iloc[:,[0,1,4]]\n",
    "bottomList.loc[:,\"IsoHoldTime\"] = -1;\n",
    "\n",
    "x = pd.concat([xyzList.iloc[:,0],bottomList.iloc[:,0]], axis = 1)\n",
    "y = pd.concat([xyzList.iloc[:,1],bottomList.iloc[:,1]], axis = 1)\n",
    "z = pd.concat([xyzList.iloc[:,2],bottomList.iloc[:,2]], axis = 1)\n",
    "\n",
    "x_lines = list()\n",
    "y_lines = list()\n",
    "z_lines = list()\n",
    "\n",
    "#create the coordinate list for the lines\n",
    "for p in range(0, len(x)):\n",
    "    x_lines.append(x.iloc[p, 0])\n",
    "    x_lines.append(x.iloc[p, 1])\n",
    "    y_lines.append(y.iloc[p, 0])\n",
    "    y_lines.append(y.iloc[p, 1])\n",
    "    z_lines.append(z.iloc[p, 0])\n",
    "    z_lines.append(z.iloc[p, 1])\n",
    "    x_lines.append(None)\n",
    "    y_lines.append(None)\n",
    "    z_lines.append(None)\n",
    "    \n",
    "fig.add_trace(go.Scatter3d(\n",
    "                x=x_lines,\n",
    "                y=y_lines,\n",
    "                z=z_lines,\n",
    "                mode='lines',\n",
    "                line = dict( color = \"grey\", width= 1, dash = 'solid')\n",
    "                ))\n",
    "\n",
    "#print(allVars2.iloc[:,18])\n",
    "\n",
    "fig.add_trace(go.Scatter3d(\n",
    "                x = allVars3New.iloc[0:50,0], \n",
    "                y = allVars3New.iloc[0:50,1],\n",
    "                z = allVars3New.iloc[0:50,4], \n",
    "                mode='markers',\n",
    "                marker_symbol=\"diamond\",\n",
    "                marker=dict(\n",
    "                    size=12,\n",
    "                    color=\"black\",                # set color to an array/list of desired value\n",
    "                    )\n",
    "                ))\n",
    "\n",
    "fig.add_trace(go.Scatter3d(\n",
    "                x = allVars3New.iloc[50:100,0], \n",
    "                y = allVars3New.iloc[50:100,1],\n",
    "                z = allVars3New.iloc[50:100,4], \n",
    "                mode='markers',\n",
    "                marker_symbol=\"square\",\n",
    "                marker=dict(\n",
    "                    size=12,\n",
    "                    color=\"black\",                # set color to an array/list of desired value\n",
    "                    )\n",
    "                ))\n",
    "\n",
    "fig.add_trace(go.Scatter3d(\n",
    "                x = allVars3New.iloc[100:150,0], \n",
    "                y = allVars3New.iloc[100:150,1],\n",
    "                z = allVars3New.iloc[100:150,4], \n",
    "                mode='markers',\n",
    "                marker_symbol=\"circle\",\n",
    "                marker=dict(\n",
    "                    size=12,\n",
    "                    color=\"black\",                # set color to an array/list of desired value\n",
    "                    )\n",
    "                ))\n",
    "\n",
    "\n",
    "camera = dict(eye=dict(x=xe, y=ye, z=ze))\n",
    "fig.update_layout(scene=dict(camera=camera,aspectmode='cube'),showlegend=True)\n",
    "fig.update_traces(marker_size=8)\n",
    "fig.update_coloraxes(colorscale=colorscale,\n",
    "                    cmin = -0.05,\n",
    "                    cmax = 1.05,\n",
    "                    colorbar_title_text = \"Distance to Pareto\\n\\n\",\n",
    "                    colorbar_thickness = 20,\n",
    "                    colorbar_dtick = 0.05,\n",
    "                    colorbar_ticks = 'outside',\n",
    "                    colorbar_tickwidth = 2,\n",
    "                    colorbar_tickmode = 'array',\n",
    "                    colorbar_tickvals = [0, 0.20, 0.40, 0.60, 0.80, 1.0],\n",
    "                    colorbar_ticktext = ['0 (Best)', '0.2', '0.4', '0.6', '0.8', '1.0 (Worst)'],\n",
    "                    colorbar_tickfont_size=20,\n",
    "                    colorbar_titlefont_size = 20\n",
    "                    )\n",
    "\n",
    "fontLayoutX = dict(\n",
    "                    tickfont=dict(\n",
    "                    color='black',\n",
    "                    size=14),ticks='outside',tick0=0, tickwidth=4, title = dict(font = dict(size=15)))\n",
    "\n",
    "fontLayoutY = dict(\n",
    "                    tickfont=dict(\n",
    "                    color='black',\n",
    "                    size=14),ticks='outside',tick0=0, tickwidth=4, title = dict(font = dict(size=15)))\n",
    "fontLayoutZ = dict(\n",
    "                    tickfont=dict(\n",
    "                    color='black',\n",
    "                    size=14),ticks='outside',tick0=0, tickwidth=4, title = dict(font = dict(size=15)))\n",
    "\n",
    "\n",
    "fig.update_layout(\n",
    "    scene1 = dict(\n",
    "\n",
    "                        xaxis = fontLayoutX,\n",
    "\n",
    "                        yaxis = fontLayoutY,\n",
    "\n",
    "                        zaxis = fontLayoutZ\n",
    "                     ))\n",
    "\n",
    "fig.data[0].marker.symbol = 'diamond'\n",
    "fig.data[0].marker.size = 7\n",
    "fig.data[1].marker.symbol = 'square'\n",
    "fig.data[1].marker.size = 7\n",
    "fig.data[2].marker.symbol = 'circle'\n",
    "fig.data[2].marker.size = 7\n",
    "\n",
    "fig.data[4].marker.size = 9\n",
    "fig.data[5].marker.size = 9\n",
    "fig.data[6].marker.size = 9\n",
    "\n",
    "\n",
    "fig.update_layout(template='plotly_white',\n",
    "autosize=False,\n",
    "width=1000,\n",
    "height=800,\n",
    "showlegend=False\n",
    "                 )\n",
    "#Add or remove colorbar\n",
    "fig.update_coloraxes(showscale=True)\n",
    "#fig.update_coloraxes(showscale=False)\n",
    "\n",
    "# fig.data[2].name = \"Optimsation 1\"\n",
    "# fig.data[3].name = \"Optimsation 2\"\n",
    "# fig.data[4].name = \"Optimsation 3\"\n",
    "\n",
    "fig['data'] = (fig['data'][3:] + fig['data'][:3])\n",
    "\n",
    "fig.show()\n",
    "\n",
    "import plotly.io as pio\n",
    "pio.write_image(fig, 'Optimisations789DesignSpaceWithCB.jpg.jpg', scale=4, width=1000, height=800)"
   ]
  },
  {
   "cell_type": "code",
   "execution_count": 29,
   "metadata": {},
   "outputs": [
    {
     "data": {
      "application/vnd.plotly.v1+json": {
       "config": {
        "plotlyServerURL": "https://plot.ly"
       },
       "data": [
        {
         "hovertemplate": "repeatNumb=1<br>Critical resolution=%{x}<br>Time last peak eluted / minutes=%{y}<br>Dist2=%{marker.color}<extra></extra>",
         "legendgroup": "1",
         "marker": {
          "color": [
           1,
           1,
           1,
           1,
           1,
           1,
           0.25532117200692,
           0.0855615946505225,
           1,
           1,
           0.437096149050731,
           0.221859303833553,
           1,
           1,
           1,
           1,
           0.195955197802776,
           1,
           0.0123070620551926,
           0.188253416985258,
           0.0326387061417782,
           0.0308728507993984,
           1,
           1,
           0.0154886372795611,
           1,
           1,
           1,
           1,
           1,
           1,
           1,
           1,
           0.0111105112602623,
           1,
           1,
           1,
           1,
           1,
           1,
           1,
           1
          ],
          "coloraxis": "coloraxis",
          "line": {
           "color": "Black",
           "width": 1
          },
          "size": 12,
          "symbol": "diamond"
         },
         "mode": "markers",
         "name": "1",
         "orientation": "v",
         "showlegend": true,
         "type": "scatter",
         "x": [
          0.6300706260311874,
          1.200781559178092,
          0.9468421094809113,
          0.9945593285490282,
          1.3748508833389743,
          0.29896152327249276,
          1.5607818403469378,
          1.6431008939471035,
          0.9723746815880693,
          0.7105863255699857,
          1.5016168895332738,
          1.5289651567821418,
          0.8862444257701898,
          0.5444123159050348,
          1.0075709774244035,
          1.3994329108438635,
          1.564178905160626,
          1.3794567251246304,
          1.5834844810978244,
          1.600100668303946,
          1.541952190013294,
          1.6555006845766875,
          1.4573305118957436,
          1.4444651371656436,
          1.5848831708600006,
          0.7392312425535212,
          0.6354966123715966,
          1.095737450176701,
          1.2781583192009651,
          1.1870770052910433,
          1.3479223008057137,
          0.9731564653113642,
          1.423673590973154,
          1.6160348764744956,
          1.474382170358443,
          0.6468138939050839,
          1.4183831472676254,
          0.7280898914862871,
          0.7218873736738727,
          1.4703591556162767,
          1.4904988406658368,
          1.1157099125863503
         ],
         "xaxis": "x",
         "y": [
          5.061129935491838,
          13.335721664327592,
          5.980793620187472,
          10.42718217566645,
          13.589352774942757,
          3.194072045856916,
          8.647195141953421,
          6.632681391521989,
          5.241653907049522,
          6.269144732817135,
          10.885502904942644,
          8.052964996789683,
          7.702773141059952,
          3.0083113629480107,
          3.7863288547188336,
          4.847916564020734,
          7.846266882452943,
          6.0432624421607715,
          5.258891032301541,
          7.875001273038293,
          5.191546006536484,
          5.567176762451128,
          6.927693076186046,
          5.487277232847448,
          5.18060579289969,
          3.5597993977285403,
          3.977054065683166,
          6.3538587367162975,
          5.254453338090089,
          5.067332523366182,
          9.619444809312707,
          3.653541784310344,
          7.54456751609153,
          5.365475884040821,
          6.6643292110571375,
          3.8620539849177415,
          5.585487742209616,
          4.350000775713068,
          6.517622059572086,
          5.956598748802513,
          8.141588987488001,
          8.641292915847096
         ],
         "yaxis": "y"
        },
        {
         "hovertemplate": "repeatNumb=2<br>Critical resolution=%{x}<br>Time last peak eluted / minutes=%{y}<br>Dist2=%{marker.color}<extra></extra>",
         "legendgroup": "2",
         "marker": {
          "color": [
           1,
           1,
           1,
           1,
           1,
           1,
           1,
           1,
           1,
           1,
           1,
           1,
           1,
           1,
           1,
           1,
           1,
           1,
           1,
           1,
           1,
           1,
           1,
           1,
           1,
           1,
           1,
           1,
           1,
           1,
           1,
           1,
           1,
           1,
           1
          ],
          "coloraxis": "coloraxis",
          "line": {
           "color": "Black",
           "width": 1
          },
          "size": 10,
          "symbol": "square"
         },
         "mode": "markers",
         "name": "2",
         "orientation": "v",
         "showlegend": true,
         "type": "scatter",
         "x": [
          0.9692143286912093,
          0.7725487927476522,
          1.254221524146284,
          0.5562989963006394,
          0.5468443437202477,
          0.636793956276902,
          1.3396546571742936,
          1.384092387610895,
          0.5990890794506655,
          0.30127764426790116,
          0.5507539344999527,
          0.638824296348697,
          1.050155318179023,
          1.3130634736675277,
          0.49976890304390836,
          0.6652025837051856,
          0.7985142191388765,
          0.7077419868426407,
          1.247538587227696,
          0.655765532303478,
          1.422759771278203,
          1.2584151105254615,
          1.3075031945594962,
          0.8031760869787339,
          1.4349103766780942,
          0.8593899549180383,
          0.9150764639564032,
          0.9850356130383047,
          1.4830747151463397,
          1.1986768168676614,
          1.2860240406795322,
          0.6984864233253203,
          1.4195667859136152,
          1.24437430401988,
          0.7231954971591709
         ],
         "xaxis": "x",
         "y": [
          9.637928158819392,
          5.255242686893069,
          8.61295470480845,
          4.710415608866399,
          7.407299774669554,
          4.543738962493427,
          7.647167245117044,
          7.238462690983539,
          4.762752653218947,
          2.9261975821883794,
          3.6817099881796382,
          4.7312606095031,
          5.324653179073922,
          5.222122716681939,
          3.9323613182805364,
          3.457949544483662,
          3.5610381241452265,
          4.784281856945286,
          7.041795559598244,
          4.849539451353815,
          5.5598061855534295,
          9.321107492364506,
          5.7032165869259455,
          6.596654973277505,
          6.400428319663092,
          4.205879911687667,
          3.9975447349652553,
          4.476019928678418,
          5.5420482440421255,
          4.647426481871746,
          6.125799444561659,
          4.297550588093219,
          5.351381935545508,
          4.840746015123974,
          3.977422866384357
         ],
         "yaxis": "y"
        },
        {
         "hovertemplate": "repeatNumb=3<br>Critical resolution=%{x}<br>Time last peak eluted / minutes=%{y}<br>Dist2=%{marker.color}<extra></extra>",
         "legendgroup": "3",
         "marker": {
          "color": [
           1,
           1,
           1,
           1,
           1,
           1,
           1,
           0.0692649320491453,
           1,
           1,
           1,
           1,
           1,
           1,
           1,
           1,
           0.143788942482171,
           1,
           1,
           1,
           1,
           1,
           1,
           1,
           1,
           1,
           1,
           1,
           1,
           1,
           1,
           1,
           1,
           1,
           1,
           1,
           1,
           1,
           1
          ],
          "coloraxis": "coloraxis",
          "line": {
           "color": "Black",
           "width": 1
          },
          "size": 10,
          "symbol": "circle"
         },
         "mode": "markers",
         "name": "3",
         "orientation": "v",
         "showlegend": true,
         "type": "scatter",
         "x": [
          0.5479762564343791,
          0.34194105578290307,
          1.051559200613755,
          1.442127612170017,
          1.1915768091265602,
          1.4500707388223826,
          1.4784452891711173,
          1.5792259477076134,
          0.9813437860475027,
          0.30203833966106314,
          0.31433807455767393,
          1.2415683094492087,
          0.4136478212853301,
          0.5238197334260802,
          0.7823096745485071,
          0.6103509302688203,
          1.5188299837898112,
          0.6772677152372912,
          1.0888062005625156,
          0.5087006722804924,
          1.0746050320148188,
          1.41420872614063,
          0.4940351326174973,
          1.0608523236806329,
          0.5922731736425608,
          1.2959774867988596,
          1.4921277242847955,
          1.4853870380127172,
          0.5734825871948792,
          0.6276864192684317,
          0.40575470671568115,
          0.7350895900877265,
          0.5902146631787029,
          0.306777985260093,
          1.4571554512901528,
          1.2761722939050795,
          0.7368615167704994,
          0.610957203921601,
          0.5176873535041463
         ],
         "xaxis": "x",
         "y": [
          4.524925807799212,
          7.616415668429733,
          5.093876019136367,
          5.715741581584506,
          13.606351066862484,
          10.200790602246851,
          7.983712329544895,
          6.175953121985256,
          4.478229434950121,
          3.7754437573106516,
          3.0407200369812073,
          6.139709355952858,
          3.5075220338950173,
          3.4835358099850446,
          6.191377556526136,
          5.264951785108232,
          6.992848801507465,
          4.285668611631759,
          5.313529504287515,
          4.364801095432809,
          6.962911122462035,
          5.914766704282498,
          4.240160488341742,
          9.802057388984492,
          3.775359426154616,
          6.190704652127084,
          6.1869175545982715,
          5.55802226820628,
          4.862918723458438,
          5.400249327230122,
          2.5741720296377886,
          3.666375652357253,
          3.3285032614108503,
          3.119953724391888,
          6.141422828802756,
          5.142517354774469,
          3.5656834636861183,
          5.083503083550423,
          4.294894401283161
         ],
         "yaxis": "y"
        }
       ],
       "layout": {
        "autosize": false,
        "coloraxis": {
         "cmax": 1.05,
         "cmin": -0.05,
         "colorbar": {
          "dtick": 0.05,
          "thickness": 20,
          "tickfont": {
           "size": 20
          },
          "tickmode": "array",
          "ticks": "outside",
          "ticktext": [
           "0 (Best)",
           "0.2",
           "0.4",
           "0.6",
           "0.8",
           "1.0 (Worst)"
          ],
          "tickvals": [
           0,
           0.2,
           0.4,
           0.6,
           0.8,
           1
          ],
          "tickwidth": 2,
          "title": {
           "font": {
            "size": 20
           },
           "text": "Distance to Pareto"
          }
         },
         "colorscale": [
          [
           0,
           "rgb(255, 176, 0)"
          ],
          [
           0.25,
           "rgb(254, 97, 0)"
          ],
          [
           0.5,
           "rgb(220, 38, 127)"
          ],
          [
           0.75,
           "rgb(120, 94, 240)"
          ],
          [
           1,
           "rgb(100, 143, 255)"
          ]
         ],
         "showscale": false
        },
        "height": 400,
        "legend": {
         "title": {
          "text": "repeatNumb"
         },
         "tracegroupgap": 0
        },
        "margin": {
         "t": 60
        },
        "scene": {
         "aspectmode": "cube",
         "camera": {
          "eye": {
           "x": 0.6981112017630946,
           "y": -2.0790961377418045,
           "z": 0.3
          }
         }
        },
        "showlegend": false,
        "template": {
         "data": {
          "bar": [
           {
            "error_x": {
             "color": "#2a3f5f"
            },
            "error_y": {
             "color": "#2a3f5f"
            },
            "marker": {
             "line": {
              "color": "white",
              "width": 0.5
             },
             "pattern": {
              "fillmode": "overlay",
              "size": 10,
              "solidity": 0.2
             }
            },
            "type": "bar"
           }
          ],
          "barpolar": [
           {
            "marker": {
             "line": {
              "color": "white",
              "width": 0.5
             },
             "pattern": {
              "fillmode": "overlay",
              "size": 10,
              "solidity": 0.2
             }
            },
            "type": "barpolar"
           }
          ],
          "carpet": [
           {
            "aaxis": {
             "endlinecolor": "#2a3f5f",
             "gridcolor": "#C8D4E3",
             "linecolor": "#C8D4E3",
             "minorgridcolor": "#C8D4E3",
             "startlinecolor": "#2a3f5f"
            },
            "baxis": {
             "endlinecolor": "#2a3f5f",
             "gridcolor": "#C8D4E3",
             "linecolor": "#C8D4E3",
             "minorgridcolor": "#C8D4E3",
             "startlinecolor": "#2a3f5f"
            },
            "type": "carpet"
           }
          ],
          "choropleth": [
           {
            "colorbar": {
             "outlinewidth": 0,
             "ticks": ""
            },
            "type": "choropleth"
           }
          ],
          "contour": [
           {
            "colorbar": {
             "outlinewidth": 0,
             "ticks": ""
            },
            "colorscale": [
             [
              0,
              "#0d0887"
             ],
             [
              0.1111111111111111,
              "#46039f"
             ],
             [
              0.2222222222222222,
              "#7201a8"
             ],
             [
              0.3333333333333333,
              "#9c179e"
             ],
             [
              0.4444444444444444,
              "#bd3786"
             ],
             [
              0.5555555555555556,
              "#d8576b"
             ],
             [
              0.6666666666666666,
              "#ed7953"
             ],
             [
              0.7777777777777778,
              "#fb9f3a"
             ],
             [
              0.8888888888888888,
              "#fdca26"
             ],
             [
              1,
              "#f0f921"
             ]
            ],
            "type": "contour"
           }
          ],
          "contourcarpet": [
           {
            "colorbar": {
             "outlinewidth": 0,
             "ticks": ""
            },
            "type": "contourcarpet"
           }
          ],
          "heatmap": [
           {
            "colorbar": {
             "outlinewidth": 0,
             "ticks": ""
            },
            "colorscale": [
             [
              0,
              "#0d0887"
             ],
             [
              0.1111111111111111,
              "#46039f"
             ],
             [
              0.2222222222222222,
              "#7201a8"
             ],
             [
              0.3333333333333333,
              "#9c179e"
             ],
             [
              0.4444444444444444,
              "#bd3786"
             ],
             [
              0.5555555555555556,
              "#d8576b"
             ],
             [
              0.6666666666666666,
              "#ed7953"
             ],
             [
              0.7777777777777778,
              "#fb9f3a"
             ],
             [
              0.8888888888888888,
              "#fdca26"
             ],
             [
              1,
              "#f0f921"
             ]
            ],
            "type": "heatmap"
           }
          ],
          "heatmapgl": [
           {
            "colorbar": {
             "outlinewidth": 0,
             "ticks": ""
            },
            "colorscale": [
             [
              0,
              "#0d0887"
             ],
             [
              0.1111111111111111,
              "#46039f"
             ],
             [
              0.2222222222222222,
              "#7201a8"
             ],
             [
              0.3333333333333333,
              "#9c179e"
             ],
             [
              0.4444444444444444,
              "#bd3786"
             ],
             [
              0.5555555555555556,
              "#d8576b"
             ],
             [
              0.6666666666666666,
              "#ed7953"
             ],
             [
              0.7777777777777778,
              "#fb9f3a"
             ],
             [
              0.8888888888888888,
              "#fdca26"
             ],
             [
              1,
              "#f0f921"
             ]
            ],
            "type": "heatmapgl"
           }
          ],
          "histogram": [
           {
            "marker": {
             "pattern": {
              "fillmode": "overlay",
              "size": 10,
              "solidity": 0.2
             }
            },
            "type": "histogram"
           }
          ],
          "histogram2d": [
           {
            "colorbar": {
             "outlinewidth": 0,
             "ticks": ""
            },
            "colorscale": [
             [
              0,
              "#0d0887"
             ],
             [
              0.1111111111111111,
              "#46039f"
             ],
             [
              0.2222222222222222,
              "#7201a8"
             ],
             [
              0.3333333333333333,
              "#9c179e"
             ],
             [
              0.4444444444444444,
              "#bd3786"
             ],
             [
              0.5555555555555556,
              "#d8576b"
             ],
             [
              0.6666666666666666,
              "#ed7953"
             ],
             [
              0.7777777777777778,
              "#fb9f3a"
             ],
             [
              0.8888888888888888,
              "#fdca26"
             ],
             [
              1,
              "#f0f921"
             ]
            ],
            "type": "histogram2d"
           }
          ],
          "histogram2dcontour": [
           {
            "colorbar": {
             "outlinewidth": 0,
             "ticks": ""
            },
            "colorscale": [
             [
              0,
              "#0d0887"
             ],
             [
              0.1111111111111111,
              "#46039f"
             ],
             [
              0.2222222222222222,
              "#7201a8"
             ],
             [
              0.3333333333333333,
              "#9c179e"
             ],
             [
              0.4444444444444444,
              "#bd3786"
             ],
             [
              0.5555555555555556,
              "#d8576b"
             ],
             [
              0.6666666666666666,
              "#ed7953"
             ],
             [
              0.7777777777777778,
              "#fb9f3a"
             ],
             [
              0.8888888888888888,
              "#fdca26"
             ],
             [
              1,
              "#f0f921"
             ]
            ],
            "type": "histogram2dcontour"
           }
          ],
          "mesh3d": [
           {
            "colorbar": {
             "outlinewidth": 0,
             "ticks": ""
            },
            "type": "mesh3d"
           }
          ],
          "parcoords": [
           {
            "line": {
             "colorbar": {
              "outlinewidth": 0,
              "ticks": ""
             }
            },
            "type": "parcoords"
           }
          ],
          "pie": [
           {
            "automargin": true,
            "type": "pie"
           }
          ],
          "scatter": [
           {
            "fillpattern": {
             "fillmode": "overlay",
             "size": 10,
             "solidity": 0.2
            },
            "type": "scatter"
           }
          ],
          "scatter3d": [
           {
            "line": {
             "colorbar": {
              "outlinewidth": 0,
              "ticks": ""
             }
            },
            "marker": {
             "colorbar": {
              "outlinewidth": 0,
              "ticks": ""
             }
            },
            "type": "scatter3d"
           }
          ],
          "scattercarpet": [
           {
            "marker": {
             "colorbar": {
              "outlinewidth": 0,
              "ticks": ""
             }
            },
            "type": "scattercarpet"
           }
          ],
          "scattergeo": [
           {
            "marker": {
             "colorbar": {
              "outlinewidth": 0,
              "ticks": ""
             }
            },
            "type": "scattergeo"
           }
          ],
          "scattergl": [
           {
            "marker": {
             "colorbar": {
              "outlinewidth": 0,
              "ticks": ""
             }
            },
            "type": "scattergl"
           }
          ],
          "scattermapbox": [
           {
            "marker": {
             "colorbar": {
              "outlinewidth": 0,
              "ticks": ""
             }
            },
            "type": "scattermapbox"
           }
          ],
          "scatterpolar": [
           {
            "marker": {
             "colorbar": {
              "outlinewidth": 0,
              "ticks": ""
             }
            },
            "type": "scatterpolar"
           }
          ],
          "scatterpolargl": [
           {
            "marker": {
             "colorbar": {
              "outlinewidth": 0,
              "ticks": ""
             }
            },
            "type": "scatterpolargl"
           }
          ],
          "scatterternary": [
           {
            "marker": {
             "colorbar": {
              "outlinewidth": 0,
              "ticks": ""
             }
            },
            "type": "scatterternary"
           }
          ],
          "surface": [
           {
            "colorbar": {
             "outlinewidth": 0,
             "ticks": ""
            },
            "colorscale": [
             [
              0,
              "#0d0887"
             ],
             [
              0.1111111111111111,
              "#46039f"
             ],
             [
              0.2222222222222222,
              "#7201a8"
             ],
             [
              0.3333333333333333,
              "#9c179e"
             ],
             [
              0.4444444444444444,
              "#bd3786"
             ],
             [
              0.5555555555555556,
              "#d8576b"
             ],
             [
              0.6666666666666666,
              "#ed7953"
             ],
             [
              0.7777777777777778,
              "#fb9f3a"
             ],
             [
              0.8888888888888888,
              "#fdca26"
             ],
             [
              1,
              "#f0f921"
             ]
            ],
            "type": "surface"
           }
          ],
          "table": [
           {
            "cells": {
             "fill": {
              "color": "#EBF0F8"
             },
             "line": {
              "color": "white"
             }
            },
            "header": {
             "fill": {
              "color": "#C8D4E3"
             },
             "line": {
              "color": "white"
             }
            },
            "type": "table"
           }
          ]
         },
         "layout": {
          "annotationdefaults": {
           "arrowcolor": "#2a3f5f",
           "arrowhead": 0,
           "arrowwidth": 1
          },
          "autotypenumbers": "strict",
          "coloraxis": {
           "colorbar": {
            "outlinewidth": 0,
            "ticks": ""
           }
          },
          "colorscale": {
           "diverging": [
            [
             0,
             "#8e0152"
            ],
            [
             0.1,
             "#c51b7d"
            ],
            [
             0.2,
             "#de77ae"
            ],
            [
             0.3,
             "#f1b6da"
            ],
            [
             0.4,
             "#fde0ef"
            ],
            [
             0.5,
             "#f7f7f7"
            ],
            [
             0.6,
             "#e6f5d0"
            ],
            [
             0.7,
             "#b8e186"
            ],
            [
             0.8,
             "#7fbc41"
            ],
            [
             0.9,
             "#4d9221"
            ],
            [
             1,
             "#276419"
            ]
           ],
           "sequential": [
            [
             0,
             "#0d0887"
            ],
            [
             0.1111111111111111,
             "#46039f"
            ],
            [
             0.2222222222222222,
             "#7201a8"
            ],
            [
             0.3333333333333333,
             "#9c179e"
            ],
            [
             0.4444444444444444,
             "#bd3786"
            ],
            [
             0.5555555555555556,
             "#d8576b"
            ],
            [
             0.6666666666666666,
             "#ed7953"
            ],
            [
             0.7777777777777778,
             "#fb9f3a"
            ],
            [
             0.8888888888888888,
             "#fdca26"
            ],
            [
             1,
             "#f0f921"
            ]
           ],
           "sequentialminus": [
            [
             0,
             "#0d0887"
            ],
            [
             0.1111111111111111,
             "#46039f"
            ],
            [
             0.2222222222222222,
             "#7201a8"
            ],
            [
             0.3333333333333333,
             "#9c179e"
            ],
            [
             0.4444444444444444,
             "#bd3786"
            ],
            [
             0.5555555555555556,
             "#d8576b"
            ],
            [
             0.6666666666666666,
             "#ed7953"
            ],
            [
             0.7777777777777778,
             "#fb9f3a"
            ],
            [
             0.8888888888888888,
             "#fdca26"
            ],
            [
             1,
             "#f0f921"
            ]
           ]
          },
          "colorway": [
           "#636efa",
           "#EF553B",
           "#00cc96",
           "#ab63fa",
           "#FFA15A",
           "#19d3f3",
           "#FF6692",
           "#B6E880",
           "#FF97FF",
           "#FECB52"
          ],
          "font": {
           "color": "#2a3f5f"
          },
          "geo": {
           "bgcolor": "white",
           "lakecolor": "white",
           "landcolor": "white",
           "showlakes": true,
           "showland": true,
           "subunitcolor": "#C8D4E3"
          },
          "hoverlabel": {
           "align": "left"
          },
          "hovermode": "closest",
          "mapbox": {
           "style": "light"
          },
          "paper_bgcolor": "white",
          "plot_bgcolor": "white",
          "polar": {
           "angularaxis": {
            "gridcolor": "#EBF0F8",
            "linecolor": "#EBF0F8",
            "ticks": ""
           },
           "bgcolor": "white",
           "radialaxis": {
            "gridcolor": "#EBF0F8",
            "linecolor": "#EBF0F8",
            "ticks": ""
           }
          },
          "scene": {
           "xaxis": {
            "backgroundcolor": "white",
            "gridcolor": "#DFE8F3",
            "gridwidth": 2,
            "linecolor": "#EBF0F8",
            "showbackground": true,
            "ticks": "",
            "zerolinecolor": "#EBF0F8"
           },
           "yaxis": {
            "backgroundcolor": "white",
            "gridcolor": "#DFE8F3",
            "gridwidth": 2,
            "linecolor": "#EBF0F8",
            "showbackground": true,
            "ticks": "",
            "zerolinecolor": "#EBF0F8"
           },
           "zaxis": {
            "backgroundcolor": "white",
            "gridcolor": "#DFE8F3",
            "gridwidth": 2,
            "linecolor": "#EBF0F8",
            "showbackground": true,
            "ticks": "",
            "zerolinecolor": "#EBF0F8"
           }
          },
          "shapedefaults": {
           "line": {
            "color": "#2a3f5f"
           }
          },
          "ternary": {
           "aaxis": {
            "gridcolor": "#DFE8F3",
            "linecolor": "#A2B1C6",
            "ticks": ""
           },
           "baxis": {
            "gridcolor": "#DFE8F3",
            "linecolor": "#A2B1C6",
            "ticks": ""
           },
           "bgcolor": "white",
           "caxis": {
            "gridcolor": "#DFE8F3",
            "linecolor": "#A2B1C6",
            "ticks": ""
           }
          },
          "title": {
           "x": 0.05
          },
          "xaxis": {
           "automargin": true,
           "gridcolor": "#EBF0F8",
           "linecolor": "#EBF0F8",
           "ticks": "",
           "title": {
            "standoff": 15
           },
           "zerolinecolor": "#EBF0F8",
           "zerolinewidth": 2
          },
          "yaxis": {
           "automargin": true,
           "gridcolor": "#EBF0F8",
           "linecolor": "#EBF0F8",
           "ticks": "",
           "title": {
            "standoff": 15
           },
           "zerolinecolor": "#EBF0F8",
           "zerolinewidth": 2
          }
         }
        },
        "width": 500,
        "xaxis": {
         "anchor": "y",
         "domain": [
          0,
          1
         ],
         "gridwidth": 2,
         "range": [
          0,
          2
         ],
         "showgrid": true,
         "tick0": 0,
         "tickfont": {
          "color": "black",
          "size": 13
         },
         "ticks": "outside",
         "tickwidth": 4,
         "title": {
          "font": {
           "size": 13
          },
          "text": "Critical resolution"
         }
        },
        "yaxis": {
         "anchor": "x",
         "domain": [
          0,
          1
         ],
         "dtick": 2,
         "gridwidth": 2,
         "range": [
          1,
          14
         ],
         "showgrid": true,
         "tick0": 0,
         "tickfont": {
          "color": "black",
          "size": 13
         },
         "ticks": "outside",
         "tickwidth": 4,
         "title": {
          "font": {
           "size": 13
          },
          "text": "Time last peak eluted / minutes"
         }
        }
       }
      },
      "text/html": [
       "<div>                            <div id=\"8928d9fc-075c-4e67-99f8-49b2860f3ea7\" class=\"plotly-graph-div\" style=\"height:400.0px; width:500.0px;\"></div>            <script type=\"text/javascript\">                require([\"plotly\"], function(Plotly) {                    window.PLOTLYENV=window.PLOTLYENV || {};                                    if (document.getElementById(\"8928d9fc-075c-4e67-99f8-49b2860f3ea7\")) {                    Plotly.newPlot(                        \"8928d9fc-075c-4e67-99f8-49b2860f3ea7\",                        [{\"hovertemplate\":\"repeatNumb=1<br>Critical resolution=%{x}<br>Time last peak eluted / minutes=%{y}<br>Dist2=%{marker.color}<extra></extra>\",\"legendgroup\":\"1\",\"marker\":{\"color\":[1.0,1.0,1.0,1.0,1.0,1.0,0.25532117200692,0.0855615946505225,1.0,1.0,0.437096149050731,0.221859303833553,1.0,1.0,1.0,1.0,0.195955197802776,1.0,0.0123070620551926,0.188253416985258,0.0326387061417782,0.0308728507993984,1.0,1.0,0.0154886372795611,1.0,1.0,1.0,1.0,1.0,1.0,1.0,1.0,0.0111105112602623,1.0,1.0,1.0,1.0,1.0,1.0,1.0,1.0],\"coloraxis\":\"coloraxis\",\"symbol\":\"diamond\",\"size\":12,\"line\":{\"width\":1,\"color\":\"Black\"}},\"mode\":\"markers\",\"name\":\"1\",\"orientation\":\"v\",\"showlegend\":true,\"x\":[0.6300706260311874,1.200781559178092,0.9468421094809113,0.9945593285490282,1.3748508833389743,0.29896152327249276,1.5607818403469378,1.6431008939471035,0.9723746815880693,0.7105863255699857,1.5016168895332738,1.5289651567821418,0.8862444257701898,0.5444123159050348,1.0075709774244035,1.3994329108438635,1.564178905160626,1.3794567251246304,1.5834844810978244,1.600100668303946,1.541952190013294,1.6555006845766875,1.4573305118957436,1.4444651371656436,1.5848831708600006,0.7392312425535212,0.6354966123715966,1.095737450176701,1.2781583192009651,1.1870770052910433,1.3479223008057137,0.9731564653113642,1.423673590973154,1.6160348764744956,1.474382170358443,0.6468138939050839,1.4183831472676254,0.7280898914862871,0.7218873736738727,1.4703591556162767,1.4904988406658368,1.1157099125863503],\"xaxis\":\"x\",\"y\":[5.061129935491838,13.335721664327592,5.980793620187472,10.42718217566645,13.589352774942757,3.194072045856916,8.647195141953421,6.632681391521989,5.241653907049522,6.269144732817135,10.885502904942644,8.052964996789683,7.702773141059952,3.0083113629480107,3.7863288547188336,4.847916564020734,7.846266882452943,6.0432624421607715,5.258891032301541,7.875001273038293,5.191546006536484,5.567176762451128,6.927693076186046,5.487277232847448,5.18060579289969,3.5597993977285403,3.977054065683166,6.3538587367162975,5.254453338090089,5.067332523366182,9.619444809312707,3.653541784310344,7.54456751609153,5.365475884040821,6.6643292110571375,3.8620539849177415,5.585487742209616,4.350000775713068,6.517622059572086,5.956598748802513,8.141588987488001,8.641292915847096],\"yaxis\":\"y\",\"type\":\"scatter\"},{\"hovertemplate\":\"repeatNumb=2<br>Critical resolution=%{x}<br>Time last peak eluted / minutes=%{y}<br>Dist2=%{marker.color}<extra></extra>\",\"legendgroup\":\"2\",\"marker\":{\"color\":[1.0,1.0,1.0,1.0,1.0,1.0,1.0,1.0,1.0,1.0,1.0,1.0,1.0,1.0,1.0,1.0,1.0,1.0,1.0,1.0,1.0,1.0,1.0,1.0,1.0,1.0,1.0,1.0,1.0,1.0,1.0,1.0,1.0,1.0,1.0],\"coloraxis\":\"coloraxis\",\"symbol\":\"square\",\"size\":10,\"line\":{\"width\":1,\"color\":\"Black\"}},\"mode\":\"markers\",\"name\":\"2\",\"orientation\":\"v\",\"showlegend\":true,\"x\":[0.9692143286912093,0.7725487927476522,1.254221524146284,0.5562989963006394,0.5468443437202477,0.636793956276902,1.3396546571742936,1.384092387610895,0.5990890794506655,0.30127764426790116,0.5507539344999527,0.638824296348697,1.050155318179023,1.3130634736675277,0.49976890304390836,0.6652025837051856,0.7985142191388765,0.7077419868426407,1.247538587227696,0.655765532303478,1.422759771278203,1.2584151105254615,1.3075031945594962,0.8031760869787339,1.4349103766780942,0.8593899549180383,0.9150764639564032,0.9850356130383047,1.4830747151463397,1.1986768168676614,1.2860240406795322,0.6984864233253203,1.4195667859136152,1.24437430401988,0.7231954971591709],\"xaxis\":\"x\",\"y\":[9.637928158819392,5.255242686893069,8.61295470480845,4.710415608866399,7.407299774669554,4.543738962493427,7.647167245117044,7.238462690983539,4.762752653218947,2.9261975821883794,3.6817099881796382,4.7312606095031,5.324653179073922,5.222122716681939,3.9323613182805364,3.457949544483662,3.5610381241452265,4.784281856945286,7.041795559598244,4.849539451353815,5.5598061855534295,9.321107492364506,5.7032165869259455,6.596654973277505,6.400428319663092,4.205879911687667,3.9975447349652553,4.476019928678418,5.5420482440421255,4.647426481871746,6.125799444561659,4.297550588093219,5.351381935545508,4.840746015123974,3.977422866384357],\"yaxis\":\"y\",\"type\":\"scatter\"},{\"hovertemplate\":\"repeatNumb=3<br>Critical resolution=%{x}<br>Time last peak eluted / minutes=%{y}<br>Dist2=%{marker.color}<extra></extra>\",\"legendgroup\":\"3\",\"marker\":{\"color\":[1.0,1.0,1.0,1.0,1.0,1.0,1.0,0.0692649320491453,1.0,1.0,1.0,1.0,1.0,1.0,1.0,1.0,0.143788942482171,1.0,1.0,1.0,1.0,1.0,1.0,1.0,1.0,1.0,1.0,1.0,1.0,1.0,1.0,1.0,1.0,1.0,1.0,1.0,1.0,1.0,1.0],\"coloraxis\":\"coloraxis\",\"symbol\":\"circle\",\"size\":10,\"line\":{\"width\":1,\"color\":\"Black\"}},\"mode\":\"markers\",\"name\":\"3\",\"orientation\":\"v\",\"showlegend\":true,\"x\":[0.5479762564343791,0.34194105578290307,1.051559200613755,1.442127612170017,1.1915768091265602,1.4500707388223826,1.4784452891711173,1.5792259477076134,0.9813437860475027,0.30203833966106314,0.31433807455767393,1.2415683094492087,0.4136478212853301,0.5238197334260802,0.7823096745485071,0.6103509302688203,1.5188299837898112,0.6772677152372912,1.0888062005625156,0.5087006722804924,1.0746050320148188,1.41420872614063,0.4940351326174973,1.0608523236806329,0.5922731736425608,1.2959774867988596,1.4921277242847955,1.4853870380127172,0.5734825871948792,0.6276864192684317,0.40575470671568115,0.7350895900877265,0.5902146631787029,0.306777985260093,1.4571554512901528,1.2761722939050795,0.7368615167704994,0.610957203921601,0.5176873535041463],\"xaxis\":\"x\",\"y\":[4.524925807799212,7.616415668429733,5.093876019136367,5.715741581584506,13.606351066862484,10.200790602246851,7.983712329544895,6.175953121985256,4.478229434950121,3.7754437573106516,3.0407200369812073,6.139709355952858,3.5075220338950173,3.4835358099850446,6.191377556526136,5.264951785108232,6.992848801507465,4.285668611631759,5.313529504287515,4.364801095432809,6.962911122462035,5.914766704282498,4.240160488341742,9.802057388984492,3.775359426154616,6.190704652127084,6.1869175545982715,5.55802226820628,4.862918723458438,5.400249327230122,2.5741720296377886,3.666375652357253,3.3285032614108503,3.119953724391888,6.141422828802756,5.142517354774469,3.5656834636861183,5.083503083550423,4.294894401283161],\"yaxis\":\"y\",\"type\":\"scatter\"}],                        {\"template\":{\"data\":{\"barpolar\":[{\"marker\":{\"line\":{\"color\":\"white\",\"width\":0.5},\"pattern\":{\"fillmode\":\"overlay\",\"size\":10,\"solidity\":0.2}},\"type\":\"barpolar\"}],\"bar\":[{\"error_x\":{\"color\":\"#2a3f5f\"},\"error_y\":{\"color\":\"#2a3f5f\"},\"marker\":{\"line\":{\"color\":\"white\",\"width\":0.5},\"pattern\":{\"fillmode\":\"overlay\",\"size\":10,\"solidity\":0.2}},\"type\":\"bar\"}],\"carpet\":[{\"aaxis\":{\"endlinecolor\":\"#2a3f5f\",\"gridcolor\":\"#C8D4E3\",\"linecolor\":\"#C8D4E3\",\"minorgridcolor\":\"#C8D4E3\",\"startlinecolor\":\"#2a3f5f\"},\"baxis\":{\"endlinecolor\":\"#2a3f5f\",\"gridcolor\":\"#C8D4E3\",\"linecolor\":\"#C8D4E3\",\"minorgridcolor\":\"#C8D4E3\",\"startlinecolor\":\"#2a3f5f\"},\"type\":\"carpet\"}],\"choropleth\":[{\"colorbar\":{\"outlinewidth\":0,\"ticks\":\"\"},\"type\":\"choropleth\"}],\"contourcarpet\":[{\"colorbar\":{\"outlinewidth\":0,\"ticks\":\"\"},\"type\":\"contourcarpet\"}],\"contour\":[{\"colorbar\":{\"outlinewidth\":0,\"ticks\":\"\"},\"colorscale\":[[0.0,\"#0d0887\"],[0.1111111111111111,\"#46039f\"],[0.2222222222222222,\"#7201a8\"],[0.3333333333333333,\"#9c179e\"],[0.4444444444444444,\"#bd3786\"],[0.5555555555555556,\"#d8576b\"],[0.6666666666666666,\"#ed7953\"],[0.7777777777777778,\"#fb9f3a\"],[0.8888888888888888,\"#fdca26\"],[1.0,\"#f0f921\"]],\"type\":\"contour\"}],\"heatmapgl\":[{\"colorbar\":{\"outlinewidth\":0,\"ticks\":\"\"},\"colorscale\":[[0.0,\"#0d0887\"],[0.1111111111111111,\"#46039f\"],[0.2222222222222222,\"#7201a8\"],[0.3333333333333333,\"#9c179e\"],[0.4444444444444444,\"#bd3786\"],[0.5555555555555556,\"#d8576b\"],[0.6666666666666666,\"#ed7953\"],[0.7777777777777778,\"#fb9f3a\"],[0.8888888888888888,\"#fdca26\"],[1.0,\"#f0f921\"]],\"type\":\"heatmapgl\"}],\"heatmap\":[{\"colorbar\":{\"outlinewidth\":0,\"ticks\":\"\"},\"colorscale\":[[0.0,\"#0d0887\"],[0.1111111111111111,\"#46039f\"],[0.2222222222222222,\"#7201a8\"],[0.3333333333333333,\"#9c179e\"],[0.4444444444444444,\"#bd3786\"],[0.5555555555555556,\"#d8576b\"],[0.6666666666666666,\"#ed7953\"],[0.7777777777777778,\"#fb9f3a\"],[0.8888888888888888,\"#fdca26\"],[1.0,\"#f0f921\"]],\"type\":\"heatmap\"}],\"histogram2dcontour\":[{\"colorbar\":{\"outlinewidth\":0,\"ticks\":\"\"},\"colorscale\":[[0.0,\"#0d0887\"],[0.1111111111111111,\"#46039f\"],[0.2222222222222222,\"#7201a8\"],[0.3333333333333333,\"#9c179e\"],[0.4444444444444444,\"#bd3786\"],[0.5555555555555556,\"#d8576b\"],[0.6666666666666666,\"#ed7953\"],[0.7777777777777778,\"#fb9f3a\"],[0.8888888888888888,\"#fdca26\"],[1.0,\"#f0f921\"]],\"type\":\"histogram2dcontour\"}],\"histogram2d\":[{\"colorbar\":{\"outlinewidth\":0,\"ticks\":\"\"},\"colorscale\":[[0.0,\"#0d0887\"],[0.1111111111111111,\"#46039f\"],[0.2222222222222222,\"#7201a8\"],[0.3333333333333333,\"#9c179e\"],[0.4444444444444444,\"#bd3786\"],[0.5555555555555556,\"#d8576b\"],[0.6666666666666666,\"#ed7953\"],[0.7777777777777778,\"#fb9f3a\"],[0.8888888888888888,\"#fdca26\"],[1.0,\"#f0f921\"]],\"type\":\"histogram2d\"}],\"histogram\":[{\"marker\":{\"pattern\":{\"fillmode\":\"overlay\",\"size\":10,\"solidity\":0.2}},\"type\":\"histogram\"}],\"mesh3d\":[{\"colorbar\":{\"outlinewidth\":0,\"ticks\":\"\"},\"type\":\"mesh3d\"}],\"parcoords\":[{\"line\":{\"colorbar\":{\"outlinewidth\":0,\"ticks\":\"\"}},\"type\":\"parcoords\"}],\"pie\":[{\"automargin\":true,\"type\":\"pie\"}],\"scatter3d\":[{\"line\":{\"colorbar\":{\"outlinewidth\":0,\"ticks\":\"\"}},\"marker\":{\"colorbar\":{\"outlinewidth\":0,\"ticks\":\"\"}},\"type\":\"scatter3d\"}],\"scattercarpet\":[{\"marker\":{\"colorbar\":{\"outlinewidth\":0,\"ticks\":\"\"}},\"type\":\"scattercarpet\"}],\"scattergeo\":[{\"marker\":{\"colorbar\":{\"outlinewidth\":0,\"ticks\":\"\"}},\"type\":\"scattergeo\"}],\"scattergl\":[{\"marker\":{\"colorbar\":{\"outlinewidth\":0,\"ticks\":\"\"}},\"type\":\"scattergl\"}],\"scattermapbox\":[{\"marker\":{\"colorbar\":{\"outlinewidth\":0,\"ticks\":\"\"}},\"type\":\"scattermapbox\"}],\"scatterpolargl\":[{\"marker\":{\"colorbar\":{\"outlinewidth\":0,\"ticks\":\"\"}},\"type\":\"scatterpolargl\"}],\"scatterpolar\":[{\"marker\":{\"colorbar\":{\"outlinewidth\":0,\"ticks\":\"\"}},\"type\":\"scatterpolar\"}],\"scatter\":[{\"fillpattern\":{\"fillmode\":\"overlay\",\"size\":10,\"solidity\":0.2},\"type\":\"scatter\"}],\"scatterternary\":[{\"marker\":{\"colorbar\":{\"outlinewidth\":0,\"ticks\":\"\"}},\"type\":\"scatterternary\"}],\"surface\":[{\"colorbar\":{\"outlinewidth\":0,\"ticks\":\"\"},\"colorscale\":[[0.0,\"#0d0887\"],[0.1111111111111111,\"#46039f\"],[0.2222222222222222,\"#7201a8\"],[0.3333333333333333,\"#9c179e\"],[0.4444444444444444,\"#bd3786\"],[0.5555555555555556,\"#d8576b\"],[0.6666666666666666,\"#ed7953\"],[0.7777777777777778,\"#fb9f3a\"],[0.8888888888888888,\"#fdca26\"],[1.0,\"#f0f921\"]],\"type\":\"surface\"}],\"table\":[{\"cells\":{\"fill\":{\"color\":\"#EBF0F8\"},\"line\":{\"color\":\"white\"}},\"header\":{\"fill\":{\"color\":\"#C8D4E3\"},\"line\":{\"color\":\"white\"}},\"type\":\"table\"}]},\"layout\":{\"annotationdefaults\":{\"arrowcolor\":\"#2a3f5f\",\"arrowhead\":0,\"arrowwidth\":1},\"autotypenumbers\":\"strict\",\"coloraxis\":{\"colorbar\":{\"outlinewidth\":0,\"ticks\":\"\"}},\"colorscale\":{\"diverging\":[[0,\"#8e0152\"],[0.1,\"#c51b7d\"],[0.2,\"#de77ae\"],[0.3,\"#f1b6da\"],[0.4,\"#fde0ef\"],[0.5,\"#f7f7f7\"],[0.6,\"#e6f5d0\"],[0.7,\"#b8e186\"],[0.8,\"#7fbc41\"],[0.9,\"#4d9221\"],[1,\"#276419\"]],\"sequential\":[[0.0,\"#0d0887\"],[0.1111111111111111,\"#46039f\"],[0.2222222222222222,\"#7201a8\"],[0.3333333333333333,\"#9c179e\"],[0.4444444444444444,\"#bd3786\"],[0.5555555555555556,\"#d8576b\"],[0.6666666666666666,\"#ed7953\"],[0.7777777777777778,\"#fb9f3a\"],[0.8888888888888888,\"#fdca26\"],[1.0,\"#f0f921\"]],\"sequentialminus\":[[0.0,\"#0d0887\"],[0.1111111111111111,\"#46039f\"],[0.2222222222222222,\"#7201a8\"],[0.3333333333333333,\"#9c179e\"],[0.4444444444444444,\"#bd3786\"],[0.5555555555555556,\"#d8576b\"],[0.6666666666666666,\"#ed7953\"],[0.7777777777777778,\"#fb9f3a\"],[0.8888888888888888,\"#fdca26\"],[1.0,\"#f0f921\"]]},\"colorway\":[\"#636efa\",\"#EF553B\",\"#00cc96\",\"#ab63fa\",\"#FFA15A\",\"#19d3f3\",\"#FF6692\",\"#B6E880\",\"#FF97FF\",\"#FECB52\"],\"font\":{\"color\":\"#2a3f5f\"},\"geo\":{\"bgcolor\":\"white\",\"lakecolor\":\"white\",\"landcolor\":\"white\",\"showlakes\":true,\"showland\":true,\"subunitcolor\":\"#C8D4E3\"},\"hoverlabel\":{\"align\":\"left\"},\"hovermode\":\"closest\",\"mapbox\":{\"style\":\"light\"},\"paper_bgcolor\":\"white\",\"plot_bgcolor\":\"white\",\"polar\":{\"angularaxis\":{\"gridcolor\":\"#EBF0F8\",\"linecolor\":\"#EBF0F8\",\"ticks\":\"\"},\"bgcolor\":\"white\",\"radialaxis\":{\"gridcolor\":\"#EBF0F8\",\"linecolor\":\"#EBF0F8\",\"ticks\":\"\"}},\"scene\":{\"xaxis\":{\"backgroundcolor\":\"white\",\"gridcolor\":\"#DFE8F3\",\"gridwidth\":2,\"linecolor\":\"#EBF0F8\",\"showbackground\":true,\"ticks\":\"\",\"zerolinecolor\":\"#EBF0F8\"},\"yaxis\":{\"backgroundcolor\":\"white\",\"gridcolor\":\"#DFE8F3\",\"gridwidth\":2,\"linecolor\":\"#EBF0F8\",\"showbackground\":true,\"ticks\":\"\",\"zerolinecolor\":\"#EBF0F8\"},\"zaxis\":{\"backgroundcolor\":\"white\",\"gridcolor\":\"#DFE8F3\",\"gridwidth\":2,\"linecolor\":\"#EBF0F8\",\"showbackground\":true,\"ticks\":\"\",\"zerolinecolor\":\"#EBF0F8\"}},\"shapedefaults\":{\"line\":{\"color\":\"#2a3f5f\"}},\"ternary\":{\"aaxis\":{\"gridcolor\":\"#DFE8F3\",\"linecolor\":\"#A2B1C6\",\"ticks\":\"\"},\"baxis\":{\"gridcolor\":\"#DFE8F3\",\"linecolor\":\"#A2B1C6\",\"ticks\":\"\"},\"bgcolor\":\"white\",\"caxis\":{\"gridcolor\":\"#DFE8F3\",\"linecolor\":\"#A2B1C6\",\"ticks\":\"\"}},\"title\":{\"x\":0.05},\"xaxis\":{\"automargin\":true,\"gridcolor\":\"#EBF0F8\",\"linecolor\":\"#EBF0F8\",\"ticks\":\"\",\"title\":{\"standoff\":15},\"zerolinecolor\":\"#EBF0F8\",\"zerolinewidth\":2},\"yaxis\":{\"automargin\":true,\"gridcolor\":\"#EBF0F8\",\"linecolor\":\"#EBF0F8\",\"ticks\":\"\",\"title\":{\"standoff\":15},\"zerolinecolor\":\"#EBF0F8\",\"zerolinewidth\":2}}},\"xaxis\":{\"anchor\":\"y\",\"domain\":[0.0,1.0],\"title\":{\"text\":\"Critical resolution\",\"font\":{\"size\":13}},\"tickfont\":{\"color\":\"black\",\"size\":13},\"range\":[0,2],\"showgrid\":true,\"gridwidth\":2,\"ticks\":\"outside\",\"tick0\":0,\"tickwidth\":4},\"yaxis\":{\"anchor\":\"x\",\"domain\":[0.0,1.0],\"title\":{\"text\":\"Time last peak eluted / minutes\",\"font\":{\"size\":13}},\"tickfont\":{\"color\":\"black\",\"size\":13},\"range\":[1,14],\"showgrid\":true,\"gridwidth\":2,\"ticks\":\"outside\",\"tick0\":0,\"tickwidth\":4,\"dtick\":2},\"coloraxis\":{\"colorbar\":{\"title\":{\"text\":\"Distance to Pareto\",\"font\":{\"size\":20}},\"tickfont\":{\"size\":20},\"thickness\":20,\"dtick\":0.05,\"ticks\":\"outside\",\"tickwidth\":2,\"tickmode\":\"array\",\"tickvals\":[0,0.2,0.4,0.6,0.8,1.0],\"ticktext\":[\"0 (Best)\",\"0.2\",\"0.4\",\"0.6\",\"0.8\",\"1.0 (Worst)\"]},\"colorscale\":[[0.0,\"rgb(255, 176, 0)\"],[0.25,\"rgb(254, 97, 0)\"],[0.5,\"rgb(220, 38, 127)\"],[0.75,\"rgb(120, 94, 240)\"],[1.0,\"rgb(100, 143, 255)\"]],\"cmin\":-0.05,\"cmax\":1.05,\"showscale\":false},\"legend\":{\"title\":{\"text\":\"repeatNumb\"},\"tracegroupgap\":0},\"margin\":{\"t\":60},\"autosize\":false,\"width\":500.0,\"height\":400.0,\"showlegend\":false,\"scene\":{\"camera\":{\"eye\":{\"x\":0.6981112017630946,\"y\":-2.0790961377418045,\"z\":0.3}},\"aspectmode\":\"cube\"}},                        {\"responsive\": true}                    ).then(function(){\n",
       "                            \n",
       "var gd = document.getElementById('8928d9fc-075c-4e67-99f8-49b2860f3ea7');\n",
       "var x = new MutationObserver(function (mutations, observer) {{\n",
       "        var display = window.getComputedStyle(gd).display;\n",
       "        if (!display || display === 'none') {{\n",
       "            console.log([gd, 'removed!']);\n",
       "            Plotly.purge(gd);\n",
       "            observer.disconnect();\n",
       "        }}\n",
       "}});\n",
       "\n",
       "// Listen for the removal of the full notebook cells\n",
       "var notebookContainer = gd.closest('#notebook-container');\n",
       "if (notebookContainer) {{\n",
       "    x.observe(notebookContainer, {childList: true});\n",
       "}}\n",
       "\n",
       "// Listen for the clearing of the current output cell\n",
       "var outputEl = gd.closest('.output');\n",
       "if (outputEl) {{\n",
       "    x.observe(outputEl, {childList: true});\n",
       "}}\n",
       "\n",
       "                        })                };                });            </script>        </div>"
      ]
     },
     "metadata": {},
     "output_type": "display_data"
    }
   ],
   "source": [
    "#Figure 6. Trade-off for Optimisations 7, 8 and 9.\n",
    "\n",
    "#IBM colorscale no greenish\n",
    "colorscale = ['rgb(100, 143, 255)', 'rgb(120, 94, 240)', 'rgb(220, 38, 127)', 'rgb(254, 97, 0)', 'rgb(255, 176, 0)']\n",
    "colorscale.reverse()\n",
    "colorscale = pc.make_colorscale(colorscale)\n",
    "\n",
    "def rotate_z(x, y, z, theta):\n",
    "    w = x+1j*y\n",
    "    return np.real(np.exp(1j*theta)*w), np.imag(np.exp(1j*theta)*w), z\n",
    "\n",
    "allVars3New = allVars3[:]\n",
    "\n",
    "allVars3New[\"Maximisepeaknumber\"] = np.rint(np.exp(-allVars3New[\"Maximisepeaknumber\"]))\n",
    "allVars3New[\"RsCrit2\"] = np.exp(-allVars3New[\"RsCrit2\"])\n",
    "allVars3New[\"Minimisemethodtime\"] = np.exp(allVars3New[\"Minimisemethodtime\"])\n",
    "\n",
    "indexGood = allVars3New[\"Maximisepeaknumber\"] == 11\n",
    "\n",
    "xe, ye, ze = rotate_z(1.6, 1.5, 0.3, -2)\n",
    "\n",
    "fig = px.scatter(allVars3New[indexGood], x = \"RsCrit2\", y = \"Minimisemethodtime\", color = \"Dist2\",symbol = \"repeatNumb\",color_continuous_scale=colorscale, labels={'RsCrit2':'Critical resolution',\n",
    "'Minimisemethodtime':'Time last peak eluted / minutes', 'Dist':\"Distance\"})\n",
    "\n",
    "fig.update_coloraxes(colorscale=colorscale,\n",
    "                    cmin = -0.05,\n",
    "                    cmax = 1.05,\n",
    "                    colorbar_title_text = \"Distance to Pareto\",\n",
    "                    colorbar_thickness = 20,\n",
    "                    colorbar_dtick = 0.05,\n",
    "                    colorbar_ticks = 'outside',\n",
    "                    colorbar_tickwidth = 2,\n",
    "                    colorbar_tickmode = 'array',\n",
    "                    colorbar_tickvals = [0, 0.20, 0.40, 0.60, 0.80, 1.0],\n",
    "                    colorbar_ticktext = ['0 (Best)', '0.2', '0.4', '0.6', '0.8', '1.0 (Worst)'],\n",
    "                    colorbar_tickfont_size=20,\n",
    "                    colorbar_titlefont_size = 20\n",
    "                    )\n",
    "\n",
    "fig.update_layout(template='plotly_white')\n",
    "camera = dict(eye=dict(x=xe, y=ye, z=ze))\n",
    "\n",
    "fig.data[0].marker.symbol = 'diamond'\n",
    "fig.data[0].marker.size = 12\n",
    "fig.data[1].marker.symbol = 'square'\n",
    "fig.data[1].marker.size = 10\n",
    "fig.data[2].marker.symbol = 'circle'\n",
    "fig.data[2].marker.size = 10\n",
    "\n",
    "fig.data[0].marker.line.width = 1\n",
    "fig.data[0].marker.line.color ='Black'\n",
    "fig.data[1].marker.line.width = 1\n",
    "fig.data[1].marker.line.color ='Black'\n",
    "fig.data[2].marker.line.width = 1\n",
    "fig.data[2].marker.line.color ='Black'\n",
    "\n",
    "fig.update_xaxes(range = [0, 2],showgrid=True, gridwidth=2, tickfont=dict(color='black',size=13),ticks='outside',tick0=0, \n",
    "                 tickwidth=4, title = dict(font = dict(size=13)))\n",
    "fig.update_yaxes(range = [1, 14],showgrid=True, gridwidth=2, tickfont=dict(color='black',size=13),ticks='outside',tick0=0, \n",
    "                 tickwidth=4, title = dict(font = dict(size=13)), dtick = 2)\n",
    "\n",
    "\n",
    "fig.update_layout(template='plotly_white',\n",
    "autosize=False,\n",
    "width=1000/2,\n",
    "height=800/2,\n",
    "showlegend=False\n",
    "                 )\n",
    "\n",
    "#Add or remove colorbar\n",
    "#fig.update_coloraxes(showscale=True)\n",
    "fig.update_coloraxes(showscale=False)\n",
    "\n",
    "fig.update_layout(scene=dict(camera=camera,aspectmode='cube'),showlegend=False)\n",
    "fig.show()\n",
    "\n",
    "import plotly.io as pio\n",
    "pio.write_image(fig, 'Optimisations789TradeOff.jpg', scale=4, width=1000/2, height=800/2)"
   ]
  },
  {
   "cell_type": "code",
   "execution_count": null,
   "metadata": {},
   "outputs": [],
   "source": []
  }
 ],
 "metadata": {
  "kernelspec": {
   "display_name": "Python 3 (ipykernel)",
   "language": "python",
   "name": "python3"
  },
  "language_info": {
   "codemirror_mode": {
    "name": "ipython",
    "version": 3
   },
   "file_extension": ".py",
   "mimetype": "text/x-python",
   "name": "python",
   "nbconvert_exporter": "python",
   "pygments_lexer": "ipython3",
   "version": "3.9.16"
  }
 },
 "nbformat": 4,
 "nbformat_minor": 4
}
